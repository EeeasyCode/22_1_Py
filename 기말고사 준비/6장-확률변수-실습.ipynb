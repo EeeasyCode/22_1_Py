{
 "cells": [
  {
   "cell_type": "markdown",
   "id": "60839aad",
   "metadata": {},
   "source": [
    "# Chapter 6 확률변수"
   ]
  },
  {
   "cell_type": "code",
   "execution_count": 2,
   "id": "4b919cae",
   "metadata": {},
   "outputs": [
    {
     "data": {
      "text/plain": [
       "'%.3f'"
      ]
     },
     "execution_count": 2,
     "metadata": {},
     "output_type": "execute_result"
    }
   ],
   "source": [
    "%precision 3"
   ]
  },
  {
   "cell_type": "markdown",
   "id": "58e27be5",
   "metadata": {},
   "source": [
    "## 6-1. 이산확률변수"
   ]
  },
  {
   "cell_type": "markdown",
   "id": "7c9ca506",
   "metadata": {},
   "source": [
    "### [실습] 예제 6-1: 확률변수 X의 상태공간(Sx) 구하기\n",
    "주사위 두 번 던지기. 확률변수 X = |i - j|, Sx = ?"
   ]
  },
  {
   "cell_type": "code",
   "execution_count": 3,
   "id": "8472209a",
   "metadata": {},
   "outputs": [
    {
     "name": "stdout",
     "output_type": "stream",
     "text": [
      "{0, 1, 2, 3, 4, 5}\n"
     ]
    }
   ],
   "source": [
    "X = list()\n",
    "for i in range(1,7):\n",
    "  for j in range(1, 7):\n",
    "    X.append(abs(i-j))\n",
    "\n",
    "Sx = set(X)\n",
    "print(Sx)"
   ]
  },
  {
   "cell_type": "code",
   "execution_count": 4,
   "id": "6306f6dd",
   "metadata": {},
   "outputs": [
    {
     "name": "stdout",
     "output_type": "stream",
     "text": [
      "{0, 1, 2, 3, 4, 5}\n"
     ]
    }
   ],
   "source": [
    "X = list()\n",
    "for i in range(1, 7):\n",
    "  for j in range(1, 7):\n",
    "    X.append(abs(i-j))\n",
    "Sx = set(X)\n",
    "print(Sx)"
   ]
  },
  {
   "cell_type": "code",
   "execution_count": 5,
   "id": "d5242caf",
   "metadata": {},
   "outputs": [
    {
     "name": "stdout",
     "output_type": "stream",
     "text": [
      "P(X=0)=6/36\n",
      "P(X=1)=10/36\n",
      "P(X=2)=8/36\n",
      "P(X=3)=6/36\n",
      "P(X=4)=4/36\n",
      "P(X=5)=2/36\n"
     ]
    }
   ],
   "source": [
    "X = list()\n",
    "for i in range(1,7):\n",
    "  for j in range(1, 7):\n",
    "    X.append(abs(i-j))\n",
    "\n",
    "Sx = set(X)\n",
    "Sx = list(Sx)\n",
    "for i in range(len(Sx)):\n",
    "  cnt = X.count(Sx[i])\n",
    "  print(f'P(X={Sx[i]})={cnt}/{len(X)}')\n",
    "\n",
    "\n"
   ]
  },
  {
   "cell_type": "code",
   "execution_count": 6,
   "id": "6268fad8",
   "metadata": {},
   "outputs": [
    {
     "name": "stdout",
     "output_type": "stream",
     "text": [
      "확률변수 X의 상태공간(Sx) = {0, 1, 2, 3, 4, 5}\n"
     ]
    }
   ],
   "source": [
    "X = list()\n",
    "for i in range(1,7):\n",
    "    for j in range(1, 7):\n",
    "        X.append( abs(i-j)  )\n",
    "Sx = set(X)\n",
    "print(f'확률변수 X의 상태공간(Sx) = {Sx}')"
   ]
  },
  {
   "cell_type": "code",
   "execution_count": 7,
   "id": "4e5a269f",
   "metadata": {},
   "outputs": [
    {
     "name": "stdout",
     "output_type": "stream",
     "text": [
      "확률변수 X의 상태공간(Sx) = {0, 1, 2, 3, 4, 5}\n"
     ]
    }
   ],
   "source": [
    "import random\n",
    "\n",
    "N = 100\n",
    "X = list()\n",
    "for k in range(N):\n",
    "    i = random.randint(1, 6)\n",
    "    j = random.randint(1, 6)\n",
    "    X.append( abs(i-j) )\n",
    "#     print(f'시행횟수({k+1:>3}) - D1:{i}, D2:{j}, [i-j]:{abs(i-j)} ')\n",
    "# print(X)\n",
    "Sx = set(X)\n",
    "print(f'확률변수 X의 상태공간(Sx) = {Sx}')\n"
   ]
  },
  {
   "cell_type": "code",
   "execution_count": null,
   "id": "e52fdcdc",
   "metadata": {},
   "outputs": [],
   "source": []
  },
  {
   "cell_type": "markdown",
   "id": "6fb7a1ee",
   "metadata": {},
   "source": [
    "### [확률변수 예] 붓꽃데이터 가져오기\n",
    "-꽃잎(sepal), 꽃받침(petal)의 length, width, 붓꽃의 종류(species)가 모두 확률변수로 사용될 수 있다."
   ]
  },
  {
   "cell_type": "code",
   "execution_count": 8,
   "id": "4f294d73",
   "metadata": {
    "collapsed": true
   },
   "outputs": [
    {
     "name": "stdout",
     "output_type": "stream",
     "text": [
      "Requirement already satisfied: seaborn in /Users/aebdeung-ichangmin-ing/opt/anaconda3/lib/python3.9/site-packages (0.11.2)\n",
      "Requirement already satisfied: scipy>=1.0 in /Users/aebdeung-ichangmin-ing/opt/anaconda3/lib/python3.9/site-packages (from seaborn) (1.7.1)\n",
      "Requirement already satisfied: numpy>=1.15 in /Users/aebdeung-ichangmin-ing/opt/anaconda3/lib/python3.9/site-packages (from seaborn) (1.20.3)\n",
      "Requirement already satisfied: pandas>=0.23 in /Users/aebdeung-ichangmin-ing/opt/anaconda3/lib/python3.9/site-packages (from seaborn) (1.3.4)\n",
      "Requirement already satisfied: matplotlib>=2.2 in /Users/aebdeung-ichangmin-ing/opt/anaconda3/lib/python3.9/site-packages (from seaborn) (3.4.3)\n",
      "Requirement already satisfied: python-dateutil>=2.7 in /Users/aebdeung-ichangmin-ing/opt/anaconda3/lib/python3.9/site-packages (from matplotlib>=2.2->seaborn) (2.8.2)\n",
      "Requirement already satisfied: kiwisolver>=1.0.1 in /Users/aebdeung-ichangmin-ing/opt/anaconda3/lib/python3.9/site-packages (from matplotlib>=2.2->seaborn) (1.3.1)\n",
      "Requirement already satisfied: cycler>=0.10 in /Users/aebdeung-ichangmin-ing/opt/anaconda3/lib/python3.9/site-packages (from matplotlib>=2.2->seaborn) (0.10.0)\n",
      "Requirement already satisfied: pillow>=6.2.0 in /Users/aebdeung-ichangmin-ing/opt/anaconda3/lib/python3.9/site-packages (from matplotlib>=2.2->seaborn) (8.4.0)\n",
      "Requirement already satisfied: pyparsing>=2.2.1 in /Users/aebdeung-ichangmin-ing/opt/anaconda3/lib/python3.9/site-packages (from matplotlib>=2.2->seaborn) (3.0.4)\n",
      "Requirement already satisfied: pytz>=2017.3 in /Users/aebdeung-ichangmin-ing/opt/anaconda3/lib/python3.9/site-packages (from pandas>=0.23->seaborn) (2021.3)\n",
      "Requirement already satisfied: six in /Users/aebdeung-ichangmin-ing/opt/anaconda3/lib/python3.9/site-packages (from cycler>=0.10->matplotlib>=2.2->seaborn) (1.16.0)\n",
      "\u001b[33mWARNING: There was an error checking the latest version of pip.\u001b[0m\u001b[33m\n",
      "\u001b[0m"
     ]
    }
   ],
   "source": [
    "# 통계 시각화 라이브러리\n",
    "!pip install seaborn"
   ]
  },
  {
   "cell_type": "code",
   "execution_count": 9,
   "id": "66c2cbf7",
   "metadata": {},
   "outputs": [
    {
     "name": "stdout",
     "output_type": "stream",
     "text": [
      "<class 'pandas.core.frame.DataFrame'>\n"
     ]
    },
    {
     "data": {
      "text/html": [
       "<div>\n",
       "<style scoped>\n",
       "    .dataframe tbody tr th:only-of-type {\n",
       "        vertical-align: middle;\n",
       "    }\n",
       "\n",
       "    .dataframe tbody tr th {\n",
       "        vertical-align: top;\n",
       "    }\n",
       "\n",
       "    .dataframe thead th {\n",
       "        text-align: right;\n",
       "    }\n",
       "</style>\n",
       "<table border=\"1\" class=\"dataframe\">\n",
       "  <thead>\n",
       "    <tr style=\"text-align: right;\">\n",
       "      <th></th>\n",
       "      <th>sepal_length</th>\n",
       "      <th>sepal_width</th>\n",
       "      <th>petal_length</th>\n",
       "      <th>petal_width</th>\n",
       "      <th>species</th>\n",
       "    </tr>\n",
       "  </thead>\n",
       "  <tbody>\n",
       "    <tr>\n",
       "      <th>0</th>\n",
       "      <td>5.1</td>\n",
       "      <td>3.5</td>\n",
       "      <td>1.4</td>\n",
       "      <td>0.2</td>\n",
       "      <td>setosa</td>\n",
       "    </tr>\n",
       "    <tr>\n",
       "      <th>1</th>\n",
       "      <td>4.9</td>\n",
       "      <td>3.0</td>\n",
       "      <td>1.4</td>\n",
       "      <td>0.2</td>\n",
       "      <td>setosa</td>\n",
       "    </tr>\n",
       "    <tr>\n",
       "      <th>2</th>\n",
       "      <td>4.7</td>\n",
       "      <td>3.2</td>\n",
       "      <td>1.3</td>\n",
       "      <td>0.2</td>\n",
       "      <td>setosa</td>\n",
       "    </tr>\n",
       "  </tbody>\n",
       "</table>\n",
       "</div>"
      ],
      "text/plain": [
       "   sepal_length  sepal_width  petal_length  petal_width species\n",
       "0           5.1          3.5           1.4          0.2  setosa\n",
       "1           4.9          3.0           1.4          0.2  setosa\n",
       "2           4.7          3.2           1.3          0.2  setosa"
      ]
     },
     "execution_count": 9,
     "metadata": {},
     "output_type": "execute_result"
    }
   ],
   "source": [
    "import seaborn as sns\n",
    "\n",
    "iris = sns.load_dataset('iris')\n",
    "print( type(iris) )\n",
    "iris.head(3)"
   ]
  },
  {
   "cell_type": "markdown",
   "id": "cf7d0597",
   "metadata": {},
   "source": [
    "### [실습] 예제6-3 확률질량함수로 확률구하기\n",
    "주사위 두 번 던지기. 확률변수 X = |i - j|, Sx 원소에 대한 확률함수\n"
   ]
  },
  {
   "cell_type": "markdown",
   "id": "aae6f045",
   "metadata": {},
   "source": [
    "##### 확률질량함수(PMF: probability mass function) \n",
    "이산확률변수의 확률분포를 나타내는 함수 <br><br>"
   ]
  },
  {
   "cell_type": "markdown",
   "id": "4513af31",
   "metadata": {},
   "source": [
    "- 1. 확률변수 X에 대한 상태공간 구하기"
   ]
  },
  {
   "cell_type": "code",
   "execution_count": 10,
   "id": "9de5bdc6",
   "metadata": {},
   "outputs": [
    {
     "name": "stdout",
     "output_type": "stream",
     "text": [
      "상태공간(Sx): [0, 1, 2, 3, 4, 5, 1, 0, 1, 2, 3, 4, 2, 1, 0, 1, 2, 3, 3, 2, 1, 0, 1, 2, 4, 3, 2, 1, 0, 1, 5, 4, 3, 2, 1, 0]\n",
      "확률변수 X = {0, 1, 2, 3, 4, 5}\n"
     ]
    }
   ],
   "source": [
    "# 1. 확률변수 X에 대한 상태공간 구하기\n",
    "X = list()   # 확률변수\n",
    "D1 = [1,2,3,4,5,6]\n",
    "D2 = [1,2,3,4,5,6]\n",
    "for i in D1:\n",
    "    for j in D2:\n",
    "        X.append( abs(i-j)  )\n",
    "print(f'상태공간(Sx): {X}')\n",
    "Sx = set(X)\n",
    "print(f'확률변수 X = {Sx}')\n"
   ]
  },
  {
   "cell_type": "markdown",
   "id": "ba69ee2a",
   "metadata": {},
   "source": [
    "- 2. 확률변수에 대한 확률질량함수(fx) 만들기"
   ]
  },
  {
   "cell_type": "code",
   "execution_count": 11,
   "id": "7759a9ec",
   "metadata": {},
   "outputs": [
    {
     "data": {
      "text/plain": [
       "'%.3f'"
      ]
     },
     "execution_count": 11,
     "metadata": {},
     "output_type": "execute_result"
    }
   ],
   "source": [
    "# 소수점 자리수 표현\n",
    "%precision 3"
   ]
  },
  {
   "cell_type": "code",
   "execution_count": 12,
   "id": "8e430c97",
   "metadata": {},
   "outputs": [
    {
     "name": "stdout",
     "output_type": "stream",
     "text": [
      "[0.9999999999999999, 3.777777777777777, 5.555555555555555, 6.555555555555556, 7.000000000000001, 7.111111111111112]\n",
      "확률질량함수: {0: 0.16666666666666666, 1: 0.2777777777777778, 2: 0.2222222222222222, 3: 0.16666666666666666, 4: 0.1111111111111111, 5: 0.05555555555555555} \n",
      "확률분포함수: {0: 0.9999999999999999, 1: 3.777777777777777, 2: 5.555555555555555, 3: 6.555555555555556, 4: 7.000000000000001, 5: 7.111111111111112}\n"
     ]
    }
   ],
   "source": [
    "import matplotlib.pyplot as plt\n",
    "# 2. 확률변수에 대한 확률질량함수(fx) 만들기\n",
    "def f(x):\n",
    "    cnt = 0\n",
    "    for i in D1:\n",
    "        for j in D2:\n",
    "            if abs(i-j) == x:\n",
    "                cnt += 1\n",
    "            \n",
    "    return cnt / (len(D1)*len(D2))\n",
    "\n",
    "prob = [ f(x) for x in Sx ]\n",
    "\n",
    "# 3. 분포함수\n",
    "def F(x):\n",
    "    return sum([f(u) for u in X if u<=x])\n",
    "\n",
    "s_prob = [ F(x) for x in Sx ]\n",
    "print(s_prob)\n",
    "print(f'확률질량함수: {dict(zip(X, prob))} ')\n",
    "print(f'확률분포함수: {dict(zip(X, s_prob))}')\n",
    "\n",
    "# plt.bar(list(Sx), prob, zorder=2) #질량함수\n",
    "# plt.bar(list(Sx), s_prob, zorder=1) #분포함수\n",
    "# plt.show()\n"
   ]
  },
  {
   "cell_type": "markdown",
   "id": "91ad2855",
   "metadata": {},
   "source": [
    "- **확률 전체의 합은 1**"
   ]
  },
  {
   "cell_type": "code",
   "execution_count": 13,
   "id": "e490c375",
   "metadata": {},
   "outputs": [
    {
     "ename": "NameError",
     "evalue": "name 'probs' is not defined",
     "output_type": "error",
     "traceback": [
      "\u001b[0;31m---------------------------------------------------------------------------\u001b[0m",
      "\u001b[0;31mNameError\u001b[0m                                 Traceback (most recent call last)",
      "\u001b[1;32m/Users/aebdeung-ichangmin-ing/Desktop/22-1 수업/파이썬/6장-확률변수-실습/6장-확률변수-실습.ipynb Cell 22'\u001b[0m in \u001b[0;36m<cell line: 1>\u001b[0;34m()\u001b[0m\n\u001b[0;32m----> <a href='vscode-notebook-cell:/Users/aebdeung-ichangmin-ing/Desktop/22-1%20%EC%88%98%EC%97%85/%ED%8C%8C%EC%9D%B4%EC%8D%AC/6%EC%9E%A5-%ED%99%95%EB%A5%A0%EB%B3%80%EC%88%98-%EC%8B%A4%EC%8A%B5/6%EC%9E%A5-%ED%99%95%EB%A5%A0%EB%B3%80%EC%88%98-%EC%8B%A4%EC%8A%B5.ipynb#ch0000021?line=0'>1</a>\u001b[0m \u001b[39msum\u001b[39m(probs)\n",
      "\u001b[0;31mNameError\u001b[0m: name 'probs' is not defined"
     ]
    }
   ],
   "source": [
    "sum(probs)"
   ]
  },
  {
   "cell_type": "markdown",
   "id": "7d86dcdd",
   "metadata": {},
   "source": [
    "### [실습] 확률질량함수와 확률 구하기\n",
    "동전 네번던지기, 앞면이 나온 횟수: X\n"
   ]
  },
  {
   "cell_type": "code",
   "execution_count": null,
   "id": "3176af48",
   "metadata": {},
   "outputs": [
    {
     "name": "stdout",
     "output_type": "stream",
     "text": [
      "동전 4번 던지는 상태공간(Sx): ['TTTT', 'TTTH', 'TTHT', 'TTHH', 'THTT', 'THTH', 'THHT', 'THHH', 'HTTT', 'HTTH', 'HTHT', 'HTHH', 'HHTT', 'HHTH', 'HHHT', 'HHHH']\n",
      "확률변수(X): [0, 1, 2, 3, 4]\n",
      "확률변수 X의 확률: {0: 0.0625, 1: 0.25, 2: 0.375, 3: 0.25, 4: 0.0625}\n",
      "(b)앞면의 횟수가 2일 확률: 0.375\n",
      "(c)앞면의 횟수가 2 이상일 확률: 0.6875\n",
      "(c)앞면의 횟수가 3 이하일 확률: 0.9375\n"
     ]
    }
   ],
   "source": [
    "import itertools\n",
    "\n",
    "coin = {'H', 'T'}\n",
    "r = 4\n",
    "\n",
    "#상태공간(Sx)\n",
    "coins = list(itertools.product(coin, repeat=r)) \n",
    "coins = [ \"\".join(i) for i in coins]\n",
    "print(f'동전 {r}번 던지는 상태공간(Sx): {coins}')\n",
    "\n",
    "#확률변수 x\n",
    "S = [x.count(\"H\") for x in coins]\n",
    "X = list(set(S))\n",
    "print(f'확률변수(X): {X}')\n",
    "\n",
    "#확률질량함수 f(x)\n",
    "def f(x):\n",
    "  return S.count(x) / len(coins)\n",
    "\n",
    "#확률\n",
    "prob = [ f(x) for x in X]\n",
    "print(f'확률변수 X의 확률: {dict(zip(X, prob))}')\n",
    "\n",
    "#확률구하기\n",
    "print(f'(b)앞면의 횟수가 2일 확률: {f(2)}')\n",
    "print(f'(c)앞면의 횟수가 2 이상일 확률: {sum([ f(x) for x in range(2, len(X)) ])}')\n",
    "print(f'(c)앞면의 횟수가 3 이하일 확률: {sum([ f(x) for x in range(3, -1, -1) ])}')\n"
   ]
  },
  {
   "cell_type": "markdown",
   "metadata": {},
   "source": [
    "###[실습] 예제 6-4"
   ]
  },
  {
   "cell_type": "code",
   "execution_count": null,
   "id": "abfcdf30",
   "metadata": {},
   "outputs": [
    {
     "name": "stdout",
     "output_type": "stream",
     "text": [
      "확률변수 X: {0, 1, 2, 3, 4, 5}\n",
      "상태공간 Sx:[0, 1, 2, 3, 4, 5, 1, 0, 1, 2, 3, 4, 2, 1, 0, 1, 2, 3, 3, 2, 1, 0, 1, 2, 4, 3, 2, 1, 0, 1, 5, 4, 3, 2, 1, 0]\n",
      "확률질량함수: {0: 0.16666666666666666, 1: 0.2777777777777778, 2: 0.2222222222222222, 3: 0.16666666666666666, 4: 0.1111111111111111, 5: 0.05555555555555555}\n",
      "확률분포함수: {0: 0.16666666666666666, 1: 0.4444444444444444, 2: 0.6666666666666666, 3: 0.8333333333333333, 4: 0.9444444444444444, 5: 1.0}\n"
     ]
    }
   ],
   "source": [
    "Sx = list()\n",
    "for i in range(1, 7):\n",
    "  for j in range(1, 7):\n",
    "    Sx.append(abs(i-j))\n",
    "X = set(Sx)\n",
    "print(f'확률변수 X: {X}')\n",
    "print(f'상태공간 Sx:{Sx}')\n",
    "\n",
    "def f(x):\n",
    "  cnt = 0\n",
    "  for i in range(1, 7):\n",
    "    for j in range(1, 7):\n",
    "      if(abs(i-j) == x):\n",
    "        cnt +=1\n",
    "  return cnt/36\n",
    "\n",
    "prob = [f(x) for x in X]\n",
    "\n",
    "# 3. 분포함수\n",
    "def F(x):\n",
    "    return sum([f(u) for u in X if u<=x])\n",
    "\n",
    "s_prob = [ F(x) for x in Sx ]\n",
    "\n",
    "print(f'확률질량함수: {dict(zip(X, prob))}')\n",
    "print(f'확률분포함수: {dict(zip(X, s_prob))}')\n",
    "\n",
    "\n",
    "\n",
    "\n",
    "\n",
    "\n"
   ]
  },
  {
   "cell_type": "markdown",
   "id": "d2ee8b13",
   "metadata": {},
   "source": [
    "- 확률변수 X의 상태 값과 확률 함께 표시"
   ]
  },
  {
   "cell_type": "code",
   "execution_count": null,
   "id": "eff5a808",
   "metadata": {
    "scrolled": true
   },
   "outputs": [
    {
     "data": {
      "text/plain": [
       "{0: 0.167, 1: 0.278, 2: 0.222, 3: 0.167, 4: 0.111, 5: 0.056}"
      ]
     },
     "execution_count": 54,
     "metadata": {},
     "output_type": "execute_result"
    }
   ],
   "source": [
    "dict(zip(Sx, probs))"
   ]
  },
  {
   "cell_type": "markdown",
   "id": "42523dba",
   "metadata": {},
   "source": [
    "- 3.확률변수 X와 확률의 관계를 그래프로 나타내기"
   ]
  },
  {
   "cell_type": "code",
   "execution_count": null,
   "id": "ea4af31d",
   "metadata": {},
   "outputs": [
    {
     "name": "stdout",
     "output_type": "stream",
     "text": [
      "[0, 1, 2, 3, 4, 5] [0.16666666666666666, 0.2777777777777778, 0.2222222222222222, 0.16666666666666666, 0.1111111111111111, 0.05555555555555555]\n"
     ]
    },
    {
     "data": {
      "image/png": "[encoded data removed]",
      "text/plain": [
       "<Figure size 432x288 with 1 Axes>"
      ]
     },
     "metadata": {
      "needs_background": "light"
     },
     "output_type": "display_data"
    }
   ],
   "source": [
    "import matplotlib.pyplot as plt\n",
    "\n",
    "plt.rcParams['font.family'] = 'Malgun Gothic'\n",
    "\n",
    "X = list(Sx)\n",
    "Y = probs\n",
    "print(f'확률변수(X) : {X}')\n",
    "print(f'확률(Y) : {Y}')\n",
    "\n",
    "plt.bar(X, Y, zorder=1)\n",
    "plt.scatter(X, Y, c='r', zorder=2)\n",
    "for x, y in zip(X, Y):\n",
    "    plt.text(x, y, (x, round(y,2)), fontsize=10)\n",
    "\n",
    "plt.grid()\n",
    "plt.title('확률변수X와 확률P')\n",
    "plt.xlabel('확률변수X')\n",
    "plt.ylabel('확률P(X)')\n",
    "plt.show()"
   ]
  },
  {
   "cell_type": "markdown",
   "id": "9a2beb0e",
   "metadata": {},
   "source": [
    "### 6-2 연속확률변수 (Continuous Random Variable)"
   ]
  },
  {
   "cell_type": "markdown",
   "id": "08b4d656",
   "metadata": {},
   "source": [
    "### [실습] 예제 6-7 : 연속확률변수의 확률밀도함수 구하기"
   ]
  },
  {
   "cell_type": "code",
   "execution_count": null,
   "id": "1eb6074f",
   "metadata": {},
   "outputs": [
    {
     "data": {
      "image/png": "[encoded data removed]",
      "text/plain": [
       "<Figure size 432x288 with 1 Axes>"
      ]
     },
     "metadata": {
      "needs_background": "light"
     },
     "output_type": "display_data"
    }
   ],
   "source": [
    "import numpy as np\n",
    "# 1. 연속확률변수 구간\n",
    "X_range = [0, 4]\n",
    "\n",
    "# 2. 확률밀도함수(fx)\n",
    "def f(x):\n",
    "  if X_range[0] <= x <= X_range[1]:\n",
    "    return (1/8*x)\n",
    "  else:\n",
    "    return 0\n",
    "\n",
    "#그래프로 그리기\n",
    "X = np.linspace(X_range[0], X_range[1], 100) #0~4를 100개의 구간으로 나누기\n",
    "Y = [ f(x) for x in X ]\n",
    "\n",
    "plt.plot(X, Y, label='f(x)')\n",
    "plt.fill_between(X, Y, where=(X>2)&(X<=3), color='orange', label='prob')\n",
    "plt.legend()\n",
    "\n",
    "plt.hlines(0,0,4,alpha=0.3)\n",
    "plt.vlines(0,0,0.6,alpha=0.3)\n",
    "plt.vlines(X.max(),0,0.6,alpha=0.3)\n",
    "plt.show()\n",
    "\n"
   ]
  },
  {
   "cell_type": "markdown",
   "id": "103ecbe9",
   "metadata": {},
   "source": [
    "### [실습] 초등학생의 키"
   ]
  },
  {
   "cell_type": "code",
   "execution_count": null,
   "id": "0941aca3",
   "metadata": {},
   "outputs": [
    {
     "name": "stdout",
     "output_type": "stream",
     "text": [
      "140.00434117061334\n",
      "5.006339706371125\n"
     ]
    }
   ],
   "source": [
    "S, MEAN, STD = 100000, 140, 5\n",
    "data = MEAN + np.random.randn(S) * STD\n",
    "\n",
    "print(data.mean())\n",
    "print(data.std())\n"
   ]
  }
 ],
 "metadata": {
  "interpreter": {
   "hash": "31f2aee4e71d21fbe5cf8b01ff0e069b9275f58929596ceb00d14d90e3e16cd6"
  },
  "kernelspec": {
   "display_name": "Python 3.8.9 64-bit",
   "language": "python",
   "name": "python3"
  },
  "language_info": {
   "codemirror_mode": {
    "name": "ipython",
    "version": 3
   },
   "file_extension": ".py",
   "mimetype": "text/x-python",
   "name": "python",
   "nbconvert_exporter": "python",
   "pygments_lexer": "ipython3",
   "version": "3.8.9"
  }
 },
 "nbformat": 4,
 "nbformat_minor": 5
}
