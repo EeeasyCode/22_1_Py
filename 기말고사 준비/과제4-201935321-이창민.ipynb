{
 "cells": [
  {
   "cell_type": "markdown",
   "metadata": {},
   "source": [
    "# 확률과 통계 과제-4"
   ]
  },
  {
   "cell_type": "markdown",
   "metadata": {},
   "source": [
    "## 30. 1, 2, 3, 4의 번호가 적힌 공을 주머니에 넣고 복원추출에 의해 임의로 두개를 추출하여 표본을 만든다. 이때 각각의 공이 나올 확률은 동일하게 1/4이다."
   ]
  },
  {
   "cell_type": "markdown",
   "metadata": {},
   "source": [
    "### (a) 표본으로 나올 수 있는 모든 경우를 구하라."
   ]
  },
  {
   "cell_type": "code",
   "execution_count": 3,
   "metadata": {},
   "outputs": [],
   "source": [
    "#set-up\n",
    "import itertools\n",
    "import pandas as pd\n",
    "import scipy.stats as sp\n",
    "import numpy as np"
   ]
  },
  {
   "cell_type": "code",
   "execution_count": 3,
   "metadata": {},
   "outputs": [
    {
     "name": "stdout",
     "output_type": "stream",
     "text": [
      "표본으로 나올 수 있는 모든 경우의 수: [(1, 1), (1, 2), (1, 3), (1, 4), (2, 1), (2, 2), (2, 3), (2, 4), (3, 1), (3, 2), (3, 3), (3, 4), (4, 1), (4, 2), (4, 3), (4, 4)]\n"
     ]
    }
   ],
   "source": [
    "data = [1, 2, 3, 4]\n",
    "n = 2\n",
    "result = list(itertools.product((data), repeat=n)) # 복원추출\n",
    "print(f\"표본으로 나올 수 있는 모든 경우의 수: {result}\")\n",
    "# data = [1, 2, 3, 4]\n",
    "# n = 2\n",
    "# result = list(itertools.product((data), repeat=n)) # 복원추출\n",
    "# print(f\"표본으로 나올 수 있는 모든 경우의 수: {result}\")"
   ]
  },
  {
   "cell_type": "markdown",
   "metadata": {},
   "source": [
    "### (b) (a)에서 구한 각 표본의 평균을 구하라."
   ]
  },
  {
   "cell_type": "code",
   "execution_count": 5,
   "metadata": {},
   "outputs": [
    {
     "name": "stdout",
     "output_type": "stream",
     "text": [
      "각 표본의 평균: {1.0: 0.0625, 1.5: 0.125, 2.0: 0.1875, 2.5: 0.25, 3.0: 0.1875, 3.5: 0.125, 4.0: 0.0625}\n"
     ]
    }
   ],
   "source": [
    "x_set = [ sum([j for j in i])/n for i in result] \n",
    "x_set = list(set(x_set))\n",
    "x_set.sort()\n",
    "\n",
    "def f(x):\n",
    "    cnt = 0\n",
    "    for i in result:\n",
    "        if sum([j for j in i])/n == x:\n",
    "            cnt += 1\n",
    "    return cnt / (len(result))\n",
    "\n",
    "X = [x_set, f]\n",
    "\n",
    "prob = [f(x_k) for x_k in x_set]\n",
    "\n",
    "print(f\"각 표본의 평균: {dict(zip(x_set, prob))}\")\n",
    "\n"
   ]
  },
  {
   "cell_type": "markdown",
   "metadata": {},
   "source": [
    "### (c) 표본평균 X_의 확률분포를 구하라."
   ]
  },
  {
   "cell_type": "code",
   "execution_count": 6,
   "metadata": {},
   "outputs": [
    {
     "data": {
      "text/html": [
       "<div>\n",
       "<style scoped>\n",
       "    .dataframe tbody tr th:only-of-type {\n",
       "        vertical-align: middle;\n",
       "    }\n",
       "\n",
       "    .dataframe tbody tr th {\n",
       "        vertical-align: top;\n",
       "    }\n",
       "\n",
       "    .dataframe thead th {\n",
       "        text-align: right;\n",
       "    }\n",
       "</style>\n",
       "<table border=\"1\" class=\"dataframe\">\n",
       "  <thead>\n",
       "    <tr style=\"text-align: right;\">\n",
       "      <th>X_</th>\n",
       "      <th>1.0</th>\n",
       "      <th>1.5</th>\n",
       "      <th>2.0</th>\n",
       "      <th>2.5</th>\n",
       "      <th>3.0</th>\n",
       "      <th>3.5</th>\n",
       "      <th>4.0</th>\n",
       "    </tr>\n",
       "  </thead>\n",
       "  <tbody>\n",
       "    <tr>\n",
       "      <th>P(X_=x_)</th>\n",
       "      <td>0.0625</td>\n",
       "      <td>0.125</td>\n",
       "      <td>0.1875</td>\n",
       "      <td>0.25</td>\n",
       "      <td>0.1875</td>\n",
       "      <td>0.125</td>\n",
       "      <td>0.0625</td>\n",
       "    </tr>\n",
       "  </tbody>\n",
       "</table>\n",
       "</div>"
      ],
      "text/plain": [
       "X_           1.0    1.5     2.0   2.5     3.0    3.5     4.0\n",
       "P(X_=x_)  0.0625  0.125  0.1875  0.25  0.1875  0.125  0.0625"
      ]
     },
     "execution_count": 6,
     "metadata": {},
     "output_type": "execute_result"
    }
   ],
   "source": [
    "df = pd.DataFrame([prob], columns=x_set, index=['P(X_=x_)'])\n",
    "df.columns.names = ['X_']\n",
    "df"
   ]
  },
  {
   "cell_type": "markdown",
   "metadata": {},
   "source": [
    "### (d) 표본평균 X_의 평균과 분산을 구하라."
   ]
  },
  {
   "cell_type": "code",
   "execution_count": 8,
   "metadata": {},
   "outputs": [
    {
     "name": "stdout",
     "output_type": "stream",
     "text": [
      "표본평균(X_)의 평균: 2.5\n",
      "표본평균(X_)의 분산: 0.625\n"
     ]
    }
   ],
   "source": [
    "\n",
    "\n",
    "def E(X):\n",
    "    x_set, f = X\n",
    "    return np.sum([x_k * f(x_k) for x_k in x_set]) \n",
    "\n",
    "def V(X):\n",
    "    x_set, f = X\n",
    "    mean = E(X)\n",
    "    return np.sum([(x_k - mean)**2 * f(x_k) for x_k in x_set])\n",
    "\n",
    "V(X)\n",
    "\n",
    "print(f\"표본평균(X_)의 평균: {E(X)}\")\n",
    "print(f\"표본평균(X_)의 분산: {V(X)}\")"
   ]
  },
  {
   "cell_type": "markdown",
   "metadata": {},
   "source": [
    "## 31. 어느 패스트푸드점에서 주문한 음식이 나오는 시간은 표준편차가 8초인 정규분포를 따른다고 한다. 이 음식점에서 음식이 나오는 시간을 조사한 결과, 다음을 얻었다. 이 음식점에서 음식이 나오는 평균 시간에 대한 95% 신뢰구간을 구하라."
   ]
  },
  {
   "cell_type": "code",
   "execution_count": 5,
   "metadata": {},
   "outputs": [
    {
     "name": "stdout",
     "output_type": "stream",
     "text": [
      "평균 시간에 대한 95% 신뢰구간: 51.4438 <= mu <= 58.4562\n"
     ]
    }
   ],
   "source": [
    "data = [48, 63, 62, 51, 64, 51, 45, 64, 63, 57, \n",
    "        45, 64, 44, 55, 51, 46, 48, 57, 59, 62]\n",
    "\n",
    "Z = {90:1.645, 95:1.96, 99:2.58}\n",
    "n = len(data)\n",
    "x_ = sum(data)/n\n",
    "std = 8\n",
    "\n",
    "a = x_ - Z[95]*(std/np.sqrt(n))\n",
    "b = x_ + Z[95]*(std/np.sqrt(n))\n",
    "\n",
    "print(f\"평균 시간에 대한 95% 신뢰구간: {round(a, 4)} <= mu <= {round(b, 4)}\")"
   ]
  },
  {
   "cell_type": "markdown",
   "metadata": {},
   "source": [
    "## 32. 우리나라를 방문한 외국인 954명을 대상으로 조사한 만족도 조사에서 64.4%가 만족한다고 응답했다. 우리나라를 방문한 관광객의 만족도에 대한 95% 신뢰구간을 구하라."
   ]
  },
  {
   "cell_type": "code",
   "execution_count": 47,
   "metadata": {},
   "outputs": [
    {
     "name": "stdout",
     "output_type": "stream",
     "text": [
      "우리나라를 방문한 관광객의 만족도에 대한 95% 신뢰구간: 0.6136 <= p <= 0.6744\n"
     ]
    }
   ],
   "source": [
    "n, p, q = 954, 0.644, 0.356\n",
    "\n",
    "a = p - Z[95]*(np.sqrt((p*q)/n))\n",
    "b = p + Z[95]*(np.sqrt((p*q)/n))\n",
    "\n",
    "print(f\"우리나라를 방문한 관광객의 만족도에 대한 95% 신뢰구간: {round(a, 4)} <= p <= {round(b, 4)}\")"
   ]
  },
  {
   "cell_type": "markdown",
   "metadata": {},
   "source": [
    "## 33. 농장에서 재배되는 귤의 무게는 평균 85g, 표준편차 10g인 정규분포를 따른다고 한다. 임의로 n개의 귤을 선정했을 때, n개의 평균 무게가 89g 이하일 확률이 0.9974이다. 이때 선정된 귤의 개수 n을 구하라."
   ]
  },
  {
   "cell_type": "code",
   "execution_count": 113,
   "metadata": {},
   "outputs": [
    {
     "name": "stdout",
     "output_type": "stream",
     "text": [
      "선정된 귤의 갯수 (n) : 49\n"
     ]
    }
   ],
   "source": [
    "mu, var = 85, 100\n",
    "# std = np.sqrt(var/n)\n",
    "std = 0\n",
    "\n",
    "#std를 찾는 while 문\n",
    "while (True):\n",
    "  rv = sp.norm(mu, std)\n",
    "  if(round(rv.cdf(89), 4) == 0.9974):\n",
    "    break;\n",
    "  else:\n",
    "    std += 0.01\n",
    "\n",
    "#n의 갯수를 구하는 식\n",
    "#std = np.sqrt(var/n)\n",
    "#std ** 2 = var/n\n",
    "n = var/(round(std, 3)**2)\n",
    "\n",
    "print(f\"선정된 귤의 갯수 (n) : {round(n)}\")\n",
    "\n",
    "\n"
   ]
  },
  {
   "cell_type": "markdown",
   "metadata": {},
   "source": [
    "## 34. 남성 284명과 여성 256명을 조사한 결과, 남성의 평균 연봉은 9700만원이고 여성의 평균 연봉은 7600만원이었다. 이때 남성과 여성의 연봉은 각각 표준편차가 247만원과 164만원인 정규분포를 따른다고 한다. 남성과 여성의 평균 연봉의 차에 대한 95% 신뢰구간을 구하라."
   ]
  },
  {
   "cell_type": "code",
   "execution_count": 49,
   "metadata": {},
   "outputs": [
    {
     "name": "stdout",
     "output_type": "stream",
     "text": [
      "남성과 여성의 평균 연봉의 차에 대한 95% 신뢰구간: 2064.94 <= x_ - y_ <= 2135.06\n"
     ]
    }
   ],
   "source": [
    "n, x_, sigma1 = 284, 9700, 247 \n",
    "m, y_, sigma2 = 256, 7600, 164\n",
    "\n",
    "a =  (x_-y_) - Z[95]*np.sqrt(((sigma1**2)/n + (sigma2**2)/m))\n",
    "b =  (x_-y_) + Z[95]*np.sqrt(((sigma1**2)/n + (sigma2**2)/m))\n",
    "\n",
    "print(f\"남성과 여성의 평균 연봉의 차에 대한 95% 신뢰구간: {round(a, 2)} <= x_ - y_ <= {round(b, 2)}\")"
   ]
  },
  {
   "cell_type": "markdown",
   "metadata": {},
   "source": [
    "## 35. 어느 도시에 거주하는 고등학교 남학생 260명과 여학생 250명을 표본조사한 결과, 남학생 68.9%, 여학생 55.6%이 자신이 건강하다고 생각했다. 이 도시의 고등학생이 건강하다고 생각하는 남학생의 비율과 여학생의 비율의 차에 대한 90% 신뢰구간을 구하라. 단, 소수점 이하 셋째 자리까지 구하라."
   ]
  },
  {
   "cell_type": "code",
   "execution_count": 50,
   "metadata": {},
   "outputs": [
    {
     "name": "stdout",
     "output_type": "stream",
     "text": [
      "건강하다고 생각하는 남학생과 여학생의 비율의 차에 대한 90% 신뢰구간: 0.063 <= p1 - p2 <= 0.203\n"
     ]
    }
   ],
   "source": [
    "n, p1, q1 = 260, 0.689, 0.311\n",
    "m, p2, q2 = 250, 0.556, 0.444\n",
    "\n",
    "a = (p1 - p2) - Z[90] * np.sqrt((p1*q1)/n + (p2*q2)/m)\n",
    "b = (p1 - p2) + Z[90] * np.sqrt((p1*q1)/n + (p2*q2)/m)\n",
    "\n",
    "print(f\"건강하다고 생각하는 남학생과 여학생의 비율의 차에 대한 90% 신뢰구간: {round(a, 4)} <= p1 - p2 <= {round(b, 4)}\")"
   ]
  }
 ],
 "metadata": {
  "interpreter": {
   "hash": "31f2aee4e71d21fbe5cf8b01ff0e069b9275f58929596ceb00d14d90e3e16cd6"
  },
  "kernelspec": {
   "display_name": "Python 3.8.9 64-bit",
   "language": "python",
   "name": "python3"
  },
  "language_info": {
   "codemirror_mode": {
    "name": "ipython",
    "version": 3
   },
   "file_extension": ".py",
   "mimetype": "text/x-python",
   "name": "python",
   "nbconvert_exporter": "python",
   "pygments_lexer": "ipython3",
   "version": "3.8.9"
  },
  "orig_nbformat": 4
 },
 "nbformat": 4,
 "nbformat_minor": 2
}
