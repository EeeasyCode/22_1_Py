{
 "cells": [
  {
   "cell_type": "markdown",
   "metadata": {},
   "source": [
    "# 이산확률변수\n",
    " \n",
    " - 베르누이 분포\n",
    " - 이항 분포 X ~ B(n, p)\n",
    " - 기하 분포\n",
    " - 포아송 분포\n",
    " - 카테고리 분포\n",
    " - 다항 분포"
   ]
  },
  {
   "cell_type": "code",
   "execution_count": 4,
   "metadata": {},
   "outputs": [],
   "source": [
    "import warnings\n",
    "warnings.filterwarnings('ignore')\n",
    "\n",
    "import numpy as np\n",
    "import seaborn as sns\n",
    "import scipy.stats as sp\n",
    "import matplotlib.pyplot as plt\n",
    "plt.rcParams['font.family'] = 'AppleGothic'\n",
    "plt.rcParams['axes.unicode_minus'] = False     # 그래프에서 (-)숫자표시"
   ]
  },
  {
   "cell_type": "code",
   "execution_count": 3,
   "metadata": {},
   "outputs": [],
   "source": [
    "# 기댓값\n",
    "def E(X):\n",
    "    x_set, f = X\n",
    "    return np.sum([x_k * f(x_k) for x_k in x_set])\n",
    "\n",
    "# 분산\n",
    "def V(X):\n",
    "    x_set, f = X\n",
    "    mean = E(X)\n",
    "    return np.sum([(x_k - mean)**2 * f(x_k) for x_k in x_set])\n",
    "\n",
    "def check_prob(X):\n",
    "    x_set, f = X\n",
    "    prob = np.array([ f(x_k) for x_k in x_set])  \n",
    "    \n",
    "    print(f'기대값 E(X): {E(X):.4}')\n",
    "    print(f'분산   V(X): {V(X):.4}')\n",
    "\n",
    "#확률분포 그래프\n",
    "def plot_prob(X):\n",
    "    x_set, f = X\n",
    "    prob = np.array([ f(x_k) for x_k in x_set]) \n",
    "    \n",
    "    fig = plt.figure(figsize=(10,6))\n",
    "    ax  = fig.add_subplot(111) # (1,1,1)\n",
    "    \n",
    "    ax.bar(x_set, prob, label='prob')\n",
    "    ax.vlines(E(X), 0, 1, label='mean', colors='red')  #기대값:평균\n",
    "    ax.set_xticks(np.append(x_set, E(X)))   #x축의 값 출력\n",
    "    ax.set_ylim(0, prob.max()*1.2)          #y축의 한계 지정\n",
    "    ax.legend()\n",
    "    for x, y in zip(x_set, prob):\n",
    "        ax.text(x, y, round(y,4))\n",
    "    \n",
    "    plt.show()    \n",
    "\n",
    "    def plot_bernoulli(mu, M):    \n",
    "        rv = sp.stats.bernoulli(mu)\n",
    "        x = rv.rvs(size=M, random_state=0)\n",
    "    \n",
    "    # 베르누이확률변수의 표본값을 무작위로 생성\n",
    "    mu = 1/3\n",
    "    rv = sp.stats.bernoulli(mu)\n",
    "    x = rv.rvs(100, random_state=0)\n",
    "    print(x)\n",
    "\n",
    "    sns.countplot(x)\n",
    "    plt.xlabel('표본값')\n",
    "    plt.show()\n",
    "\n",
    "    # 확률질량함수 pmf() 메서드 사용해서 그래프 그리기\n",
    "    plt.bar(x, rv.pmf(x))\n",
    "    plt.xlim(-1, 2)\n",
    "    plt.ylim(0, 1)\n",
    "    plt.xticks([0,1], ['x=0','x=1'])\n",
    "    plt.xlabel('표본값')\n",
    "    plt.ylabel('P(x)')\n",
    "    plt.title(f'베르누이확률변수의 확률질량함수(표본개수={M})')\n",
    "    plt.grid()\n",
    "    plt.show()\n",
    "\n",
    "    mu = 0.5    \n",
    "    print(f'기대값: {mu}, 분산: {mu*(1-mu)}')\n",
    "    plot_bernoulli(0.5, 10)\n",
    "    plot_bernoulli(0.5, 100)"
   ]
  },
  {
   "cell_type": "code",
   "execution_count": null,
   "metadata": {},
   "outputs": [],
   "source": [
    "#이항분포\n",
    "#scipy패키지의 special모듈에 있는 comb함수 사용\n",
    "from scipy.special import comb\n",
    "\n",
    "def Bin(n, p):\n",
    "    x_set = np.arange(n+1)\n",
    "    \n",
    "    def f(x):\n",
    "        if x in x_set:\n",
    "            return comb(n,x) * p**x * (1-p)**(n-x)\n",
    "        else:\n",
    "            return 0\n",
    "        \n",
    "    return x_set, f\n",
    "\n",
    "n, p = 10, 0.3\n",
    "X = Bin(n, p)\n",
    "\n",
    "# 기대값과 분산\n",
    "check_prob(X)\n",
    "\n",
    "# 그래프\n",
    "plot_prob(X)\n",
    "\n",
    "# scipy 라이브러리 사용\n",
    "n = 5\n",
    "mu = 0.25\n",
    "rv = sp.stats.binom(n, mu)\n",
    "\n",
    "xx = np.arange(n + 1)\n",
    "plt.bar(xx, rv.pmf(xx), align='center')\n",
    "plt.xlabel('표본값')\n",
    "plt.ylabel('$P(x)$')\n",
    "plt.title('이항분포의 확률질량함수')\n",
    "plt.grid()\n",
    "plt.show()\n",
    "\n",
    "from scipy.special import comb\n",
    "\n",
    "def prob(n, p, x):    \n",
    "    return comb(n,x) * p**x * (1-p)**(n-x)\n",
    "    \n",
    "n = 6\n",
    "p = 0.4\n",
    "x = 3\n",
    "print(f'확률: {prob(n, p, x)}')\n",
    "X = Bin(n,p)\n",
    "X \n",
    "\n",
    "# 기대값과 분산\n",
    "check_prob(X)\n",
    "\n",
    "# 그래프\n",
    "plot_prob(X)\n",
    "\n",
    "# 이항분포 기대값과 분산\n",
    "def E_binom(n, p):\n",
    "    return n*p\n",
    "\n",
    "def V_binom(n, p):\n",
    "    return n*p*(1-p)\n",
    "    \n",
    "    \n",
    "print(f'기대값 E(X): {E_binom(n, p):.4}')\n",
    "print(f'분산   V(X): {V_binom(n, p):.4}')\n",
    "\n"
   ]
  },
  {
   "cell_type": "markdown",
   "metadata": {},
   "source": [
    "# 연속확률분포\n",
    "\n",
    "- 정규분포 X ~ N(mu, std)\n",
    "- 표준정규분포 X ~ N(0, 1)"
   ]
  },
  {
   "cell_type": "markdown",
   "metadata": {},
   "source": [
    "#### scipy 확률분포 클래스\n",
    "- 이산 : bernoulli (베르누이분포)- 이진분류\n",
    "- 이산 : binom (이항분포) - 이진분류\n",
    "- 이산 : multinomial (다항분포) - 다중분류\n",
    "- 이산 : geometric(기하분포)\n",
    "- 이산 : poisson (포아송분포)\n",
    "\n",
    "- 연속 : uniform (균일분포)\n",
    "- 연속 : norm (정규분포)\n",
    "- 연속 : beta (베타분포)\n",
    "- 연속 : gamma (감마분포)\n",
    "- 연속 : t (스튜던트 t분포)\n",
    "- 연속 : f (F분포)\n",
    "- 연속 : chi2 (카이제곱분포)\n",
    "- 연속 : dirichlet (디리클리분포)    \n",
    "- 연속 : multivariate_normal (다변수 정규분포)"
   ]
  },
  {
   "cell_type": "markdown",
   "metadata": {},
   "source": [
    "#### Scipy 확률분포 메서드\n",
    "- pmf : 확률질량함수(probability mass function) \n",
    "- pdf : 확률밀도함수(probability density function)\n",
    "- cdf : 누적분포함수(cumulative distibution function)\n",
    "- ppf : 누적분포함수의 역함수(inverse cumulative distibution function)\n",
    "- sf  : 생존함수(survival function) = 1 - 누적분포함수\n",
    "- isf : 생존함수의 역함수(inverse survival function)\n",
    "- rvs : 랜덤 표본 생성(random variable sampling)"
   ]
  },
  {
   "cell_type": "markdown",
   "metadata": {},
   "source": [
    "확률분포 클래스와 메서드를 언제 사용해야하는지 알아두기\n",
    "나머지는 전부 끌어다가 재사용하면 끝"
   ]
  },
  {
   "cell_type": "markdown",
   "metadata": {},
   "source": [
    "# 이산확률분포에서 메서드 사용하기 \n",
    "\n",
    "## 확률분포 클래스\n",
    "\n",
    "### 베르누이 분포\n",
    "  - sp.stats.bernoulli\n",
    "### 이항분포\n",
    "  - sp.stats.binom\n",
    "### 다항분포\n",
    "  - sp.stats.multinomial\n",
    "### 기하분포\n",
    "  - sp.stats.geomatric\n",
    "### 포아송분포\n",
    "  - sp.stats.poisson"
   ]
  },
  {
   "cell_type": "markdown",
   "metadata": {},
   "source": [
    "## 6장 연습문제"
   ]
  },
  {
   "cell_type": "code",
   "execution_count": 2,
   "metadata": {},
   "outputs": [
    {
     "data": {
      "text/plain": [
       "[0, 1, 2, 3, 4]"
      ]
     },
     "execution_count": 2,
     "metadata": {},
     "output_type": "execute_result"
    }
   ],
   "source": [
    "import itertools\n",
    "x = list()\n",
    "p = [\"T\", \"F\"]\n",
    "r = 4\n",
    "\n",
    "coins = list(itertools.product(p, repeat=r)) \n",
    "coins = [ \"\".join(i) for i in coins]\n",
    "\n",
    "S = [x.count(\"F\") for x in coins]\n",
    "X = list(set(S))\n",
    "X\n",
    "  "
   ]
  },
  {
   "cell_type": "code",
   "execution_count": 13,
   "metadata": {},
   "outputs": [
    {
     "data": {
      "text/plain": [
       "1.25"
      ]
     },
     "execution_count": 13,
     "metadata": {},
     "output_type": "execute_result"
    }
   ],
   "source": [
    "#이산균등분포\n",
    "x = [1, 2, 3, 4]\n",
    "p = 1/4\n",
    "a = 0\n",
    "for i in x:\n",
    "  a = a + (i*p)\n",
    "var = (len(x) ** 2 - 1)/12\n",
    "var\n"
   ]
  },
  {
   "cell_type": "code",
   "execution_count": 18,
   "metadata": {},
   "outputs": [
    {
     "name": "stdout",
     "output_type": "stream",
     "text": [
      "평균 : 0.3333\n",
      "분산 : 0.2222\n"
     ]
    },
    {
     "data": {
      "image/png": "[encoded data removed]",
      "text/plain": [
       "<Figure size 432x288 with 1 Axes>"
      ]
     },
     "metadata": {
      "needs_background": "light"
     },
     "output_type": "display_data"
    }
   ],
   "source": [
    "#베르누이 실험\n",
    "p = 1/3\n",
    "xx = [0, 1]\n",
    "rv = sp.bernoulli(p)\n",
    "print(f\"평균 : {round(rv.mean(), 4)}\")\n",
    "print(f\"분산 : {round(rv.var(), 4)}\")\n",
    "\n",
    "plt.bar(xx, rv.pmf(xx))\n",
    "plt.xlim(-1, 2)\n",
    "plt.ylim(0, 1)\n",
    "plt.xticks([0,1], ['x=0','x=1'])\n",
    "plt.xlabel('표본값')\n",
    "plt.ylabel('P(x)')\n",
    "plt.title('베르누이확률변수의 확률질량함수')\n",
    "plt.grid()\n",
    "plt.show()"
   ]
  },
  {
   "cell_type": "code",
   "execution_count": 20,
   "metadata": {},
   "outputs": [
    {
     "data": {
      "image/png": "[encoded data removed]",
      "text/plain": [
       "<Figure size 432x288 with 1 Axes>"
      ]
     },
     "metadata": {
      "needs_background": "light"
     },
     "output_type": "display_data"
    },
    {
     "name": "stdout",
     "output_type": "stream",
     "text": [
      "0.25\n",
      "0.1875\n"
     ]
    }
   ],
   "source": [
    "p = 1/4\n",
    "rv = sp.bernoulli(p)\n",
    "\n",
    "plt.bar(xx, rv.pmf(xx))\n",
    "plt.xlim(-1, 2)\n",
    "plt.ylim(0, 1)\n",
    "plt.xticks([0,1], ['x=0','x=1'])\n",
    "plt.xlabel('표본값')\n",
    "plt.ylabel('P(x)')\n",
    "plt.title('베르누이확률변수의 확률질량함수')\n",
    "plt.grid()\n",
    "plt.show()\n",
    "\n",
    "print(f\"{round(rv.mean(), 4)}\")\n",
    "print(f\"{round(rv.var(), 4)}\")"
   ]
  },
  {
   "cell_type": "code",
   "execution_count": 30,
   "metadata": {},
   "outputs": [
    {
     "data": {
      "image/png": "[encoded data removed]",
      "text/plain": [
       "<Figure size 432x288 with 1 Axes>"
      ]
     },
     "metadata": {
      "needs_background": "light"
     },
     "output_type": "display_data"
    },
    {
     "name": "stdout",
     "output_type": "stream",
     "text": [
      "1.25\n",
      "0.9375\n",
      "0.6328\n",
      "0.2637\n",
      "0.8965\n",
      "0.0156\n"
     ]
    }
   ],
   "source": [
    "# 이항분포\n",
    "n, p = 10, 1/2\n",
    "rv = sp.binom(n, p)\n",
    "rv.pmf(3)\n",
    "\n",
    "n, p = 4, 1/6\n",
    "rv = sp.binom(n, p)\n",
    "rv.pmf(0)\n",
    "\n",
    "n, p = 6, 0.4\n",
    "rv = sp.binom(n, p)\n",
    "rv.pmf(3)\n",
    "\n",
    "n, p = 5, 1/4\n",
    "rv = sp.binom(n, p)\n",
    "xx = [0, 1, 2, 3, 4, 5]\n",
    "\n",
    "plt.bar(xx, rv.pmf(xx))\n",
    "plt.xlim(-1, 2)\n",
    "plt.ylim(0, 1)\n",
    "plt.xticks([0,1, 2, 3, 4, 5], ['x=0','x=1','x=2','x=3','x=4','x=5'])\n",
    "plt.xlabel('표본값')\n",
    "plt.ylabel('P(x)')\n",
    "plt.title('이항분포의 확률질량함수')\n",
    "plt.grid()\n",
    "plt.show()\n",
    "\n",
    "print(f\"{round(rv.mean(), 4)}\")\n",
    "print(f\"{round(rv.var(), 4)}\")\n",
    "\n",
    "print(f\"{round(rv.cdf(1), 4)}\")\n",
    "print(f\"{round(rv.pmf(2), 4)}\")\n",
    "print(f\"{round(rv.cdf(2), 4)}\")\n",
    "print(f\"{round(1-rv.cdf(3), 4)}\")\n"
   ]
  },
  {
   "cell_type": "code",
   "execution_count": 31,
   "metadata": {},
   "outputs": [
    {
     "data": {
      "image/png": "[encoded data removed]",
      "text/plain": [
       "<Figure size 432x288 with 1 Axes>"
      ]
     },
     "metadata": {
      "needs_background": "light"
     },
     "output_type": "display_data"
    }
   ],
   "source": [
    "#이항분포 그래프 그리기\n",
    "p1, p2, p3 = 0.3, 0.5, 0.7\n",
    "n = 10\n",
    "xx = [0, 1, 2, 3, 4, 5, 6, 7, 8, 9, 10]\n",
    "rv1 = sp.binom(n, p1)\n",
    "rv2 = sp.binom(n, p2)\n",
    "rv3 = sp.binom(n, p3)\n",
    "plt.plot(xx, rv1.pmf(xx))\n",
    "plt.plot(xx, rv2.pmf(xx))\n",
    "plt.plot(xx, rv3.pmf(xx))\n",
    "plt.show()"
   ]
  },
  {
   "cell_type": "code",
   "execution_count": 32,
   "metadata": {},
   "outputs": [
    {
     "name": "stdout",
     "output_type": "stream",
     "text": [
      "0.9727\n",
      "0.0865\n",
      "0.1138\n"
     ]
    }
   ],
   "source": [
    "n, p = 8, 0.25\n",
    "rv = sp.binom(n, p)\n",
    "\n",
    "print(f\"{round(rv.cdf(4), 4)}\")\n",
    "print(f\"{round(rv.pmf(4), 4)}\")\n",
    "print(f\"{round(1-rv.cdf(3), 4)}\")"
   ]
  },
  {
   "cell_type": "code",
   "execution_count": 36,
   "metadata": {},
   "outputs": [
    {
     "data": {
      "text/plain": [
       "0.11574074074074076"
      ]
     },
     "execution_count": 36,
     "metadata": {},
     "output_type": "execute_result"
    }
   ],
   "source": [
    "#기하분포\n",
    "n, p = 5, 1/2\n",
    "\n",
    "rv = sp.geom(p)\n",
    "rv.pmf(5)\n",
    "\n",
    "p=1/6\n",
    "rv = sp.geom(p)\n",
    "rv.pmf(3)"
   ]
  },
  {
   "cell_type": "code",
   "execution_count": null,
   "metadata": {},
   "outputs": [],
   "source": [
    "#포하송분포\n"
   ]
  }
 ],
 "metadata": {
  "interpreter": {
   "hash": "31f2aee4e71d21fbe5cf8b01ff0e069b9275f58929596ceb00d14d90e3e16cd6"
  },
  "kernelspec": {
   "display_name": "Python 3.8.9 64-bit",
   "language": "python",
   "name": "python3"
  },
  "language_info": {
   "codemirror_mode": {
    "name": "ipython",
    "version": 3
   },
   "file_extension": ".py",
   "mimetype": "text/x-python",
   "name": "python",
   "nbconvert_exporter": "python",
   "pygments_lexer": "ipython3",
   "version": "3.8.9"
  },
  "orig_nbformat": 4
 },
 "nbformat": 4,
 "nbformat_minor": 2
}
