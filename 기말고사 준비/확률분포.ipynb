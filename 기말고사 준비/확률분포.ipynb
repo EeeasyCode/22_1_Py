{
 "cells": [
  {
   "cell_type": "markdown",
   "metadata": {},
   "source": [
    "# 이산확률변수\n",
    " \n",
    " - 베르누이 분포\n",
    " - 이항 분포 X ~ B(n, p)\n",
    " - 기하 분포\n",
    " - 포아송 분포\n",
    " - 카테고리 분포\n",
    " - 다항 분포"
   ]
  },
  {
   "cell_type": "code",
   "execution_count": 1,
   "metadata": {},
   "outputs": [],
   "source": [
    "import numpy as np"
   ]
  },
  {
   "cell_type": "code",
   "execution_count": null,
   "metadata": {},
   "outputs": [],
   "source": []
  },
  {
   "cell_type": "markdown",
   "metadata": {},
   "source": [
    "# 연속확률분포\n",
    "\n",
    "- 정규분포 X ~ N(mu, std)\n",
    "- 표준정규분포 X ~ N(0, 1)"
   ]
  },
  {
   "cell_type": "markdown",
   "metadata": {},
   "source": [
    "#### scipy 확률분포 클래스\n",
    "- 이산 : bernoulli (베르누이분포)- 이진분류\n",
    "- 이산 : binom (이항분포) - 이진분류\n",
    "- 이산 : multinomial (다항분포) - 다중분류\n",
    "- 이산 : geometric(기하분포)\n",
    "- 이산 : poisson (포아송분포)\n",
    "\n",
    "- 연속 : uniform (균일분포)\n",
    "- 연속 : norm (정규분포)\n",
    "- 연속 : beta (베타분포)\n",
    "- 연속 : gamma (감마분포)\n",
    "- 연속 : t (스튜던트 t분포)\n",
    "- 연속 : f (F분포)\n",
    "- 연속 : chi2 (카이제곱분포)\n",
    "- 연속 : dirichlet (디리클리분포)    \n",
    "- 연속 : multivariate_normal (다변수 정규분포)"
   ]
  },
  {
   "cell_type": "markdown",
   "metadata": {},
   "source": [
    "#### Scipy 확률분포 메서드\n",
    "- pmf : 확률질량함수(probability mass function) \n",
    "- pdf : 확률밀도함수(probability density function)\n",
    "- cdf : 누적분포함수(cumulative distibution function)\n",
    "- ppf : 누적분포함수의 역함수(inverse cumulative distibution function)\n",
    "- sf  : 생존함수(survival function) = 1 - 누적분포함수\n",
    "- isf : 생존함수의 역함수(inverse survival function)\n",
    "- rvs : 랜덤 표본 생성(random variable sampling)"
   ]
  },
  {
   "cell_type": "markdown",
   "metadata": {},
   "source": [
    "확률분포 클래스와 메서드를 언제 사용해야하는지 알아두기\n",
    "나머지는 전부 끌어다가 재사용하면 끝"
   ]
  }
 ],
 "metadata": {
  "interpreter": {
   "hash": "31f2aee4e71d21fbe5cf8b01ff0e069b9275f58929596ceb00d14d90e3e16cd6"
  },
  "kernelspec": {
   "display_name": "Python 3.8.9 64-bit",
   "language": "python",
   "name": "python3"
  },
  "language_info": {
   "codemirror_mode": {
    "name": "ipython",
    "version": 3
   },
   "file_extension": ".py",
   "mimetype": "text/x-python",
   "name": "python",
   "nbconvert_exporter": "python",
   "pygments_lexer": "ipython3",
   "version": "3.8.9"
  },
  "orig_nbformat": 4
 },
 "nbformat": 4,
 "nbformat_minor": 2
}
