{
 "cells": [
  {
   "cell_type": "code",
   "execution_count": 2,
   "metadata": {},
   "outputs": [],
   "source": [
    "import matplotlib.pyplot as plt\n",
    "import numpy as np\n",
    "plt.rcParams['font.family'] = 'AppleGothic'  # '맑은 고딕'으로 설정 \n",
    "plt.rcParams['axes.unicode_minus'] = False     # 그래프에서 (-)숫자표시"
   ]
  },
  {
   "cell_type": "code",
   "execution_count": 6,
   "metadata": {},
   "outputs": [
    {
     "name": "stdout",
     "output_type": "stream",
     "text": [
      "모평균: 12.21\n",
      "모분산: 37.35\n",
      "모표준편차: 6.11\n"
     ]
    }
   ],
   "source": [
    "data =[9.59, 4.62, 0.65, 7.75, 16.98, 11.78, 7.24, 10.15, 25.49, 11.44, 10.37,\n",
    "    9.33, 15.04, 12.16, 16.63, 12.06, 9.70, 12.46, 8.05, 19.91, 5.58, 12.48,\n",
    "    4.35, 16.41, 22.53, 17.56, 18.4, 10.86, 27.43, 7.39, 14.57, 11.92, 2.00]  \n",
    "\n",
    "print(f\"모평균: {round(np.mean(data), 2)}\")\n",
    "print(f\"모분산: {round(np.var(data), 2)}\")\n",
    "print(f\"모표준편차: {round(np.std(data), 2)}\")"
   ]
  },
  {
   "cell_type": "code",
   "execution_count": 10,
   "metadata": {},
   "outputs": [
    {
     "name": "stdout",
     "output_type": "stream",
     "text": [
      "표본평균 : 9.44\n",
      "표본분산 : 2.47\n",
      "표본표준편차 : 1.57\n"
     ]
    }
   ],
   "source": [
    "data = [7.75, 9.7, 10.86]\n",
    "x_ = round(np.mean(data), 2)\n",
    "ss = round(np.var(data, ddof=1), 2)\n",
    "s = round(np.std(data, ddof=1), 2)\n",
    "\n",
    "print(f\"표본평균 : {x_}\")\n",
    "print(f\"표본분산 : {ss}\")\n",
    "print(f\"표본표준편차 : {s}\")"
   ]
  },
  {
   "cell_type": "markdown",
   "metadata": {},
   "source": [
    "## 예제 8-3 아직 못풀었음"
   ]
  },
  {
   "cell_type": "code",
   "execution_count": 103,
   "metadata": {},
   "outputs": [
    {
     "name": "stdout",
     "output_type": "stream",
     "text": [
      "모평균: -0.17\n",
      "**경우의 수 : 9개\n",
      "[(-1, -1), (-1, 0), (-1, 1), (0, -1), (0, 0), (0, 1), (1, -1), (1, 0), (1, 1)]\n"
     ]
    }
   ],
   "source": [
    "X = [-1, 0, 1]\n",
    "p = [1/3, 1/2, 1/6]\n",
    "Mu = 0\n",
    "\n",
    "for i in range(3):\n",
    "    Mu += X[i] * p[i]\n",
    "print(f\"모평균: {round(Mu, 2)}\")\n",
    "\n",
    "\n",
    "import itertools\n",
    "\n",
    "n = 2\n",
    "result = list(itertools.product((X), repeat=n)) # 복원추출\n",
    "print(\"**경우의 수 : %s개\" % len(result))\n",
    "print(result)"
   ]
  },
  {
   "cell_type": "code",
   "execution_count": 99,
   "metadata": {},
   "outputs": [
    {
     "data": {
      "text/plain": [
       "[-1.0, -0.5, 0.0, 0.5, 1.0]"
      ]
     },
     "execution_count": 99,
     "metadata": {},
     "output_type": "execute_result"
    }
   ],
   "source": [
    "x_set = [ sum([j for j in i])/n for i in result] \n",
    "x_set = list(set(x_set))\n",
    "x_set.sort()\n",
    "x_set"
   ]
  },
  {
   "cell_type": "code",
   "execution_count": 118,
   "metadata": {},
   "outputs": [
    {
     "name": "stdout",
     "output_type": "stream",
     "text": [
      "[(-1, -1), (-1, 0), (-1, 1), (0, -1), (0, 0), (0, 1), (1, -1), (1, 0), (1, 1)]\n",
      "[-1.0, -0.5, 0.0, 0.5, 1.0]\n",
      "0.1111111111111111\n",
      "1\n",
      "0.2222222222222222\n",
      "2\n",
      "0.3333333333333333\n",
      "3\n",
      "0.2222222222222222\n",
      "2\n",
      "0.1111111111111111\n",
      "1\n"
     ]
    },
    {
     "data": {
      "text/plain": [
       "[0.1111111111111111,\n",
       " 0.2222222222222222,\n",
       " 0.3333333333333333,\n",
       " 0.2222222222222222,\n",
       " 0.1111111111111111]"
      ]
     },
     "execution_count": 118,
     "metadata": {},
     "output_type": "execute_result"
    }
   ],
   "source": [
    "# 문제점 : 각 표본마다 확률이 다름\n",
    "# 하드코딩이 훨씬 구현하기 편리\n",
    "def f(x):\n",
    "    cnt = 0\n",
    "    for i in result:\n",
    "        if sum([j for j in i])/n == x:\n",
    "            cnt += 1\n",
    "    print(cnt / len(result))\n",
    "    print(cnt)\n",
    "    return cnt / (len(result))\n",
    "\n",
    "print(result)\n",
    "print(x_set)\n",
    "prob = [f(x_k) for x_k in x_set]\n",
    "prob\n",
    "\n",
    "\n",
    "    \n"
   ]
  },
  {
   "cell_type": "code",
   "execution_count": 109,
   "metadata": {},
   "outputs": [
    {
     "data": {
      "text/plain": [
       "0.04320987654320988"
      ]
     },
     "execution_count": 109,
     "metadata": {},
     "output_type": "execute_result"
    }
   ],
   "source": []
  },
  {
   "cell_type": "code",
   "execution_count": 32,
   "metadata": {},
   "outputs": [
    {
     "data": {
      "text/plain": [
       "0.8663855974622838"
      ]
     },
     "execution_count": 32,
     "metadata": {},
     "output_type": "execute_result"
    }
   ],
   "source": [
    "import scipy.stats as sp\n",
    "\n",
    "rv = sp.norm(178, 4/3)\n",
    "rv.cdf(180) - rv.cdf(176)"
   ]
  },
  {
   "cell_type": "code",
   "execution_count": 33,
   "metadata": {},
   "outputs": [
    {
     "data": {
      "text/plain": [
       "0.0038303805675897365"
      ]
     },
     "execution_count": 33,
     "metadata": {},
     "output_type": "execute_result"
    }
   ],
   "source": [
    "rv = sp.norm(166, 3/4)\n",
    "\n",
    "rv.cdf(164)"
   ]
  },
  {
   "cell_type": "code",
   "execution_count": 40,
   "metadata": {},
   "outputs": [
    {
     "data": {
      "text/plain": [
       "0.0228"
      ]
     },
     "execution_count": 40,
     "metadata": {},
     "output_type": "execute_result"
    }
   ],
   "source": [
    "p, n = 0.45, 100\n",
    "q = 1-p\n",
    "\n",
    "var = (p*q)/n\n",
    "std = round(np.sqrt((p*q)/n), 2)\n",
    "rv = sp.norm(p, std)\n",
    "round(rv.cdf(0.35), 4)\n"
   ]
  },
  {
   "cell_type": "code",
   "execution_count": 45,
   "metadata": {},
   "outputs": [
    {
     "name": "stdout",
     "output_type": "stream",
     "text": [
      "분포: 0.035\n"
     ]
    }
   ],
   "source": [
    "n, p, q = 200, 0.45, 0.55\n",
    "std = round(np.sqrt((p*q)/n), 3)\n",
    "print(f\"분포: {std}\")\n",
    "rv = sp.norm(p, std)\n"
   ]
  },
  {
   "cell_type": "code",
   "execution_count": 46,
   "metadata": {},
   "outputs": [
    {
     "name": "stdout",
     "output_type": "stream",
     "text": [
      "28.824 <= mu <= 31.176\n"
     ]
    }
   ],
   "source": [
    "Z = {90:1.645, 95:1.96, 99:2.58}\n",
    "x_, std, n = 30, 3, 25\n",
    "\n",
    "a = x_ - Z[95]*(std/np.sqrt(n))\n",
    "b = x_ + Z[95]*(std/np.sqrt(n))\n",
    "\n",
    "print(f\"{round(a, 3)} <= mu <= {round(b, 3)}\")"
   ]
  },
  {
   "cell_type": "code",
   "execution_count": 48,
   "metadata": {},
   "outputs": [
    {
     "name": "stdout",
     "output_type": "stream",
     "text": [
      "51.936 <= mu <= 56.064\n"
     ]
    }
   ],
   "source": [
    "x_, std, n = 54, 4, 25\n",
    "\n",
    "a = x_ - Z[99]*(std/np.sqrt(n))\n",
    "b = x_ + Z[99]*(std/np.sqrt(n))\n",
    "\n",
    "print(f\"{round(a, 3)} <= mu <= {round(b, 3)}\")"
   ]
  },
  {
   "cell_type": "code",
   "execution_count": 50,
   "metadata": {},
   "outputs": [
    {
     "name": "stdout",
     "output_type": "stream",
     "text": [
      "73.42 <= mu <= 76.58\n"
     ]
    }
   ],
   "source": [
    "n, x_, std = 125, 75, 9\n",
    "\n",
    "a = x_ - Z[95]*(std/np.sqrt(n))\n",
    "b = x_ + Z[95]*(std/np.sqrt(n))\n",
    "\n",
    "print(f\"{round(a, 2)} <= mu <= {round(b, 2)}\")"
   ]
  },
  {
   "cell_type": "code",
   "execution_count": 53,
   "metadata": {},
   "outputs": [
    {
     "name": "stdout",
     "output_type": "stream",
     "text": [
      "0.16 <= mu <= 14.24\n"
     ]
    }
   ],
   "source": [
    "x_, s1, n = 261.6, 21.5, 56\n",
    "y_, s2, m = 254.4, 14.3, 44\n",
    "\n",
    "a = (x_ - y_) - Z[95]*np.sqrt((s1**2/n) + (s2**2/m))\n",
    "b = (x_ - y_) + Z[95]*np.sqrt((s1**2/n) + (s2**2/m))\n",
    "\n",
    "print(f\"{round(a, 2)} <= mu <= {round(b, 2)}\")"
   ]
  },
  {
   "cell_type": "code",
   "execution_count": 54,
   "metadata": {},
   "outputs": [
    {
     "name": "stdout",
     "output_type": "stream",
     "text": [
      "-1.26 <= mu <= 6.26\n"
     ]
    }
   ],
   "source": [
    "x_, v1, n = 35, 9, 25\n",
    "y_, v2, m = 32.5, 4, 36\n",
    "\n",
    "a = (x_ - y_) - Z[95] * np.sqrt((v1**2/n) + (v2**2/m))\n",
    "b = (x_ - y_) + Z[95] * np.sqrt((v1**2/n) + (v2**2/m))\n",
    "\n",
    "print(f\"{round(a, 2)} <= mu <= {round(b, 2)}\")"
   ]
  },
  {
   "cell_type": "code",
   "execution_count": 71,
   "metadata": {},
   "outputs": [
    {
     "name": "stdout",
     "output_type": "stream",
     "text": [
      "n, p, q : (1200, 0.48, 0.52)\n",
      "모비율의 신뢰구간 : 0.46 <= p^ <= 0.51\n"
     ]
    }
   ],
   "source": [
    "n, p, q =  1200, 580/1200, 1-(580/1200)\n",
    "print(f'n, p, q : {n, round(p,2), round(q,2)}')\n",
    "\n",
    "a = p - Z[95]*np.sqrt((p*q)/n)  \n",
    "b =  p + Z[95]*np.sqrt((p*q)/n)\n",
    "print(f'모비율의 신뢰구간 : {round(a, 2)} <= p^ <= {round(b, 2)}')"
   ]
  },
  {
   "cell_type": "code",
   "execution_count": 73,
   "metadata": {},
   "outputs": [
    {
     "name": "stdout",
     "output_type": "stream",
     "text": [
      "n, p, q : (1500, 0.01, 0.99)\n",
      "모비율의 신뢰구간 : 0.0 <= p^ <= 0.02\n"
     ]
    }
   ],
   "source": [
    "n, p, q = 1500, 18/1500, 1-(18/1500)\n",
    "print(f\"n, p, q : {n, round(p, 2), round(q, 2)}\")\n",
    "\n",
    "a = p - Z[99]*np.sqrt((p*q)/n)  \n",
    "b =  p + Z[99]*np.sqrt((p*q)/n)\n",
    "print(f'모비율의 신뢰구간 : {round(a, 2)} <= p^ <= {round(b, 2)}')"
   ]
  },
  {
   "cell_type": "code",
   "execution_count": 75,
   "metadata": {},
   "outputs": [
    {
     "name": "stdout",
     "output_type": "stream",
     "text": [
      "모비율의 신뢰구간 : -0.0205 <= p^ <= 0.0305\n"
     ]
    }
   ],
   "source": [
    "n,m = 450, 400\n",
    "p1, p2 = 18/450, 14/400\n",
    "q1, q2 = 1-(18/450), 1-(14/400)\n",
    "\n",
    "a = (p1 - p2) - Z[95] * np.sqrt((p1*q1/n + p2*q2/m))\n",
    "b = (p1 - p2) + Z[95] * np.sqrt((p1*q1/n + p2*q2/m))\n",
    "\n",
    "print(f'모비율의 신뢰구간 : {round(a, 4)} <= p^ <= {round(b, 4)}')"
   ]
  }
 ],
 "metadata": {
  "interpreter": {
   "hash": "31f2aee4e71d21fbe5cf8b01ff0e069b9275f58929596ceb00d14d90e3e16cd6"
  },
  "kernelspec": {
   "display_name": "Python 3.8.9 64-bit",
   "language": "python",
   "name": "python3"
  },
  "language_info": {
   "codemirror_mode": {
    "name": "ipython",
    "version": 3
   },
   "file_extension": ".py",
   "mimetype": "text/x-python",
   "name": "python",
   "nbconvert_exporter": "python",
   "pygments_lexer": "ipython3",
   "version": "3.8.9"
  },
  "orig_nbformat": 4
 },
 "nbformat": 4,
 "nbformat_minor": 2
}
