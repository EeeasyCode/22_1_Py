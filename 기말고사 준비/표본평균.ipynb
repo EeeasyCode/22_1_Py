{
 "cells": [
  {
   "cell_type": "code",
   "execution_count": 2,
   "metadata": {},
   "outputs": [],
   "source": [
    "import matplotlib.pyplot as plt\n",
    "import numpy as np\n",
    "plt.rcParams['font.family'] = 'AppleGothic'  # '맑은 고딕'으로 설정 \n",
    "plt.rcParams['axes.unicode_minus'] = False     # 그래프에서 (-)숫자표시"
   ]
  },
  {
   "cell_type": "code",
   "execution_count": 6,
   "metadata": {},
   "outputs": [
    {
     "name": "stdout",
     "output_type": "stream",
     "text": [
      "모평균: 12.21\n",
      "모분산: 37.35\n",
      "모표준편차: 6.11\n"
     ]
    }
   ],
   "source": [
    "data =[9.59, 4.62, 0.65, 7.75, 16.98, 11.78, 7.24, 10.15, 25.49, 11.44, 10.37,\n",
    "    9.33, 15.04, 12.16, 16.63, 12.06, 9.70, 12.46, 8.05, 19.91, 5.58, 12.48,\n",
    "    4.35, 16.41, 22.53, 17.56, 18.4, 10.86, 27.43, 7.39, 14.57, 11.92, 2.00]  \n",
    "\n",
    "print(f\"모평균: {round(np.mean(data), 2)}\")\n",
    "print(f\"모분산: {round(np.var(data), 2)}\")\n",
    "print(f\"모표준편차: {round(np.std(data), 2)}\")"
   ]
  },
  {
   "cell_type": "code",
   "execution_count": 10,
   "metadata": {},
   "outputs": [
    {
     "name": "stdout",
     "output_type": "stream",
     "text": [
      "표본평균 : 9.44\n",
      "표본분산 : 2.47\n",
      "표본표준편차 : 1.57\n"
     ]
    }
   ],
   "source": [
    "data = [7.75, 9.7, 10.86]\n",
    "x_ = round(np.mean(data), 2)\n",
    "ss = round(np.var(data, ddof=1), 2)\n",
    "s = round(np.std(data, ddof=1), 2)\n",
    "\n",
    "print(f\"표본평균 : {x_}\")\n",
    "print(f\"표본분산 : {ss}\")\n",
    "print(f\"표본표준편차 : {s}\")"
   ]
  },
  {
   "cell_type": "code",
   "execution_count": 20,
   "metadata": {},
   "outputs": [
    {
     "data": {
      "text/html": [
       "<div>\n",
       "<style scoped>\n",
       "    .dataframe tbody tr th:only-of-type {\n",
       "        vertical-align: middle;\n",
       "    }\n",
       "\n",
       "    .dataframe tbody tr th {\n",
       "        vertical-align: top;\n",
       "    }\n",
       "\n",
       "    .dataframe thead th {\n",
       "        text-align: right;\n",
       "    }\n",
       "</style>\n",
       "<table border=\"1\" class=\"dataframe\">\n",
       "  <thead>\n",
       "    <tr style=\"text-align: right;\">\n",
       "      <th>X_</th>\n",
       "      <th>-1.0</th>\n",
       "      <th>-0.5</th>\n",
       "      <th>0.0</th>\n",
       "      <th>0.5</th>\n",
       "      <th>1.0</th>\n",
       "    </tr>\n",
       "  </thead>\n",
       "  <tbody>\n",
       "    <tr>\n",
       "      <th>P(X_=x_)</th>\n",
       "      <td>0.111111</td>\n",
       "      <td>0.222222</td>\n",
       "      <td>0.333333</td>\n",
       "      <td>0.222222</td>\n",
       "      <td>0.111111</td>\n",
       "    </tr>\n",
       "  </tbody>\n",
       "</table>\n",
       "</div>"
      ],
      "text/plain": [
       "X_            -1.0      -0.5       0.0       0.5       1.0\n",
       "P(X_=x_)  0.111111  0.222222  0.333333  0.222222  0.111111"
      ]
     },
     "execution_count": 20,
     "metadata": {},
     "output_type": "execute_result"
    }
   ],
   "source": [
    "import itertools\n",
    "X = [-1, 0, 1]\n",
    "n = 2\n",
    "result = list(itertools.product(X, repeat=n)) # 복원추출\n",
    "\n",
    "x_set = [ sum([j for j in i])/n for i in result] \n",
    "x_set = list(set(x_set))\n",
    "x_set.sort()\n",
    "\n",
    "def f(x):\n",
    "    cnt = 0\n",
    "    for i in result:\n",
    "        if sum([j for j in i])/n == x:\n",
    "            cnt += 1\n",
    "    return cnt / (len(result))\n",
    "\n",
    "X = [x_set, f]\n",
    "\n",
    "prob = [f(x_k) for x_k in x_set]\n",
    "\n",
    "import pandas as pd\n",
    "\n",
    "df = pd.DataFrame([prob], columns=x_set, index=['P(X_=x_)'])\n",
    "df.columns.names = ['X_']\n",
    "\n",
    "df"
   ]
  },
  {
   "cell_type": "code",
   "execution_count": 21,
   "metadata": {},
   "outputs": [
    {
     "data": {
      "text/plain": [
       "0.0"
      ]
     },
     "execution_count": 21,
     "metadata": {},
     "output_type": "execute_result"
    }
   ],
   "source": [
    "import numpy as np\n",
    "\n",
    "def E(X):\n",
    "    x_set, f = X\n",
    "    return np.sum([x_k * f(x_k) for x_k in x_set]) \n",
    "\n",
    "E(X)"
   ]
  },
  {
   "cell_type": "code",
   "execution_count": 22,
   "metadata": {},
   "outputs": [
    {
     "data": {
      "text/plain": [
       "0.3333333333333333"
      ]
     },
     "execution_count": 22,
     "metadata": {},
     "output_type": "execute_result"
    }
   ],
   "source": [
    "def V(X):\n",
    "    x_set, f = X\n",
    "    mean = E(X)\n",
    "    return np.sum([(x_k - mean)**2 * f(x_k) for x_k in x_set])\n",
    "\n",
    "V(X)"
   ]
  }
 ],
 "metadata": {
  "interpreter": {
   "hash": "31f2aee4e71d21fbe5cf8b01ff0e069b9275f58929596ceb00d14d90e3e16cd6"
  },
  "kernelspec": {
   "display_name": "Python 3.8.9 64-bit",
   "language": "python",
   "name": "python3"
  },
  "language_info": {
   "codemirror_mode": {
    "name": "ipython",
    "version": 3
   },
   "file_extension": ".py",
   "mimetype": "text/x-python",
   "name": "python",
   "nbconvert_exporter": "python",
   "pygments_lexer": "ipython3",
   "version": "3.8.9"
  },
  "orig_nbformat": 4
 },
 "nbformat": 4,
 "nbformat_minor": 2
}
