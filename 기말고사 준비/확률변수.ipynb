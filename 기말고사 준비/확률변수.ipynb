{
 "cells": [
  {
   "cell_type": "markdown",
   "metadata": {},
   "source": [
    "# 이산확률변수"
   ]
  },
  {
   "cell_type": "markdown",
   "metadata": {},
   "source": [
    "## 이산확률변수 -> 확률질량함수"
   ]
  },
  {
   "cell_type": "code",
   "execution_count": 17,
   "metadata": {},
   "outputs": [
    {
     "name": "stdout",
     "output_type": "stream",
     "text": [
      "동전 4번 던지는 상태공간(Sx): ['TTTT', 'TTTH', 'TTHT', 'TTHH', 'THTT', 'THTH', 'THHT', 'THHH', 'HTTT', 'HTTH', 'HTHT', 'HTHH', 'HHTT', 'HHTH', 'HHHT', 'HHHH']\n",
      "확률변수(X): [0, 1, 2, 3, 4]\n",
      "확률변수 X의 확률: {0: 0.0625, 1: 0.25, 2: 0.375, 3: 0.25, 4: 0.0625}\n",
      "(b)앞면의 횟수가 2일 확률: 0.375\n",
      "(c)앞면의 횟수가 2 이상일 확률: 0.6875\n",
      "(c)앞면의 횟수가 3 이하일 확률: 0.9375\n"
     ]
    }
   ],
   "source": [
    "import itertools\n",
    "\n",
    "coin = {'H', 'T'}\n",
    "r = 4\n",
    "\n",
    "#상태공간(Sx)\n",
    "coins = list(itertools.product(coin, repeat=r))\n",
    "coins = [ \"\".join(i) for i in coins]\n",
    "print(f'동전 {r}번 던지는 상태공간(Sx): {coins}')\n",
    "\n",
    "#확률변수 x\n",
    "S = [x.count(\"H\") for x in coins]\n",
    "X = list(set(S))\n",
    "print(f'확률변수(X): {X}')\n",
    "\n",
    "#확률질량함수 f(x)\n",
    "def f(x):\n",
    "  return S.count(x) / len(coins)\n",
    "\n",
    "#확률\n",
    "prob = [ f(x) for x in X]\n",
    "print(f'확률변수 X의 확률: {dict(zip(X, prob))}')\n",
    "\n",
    "#확률구하기\n",
    "print(f'(b)앞면의 횟수가 2일 확률: {f(2)}')\n",
    "print(f'(c)앞면의 횟수가 2 이상일 확률: {sum([ f(x) for x in range(2, len(X)) ])}')\n",
    "print(f'(c)앞면의 횟수가 3 이하일 확률: {sum([ f(x) for x in range(3, -1, -1) ])}')\n"
   ]
  },
  {
   "cell_type": "code",
   "execution_count": 1,
   "metadata": {},
   "outputs": [
    {
     "name": "stdout",
     "output_type": "stream",
     "text": [
      "X의 상태공간(Sx): {0, 1, 2, 3, 4, 5}\n"
     ]
    }
   ],
   "source": [
    "# 예제 6-1\n",
    "X = list()\n",
    "D1 = [1, 2, 3, 4, 5, 6]\n",
    "D2 = [1, 2, 3, 4, 5, 6]\n",
    "\n",
    "for i in D1:\n",
    "  for j in D2:\n",
    "    X.append(abs(i-j))\n",
    "\n",
    "Sx = set(X)\n",
    "print(f\"X의 상태공간(Sx): {Sx}\")"
   ]
  },
  {
   "cell_type": "code",
   "execution_count": 11,
   "metadata": {},
   "outputs": [
    {
     "name": "stdout",
     "output_type": "stream",
     "text": [
      "X의 상태공간(Sx): {0, 1, 2, 3, 4}\n",
      "장난감 4개가 들어 있는 불량품의 수 상태공간(Sx): {0, 1, 2, 3, 4}\n"
     ]
    }
   ],
   "source": [
    "# 동전을 네 번 반복하여 던지는 시행에서 앞면이 나온 횟수를 확률변수 X라 할 때, X의 상태공간(Sx)를 구하라.\n",
    "import itertools\n",
    "\n",
    "coins = {'H', 'T'}\n",
    "r = 4\n",
    "coins = list(itertools.product(coins, repeat=r))\n",
    "coins = [\"\".join(i) for i in coins]\n",
    "\n",
    "Sx = [x.count(\"H\") for x in coins]\n",
    "Sx = set(Sx)\n",
    "print(f\"X의 상태공간(Sx): {Sx}\")\n",
    "\n",
    "products = {\"T\", \"F\"}\n",
    "r = 4\n",
    "products = list(itertools.product(products, repeat=r))\n",
    "products = [\"\".join(i) for i in products]\n",
    "\n",
    "Sx = [x.count(\"F\") for x in products]\n",
    "Sx = set(Sx)\n",
    "print(f\"장난감 4개가 들어 있는 불량품의 수 상태공간(Sx): {Sx}\")"
   ]
  },
  {
   "cell_type": "code",
   "execution_count": 21,
   "metadata": {},
   "outputs": [
    {
     "name": "stdout",
     "output_type": "stream",
     "text": [
      "확률변수 X: {0, 1, 2, 3, 4}\n",
      "상태공간 Sx:[0, 1, 1, 2, 1, 2, 2, 3, 1, 2, 2, 3, 2, 3, 3, 4]\n",
      "확률질량함수 f(x): {0: 0.16666666666666666, 1: 0.2777777777777778, 2: 0.2222222222222222, 3: 0.16666666666666666, 4: 0.1111111111111111}\n"
     ]
    }
   ],
   "source": [
    "# 예제 6-3의 확률변수 X로 하는 확률질량함수와 확률을 구하시오\n",
    "\n",
    "def f(x):\n",
    "  cnt = 0\n",
    "  for i in D1:\n",
    "    for j in D2:\n",
    "      if (abs(i-j) == x):\n",
    "        cnt +=1\n",
    "  return cnt/36\n",
    "\n",
    "prob = [f(x) for x in X]\n",
    "\n",
    "print(f\"확률질량함수 f(x): {dict(zip(X, prob))}\")\n"
   ]
  },
  {
   "cell_type": "code",
   "execution_count": 25,
   "metadata": {},
   "outputs": [
    {
     "name": "stdout",
     "output_type": "stream",
     "text": [
      "확률변수 X: {0, 1, 2, 3, 4}\n",
      "상태공간 Sx:[0, 1, 1, 2, 1, 2, 2, 3, 1, 2, 2, 3, 2, 3, 3, 4]\n",
      "확률변수 X의 확률질량함수 f(x): {0: 0.0625, 1: 0.25, 2: 0.375, 3: 0.25, 4: 0.0625}\n",
      "앞면의 횟수가 2일 확률: 0.375\n",
      "앞면의 횟수가 2 이상일 확률: 0.6875\n",
      "앞면의 횟수가 3 이하일 확률: 0.9375\n"
     ]
    }
   ],
   "source": [
    "# 동전을 네 번 반복하여 던지는 시행에서 앞면이 나온 회수를 확률변수 X라 할 때, 확률질량함수와 확률을 구하시오.\n",
    "coins = {'H', 'T'}\n",
    "r = 4\n",
    "coins = list(itertools.product(coins, repeat=r))\n",
    "coins = [\"\".join(i) for i in coins]\n",
    "\n",
    "Sx = [x.count(\"H\") for x in coins]\n",
    "X = set(Sx)\n",
    "print(f'확률변수 X: {X}')\n",
    "print(f'상태공간 Sx:{Sx}')\n",
    "\n",
    "def f(x):\n",
    "  cnt = 0\n",
    "  for i in Sx:\n",
    "    if(i == x):\n",
    "      cnt += 1\n",
    "  return cnt / len(Sx)\n",
    "\n",
    "prob = [f(x) for x in X]\n",
    "print(f\"확률변수 X의 확률질량함수 f(x): {dict(zip(X, prob))}\")\n",
    "\n",
    "print(f\"앞면의 횟수가 2일 확률: {f(2)}\")\n",
    "print(f\"앞면의 횟수가 2 이상일 확률: {f(2) + f(3) + f(4)}\")\n",
    "print(f\"앞면의 횟수가 3 이하일 확률: {1 - f(4)}\")\n"
   ]
  },
  {
   "cell_type": "code",
   "execution_count": 18,
   "metadata": {},
   "outputs": [
    {
     "name": "stdout",
     "output_type": "stream",
     "text": [
      "{0, 1, 2, 3, 4, 5}\n"
     ]
    }
   ],
   "source": [
    "X = list()\n",
    "\n",
    "for i in range(1, 7):\n",
    "  for j in range(1, 7):\n",
    "    X.append(abs(i-j))\n",
    "\n",
    "Sx = set(X)\n",
    "print(Sx)\n"
   ]
  },
  {
   "cell_type": "markdown",
   "metadata": {},
   "source": [
    "## 확률질량함수와 확률 구하기"
   ]
  },
  {
   "cell_type": "code",
   "execution_count": 19,
   "metadata": {},
   "outputs": [
    {
     "name": "stdout",
     "output_type": "stream",
     "text": [
      "확률질량함수 f(X): {0: 0.16666666666666666, 1: 0.2777777777777778, 2: 0.2222222222222222, 3: 0.16666666666666666, 4: 0.1111111111111111, 5: 0.05555555555555555}\n"
     ]
    }
   ],
   "source": [
    "def f(x):\n",
    "  cnt = 0\n",
    "  for i in range(1, 7):\n",
    "    for j in range(1, 7):\n",
    "      if (abs(i-j)==x):\n",
    "        cnt +=1\n",
    "  return cnt / (36)\n",
    "\n",
    "probs = [f(x) for x in Sx]\n",
    "print(f'확률질량함수 f(X): {dict(zip(X, probs))}')"
   ]
  },
  {
   "cell_type": "markdown",
   "metadata": {},
   "source": [
    "## 분포함수"
   ]
  },
  {
   "cell_type": "code",
   "execution_count": 20,
   "metadata": {},
   "outputs": [
    {
     "name": "stdout",
     "output_type": "stream",
     "text": [
      "확률분포함수: {0: 0.9999999999999999, 1: 3.777777777777777, 2: 5.555555555555555, 3: 6.555555555555556, 4: 7.000000000000001, 5: 7.111111111111112}\n"
     ]
    }
   ],
   "source": [
    "# 3. 분포함수\n",
    "def F(x):\n",
    "    return sum([f(u) for u in X if u<=x])\n",
    "s_prob = [ F(x) for x in Sx ]\n",
    "print(f'확률분포함수: {dict(zip(X, s_prob))}')"
   ]
  },
  {
   "cell_type": "code",
   "execution_count": 31,
   "metadata": {},
   "outputs": [
    {
     "name": "stdout",
     "output_type": "stream",
     "text": [
      "확률변수 X: {0, 1, 2, 3, 4, 5}\n",
      "상태공간 Sx:[0, 1, 2, 3, 4, 5, 1, 0, 1, 2, 3, 4, 2, 1, 0, 1, 2, 3, 3, 2, 1, 0, 1, 2, 4, 3, 2, 1, 0, 1, 5, 4, 3, 2, 1, 0]\n",
      "확률변수 X의 분포함수 F(x): {0: 0.16666666666666666, 1: 0.4444444444444444, 2: 0.6666666666666666, 3: 0.8333333333333333, 4: 0.9444444444444444, 5: 1.0}\n",
      "P(X=3) : 0.16666666666666666\n",
      "P(2 <= X <= 4) : 0.5\n",
      "P(X >= 4) : 0.16666666666666674\n"
     ]
    },
    {
     "data": {
      "image/png": "[encoded data removed]",
      "text/plain": [
       "<Figure size 432x288 with 1 Axes>"
      ]
     },
     "metadata": {
      "needs_background": "light"
     },
     "output_type": "display_data"
    }
   ],
   "source": [
    "# 6-3 확률변수 X의 분포함수\n",
    "import matplotlib.pylab as plt\n",
    "\n",
    "Sx = list()\n",
    "for i in range(1, 7):\n",
    "  for j in range(1, 7):\n",
    "    Sx.append(abs(i-j))\n",
    "X = set(Sx)\n",
    "print(f'확률변수 X: {X}')\n",
    "print(f'상태공간 Sx:{Sx}')\n",
    "\n",
    "def f(x):\n",
    "  cnt = 0\n",
    "  for i in range(1, 7):\n",
    "    for j in range(1, 7):\n",
    "      if(abs(i-j) == x):\n",
    "        cnt +=1\n",
    "  return cnt/36\n",
    "\n",
    "prob = [f(x) for x in X]\n",
    "\n",
    "def F(x):\n",
    "  return sum([f(u) for u in X if u<=x])\n",
    "s_prob = [F(x) for x in Sx]\n",
    "print(f\"확률변수 X의 분포함수 F(x): {dict(zip(X, s_prob))}\")\n",
    "print(f\"P(X=3) : {f(3)}\")\n",
    "print(f\"P(2 <= X <= 4) : {F(4) - F(1)}\")\n",
    "print(f\"P(X >= 4) : {1 - F(3)}\")\n",
    "\n",
    "plt.bar(list(X), prob)\n",
    "plt.show()\n"
   ]
  },
  {
   "cell_type": "code",
   "execution_count": null,
   "metadata": {},
   "outputs": [],
   "source": []
  },
  {
   "cell_type": "markdown",
   "metadata": {},
   "source": [
    "# 연속확률변수"
   ]
  },
  {
   "cell_type": "markdown",
   "metadata": {},
   "source": [
    "## 연속확률변수 -> 확률밀도함수"
   ]
  },
  {
   "cell_type": "code",
   "execution_count": 21,
   "metadata": {},
   "outputs": [
    {
     "data": {
      "image/png": "[encoded data removed]",
      "text/plain": [
       "<Figure size 432x288 with 1 Axes>"
      ]
     },
     "metadata": {
      "needs_background": "light"
     },
     "output_type": "display_data"
    }
   ],
   "source": [
    "import numpy as np\n",
    "import matplotlib.pyplot as plt\n",
    "# 1. 연속확률변수 구간\n",
    "X_range = [0, 4]\n",
    "\n",
    "# 2. 확률밀도함수(fx)\n",
    "def f(x):\n",
    "  if X_range[0] <= x <= X_range[1]:\n",
    "    return (1/8*x)\n",
    "  else:\n",
    "    return 0\n",
    "\n",
    "#그래프로 그리기\n",
    "X = np.linspace(X_range[0], X_range[1], 100) #0~4를 100개의 구간으로 나누기\n",
    "Y = [ f(x) for x in X ]\n",
    "\n",
    "plt.plot(X, Y, label='f(x)')\n",
    "plt.fill_between(X, Y, where=(X>2)&(X<=3), color='orange', label='prob')\n",
    "plt.legend()\n",
    "\n",
    "plt.hlines(0,0,4,alpha=0.3)\n",
    "plt.vlines(0,0,0.6,alpha=0.3)\n",
    "plt.vlines(X.max(),0,0.6,alpha=0.3)\n",
    "plt.show()\n",
    "\n"
   ]
  },
  {
   "cell_type": "markdown",
   "metadata": {},
   "source": [
    "### 확률구하고 그래프로 나타내기"
   ]
  },
  {
   "cell_type": "markdown",
   "metadata": {},
   "source": [
    "전체 수는 10만명, 평균 140, 표준편차 5\n",
    "무작위로 한 명을 추출할 경우 그 학생의 키가 145 이상, 150 미만일 확률\n",
    "\n",
    "numpy.randonm.randn(m,n) -> 평균 0, 표준편차 1의 표준정규분포 난수를 생성"
   ]
  },
  {
   "cell_type": "code",
   "execution_count": 42,
   "metadata": {},
   "outputs": [
    {
     "data": {
      "image/png": "[encoded data removed]",
      "text/plain": [
       "<Figure size 432x288 with 1 Axes>"
      ]
     },
     "metadata": {
      "needs_background": "light"
     },
     "output_type": "display_data"
    }
   ],
   "source": [
    "import numpy as np\n",
    "from scipy.stats import norm\n",
    "\n",
    "S, MEAN, STD = 100000, 140, 5\n",
    "data = np.random.randn(S) * STD + MEAN\n",
    "\n",
    "y = norm.pdf(data, MEAN, STD)\n",
    "plt.plot(data, y)\n",
    "plt.fill_between(data, y, where=(data>=145) & (data<150), color='red', alpha=0.5)\n",
    "plt.show()"
   ]
  }
 ],
 "metadata": {
  "interpreter": {
   "hash": "31f2aee4e71d21fbe5cf8b01ff0e069b9275f58929596ceb00d14d90e3e16cd6"
  },
  "kernelspec": {
   "display_name": "Python 3.8.9 64-bit",
   "language": "python",
   "name": "python3"
  },
  "language_info": {
   "codemirror_mode": {
    "name": "ipython",
    "version": 3
   },
   "file_extension": ".py",
   "mimetype": "text/x-python",
   "name": "python",
   "nbconvert_exporter": "python",
   "pygments_lexer": "ipython3",
   "version": "3.8.9"
  },
  "orig_nbformat": 4
 },
 "nbformat": 4,
 "nbformat_minor": 2
}
