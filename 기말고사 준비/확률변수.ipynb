{
 "cells": [
  {
   "cell_type": "markdown",
   "metadata": {},
   "source": [
    "# 이산확률변수"
   ]
  },
  {
   "cell_type": "markdown",
   "metadata": {},
   "source": [
    "## 이산확률변수 -> 확률질량함수"
   ]
  },
  {
   "cell_type": "code",
   "execution_count": 17,
   "metadata": {},
   "outputs": [
    {
     "name": "stdout",
     "output_type": "stream",
     "text": [
      "동전 4번 던지는 상태공간(Sx): ['TTTT', 'TTTH', 'TTHT', 'TTHH', 'THTT', 'THTH', 'THHT', 'THHH', 'HTTT', 'HTTH', 'HTHT', 'HTHH', 'HHTT', 'HHTH', 'HHHT', 'HHHH']\n",
      "확률변수(X): [0, 1, 2, 3, 4]\n",
      "확률변수 X의 확률: {0: 0.0625, 1: 0.25, 2: 0.375, 3: 0.25, 4: 0.0625}\n",
      "(b)앞면의 횟수가 2일 확률: 0.375\n",
      "(c)앞면의 횟수가 2 이상일 확률: 0.6875\n",
      "(c)앞면의 횟수가 3 이하일 확률: 0.9375\n"
     ]
    }
   ],
   "source": [
    "import itertools\n",
    "\n",
    "coin = {'H', 'T'}\n",
    "r = 4\n",
    "\n",
    "#상태공간(Sx)\n",
    "coins = list(itertools.product(coin, repeat=r))\n",
    "coins = [ \"\".join(i) for i in coins]\n",
    "print(f'동전 {r}번 던지는 상태공간(Sx): {coins}')\n",
    "\n",
    "#확률변수 x\n",
    "S = [x.count(\"H\") for x in coins]\n",
    "X = list(set(S))\n",
    "print(f'확률변수(X): {X}')\n",
    "\n",
    "#확률질량함수 f(x)\n",
    "def f(x):\n",
    "  return S.count(x) / len(coins)\n",
    "\n",
    "#확률\n",
    "prob = [ f(x) for x in X]\n",
    "print(f'확률변수 X의 확률: {dict(zip(X, prob))}')\n",
    "\n",
    "#확률구하기\n",
    "print(f'(b)앞면의 횟수가 2일 확률: {f(2)}')\n",
    "print(f'(c)앞면의 횟수가 2 이상일 확률: {sum([ f(x) for x in range(2, len(X)) ])}')\n",
    "print(f'(c)앞면의 횟수가 3 이하일 확률: {sum([ f(x) for x in range(3, -1, -1) ])}')\n"
   ]
  },
  {
   "cell_type": "code",
   "execution_count": 18,
   "metadata": {},
   "outputs": [
    {
     "name": "stdout",
     "output_type": "stream",
     "text": [
      "{0, 1, 2, 3, 4, 5}\n"
     ]
    }
   ],
   "source": [
    "X = list()\n",
    "\n",
    "for i in range(1, 7):\n",
    "  for j in range(1, 7):\n",
    "    X.append(abs(i-j))\n",
    "\n",
    "Sx = set(X)\n",
    "print(Sx)\n"
   ]
  },
  {
   "cell_type": "markdown",
   "metadata": {},
   "source": [
    "## 확률질량함수와 확률 구하기"
   ]
  },
  {
   "cell_type": "code",
   "execution_count": 19,
   "metadata": {},
   "outputs": [
    {
     "name": "stdout",
     "output_type": "stream",
     "text": [
      "확률질량함수 f(X): {0: 0.16666666666666666, 1: 0.2777777777777778, 2: 0.2222222222222222, 3: 0.16666666666666666, 4: 0.1111111111111111, 5: 0.05555555555555555}\n"
     ]
    }
   ],
   "source": [
    "def f(x):\n",
    "  cnt = 0\n",
    "  for i in range(1, 7):\n",
    "    for j in range(1, 7):\n",
    "      if (abs(i-j)==x):\n",
    "        cnt +=1\n",
    "  return cnt / (36)\n",
    "\n",
    "probs = [f(x) for x in Sx]\n",
    "print(f'확률질량함수 f(X): {dict(zip(X, probs))}')"
   ]
  },
  {
   "cell_type": "markdown",
   "metadata": {},
   "source": [
    "## 분포함수"
   ]
  },
  {
   "cell_type": "code",
   "execution_count": 20,
   "metadata": {},
   "outputs": [
    {
     "name": "stdout",
     "output_type": "stream",
     "text": [
      "확률분포함수: {0: 0.9999999999999999, 1: 3.777777777777777, 2: 5.555555555555555, 3: 6.555555555555556, 4: 7.000000000000001, 5: 7.111111111111112}\n"
     ]
    }
   ],
   "source": [
    "# 3. 분포함수\n",
    "def F(x):\n",
    "    return sum([f(u) for u in X if u<=x])\n",
    "s_prob = [ F(x) for x in Sx ]\n",
    "print(f'확률분포함수: {dict(zip(X, s_prob))}')"
   ]
  },
  {
   "cell_type": "markdown",
   "metadata": {},
   "source": [
    "# 연속확률변수"
   ]
  },
  {
   "cell_type": "markdown",
   "metadata": {},
   "source": [
    "## 연속확률변수 -> 확률밀도함수"
   ]
  },
  {
   "cell_type": "code",
   "execution_count": 21,
   "metadata": {},
   "outputs": [
    {
     "data": {
      "image/png": "[encoded data removed]",
      "text/plain": [
       "<Figure size 432x288 with 1 Axes>"
      ]
     },
     "metadata": {
      "needs_background": "light"
     },
     "output_type": "display_data"
    }
   ],
   "source": [
    "import numpy as np\n",
    "import matplotlib.pyplot as plt\n",
    "# 1. 연속확률변수 구간\n",
    "X_range = [0, 4]\n",
    "\n",
    "# 2. 확률밀도함수(fx)\n",
    "def f(x):\n",
    "  if X_range[0] <= x <= X_range[1]:\n",
    "    return (1/8*x)\n",
    "  else:\n",
    "    return 0\n",
    "\n",
    "#그래프로 그리기\n",
    "X = np.linspace(X_range[0], X_range[1], 100) #0~4를 100개의 구간으로 나누기\n",
    "Y = [ f(x) for x in X ]\n",
    "\n",
    "plt.plot(X, Y, label='f(x)')\n",
    "plt.fill_between(X, Y, where=(X>2)&(X<=3), color='orange', label='prob')\n",
    "plt.legend()\n",
    "\n",
    "plt.hlines(0,0,4,alpha=0.3)\n",
    "plt.vlines(0,0,0.6,alpha=0.3)\n",
    "plt.vlines(X.max(),0,0.6,alpha=0.3)\n",
    "plt.show()\n",
    "\n"
   ]
  },
  {
   "cell_type": "markdown",
   "metadata": {},
   "source": [
    "### 확률구하고 그래프로 나타내기"
   ]
  },
  {
   "cell_type": "markdown",
   "metadata": {},
   "source": [
    "전체 수는 10만명, 평균 140, 표준편차 5\n",
    "무작위로 한 명을 추출할 경우 그 학생의 키가 145 이상, 150 미만일 확률\n",
    "\n",
    "numpy.randonm.randn(m,n) -> 평균 0, 표준편차 1의 표준정규분포 난수를 생성"
   ]
  },
  {
   "cell_type": "code",
   "execution_count": 22,
   "metadata": {},
   "outputs": [
    {
     "name": "stdout",
     "output_type": "stream",
     "text": [
      "140.01346151720108\n",
      "4.982282969156924\n"
     ]
    }
   ],
   "source": [
    "S, MEAN, STD = 100000, 140, 5\n",
    "data = MEAN + np.random.randn(S) * STD\n",
    "\n",
    "print(data.mean())\n",
    "print(data.std())\n"
   ]
  }
 ],
 "metadata": {
  "interpreter": {
   "hash": "31f2aee4e71d21fbe5cf8b01ff0e069b9275f58929596ceb00d14d90e3e16cd6"
  },
  "kernelspec": {
   "display_name": "Python 3.8.9 64-bit",
   "language": "python",
   "name": "python3"
  },
  "language_info": {
   "codemirror_mode": {
    "name": "ipython",
    "version": 3
   },
   "file_extension": ".py",
   "mimetype": "text/x-python",
   "name": "python",
   "nbconvert_exporter": "python",
   "pygments_lexer": "ipython3",
   "version": "3.8.9"
  },
  "orig_nbformat": 4
 },
 "nbformat": 4,
 "nbformat_minor": 2
}
