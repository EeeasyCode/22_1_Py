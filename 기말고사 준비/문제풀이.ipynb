{
 "cells": [
  {
   "cell_type": "code",
   "execution_count": 18,
   "metadata": {},
   "outputs": [],
   "source": [
    "import warnings\n",
    "warnings.filterwarnings('ignore')\n",
    "\n",
    "import numpy as np\n",
    "import scipy.stats as sp\n",
    "import matplotlib.pyplot as plt\n",
    "plt.rcParams['font.family'] = 'AppleGothic'\n",
    "plt.rcParams['axes.unicode_minus'] = False     # 그래프에서 (-)숫자표시"
   ]
  },
  {
   "cell_type": "code",
   "execution_count": 14,
   "metadata": {},
   "outputs": [],
   "source": [
    "# 기댓값\n",
    "def E(X):\n",
    "    x_set, f = X\n",
    "    return np.sum([x_k * f(x_k) for x_k in x_set])\n",
    "\n",
    "# 분산\n",
    "def V(X):\n",
    "    x_set, f = X\n",
    "    mean = E(X)\n",
    "    return np.sum([(x_k - mean)**2 * f(x_k) for x_k in x_set])\n",
    "\n",
    "def check_prob(X):\n",
    "    x_set, f = X\n",
    "    prob = np.array([ f(x_k) for x_k in x_set])  \n",
    "    \n",
    "    print(f'기대값 E(X): {E(X):.4}')\n",
    "    print(f'분산   V(X): {V(X):.4}')\n",
    "\n",
    "def plot_prob(X):\n",
    "    x_set, f = X\n",
    "    prob = np.array([ f(x_k) for x_k in x_set]) \n",
    "    \n",
    "    fig = plt.figure(figsize=(10,6))\n",
    "    ax  = fig.add_subplot(111) # (1,1,1)\n",
    "    \n",
    "    ax.bar(x_set, prob, label='prob')\n",
    "    ax.vlines(E(X), 0, 1, label='mean', colors='red')  #기대값:평균\n",
    "    ax.set_xticks(np.append(x_set, E(X)))   #x축의 값 출력\n",
    "    ax.set_ylim(0, prob.max()*1.2)          #y축의 한계 지정\n",
    "    ax.legend()\n",
    "    for x, y in zip(x_set, prob):\n",
    "        ax.text(x, y, round(y,4))\n",
    "    \n",
    "    plt.show()  "
   ]
  },
  {
   "cell_type": "markdown",
   "metadata": {},
   "source": [
    "# 베르누이 분포"
   ]
  },
  {
   "cell_type": "code",
   "execution_count": 15,
   "metadata": {},
   "outputs": [
    {
     "name": "stdout",
     "output_type": "stream",
     "text": [
      "기대값 E(X): 0.25\n",
      "분산   V(X): 0.1875\n"
     ]
    },
    {
     "data": {
      "image/png": "[encoded data removed]",
      "text/plain": [
       "<Figure size 720x432 with 1 Axes>"
      ]
     },
     "metadata": {
      "needs_background": "light"
     },
     "output_type": "display_data"
    },
    {
     "data": {
      "text/plain": [
       "(array([0, 1]), <function __main__.Bern.<locals>.f(x)>)"
      ]
     },
     "execution_count": 15,
     "metadata": {},
     "output_type": "execute_result"
    }
   ],
   "source": [
    "def Bern(p):\n",
    "    x_set = np.array([0,1])\n",
    "    \n",
    "    def f(x):\n",
    "        if x in x_set:\n",
    "            return p**x * (1-p)**(1-x)\n",
    "        else:\n",
    "            return 0\n",
    "\n",
    "    return x_set, f\n",
    "\n",
    "p = 0.25\n",
    "x = Bern(p)\n",
    "check_prob(x)\n",
    "plot_prob(x)\n",
    "x\n"
   ]
  },
  {
   "cell_type": "code",
   "execution_count": 21,
   "metadata": {},
   "outputs": [
    {
     "name": "stdout",
     "output_type": "stream",
     "text": [
      "<bound method rv_frozen.mean of <scipy.stats._distn_infrastructure.rv_frozen object at 0x12d5cdf40>>\n",
      "<bound method rv_frozen.std of <scipy.stats._distn_infrastructure.rv_frozen object at 0x12d5cdf40>>\n"
     ]
    }
   ],
   "source": []
  },
  {
   "cell_type": "code",
   "execution_count": 25,
   "metadata": {},
   "outputs": [
    {
     "name": "stdout",
     "output_type": "stream",
     "text": [
      "X의 평균: 0.25, x의 분산: 0.1875\n"
     ]
    },
    {
     "data": {
      "image/png": "[encoded data removed]",
      "text/plain": [
       "<Figure size 432x288 with 1 Axes>"
      ]
     },
     "metadata": {
      "needs_background": "light"
     },
     "output_type": "display_data"
    }
   ],
   "source": [
    "mu = 1/4\n",
    "rv = sp.bernoulli(mu)\n",
    "print(f\"X의 평균: {mu}, x의 분산: {mu*(1-mu)}\")\n",
    "\n",
    "# 확률질량함수 pmf() 메서드 사용해서 그래프 그리기\n",
    "xx = [0, 1]\n",
    "plt.bar(xx, rv.pmf(xx))\n",
    "plt.xlim(-1, 2)\n",
    "plt.ylim(0, 1)\n",
    "plt.xticks([0,1], ['x=0','x=1'])\n",
    "plt.xlabel('표본값')\n",
    "plt.ylabel('P(x)')\n",
    "plt.title('베르누이확률변수의 확률질량함수')\n",
    "plt.grid()\n",
    "plt.show()"
   ]
  },
  {
   "cell_type": "markdown",
   "metadata": {},
   "source": [
    "# 이항분포"
   ]
  },
  {
   "cell_type": "code",
   "execution_count": 17,
   "metadata": {},
   "outputs": [
    {
     "name": "stdout",
     "output_type": "stream",
     "text": [
      "0.4823\n",
      "0.4823\n"
     ]
    }
   ],
   "source": [
    "n = 10\n",
    "p = 0.5\n",
    "x = 3\n",
    "\n",
    "from scipy.special import comb\n",
    "\n",
    "def prob(n, p, x):    \n",
    "    return comb(n,x) * p**x * (1-p)**(n-x)\n",
    "\n",
    "a = prob(n, p, x)\n",
    "b = prob(4, 1/6, 0)\n",
    "\n",
    "print(round(b, 4))\n",
    "print(round(625/1296, 4))"
   ]
  },
  {
   "cell_type": "code",
   "execution_count": null,
   "metadata": {},
   "outputs": [
    {
     "name": "stdout",
     "output_type": "stream",
     "text": [
      "0.2765\n"
     ]
    }
   ],
   "source": [
    "p = 0.4\n",
    "n = 6\n",
    "x = 3\n",
    "\n",
    "a = prob(n, p, x)\n",
    "print(round(a, 4))\n",
    "\n"
   ]
  },
  {
   "cell_type": "code",
   "execution_count": null,
   "metadata": {},
   "outputs": [
    {
     "name": "stdout",
     "output_type": "stream",
     "text": [
      "기대값 E(X): 1.25\n",
      "분산   V(X): 0.9375\n",
      "0.6328\n",
      "0.2637\n",
      "0.8965\n",
      "0.0156\n"
     ]
    }
   ],
   "source": [
    "p = 0.25\n",
    "n = 5\n",
    "def Bin(n, p):\n",
    "    x_set = np.arange(n+1)\n",
    "    \n",
    "    def f(x):\n",
    "        if x in x_set:\n",
    "            return comb(n,x) * p**x * (1-p)**(n-x)\n",
    "        else:\n",
    "            return 0\n",
    "        \n",
    "    return x_set, f\n",
    "\n",
    "a = Bin(n, p)\n",
    "check_prob(a)\n",
    "\n",
    "b = sp.stats.binom(n, p)\n",
    "f1 = b.cdf(round(1, 4))\n",
    "f2 = b.pmf(2)\n",
    "f3 = b.cdf(2)\n",
    "f4 = b.pmf(round(4, 4)) + b.pmf(round(5, 4))\n",
    "print(round(f1, 4))\n",
    "print(round(f2, 4))\n",
    "print(round(f3, 4))\n",
    "print(round(f4, 4))\n"
   ]
  },
  {
   "cell_type": "code",
   "execution_count": null,
   "metadata": {},
   "outputs": [
    {
     "name": "stdout",
     "output_type": "stream",
     "text": [
      "20.13%\n",
      "0.9245\n"
     ]
    }
   ],
   "source": [
    "p=4/5\n",
    "n=10\n",
    "x=7\n",
    "a = prob(n,p,x)\n",
    "print(f'{round(a*100, 2)}%')\n",
    "\n",
    "p=0.05\n",
    "n=20\n",
    "b=sp.stats.binom(n,p)\n",
    "prob_ = b.pmf(0) + b.pmf(1) + b.pmf(2)\n",
    "print(round(prob_, 4))"
   ]
  },
  {
   "cell_type": "code",
   "execution_count": null,
   "metadata": {},
   "outputs": [
    {
     "name": "stdout",
     "output_type": "stream",
     "text": [
      "0.8329\n"
     ]
    },
    {
     "data": {
      "image/png": "[encoded data removed]",
      "text/plain": [
       "<Figure size 432x288 with 1 Axes>"
      ]
     },
     "metadata": {
      "needs_background": "light"
     },
     "output_type": "display_data"
    },
    {
     "data": {
      "text/plain": [
       "[<matplotlib.lines.Line2D at 0x17472d460>]"
      ]
     },
     "execution_count": 57,
     "metadata": {},
     "output_type": "execute_result"
    },
    {
     "data": {
      "image/png": "[encoded data removed]",
      "text/plain": [
       "<Figure size 432x288 with 1 Axes>"
      ]
     },
     "metadata": {
      "needs_background": "light"
     },
     "output_type": "display_data"
    }
   ],
   "source": [
    "p = 0.2\n",
    "n = 15\n",
    "a = sp.stats.binom(n,p)\n",
    "prob_ = 1 - (a.pmf(0) + a.pmf(1))\n",
    "print(round(prob_, 4))\n",
    "\n",
    "xx = np.arange(n + 1)\n",
    "plt.bar(xx, a.pmf(xx), align='center')\n",
    "plt.xlabel(\"표본값\")\n",
    "plt.ylabel('$P(x)$')\n",
    "plt.title('이항분포의 확률질량함수')\n",
    "plt.grid()\n",
    "plt.show()\n",
    "\n",
    "plt.plot(xx, a.pmf(xx))"
   ]
  },
  {
   "cell_type": "code",
   "execution_count": null,
   "metadata": {},
   "outputs": [
    {
     "name": "stdout",
     "output_type": "stream",
     "text": [
      "0.6328\n",
      "0.2637\n",
      "0.8965\n",
      "0.0156\n"
     ]
    }
   ],
   "source": [
    "n, p = 5, 0.25\n",
    "rv = sp.stats.binom(n,p)\n",
    "a = rv.cdf(1)\n",
    "b = rv.pmf(2)\n",
    "c = rv.cdf(2)\n",
    "d = 1 - rv.cdf(3)\n",
    "\n",
    "print(round(a , 4))\n",
    "print(round(b , 4))\n",
    "print(round(c , 4))\n",
    "print(round(d , 4))\n"
   ]
  },
  {
   "cell_type": "code",
   "execution_count": null,
   "metadata": {},
   "outputs": [
    {
     "name": "stdout",
     "output_type": "stream",
     "text": [
      "0.9727\n",
      "0.0865\n",
      "0.1138\n"
     ]
    }
   ],
   "source": [
    "n, p = 8, 0.25\n",
    "rv = sp.stats.binom(n, p)\n",
    "\n",
    "a = rv.cdf(4)\n",
    "b = rv.pmf(4)\n",
    "c = 1 - rv.cdf(3)\n",
    "\n",
    "print(round(a , 4))\n",
    "print(round(b , 4))\n",
    "print(round(c , 4))"
   ]
  },
  {
   "cell_type": "markdown",
   "metadata": {},
   "source": [
    "# 기하분포"
   ]
  },
  {
   "cell_type": "code",
   "execution_count": null,
   "metadata": {},
   "outputs": [],
   "source": [
    "def Ge(p):\n",
    "    x_set = np.arange(1, 30)\n",
    "    def f(x):\n",
    "        if x in x_set:\n",
    "            return p * (1-p) ** (x-1)\n",
    "        else:\n",
    "            return 0\n",
    "    return x_set, f"
   ]
  },
  {
   "cell_type": "code",
   "execution_count": null,
   "metadata": {},
   "outputs": [
    {
     "name": "stdout",
     "output_type": "stream",
     "text": [
      "0.03125\n",
      "0.11574074074074076\n",
      "0.038689046874999994\n",
      "0.578125\n",
      "0.7225\n"
     ]
    }
   ],
   "source": [
    "p = 0.5\n",
    "\n",
    "rv = sp.stats.geom(p)\n",
    "a = rv.pmf(5)\n",
    "print(a)\n",
    "\n",
    "p = 1/6\n",
    "\n",
    "rv = sp.stats.geom(p)\n",
    "a = rv.pmf(3)\n",
    "print(a)\n",
    "\n",
    "p = 0.05\n",
    "\n",
    "rv = sp.stats.geom(p)\n",
    "a = rv.pmf(6)\n",
    "print(a)\n",
    "\n",
    "p = 0.25\n",
    "\n",
    "rv = sp.stats.geom(p)\n",
    "a = rv.cdf(3)\n",
    "print(a)\n",
    "\n",
    "p = 0.15\n",
    "\n",
    "rv = sp.stats.geom(p)\n",
    "a = 1 - rv.cdf(2)\n",
    "print(a)"
   ]
  },
  {
   "cell_type": "markdown",
   "metadata": {},
   "source": [
    "# 포아송 분포"
   ]
  },
  {
   "cell_type": "code",
   "execution_count": null,
   "metadata": {},
   "outputs": [
    {
     "name": "stdout",
     "output_type": "stream",
     "text": [
      "0.1353352832366127\n",
      "0.034718069630684245\n",
      "0.03783327480207079\n"
     ]
    }
   ],
   "source": [
    "lam = 2\n",
    "rv = sp.stats.poisson(lam)\n",
    "a = rv.pmf(0)\n",
    "print(a)\n",
    "\n",
    "lam = 10\n",
    "rv = sp.stats.poisson(lam)\n",
    "a = rv.pmf(15)\n",
    "print(a)\n",
    "\n",
    "lam = 10\n",
    "rv = sp.stats.poisson(lam)\n",
    "a = rv.pmf(5)\n",
    "print(a)"
   ]
  },
  {
   "cell_type": "markdown",
   "metadata": {},
   "source": [
    "# 다항 분포"
   ]
  },
  {
   "cell_type": "markdown",
   "metadata": {},
   "source": []
  },
  {
   "cell_type": "code",
   "execution_count": null,
   "metadata": {},
   "outputs": [],
   "source": [
    "n = 10\n",
    "p = [1/2, 1/6, 1/6, 1/6]\n",
    "rv = sp.stats.multinomial(n, p)\n",
    "\n",
    "np.random.seed(10)\n",
    "X = rv.rvs(100)\n",
    "\n",
    "\n",
    "\n",
    "\n",
    "plt.boxplot(X)\n",
    "plt.xlabel('클래스')\n",
    "plt.ylabel('표본값')\n",
    "plt.title('다항분포의 시뮬레이션 결과')\n",
    "plt.grid()\n",
    "plt.show()"
   ]
  },
  {
   "cell_type": "markdown",
   "metadata": {},
   "source": [
    "# 연속확률분포"
   ]
  },
  {
   "cell_type": "markdown",
   "metadata": {},
   "source": [
    "## - 정규분포"
   ]
  },
  {
   "cell_type": "code",
   "execution_count": null,
   "metadata": {},
   "outputs": [],
   "source": [
    "def N(mu, sigma):\n",
    "    x_range = [-np.inf, np.inf]\n",
    "    def f(x):\n",
    "        return 1 / np.sqrt(2 *np.pi * sigma**2) *\\\n",
    "                    np.exp(-(x-mu)**2 / (2*sigma**2))\n",
    "    return x_range, f"
   ]
  },
  {
   "cell_type": "code",
   "execution_count": null,
   "metadata": {},
   "outputs": [
    {
     "name": "stdout",
     "output_type": "stream",
     "text": [
      "0.683\n"
     ]
    }
   ],
   "source": [
    "m, std = 170, 5\n",
    "rv = sp.stats.norm(m, std)\n",
    "\n",
    "a = rv.cdf(175) - rv.cdf(165)\n",
    "print(round(a, 3))"
   ]
  },
  {
   "cell_type": "code",
   "execution_count": null,
   "metadata": {},
   "outputs": [
    {
     "name": "stdout",
     "output_type": "stream",
     "text": [
      "0.954\n"
     ]
    }
   ],
   "source": [
    "m, std = 70, 8\n",
    "rv = sp.stats.norm(m, std)\n",
    "\n",
    "a = rv.cdf(86) - rv.cdf(54)\n",
    "print(round(a, 3))"
   ]
  },
  {
   "cell_type": "code",
   "execution_count": null,
   "metadata": {},
   "outputs": [
    {
     "data": {
      "image/png": "[encoded data removed]",
      "text/plain": [
       "<Figure size 432x288 with 1 Axes>"
      ]
     },
     "metadata": {
      "needs_background": "light"
     },
     "output_type": "display_data"
    }
   ],
   "source": [
    "# 확률밀도함수와 그래프\n",
    "\n",
    "xx=np.linspace(-10, 10, 100)\n",
    "plt.plot(xx, rv.pdf(xx))\n",
    "plt.grid()\n",
    "plt.show()"
   ]
  },
  {
   "cell_type": "code",
   "execution_count": null,
   "metadata": {},
   "outputs": [
    {
     "name": "stdout",
     "output_type": "stream",
     "text": [
      "N(1, 4)의 평균은 1.0, 표준편차는 2.0 이다.\n"
     ]
    }
   ],
   "source": [
    "#N(1, 4) N(-1, 9) N(2, 1) N(8, 16)\n",
    "M, STD = 1, 4\n",
    "\n",
    "rv = sp.stats.norm(M, np.sqrt(STD))\n",
    "a_m = rv.mean()\n",
    "a_s = rv.std()\n",
    "print(f'N(1, 4)의 평균은 {a_m}, 표준편차는 {a_s} 이다.')\n",
    "\n",
    "\n",
    " \n",
    "\n"
   ]
  },
  {
   "cell_type": "code",
   "execution_count": null,
   "metadata": {},
   "outputs": [
    {
     "name": "stdout",
     "output_type": "stream",
     "text": [
      "0.0735\n",
      "0.4951\n",
      "0.0207\n",
      "0.4147\n",
      "0.909\n",
      "0.0053\n"
     ]
    }
   ],
   "source": [
    "rv = sp.stats.norm(0, 1)\n",
    "\n",
    "a = rv.cdf(-1.45)\n",
    "b = rv.cdf(2.58) - 0.5\n",
    "c = 1 - rv.cdf(2.04)\n",
    "d = rv.cdf(1.37) - 0.5\n",
    "e = (rv.cdf(1.69)) * 2 - 1\n",
    "f = (1-rv.cdf(2.79)) * 2 \n",
    "\n",
    "print(round(a, 4))\n",
    "print(round(b, 4))\n",
    "print(round(c, 4))\n",
    "print(round(d, 4))\n",
    "print(round(e, 4))\n",
    "print(round(f, 4))"
   ]
  },
  {
   "cell_type": "code",
   "execution_count": null,
   "metadata": {},
   "outputs": [
    {
     "name": "stdout",
     "output_type": "stream",
     "text": [
      "0.8962\n",
      "0.8962\n"
     ]
    }
   ],
   "source": [
    "rv = sp.stats.norm(loc=140, scale=5)\n",
    "\n",
    "a = rv.cdf(146.3)\n",
    "b = 1 - rv.cdf(133.7)\n",
    "\n",
    "print(round(a, 4))\n",
    "print(round(b, 4))"
   ]
  },
  {
   "cell_type": "code",
   "execution_count": null,
   "metadata": {},
   "outputs": [
    {
     "name": "stdout",
     "output_type": "stream",
     "text": [
      "0.8275\n"
     ]
    }
   ],
   "source": [
    "rv = sp.stats.binom(100, 1/5)\n",
    "m = rv.mean()\n",
    "std = rv.std()\n",
    "\n",
    "rv = sp.stats.norm(m, std)\n",
    "a = rv.cdf(25) - rv.cdf(14)\n",
    "print(round(a, 4))\n"
   ]
  },
  {
   "cell_type": "code",
   "execution_count": null,
   "metadata": {},
   "outputs": [
    {
     "name": "stdout",
     "output_type": "stream",
     "text": [
      "0.9235\n",
      "0.9235\n",
      "0.0675\n",
      "0.6926\n"
     ]
    }
   ],
   "source": [
    "rv = sp.stats.binom(100, 0.4)\n",
    "m = rv.mean()\n",
    "std = rv.std()\n",
    "\n",
    "rv = sp.stats.norm(m, std)\n",
    "a = rv.cdf(47)\n",
    "b = 1 - rv.cdf(33)\n",
    "c = rv.pdf(43)\n",
    "d = rv.cdf(45) - rv.cdf(35)\n",
    "\n",
    "print(round(a, 4))\n",
    "print(round(b, 4))\n",
    "print(round(c, 4))\n",
    "print(round(d, 4))\n",
    "\n",
    "\n"
   ]
  },
  {
   "cell_type": "markdown",
   "metadata": {},
   "source": [
    "## - 지수분포"
   ]
  },
  {
   "cell_type": "code",
   "execution_count": null,
   "metadata": {},
   "outputs": [
    {
     "data": {
      "text/plain": [
       "0.15351827510938593"
      ]
     },
     "execution_count": 167,
     "metadata": {},
     "output_type": "execute_result"
    }
   ],
   "source": [
    "lam = 2\n",
    "rv = sp.stats.expon(scale = 1/lam)\n",
    "rv.cdf(3)\n",
    "\n",
    "lam = 10\n",
    "rv = sp.stats.expon(scale = 1/lam)\n",
    "rv.cdf(1/60)"
   ]
  },
  {
   "cell_type": "markdown",
   "metadata": {},
   "source": [
    "## - t분포"
   ]
  },
  {
   "cell_type": "code",
   "execution_count": null,
   "metadata": {},
   "outputs": [],
   "source": []
  }
 ],
 "metadata": {
  "interpreter": {
   "hash": "31f2aee4e71d21fbe5cf8b01ff0e069b9275f58929596ceb00d14d90e3e16cd6"
  },
  "kernelspec": {
   "display_name": "Python 3.8.9 64-bit",
   "language": "python",
   "name": "python3"
  },
  "language_info": {
   "codemirror_mode": {
    "name": "ipython",
    "version": 3
   },
   "file_extension": ".py",
   "mimetype": "text/x-python",
   "name": "python",
   "nbconvert_exporter": "python",
   "pygments_lexer": "ipython3",
   "version": "3.8.9"
  },
  "orig_nbformat": 4
 },
 "nbformat": 4,
 "nbformat_minor": 2
}
