{
 "cells": [
  {
   "cell_type": "markdown",
   "metadata": {},
   "source": [
    "# 6장 확률변수"
   ]
  },
  {
   "cell_type": "code",
   "execution_count": 18,
   "metadata": {},
   "outputs": [],
   "source": [
    "import scipy.stats as sp\n",
    "import matplotlib.pyplot as plt"
   ]
  },
  {
   "cell_type": "code",
   "execution_count": 15,
   "metadata": {},
   "outputs": [
    {
     "name": "stdout",
     "output_type": "stream",
     "text": [
      "확률변수 X의 확률질량함수: {0: 0.16666666666666666, 1: 0.2777777777777778, 2: 0.2222222222222222, 3: 0.16666666666666666, 4: 0.1111111111111111, 5: 0.05555555555555555}\n",
      "확률분포함수: {0: 0.16666666666666666, 1: 0.4444444444444444, 2: 0.6666666666666666, 3: 0.8333333333333333, 4: 0.9444444444444444, 5: 1.0}\n"
     ]
    }
   ],
   "source": [
    "D1 = [1, 2, 3, 4, 5, 6]\n",
    "D2 = [1, 2, 3, 4, 5, 6]\n",
    "X = list()\n",
    "for i in D1:\n",
    "  for j in D2:\n",
    "    X.append(abs(i-j))\n",
    "X = set(X)\n",
    "\n",
    "\n",
    "def f(x):\n",
    "  cnt = 0\n",
    "  for i in D1:\n",
    "    for j in D2:\n",
    "      if (x == abs(i-j)):\n",
    "        cnt += 1\n",
    "  return cnt/36\n",
    "\n",
    "prob = [f(x) for x in X]\n",
    "print(f\"확률변수 X의 확률질량함수: {dict(zip(X, prob))}\")\n",
    "\n",
    "def F(x):\n",
    "    return sum([f(u) for u in X if u<=x])\n",
    "\n",
    "s_prob = [ F(x) for x in X ]\n",
    "print(f'확률분포함수: {dict(zip(X, s_prob))}')\n",
    "    "
   ]
  },
  {
   "cell_type": "code",
   "execution_count": 12,
   "metadata": {},
   "outputs": [
    {
     "name": "stdout",
     "output_type": "stream",
     "text": [
      "f(P=0) = 0.6666666666666667\n",
      "f(P=1) = 0.3333333333333333\n",
      "F(P<2) = 1.0\n"
     ]
    }
   ],
   "source": [
    "# 예제 7-1\n",
    "p = 1/3\n",
    "rv = sp.bernoulli(p)\n",
    "\n",
    "# 확률질량함수 pmf\n",
    "print(f\"f(P=0) = {rv.pmf(0)}\")\n",
    "print(f\"f(P=1) = {rv.pmf(1)}\")\n",
    "\n",
    "# 누적분포함수 cdf\n",
    "print(f\"F(P<2) = {rv.cdf(1)}\")"
   ]
  },
  {
   "cell_type": "code",
   "execution_count": 9,
   "metadata": {},
   "outputs": [
    {
     "data": {
      "image/png": "[encoded data removed]",
      "text/plain": [
       "<Figure size 432x288 with 1 Axes>"
      ]
     },
     "metadata": {
      "needs_background": "light"
     },
     "output_type": "display_data"
    }
   ],
   "source": [
    "xx = [0, 1]\n",
    "plt.bar(xx, rv.pmf(xx))\n",
    "plt.xlim(-1, 2)\n",
    "plt.ylim(0, 1)\n",
    "plt.xticks([0,1], ['x=0','x=1'])\n",
    "plt.xlabel('표본값')\n",
    "plt.ylabel('P(x)')\n",
    "plt.title('베르누이확률변수의 확률질량함수')\n",
    "plt.grid()\n",
    "plt.show()"
   ]
  },
  {
   "cell_type": "code",
   "execution_count": 18,
   "metadata": {},
   "outputs": [
    {
     "data": {
      "image/png": "[encoded data removed]",
      "text/plain": [
       "<Figure size 432x288 with 1 Axes>"
      ]
     },
     "metadata": {
      "needs_background": "light"
     },
     "output_type": "display_data"
    },
    {
     "name": "stdout",
     "output_type": "stream",
     "text": [
      "X의 평균: 1.2\n",
      "X의 분산: 0.84\n"
     ]
    }
   ],
   "source": [
    "# 7-2\n",
    "p, n = 0.3, 4\n",
    "rv = sp.binom(n, p)\n",
    "xx = [0,1,2,3,4]\n",
    "plt.bar(xx, rv.pmf(xx))\n",
    "plt.xlim(-1, 5)\n",
    "plt.ylim(0, 1)\n",
    "plt.xticks(xx, ['x=0','x=1', 'x=2', 'x=3', 'x=4'])\n",
    "plt.xlabel('표본값')\n",
    "plt.ylabel('P(x)')\n",
    "plt.title('베르누이확률변수의 확률질량함수')\n",
    "plt.grid()\n",
    "plt.show()\n",
    "\n",
    "print(f\"X의 평균: {p*n}\")\n",
    "print(f\"X의 분산: {p*(1-p)*n}\")"
   ]
  },
  {
   "cell_type": "code",
   "execution_count": 24,
   "metadata": {},
   "outputs": [
    {
     "name": "stdout",
     "output_type": "stream",
     "text": [
      "P(X<=1) = 0.6328125\n"
     ]
    }
   ],
   "source": [
    "# 예제 7-2\n",
    "p = 1/4\n",
    "n = 5\n",
    "rv = sp.binom(n, p)\n",
    "\n",
    "#1. P(X <= 1)\n",
    "print(f\"P(X<=1) = {rv.cdf(1)}\")"
   ]
  },
  {
   "cell_type": "code",
   "execution_count": 22,
   "metadata": {},
   "outputs": [
    {
     "name": "stdout",
     "output_type": "stream",
     "text": [
      "P(X<=1) = 0.6517\n",
      "P(X=2) = 0.2646\n",
      "P(X<3) = 0.9163\n",
      "P(X>3) = 0.0837\n"
     ]
    }
   ],
   "source": [
    "# 1. P(X<=1)\n",
    "print(f\"P(X<=1) = {round(rv.cdf(1), 4)}\")\n",
    "# 2. P(X=2)\n",
    "print(f\"P(X=2) = {round(rv.pmf(2), 4)}\")\n",
    "# 3. P(X<3)\n",
    "print(f\"P(X<3) = {round(rv.cdf(2), 4)}\")\n",
    "# 4. P(X>3)\n",
    "print(f\"P(X>3) = {1-round(rv.cdf(2), 4)}\")"
   ]
  },
  {
   "cell_type": "code",
   "execution_count": 39,
   "metadata": {},
   "outputs": [
    {
     "name": "stdout",
     "output_type": "stream",
     "text": [
      "a : 0.0735292596096484\n",
      "b : 0.4950599842422293\n",
      "c : 0.020675162866070074\n",
      "d : 0.41465654917803296\n",
      "e : 0.9089720453569003\n",
      "f : 0.005270804155809827\n"
     ]
    }
   ],
   "source": [
    "# 표준정규분포\n",
    "rv = sp.norm(0, 1)\n",
    "\n",
    "print(f\"a : {1 - rv.cdf(1.45)}\")\n",
    "print(f\"b : {rv.cdf(2.58) - 0.5}\")\n",
    "print(f\"c : {1 - rv.cdf(2.04)}\")\n",
    "print(f\"d : {rv.cdf(1.37) - 0.5}\")\n",
    "print(f\"e : {2 * (rv.cdf(1.69) - 0.5)}\")\n",
    "print(f\"f : {2*(1-rv.cdf(2.79))}\")\n",
    "\n"
   ]
  },
  {
   "cell_type": "code",
   "execution_count": 47,
   "metadata": {},
   "outputs": [
    {
     "name": "stdout",
     "output_type": "stream",
     "text": [
      "a : 0.013903447513498595\n",
      "b : 0.8384866815324579\n",
      "c : 0.006209665325776159\n",
      "a : 0.8961653188787\n",
      "b : 0.8961653188787\n"
     ]
    }
   ],
   "source": [
    "m, std = 75, 5\n",
    "rv = sp.norm(m, std)\n",
    "\n",
    "print(f\"a : {rv.cdf(64)}\")\n",
    "print(f\"b : {rv.cdf(82) - rv.cdf(68)}\")\n",
    "print(f\"c : {1 - rv.cdf(87.5)}\")\n",
    "\n"
   ]
  },
  {
   "cell_type": "code",
   "execution_count": 48,
   "metadata": {},
   "outputs": [
    {
     "name": "stdout",
     "output_type": "stream",
     "text": [
      "a : 0.8961653188787\n",
      "b : 0.8961653188787\n"
     ]
    }
   ],
   "source": [
    "m, std = 140, 5\n",
    "rv = sp.norm(m, std)\n",
    "print(f\"a : {rv.cdf(146.3)}\")\n",
    "print(f\"b : {1 - rv.cdf(133.7)}\")\n"
   ]
  },
  {
   "cell_type": "code",
   "execution_count": 51,
   "metadata": {},
   "outputs": [
    {
     "name": "stdout",
     "output_type": "stream",
     "text": [
      "0.8275430250642866\n"
     ]
    }
   ],
   "source": [
    "# 이항분포의 정규근사 \n",
    "import numpy as np\n",
    "\n",
    "# X ~ B(n, p)\n",
    "# mu = n*p , std **2 = n * p * (1-p)\n",
    "\n",
    "n, p, q = 100, 1/5, 4/5\n",
    "a, b = 14, 25\n",
    "\n",
    "m = n*p\n",
    "std = np.sqrt(n*p*q)\n",
    "rv = sp.norm(m, std)\n",
    "print(rv.cdf(b) - rv.cdf(a))"
   ]
  },
  {
   "cell_type": "code",
   "execution_count": 76,
   "metadata": {},
   "outputs": [
    {
     "name": "stdout",
     "output_type": "stream",
     "text": [
      "0.93710678768053\n",
      "0.9369916355360216\n",
      "0.6925658340726046\n"
     ]
    }
   ],
   "source": [
    "# 7-12\n",
    "n, p, q = 100, 0.4, 0.6\n",
    "m = n*p\n",
    "std = np.sqrt(n*p*q)\n",
    "\n",
    "rv1 = sp.norm(loc = m, scale = std)\n",
    "rv2 = sp.norm(0, 1)\n",
    "print(rv1.cdf(47.5))\n",
    "print(rv2.cdf(1.53))\n",
    "print(rv1.cdf(45) - rv1.cdf(35))\n"
   ]
  },
  {
   "cell_type": "code",
   "execution_count": 60,
   "metadata": {},
   "outputs": [
    {
     "data": {
      "text/plain": [
       "0.016457552675704035"
      ]
     },
     "execution_count": 60,
     "metadata": {},
     "output_type": "execute_result"
    }
   ],
   "source": [
    "# 7-11\n",
    "n, p, q = 720, 0.12, 0.88\n",
    "a,b = 105, 145\n",
    "m = n*p\n",
    "std = np.sqrt(n*p*q)\n",
    "\n",
    "rv = sp.norm(loc = m, scale = std)\n",
    "b = rv.cdf(b) - rv.cdf(a)\n",
    "b\n"
   ]
  },
  {
   "cell_type": "code",
   "execution_count": 73,
   "metadata": {},
   "outputs": [
    {
     "name": "stdout",
     "output_type": "stream",
     "text": [
      "확률: 0.0165\n"
     ]
    }
   ],
   "source": [
    "#𝑍 ~ N(0,1) 정규화를 따른 정규분포\n",
    "n, p, q = 720, 0.12, 0.88\n",
    "a,b = 105, 145\n",
    "import scipy.integrate as integrate\n",
    "def N(mu, sigma):\n",
    "    x_range = [-np.inf, np.inf]\n",
    "    def f(x):\n",
    "        return 1 / np.sqrt(2 *np.pi * sigma**2) *\\\n",
    "                    np.exp(-(x-mu)**2 / (2*sigma**2))\n",
    "    return x_range, f\n",
    "\n",
    "def get_prob(X, a, b):\n",
    "    x_range, f = X\n",
    "    \n",
    "    prob_sum = np.round(integrate.quad(f, a, b), 4)\n",
    "    \n",
    "    print(f'확률: {prob_sum[0]}')\n",
    "\n",
    "X=N(n*p, np.sqrt(n*p*q))\n",
    "get_prob(X,a,b)"
   ]
  },
  {
   "cell_type": "code",
   "execution_count": 74,
   "metadata": {},
   "outputs": [
    {
     "name": "stdout",
     "output_type": "stream",
     "text": [
      "확률: 0.6926\n"
     ]
    }
   ],
   "source": [
    "n, p, q = 100, 0.4, 0.6\n",
    "a, b = 35, 45\n",
    "X=N(n*p, np.sqrt(n*p*q))\n",
    "get_prob(X,a,b)"
   ]
  },
  {
   "cell_type": "code",
   "execution_count": 28,
   "metadata": {},
   "outputs": [
    {
     "name": "stdout",
     "output_type": "stream",
     "text": [
      "0.3333333333333333\n",
      "0.22222222222222224\n",
      "0.2222222222222222\n"
     ]
    },
    {
     "data": {
      "image/png": "[encoded data removed]",
      "text/plain": [
       "<Figure size 432x288 with 1 Axes>"
      ]
     },
     "metadata": {
      "needs_background": "light"
     },
     "output_type": "display_data"
    }
   ],
   "source": [
    "p = 1/3\n",
    "\n",
    "rv = sp.bernoulli(p)\n",
    "\n",
    "print(rv.mean())\n",
    "print(rv.var())\n",
    "\n",
    "xx = [0, 1]\n",
    "plt.bar(xx, rv.pmf(xx))\n",
    "plt.xlim(-1, 2)\n",
    "plt.ylim(0, 1)\n",
    "plt.xticks([0,1], ['x=0', 'x=1'])\n",
    "plt.xlabel(\"표본값\")\n",
    "plt.ylabel(\"P(X)\")\n",
    "plt.title(\"베르누이확률변수의 확류질량함수\")\n",
    "plt.grid()\n",
    "plt.show()\n"
   ]
  },
  {
   "cell_type": "code",
   "execution_count": 39,
   "metadata": {},
   "outputs": [
    {
     "name": "stdout",
     "output_type": "stream",
     "text": [
      "1.25\n",
      "0.9375\n",
      "0.6328125\n",
      "0.26367187499999994\n",
      "0.896484375\n",
      "0.015625\n"
     ]
    }
   ],
   "source": [
    "p = 0.25\n",
    "n = 5\n",
    "rv = sp.binom(n, p)\n",
    "print(rv.mean())\n",
    "print(rv.var())\n",
    "print(rv.cdf(1))\n",
    "print(rv.pmf(2))\n",
    "print(rv.cdf(2))\n",
    "print(1-rv.cdf(3))"
   ]
  },
  {
   "cell_type": "code",
   "execution_count": 45,
   "metadata": {},
   "outputs": [
    {
     "data": {
      "text/plain": [
       "[<matplotlib.lines.Line2D at 0x13ac29cd0>]"
      ]
     },
     "execution_count": 45,
     "metadata": {},
     "output_type": "execute_result"
    },
    {
     "data": {
      "image/png": "[encoded data removed]",
      "text/plain": [
       "<Figure size 432x288 with 1 Axes>"
      ]
     },
     "metadata": {
      "needs_background": "light"
     },
     "output_type": "display_data"
    }
   ],
   "source": [
    "import numpy as np\n",
    "p1, p2, p3 = 0.3, 0.5, 0.7\n",
    "n = 10\n",
    "rv1 = sp.binom(n, p1)\n",
    "rv2 = sp.binom(n, p2)\n",
    "rv3 = sp.binom(n, p3)\n",
    "\n",
    "xx = np.arange(n + 1)\n",
    "plt.plot(xx, rv1.pmf(xx))\n",
    "plt.plot(xx, rv2.pmf(xx))\n",
    "plt.plot(xx, rv3.pmf(xx))\n"
   ]
  },
  {
   "cell_type": "code",
   "execution_count": 46,
   "metadata": {},
   "outputs": [
    {
     "name": "stdout",
     "output_type": "stream",
     "text": [
      "0.6328125\n",
      "0.26367187499999994\n",
      "0.896484375\n",
      "0.015625\n"
     ]
    }
   ],
   "source": [
    "n = 5\n",
    "p = 1/4\n",
    "rv = sp.binom(n, p)\n",
    "print(rv.cdf(1))\n",
    "print(rv.pmf(2))\n",
    "print(rv.cdf(2))\n",
    "print(1 - rv.cdf(3))"
   ]
  },
  {
   "cell_type": "code",
   "execution_count": 58,
   "metadata": {},
   "outputs": [
    {
     "data": {
      "text/plain": [
       "0.578125"
      ]
     },
     "execution_count": 58,
     "metadata": {},
     "output_type": "execute_result"
    }
   ],
   "source": [
    "p = 0.25\n",
    "\n",
    "rv = sp.geom(p)\n",
    "rv.cdf(3)\n"
   ]
  },
  {
   "cell_type": "code",
   "execution_count": 62,
   "metadata": {},
   "outputs": [
    {
     "data": {
      "text/plain": [
       "0.03783327480207079"
      ]
     },
     "execution_count": 62,
     "metadata": {},
     "output_type": "execute_result"
    }
   ],
   "source": [
    "lam = 2\n",
    "rv = sp.poisson(lam)\n",
    "rv.pmf(0)\n",
    "\n",
    "lam = 10\n",
    "rv = sp.poisson(lam)\n",
    "rv.pmf(15)\n",
    "\n",
    "lam = 10\n",
    "rv = sp.poisson(lam)\n",
    "rv.pmf(5)"
   ]
  },
  {
   "cell_type": "code",
   "execution_count": null,
   "metadata": {},
   "outputs": [],
   "source": [
    "n = 10\n",
    "p = 1/6\n",
    "rv = sp.multinomial(n, p)\n"
   ]
  },
  {
   "cell_type": "code",
   "execution_count": 64,
   "metadata": {},
   "outputs": [
    {
     "data": {
      "text/plain": [
       "0.9544997361036416"
      ]
     },
     "execution_count": 64,
     "metadata": {},
     "output_type": "execute_result"
    }
   ],
   "source": [
    "mu = 170\n",
    "std = 5\n",
    "rv = sp.norm(mu, std)\n",
    "\n",
    "rv.cdf(175) - rv.cdf(165)\n",
    "\n",
    "mu = 70\n",
    "std = 8\n",
    "rv = sp.norm(mu, std)\n",
    "rv.cdf(86) - rv.cdf(54)"
   ]
  },
  {
   "cell_type": "code",
   "execution_count": 77,
   "metadata": {},
   "outputs": [
    {
     "name": "stderr",
     "output_type": "stream",
     "text": [
      "/Users/aebdeung-ichangmin-ing/Library/Python/3.8/lib/python/site-packages/seaborn/distributions.py:2619: FutureWarning: `distplot` is a deprecated function and will be removed in a future version. Please adapt your code to use either `displot` (a figure-level function with similar flexibility) or `histplot` (an axes-level function for histograms).\n",
      "  warnings.warn(msg, FutureWarning)\n",
      "/Users/aebdeung-ichangmin-ing/Library/Python/3.8/lib/python/site-packages/seaborn/distributions.py:2103: FutureWarning: The `axis` variable is no longer used and will be removed. Instead, assign variables directly to `x` or `y`.\n",
      "  warnings.warn(msg, FutureWarning)\n"
     ]
    },
    {
     "data": {
      "image/png": "[encoded data removed]",
      "text/plain": [
       "<Figure size 432x288 with 1 Axes>"
      ]
     },
     "metadata": {
      "needs_background": "light"
     },
     "output_type": "display_data"
    }
   ],
   "source": [
    "import seaborn as sns\n",
    "np.random.seed(0)\n",
    "x = rv.rvs(100000)\n",
    "\n",
    "\n",
    "sns.distplot(x, rug=True, kde=False, fit=sp.norm)\n",
    "plt.title(\"랜덤 표본 생성 결과\")\n",
    "plt.xlabel(\"표본값\")\n",
    "plt.ylabel(\"$P(x)$\")\n",
    "plt.grid()\n",
    "plt.show()\n"
   ]
  },
  {
   "cell_type": "code",
   "execution_count": 81,
   "metadata": {},
   "outputs": [],
   "source": [
    "n, std = 1, 2\n",
    "\n",
    "rv = sp.norm(n, std)\n"
   ]
  },
  {
   "cell_type": "code",
   "execution_count": 90,
   "metadata": {},
   "outputs": [
    {
     "name": "stdout",
     "output_type": "stream",
     "text": [
      "0.07352925960964836\n",
      "0.4950599842422293\n",
      "0.020675162866070074\n",
      "0.414656549178033\n",
      "0.9089720453569003\n",
      "0.005270804155809827\n"
     ]
    }
   ],
   "source": [
    "rv = sp.norm(0, 1)\n",
    "\n",
    "print(rv.cdf(-1.45))\n",
    "print(rv.cdf(2.58) - 0.5)\n",
    "print(1 - rv.cdf(2.04))\n",
    "print(0.5 - rv.cdf(-1.37))\n",
    "print((rv.cdf(1.69)-0.5) * 2)\n",
    "print((1-rv.cdf(2.79))*2)"
   ]
  },
  {
   "cell_type": "code",
   "execution_count": 92,
   "metadata": {},
   "outputs": [
    {
     "name": "stdout",
     "output_type": "stream",
     "text": [
      "0.013903447513498595\n",
      "0.8384866815324579\n",
      "0.006209665325776159\n"
     ]
    }
   ],
   "source": [
    "rv = sp.norm(75, 5)\n",
    "\n",
    "print(rv.cdf(64))\n",
    "print(rv.cdf(82)-rv.cdf(68))\n",
    "print(1-rv.cdf(87.5))"
   ]
  },
  {
   "cell_type": "code",
   "execution_count": 94,
   "metadata": {},
   "outputs": [
    {
     "name": "stdout",
     "output_type": "stream",
     "text": [
      "0.8961653188787\n",
      "0.8961653188787\n"
     ]
    }
   ],
   "source": [
    "rv = sp.norm(140, 5)\n",
    "\n",
    "print(rv.cdf(146.3))\n",
    "print(1-rv.cdf(133.7))"
   ]
  },
  {
   "cell_type": "code",
   "execution_count": 100,
   "metadata": {},
   "outputs": [
    {
     "name": "stdout",
     "output_type": "stream",
     "text": [
      "0.8320808942183757\n"
     ]
    },
    {
     "data": {
      "text/plain": [
       "0.8275430250642866"
      ]
     },
     "execution_count": 100,
     "metadata": {},
     "output_type": "execute_result"
    }
   ],
   "source": [
    "rv = sp.binom(100, 1/5)\n",
    "mu = rv.mean()\n",
    "std = rv.std()\n",
    "\n",
    "rv = sp.norm(mu, std)\n",
    "rv.cdf(25) - rv.cdf(14)\n",
    "\n",
    "#이항분포 정규근사 확률"
   ]
  },
  {
   "cell_type": "code",
   "execution_count": 121,
   "metadata": {},
   "outputs": [
    {
     "data": {
      "text/plain": [
       "0.06742898445272338"
      ]
     },
     "execution_count": 121,
     "metadata": {},
     "output_type": "execute_result"
    }
   ],
   "source": [
    "rv = sp.binom(100, 0.4)\n",
    "m = rv.mean()\n",
    "s = rv.std()\n",
    "\n",
    "rv = sp.norm(m, round(s, 2))\n",
    "rv.cdf(47.5)\n",
    "1-rv.cdf(33.5)\n",
    "rv.pdf(43)"
   ]
  },
  {
   "cell_type": "code",
   "execution_count": null,
   "metadata": {},
   "outputs": [],
   "source": []
  }
 ],
 "metadata": {
  "interpreter": {
   "hash": "31f2aee4e71d21fbe5cf8b01ff0e069b9275f58929596ceb00d14d90e3e16cd6"
  },
  "kernelspec": {
   "display_name": "Python 3.8.9 64-bit",
   "language": "python",
   "name": "python3"
  },
  "language_info": {
   "codemirror_mode": {
    "name": "ipython",
    "version": 3
   },
   "file_extension": ".py",
   "mimetype": "text/x-python",
   "name": "python",
   "nbconvert_exporter": "python",
   "pygments_lexer": "ipython3",
   "version": "3.8.9"
  },
  "orig_nbformat": 4
 },
 "nbformat": 4,
 "nbformat_minor": 2
}
