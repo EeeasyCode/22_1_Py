{
 "cells": [
  {
   "cell_type": "markdown",
   "metadata": {},
   "source": [
    "# Chapter08 표본분포와 통계적 추정"
   ]
  },
  {
   "cell_type": "code",
   "execution_count": null,
   "metadata": {},
   "outputs": [],
   "source": [
    "import matplotlib.pyplot as plt\n",
    "plt.rcParams['font.family'] = 'Malgun Gothic'  # '맑은 고딕'으로 설정 \n",
    "plt.rcParams['axes.unicode_minus'] = False     # 그래프에서 (-)숫자표시"
   ]
  },
  {
   "cell_type": "markdown",
   "metadata": {},
   "source": [
    "## 8-1.모집단과 표본"
   ]
  },
  {
   "cell_type": "markdown",
   "metadata": {},
   "source": [
    "### 모집단 분포와 표본분포"
   ]
  },
  {
   "cell_type": "markdown",
   "metadata": {},
   "source": [
    "### [실습] 예제 8-1: 모수 구하기 (모평균, 모분산, 모표준편차 )\n",
    "경부고속도록 서울 요금소~ 부산 구서 나들목에 있는 34개의 나들목 사이의 거리 측정 결과(소수점 셋째자리에서 반올림)"
   ]
  },
  {
   "cell_type": "code",
   "execution_count": null,
   "metadata": {},
   "outputs": [],
   "source": [
    "\n",
    "data =[9.59, 4.62, 0.65, 7.75, 16.98, 11.78, 7.24, 10.15, 25.49, 11.44, 10.37,\n",
    "    9.33, 15.04, 12.16, 16.63, 12.06, 9.70, 12.46, 8.05, 19.91, 5.58, 12.48,\n",
    "    4.35, 16.41, 22.53, 17.56, 18.4, 10.86, 27.43, 7.39, 14.57, 11.92, 2.00]  \n",
    "\n",
    "\n",
    "\n",
    "\n",
    "print(f'a. 모평균   : {round( , 2)}')\n",
    "print(f'b. 모분산   : {round( , 2)}')   \n",
    "print(f'c. 모표준편차: {round( , 2)}')   "
   ]
  },
  {
   "cell_type": "markdown",
   "metadata": {},
   "source": [
    "### [실습] 예제 8-2 : 표본 통계량 구하기\n",
    "sample = 7.75, 9.70, 10.86"
   ]
  },
  {
   "cell_type": "code",
   "execution_count": null,
   "metadata": {},
   "outputs": [],
   "source": [
    "sample = [7.75, 9.70, 10.86]\n",
    "\n",
    "\n",
    "\n",
    "print(f'a. 표본평균   : {round( , 2)}')\n",
    "print(f'b. 표본분산   : {round( , 2)}')   \n",
    "print(f'c. 표본표준편차: {round( , 2)}') "
   ]
  },
  {
   "cell_type": "markdown",
   "metadata": {},
   "source": [
    "### 표본평균의 분포 - 균등분포"
   ]
  },
  {
   "cell_type": "markdown",
   "metadata": {},
   "source": [
    "#### # 경우의 수\n",
    "n=2인 표본평균의 경우의 수"
   ]
  },
  {
   "cell_type": "code",
   "execution_count": null,
   "metadata": {},
   "outputs": [],
   "source": [
    "import itertools\n",
    "\n",
    "n = 2\n",
    "result = list(itertools.product(([1,2,3,4]), repeat=n)) # 복원추출\n",
    "print(\"**경우의 수 : %s개\" % len(result))\n",
    "print(result)"
   ]
  },
  {
   "cell_type": "markdown",
   "metadata": {},
   "source": [
    "#### # x_set: 확률변수 상태공간"
   ]
  },
  {
   "cell_type": "code",
   "execution_count": null,
   "metadata": {},
   "outputs": [],
   "source": [
    "x_set = [ sum([j for j in i])/n for i in result] \n",
    "x_set = list(set(x_set))\n",
    "x_set.sort()\n",
    "x_set"
   ]
  },
  {
   "cell_type": "markdown",
   "metadata": {},
   "source": [
    "#### 확률질량함수: f(x)"
   ]
  },
  {
   "cell_type": "code",
   "execution_count": null,
   "metadata": {},
   "outputs": [],
   "source": [
    "def f(x):\n",
    "    cnt = 0\n",
    "    for i in result:\n",
    "        if sum([j for j in i])/n == x:\n",
    "            cnt += 1\n",
    "    return cnt / (len(result))"
   ]
  },
  {
   "cell_type": "markdown",
   "metadata": {},
   "source": [
    "#### 확률변수: X"
   ]
  },
  {
   "cell_type": "code",
   "execution_count": null,
   "metadata": {},
   "outputs": [],
   "source": [
    "X = [x_set, f]"
   ]
  },
  {
   "cell_type": "markdown",
   "metadata": {},
   "source": [
    "#### 확률: P(prob)"
   ]
  },
  {
   "cell_type": "code",
   "execution_count": null,
   "metadata": {},
   "outputs": [],
   "source": [
    "prob = [f(x_k) for x_k in x_set]\n",
    "prob"
   ]
  },
  {
   "cell_type": "markdown",
   "metadata": {},
   "source": [
    "#### 확률분포표 "
   ]
  },
  {
   "cell_type": "code",
   "execution_count": null,
   "metadata": {
    "scrolled": false
   },
   "outputs": [],
   "source": [
    "import pandas as pd\n",
    "\n",
    "df = pd.DataFrame([prob], columns=x_set, index=['P(X_=x_)'])\n",
    "df.columns.names = ['X_']\n",
    "df"
   ]
  },
  {
   "cell_type": "markdown",
   "metadata": {},
   "source": [
    "#### 평균의 기대값"
   ]
  },
  {
   "cell_type": "code",
   "execution_count": null,
   "metadata": {},
   "outputs": [],
   "source": [
    "import numpy as np\n",
    "\n",
    "def E(X):\n",
    "    x_set, f = X\n",
    "    return np.sum([x_k * f(x_k) for x_k in x_set]) \n",
    "\n",
    "E(X)"
   ]
  },
  {
   "cell_type": "markdown",
   "metadata": {},
   "source": [
    "#### 표본평균의 분산"
   ]
  },
  {
   "cell_type": "code",
   "execution_count": null,
   "metadata": {},
   "outputs": [],
   "source": [
    "def V(X):\n",
    "    x_set, f = X\n",
    "    mean = E(X)\n",
    "    return np.sum([(x_k - mean)**2 * f(x_k) for x_k in x_set])\n",
    "\n",
    "V(X)"
   ]
  },
  {
   "cell_type": "markdown",
   "metadata": {},
   "source": [
    "#### 이항균등분포의 표본평균의 분포 그래프로 나타내기"
   ]
  },
  {
   "cell_type": "code",
   "execution_count": null,
   "metadata": {},
   "outputs": [],
   "source": [
    "def get_sample_dist(X, n):\n",
    "    \n",
    "    import itertools\n",
    "    result = list(itertools.product((X), repeat=n)) # 복원추출\n",
    "    print(f'**경우의 수 : {len(result)}개')\n",
    "    print(f'**모든 경우 : {result}')\n",
    "\n",
    "\n",
    "    # 확률변수 상태공간\n",
    "    x_set = [ sum([j for j in i])/n for i in result] \n",
    "    x_set = list(set(x_set))\n",
    "    x_set.sort()\n",
    "    print(f'**모든 확률변수 : {x_set}')\n",
    "\n",
    "    # 확률질량함수\n",
    "    def f(x):\n",
    "        cnt = 0\n",
    "        for i in result:\n",
    "            if sum([j for j in i])/n == x:\n",
    "                cnt += 1\n",
    "        return cnt / (len(result))\n",
    "\n",
    "    prob = [f(x_k) for x_k in x_set]\n",
    "    print(f'**모든 확률   : {prob}')\n",
    "\n",
    "\n",
    "    # 확률분포표\n",
    "    df = pd.DataFrame([prob], columns=x_set, index=['P(X_=x_)'])\n",
    "    df.columns.names = ['X_']\n",
    "    print(f'**확률분포표:\\n/{df}')\n",
    "\n",
    "    return x_set, prob, df\n"
   ]
  },
  {
   "cell_type": "markdown",
   "metadata": {},
   "source": [
    "#### 표본평균의 확률분포 그래프"
   ]
  },
  {
   "cell_type": "code",
   "execution_count": null,
   "metadata": {},
   "outputs": [],
   "source": [
    "#---------------------\n",
    "# 그래프로 나타내기 \n",
    "#---------------------\n",
    "plt.figure(figsize=(10,6))\n",
    "\n",
    "X = [1,2,3,4]\n",
    "for idx, n in enumerate(X): \n",
    "    x_set, prob, df = get_sample_dist(X, n)   \n",
    "\n",
    "    plt.subplot(2, 2, idx+1) \n",
    "    plt.plot(x_set, prob, 'o-')\n",
    "    plt.title(f'n={n}')\n",
    "    \n",
    "plt.show() "
   ]
  },
  {
   "cell_type": "markdown",
   "metadata": {},
   "source": [
    "### [실습] 예제 8-4 : 표본평균의 분포 및 확률 구하기\n",
    "$N(178, 16)$인 모집단에서 크기 9인 표본 선정, 표본평균 $ \\bar{X}$\n",
    "- a. $\\bar{X}$ 분포\n",
    "- b. $P(\\bar{X} \\le 180)$ \n",
    "- c. $P(176 \\le \\bar{X} \\le 180)$\n"
   ]
  },
  {
   "cell_type": "code",
   "execution_count": null,
   "metadata": {},
   "outputs": [],
   "source": [
    "\n",
    "\n",
    "\n",
    "\n"
   ]
  },
  {
   "cell_type": "markdown",
   "metadata": {},
   "source": [
    "#### [실습] $N(166, 9)$인 모집단에서 크기 16인 표본 선정, 표본평균 $ \\bar{X}$\n",
    "- a. $\\bar{X}$ 분포\n",
    "- b. $P(\\bar{X} \\le 180)$ \n",
    "- c. $P(176 \\le \\bar{X} \\le 180)$\n"
   ]
  },
  {
   "cell_type": "code",
   "execution_count": null,
   "metadata": {
    "scrolled": true
   },
   "outputs": [],
   "source": [
    "\n",
    "\n",
    "\n",
    "\n"
   ]
  },
  {
   "cell_type": "markdown",
   "metadata": {},
   "source": [
    "### [실습] 예제 8-5 : 표본비율의 분포 및 확률 구하기\n",
    "$p=0.45$인 모집단에서 크기 100인 표본 선정, 표본비율 $ \\hat{p}$\n",
    "- a. $ \\hat{p}$ 분포\n",
    "- b. $P(\\hat{p} \\le 0.35)$ \n",
    "- c. $P(0.41 \\le \\hat{p} \\le 0.51)$"
   ]
  },
  {
   "cell_type": "code",
   "execution_count": null,
   "metadata": {},
   "outputs": [],
   "source": [
    "\n",
    "\n",
    "\n",
    "\n",
    "\n",
    "\n"
   ]
  },
  {
   "cell_type": "markdown",
   "metadata": {},
   "source": [
    "----------------------------------------------------------"
   ]
  },
  {
   "cell_type": "markdown",
   "metadata": {},
   "source": [
    "## 8-2. 모평균의 추정"
   ]
  },
  {
   "cell_type": "markdown",
   "metadata": {},
   "source": [
    "### 모평균의 점추정"
   ]
  },
  {
   "cell_type": "code",
   "execution_count": null,
   "metadata": {},
   "outputs": [],
   "source": [
    "import numpy as np\n",
    "\n",
    "data = [17.4, 17.2, 18.1, 17.5, 17.7,\n",
    "       17.6, 17.5, 17.1, 17.8, 17.6]\n",
    "N = np.array(data)\n",
    "\n",
    "print(f'a. 표본평균   :  {round( , 4)}')\n",
    "print(f'a. 표본분산   :  {round( , 4)}')\n",
    "print(f'a. 표본표준편차: {round( , 4)}')"
   ]
  },
  {
   "cell_type": "markdown",
   "metadata": {},
   "source": [
    "### 모평균의 신뢰구간"
   ]
  },
  {
   "cell_type": "markdown",
   "metadata": {},
   "source": [
    "#### 모분산이 알려진 정규모집단의 모평균에 대한 신뢰구간"
   ]
  },
  {
   "cell_type": "markdown",
   "metadata": {},
   "source": [
    "### [실습] 예제 8-7 : 모분산이 알려진 정규모집단의 신뢰구간"
   ]
  },
  {
   "cell_type": "code",
   "execution_count": null,
   "metadata": {
    "scrolled": true
   },
   "outputs": [],
   "source": [
    "Z = {  }"
   ]
  },
  {
   "cell_type": "code",
   "execution_count": null,
   "metadata": {},
   "outputs": [],
   "source": [
    "n, x_, var = 25, 30, 9\n",
    "print(f'n, x_, var : {n, x_, var}')\n",
    "\n",
    "a =  \n",
    "b =  \n",
    "print(f'모평균의 신뢰구간 : {a} <= mu <= {b}')"
   ]
  },
  {
   "cell_type": "markdown",
   "metadata": {},
   "source": [
    "#### 모분산이 알려지지 않은 정규모집단의 신뢰구간(근사확률분포)"
   ]
  },
  {
   "cell_type": "markdown",
   "metadata": {},
   "source": [
    "### [실습] 예제 8-8 : 모분산이 알려지지 않은 정규모집단의 신뢰구간"
   ]
  },
  {
   "cell_type": "code",
   "execution_count": null,
   "metadata": {
    "scrolled": true
   },
   "outputs": [],
   "source": [
    " \n",
    "    \n",
    "    \n",
    "    "
   ]
  },
  {
   "cell_type": "markdown",
   "metadata": {},
   "source": [
    "### [실습] 예제 8-9 : 두 모평균 차의 신뢰구간"
   ]
  },
  {
   "cell_type": "code",
   "execution_count": null,
   "metadata": {},
   "outputs": [],
   "source": [
    "n, x_, sigma1 =  \n",
    "m, y_, sigma2 =  \n",
    "print(f'n, x_, sigma1 : {n, x_, sigma1}')\n",
    "print(f'm, y_, sigma2 : {m, y_, sigma2}')\n",
    "\n",
    "a =  \n",
    "b =  \n",
    "print(f'두 모평균 차의 신뢰구간 : {round(a,2)} <= x_ - y_ <= {round(b,2)}')"
   ]
  },
  {
   "cell_type": "markdown",
   "metadata": {},
   "source": [
    "----------------------------------------------------------"
   ]
  },
  {
   "cell_type": "markdown",
   "metadata": {},
   "source": [
    "## 8-3. 모비율의 추정"
   ]
  },
  {
   "cell_type": "markdown",
   "metadata": {},
   "source": [
    "### 모비율의 신뢰구간"
   ]
  },
  {
   "cell_type": "markdown",
   "metadata": {},
   "source": [
    "### [실습] 예제 8-10 : 모비율의 신뢰구간"
   ]
  },
  {
   "cell_type": "code",
   "execution_count": null,
   "metadata": {},
   "outputs": [],
   "source": [
    "Z = {90:1.645, 95:1.96, 99:2.58}\n",
    "\n",
    "n, p, q =  \n",
    "print(f'n, p, q : {n, p, q}')\n",
    "\n",
    "a =   \n",
    "b =  \n",
    "print(f'모비율의 신뢰구간 : {round(a, 2)} <= p^ <= {round(b, 2)}')"
   ]
  },
  {
   "cell_type": "markdown",
   "metadata": {},
   "source": [
    "### [실습] 예제 8-11 : 두 모비율 차의 신뢰구간"
   ]
  },
  {
   "cell_type": "code",
   "execution_count": null,
   "metadata": {},
   "outputs": [],
   "source": [
    "n, m  =  \n",
    "p1,p2 =  \n",
    "q1,q2 =  \n",
    "print(f'n, p1, q1 : {n, p1, q1}')\n",
    "print(f'm, p2, q2 : {n, p2, q2}')\n",
    "\n",
    "a =  \n",
    "b =  \n",
    "print(f'두 모비율 차의 신뢰구간 : {round(a,4)} <= p1-p2 <= {round(b,4)}')"
   ]
  },
  {
   "cell_type": "markdown",
   "metadata": {},
   "source": [
    "----------------------------------------------------------"
   ]
  },
  {
   "cell_type": "markdown",
   "metadata": {},
   "source": [
    "끝"
   ]
  }
 ],
 "metadata": {
  "kernelspec": {
   "display_name": "Python 3 (ipykernel)",
   "language": "python",
   "name": "python3"
  },
  "language_info": {
   "codemirror_mode": {
    "name": "ipython",
    "version": 3
   },
   "file_extension": ".py",
   "mimetype": "text/x-python",
   "name": "python",
   "nbconvert_exporter": "python",
   "pygments_lexer": "ipython3",
   "version": "3.8.10"
  }
 },
 "nbformat": 4,
 "nbformat_minor": 4
}
