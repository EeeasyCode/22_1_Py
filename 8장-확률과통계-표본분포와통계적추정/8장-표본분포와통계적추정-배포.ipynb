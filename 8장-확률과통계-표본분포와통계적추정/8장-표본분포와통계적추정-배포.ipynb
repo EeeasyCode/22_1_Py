{
 "cells": [
  {
   "cell_type": "markdown",
   "metadata": {},
   "source": [
    "# Chapter08 표본분포와 통계적 추정"
   ]
  },
  {
   "cell_type": "code",
   "execution_count": 4,
   "metadata": {},
   "outputs": [],
   "source": [
    "import matplotlib.pyplot as plt\n",
    "import numpy as np\n",
    "plt.rcParams['font.family'] = 'AppleGothic'  # '맑은 고딕'으로 설정 \n",
    "plt.rcParams['axes.unicode_minus'] = False     # 그래프에서 (-)숫자표시"
   ]
  },
  {
   "cell_type": "markdown",
   "metadata": {},
   "source": [
    "## 8-1.모집단과 표본"
   ]
  },
  {
   "cell_type": "markdown",
   "metadata": {},
   "source": [
    "### 모집단 분포와 표본분포"
   ]
  },
  {
   "cell_type": "markdown",
   "metadata": {},
   "source": [
    "### [실습] 예제 8-1: 모수 구하기 (모평균, 모분산, 모표준편차 )\n",
    "경부고속도록 서울 요금소~ 부산 구서 나들목에 있는 34개의 나들목 사이의 거리 측정 결과(소수점 셋째자리에서 반올림)"
   ]
  },
  {
   "cell_type": "code",
   "execution_count": 8,
   "metadata": {},
   "outputs": [
    {
     "name": "stdout",
     "output_type": "stream",
     "text": [
      "a. 모평균   : 12.21\n",
      "b. 모분산   : 37.35\n",
      "c. 모표준편차: 6.11\n"
     ]
    }
   ],
   "source": [
    "\n",
    "data =[9.59, 4.62, 0.65, 7.75, 16.98, 11.78, 7.24, 10.15, 25.49, 11.44, 10.37,\n",
    "    9.33, 15.04, 12.16, 16.63, 12.06, 9.70, 12.46, 8.05, 19.91, 5.58, 12.48,\n",
    "    4.35, 16.41, 22.53, 17.56, 18.4, 10.86, 27.43, 7.39, 14.57, 11.92, 2.00]  \n",
    "\n",
    "# N = np.array(data)\n",
    "# N.mean()\n",
    "\n",
    "print(f'a. 모평균   : {round(sum(data)/len(data) , 2)}')\n",
    "print(f'b. 모분산   : {round(np.var(data, ddof=0) , 2)}')   \n",
    "print(f'c. 모표준편차: {round(np.std(data, ddof=0) , 2)}')   "
   ]
  },
  {
   "cell_type": "code",
   "execution_count": 32,
   "metadata": {},
   "outputs": [],
   "source": [
    "import pandas as pd\n",
    "\n",
    "df = pd.read_csv(\"distance.csv\")\n",
    "\n",
    "# N = df.index()\n",
    "# N.mean()\n",
    "\n"
   ]
  },
  {
   "cell_type": "markdown",
   "metadata": {},
   "source": [
    "### [실습] 예제 8-2 : 표본 통계량 구하기\n",
    "sample = 7.75, 9.70, 10.86"
   ]
  },
  {
   "cell_type": "code",
   "execution_count": 12,
   "metadata": {},
   "outputs": [
    {
     "name": "stdout",
     "output_type": "stream",
     "text": [
      "a. 표본평균   : 9.44\n",
      "b. 표본분산   : 2.47\n",
      "c. 표본표준편차: 1.57\n"
     ]
    }
   ],
   "source": [
    "sample = [7.75, 9.70, 10.86]\n",
    "\n",
    "\n",
    "\n",
    "print(f'a. 표본평균   : {round(np.mean(sample) , 2)}')\n",
    "print(f'b. 표본분산   : {round(np.var(sample, ddof=1) , 2)}')   \n",
    "print(f'c. 표본표준편차: {round(np.std(sample, ddof=1) , 2)}') "
   ]
  },
  {
   "cell_type": "markdown",
   "metadata": {},
   "source": [
    "### 표본평균의 분포 - 균등분포"
   ]
  },
  {
   "cell_type": "markdown",
   "metadata": {},
   "source": [
    "#### # 경우의 수\n",
    "n=2인 표본평균의 경우의 수"
   ]
  },
  {
   "cell_type": "code",
   "execution_count": 33,
   "metadata": {},
   "outputs": [
    {
     "name": "stdout",
     "output_type": "stream",
     "text": [
      "**경우의 수 : 16개\n",
      "[(1, 1), (1, 2), (1, 3), (1, 4), (2, 1), (2, 2), (2, 3), (2, 4), (3, 1), (3, 2), (3, 3), (3, 4), (4, 1), (4, 2), (4, 3), (4, 4)]\n"
     ]
    }
   ],
   "source": [
    "import itertools\n",
    "\n",
    "n = 2\n",
    "result = list(itertools.product(([1,2,3,4]), repeat=n)) # 복원추출\n",
    "print(\"**경우의 수 : %s개\" % len(result))\n",
    "print(result)"
   ]
  },
  {
   "cell_type": "markdown",
   "metadata": {},
   "source": [
    "#### # x_set: 확률변수 상태공간"
   ]
  },
  {
   "cell_type": "code",
   "execution_count": 34,
   "metadata": {},
   "outputs": [
    {
     "data": {
      "text/plain": [
       "[1.0, 1.5, 2.0, 2.5, 3.0, 3.5, 4.0]"
      ]
     },
     "execution_count": 34,
     "metadata": {},
     "output_type": "execute_result"
    }
   ],
   "source": [
    "x_set = [ sum([j for j in i])/n for i in result] \n",
    "x_set = list(set(x_set))\n",
    "x_set.sort()\n",
    "x_set"
   ]
  },
  {
   "cell_type": "markdown",
   "metadata": {},
   "source": [
    "#### 확률질량함수: f(x)"
   ]
  },
  {
   "cell_type": "code",
   "execution_count": 35,
   "metadata": {},
   "outputs": [],
   "source": [
    "def f(x):\n",
    "    cnt = 0\n",
    "    for i in result:\n",
    "        if sum([j for j in i])/n == x:\n",
    "            cnt += 1\n",
    "    return cnt / (len(result))"
   ]
  },
  {
   "cell_type": "markdown",
   "metadata": {},
   "source": [
    "#### 확률변수: X"
   ]
  },
  {
   "cell_type": "code",
   "execution_count": 36,
   "metadata": {},
   "outputs": [],
   "source": [
    "X = [x_set, f]"
   ]
  },
  {
   "cell_type": "markdown",
   "metadata": {},
   "source": [
    "#### 확률: P(prob)"
   ]
  },
  {
   "cell_type": "code",
   "execution_count": 37,
   "metadata": {},
   "outputs": [
    {
     "data": {
      "text/plain": [
       "[0.0625, 0.125, 0.1875, 0.25, 0.1875, 0.125, 0.0625]"
      ]
     },
     "execution_count": 37,
     "metadata": {},
     "output_type": "execute_result"
    }
   ],
   "source": [
    "prob = [f(x_k) for x_k in x_set]\n",
    "prob"
   ]
  },
  {
   "cell_type": "markdown",
   "metadata": {},
   "source": [
    "#### 확률분포표 "
   ]
  },
  {
   "cell_type": "code",
   "execution_count": 38,
   "metadata": {
    "scrolled": false
   },
   "outputs": [
    {
     "data": {
      "text/html": [
       "<div>\n",
       "<style scoped>\n",
       "    .dataframe tbody tr th:only-of-type {\n",
       "        vertical-align: middle;\n",
       "    }\n",
       "\n",
       "    .dataframe tbody tr th {\n",
       "        vertical-align: top;\n",
       "    }\n",
       "\n",
       "    .dataframe thead th {\n",
       "        text-align: right;\n",
       "    }\n",
       "</style>\n",
       "<table border=\"1\" class=\"dataframe\">\n",
       "  <thead>\n",
       "    <tr style=\"text-align: right;\">\n",
       "      <th>X_</th>\n",
       "      <th>1.0</th>\n",
       "      <th>1.5</th>\n",
       "      <th>2.0</th>\n",
       "      <th>2.5</th>\n",
       "      <th>3.0</th>\n",
       "      <th>3.5</th>\n",
       "      <th>4.0</th>\n",
       "    </tr>\n",
       "  </thead>\n",
       "  <tbody>\n",
       "    <tr>\n",
       "      <th>P(X_=x_)</th>\n",
       "      <td>0.0625</td>\n",
       "      <td>0.125</td>\n",
       "      <td>0.1875</td>\n",
       "      <td>0.25</td>\n",
       "      <td>0.1875</td>\n",
       "      <td>0.125</td>\n",
       "      <td>0.0625</td>\n",
       "    </tr>\n",
       "  </tbody>\n",
       "</table>\n",
       "</div>"
      ],
      "text/plain": [
       "X_           1.0    1.5     2.0   2.5     3.0    3.5     4.0\n",
       "P(X_=x_)  0.0625  0.125  0.1875  0.25  0.1875  0.125  0.0625"
      ]
     },
     "execution_count": 38,
     "metadata": {},
     "output_type": "execute_result"
    }
   ],
   "source": [
    "import pandas as pd\n",
    "\n",
    "df = pd.DataFrame([prob], columns=x_set, index=['P(X_=x_)'])\n",
    "df.columns.names = ['X_']\n",
    "df"
   ]
  },
  {
   "cell_type": "markdown",
   "metadata": {},
   "source": [
    "#### 평균의 기대값"
   ]
  },
  {
   "cell_type": "code",
   "execution_count": null,
   "metadata": {},
   "outputs": [],
   "source": [
    "import numpy as np\n",
    "\n",
    "def E(X):\n",
    "    x_set, f = X\n",
    "    return np.sum([x_k * f(x_k) for x_k in x_set]) \n",
    "\n",
    "E(X)"
   ]
  },
  {
   "cell_type": "markdown",
   "metadata": {},
   "source": [
    "#### 표본평균의 분산"
   ]
  },
  {
   "cell_type": "code",
   "execution_count": null,
   "metadata": {},
   "outputs": [],
   "source": [
    "def V(X):\n",
    "    x_set, f = X\n",
    "    mean = E(X)\n",
    "    return np.sum([(x_k - mean)**2 * f(x_k) for x_k in x_set])\n",
    "\n",
    "V(X)"
   ]
  },
  {
   "cell_type": "markdown",
   "metadata": {},
   "source": [
    "#### 이항균등분포의 표본평균의 분포 그래프로 나타내기"
   ]
  },
  {
   "cell_type": "code",
   "execution_count": 39,
   "metadata": {},
   "outputs": [],
   "source": [
    "def get_sample_dist(X, n):\n",
    "    \n",
    "    import itertools\n",
    "    result = list(itertools.product((X), repeat=n)) # 복원추출\n",
    "    print(f'**경우의 수 : {len(result)}개')\n",
    "    print(f'**모든 경우 : {result}')\n",
    "\n",
    "\n",
    "    # 확률변수 상태공간\n",
    "    x_set = [ sum([j for j in i])/n for i in result] \n",
    "    x_set = list(set(x_set))\n",
    "    x_set.sort()\n",
    "    print(f'**모든 확률변수 : {x_set}')\n",
    "\n",
    "    # 확률질량함수\n",
    "    def f(x):\n",
    "        cnt = 0\n",
    "        for i in result:\n",
    "            if sum([j for j in i])/n == x:\n",
    "                cnt += 1\n",
    "        return cnt / (len(result))\n",
    "\n",
    "    prob = [f(x_k) for x_k in x_set]\n",
    "    print(f'**모든 확률   : {prob}')\n",
    "\n",
    "\n",
    "    # 확률분포표\n",
    "    df = pd.DataFrame([prob], columns=x_set, index=['P(X_=x_)'])\n",
    "    df.columns.names = ['X_']\n",
    "    print(f'**확률분포표:\\n/{df}')\n",
    "\n",
    "    return x_set, prob, df\n"
   ]
  },
  {
   "cell_type": "markdown",
   "metadata": {},
   "source": [
    "#### 표본평균의 확률분포 그래프"
   ]
  },
  {
   "cell_type": "code",
   "execution_count": 40,
   "metadata": {},
   "outputs": [
    {
     "name": "stdout",
     "output_type": "stream",
     "text": [
      "**경우의 수 : 4개\n",
      "**모든 경우 : [(1,), (2,), (3,), (4,)]\n",
      "**모든 확률변수 : [1.0, 2.0, 3.0, 4.0]\n",
      "**모든 확률   : [0.25, 0.25, 0.25, 0.25]\n",
      "**확률분포표:\n",
      "/X_         1.0   2.0   3.0   4.0\n",
      "P(X_=x_)  0.25  0.25  0.25  0.25\n",
      "**경우의 수 : 16개\n",
      "**모든 경우 : [(1, 1), (1, 2), (1, 3), (1, 4), (2, 1), (2, 2), (2, 3), (2, 4), (3, 1), (3, 2), (3, 3), (3, 4), (4, 1), (4, 2), (4, 3), (4, 4)]\n",
      "**모든 확률변수 : [1.0, 1.5, 2.0, 2.5, 3.0, 3.5, 4.0]\n",
      "**모든 확률   : [0.0625, 0.125, 0.1875, 0.25, 0.1875, 0.125, 0.0625]\n",
      "**확률분포표:\n",
      "/X_           1.0    1.5     2.0   2.5     3.0    3.5     4.0\n",
      "P(X_=x_)  0.0625  0.125  0.1875  0.25  0.1875  0.125  0.0625\n",
      "**경우의 수 : 64개\n",
      "**모든 경우 : [(1, 1, 1), (1, 1, 2), (1, 1, 3), (1, 1, 4), (1, 2, 1), (1, 2, 2), (1, 2, 3), (1, 2, 4), (1, 3, 1), (1, 3, 2), (1, 3, 3), (1, 3, 4), (1, 4, 1), (1, 4, 2), (1, 4, 3), (1, 4, 4), (2, 1, 1), (2, 1, 2), (2, 1, 3), (2, 1, 4), (2, 2, 1), (2, 2, 2), (2, 2, 3), (2, 2, 4), (2, 3, 1), (2, 3, 2), (2, 3, 3), (2, 3, 4), (2, 4, 1), (2, 4, 2), (2, 4, 3), (2, 4, 4), (3, 1, 1), (3, 1, 2), (3, 1, 3), (3, 1, 4), (3, 2, 1), (3, 2, 2), (3, 2, 3), (3, 2, 4), (3, 3, 1), (3, 3, 2), (3, 3, 3), (3, 3, 4), (3, 4, 1), (3, 4, 2), (3, 4, 3), (3, 4, 4), (4, 1, 1), (4, 1, 2), (4, 1, 3), (4, 1, 4), (4, 2, 1), (4, 2, 2), (4, 2, 3), (4, 2, 4), (4, 3, 1), (4, 3, 2), (4, 3, 3), (4, 3, 4), (4, 4, 1), (4, 4, 2), (4, 4, 3), (4, 4, 4)]\n",
      "**모든 확률변수 : [1.0, 1.3333333333333333, 1.6666666666666667, 2.0, 2.3333333333333335, 2.6666666666666665, 3.0, 3.3333333333333335, 3.6666666666666665, 4.0]\n",
      "**모든 확률   : [0.015625, 0.046875, 0.09375, 0.15625, 0.1875, 0.1875, 0.15625, 0.09375, 0.046875, 0.015625]\n",
      "**확률분포표:\n",
      "/X_        1.000000  1.333333  1.666667  2.000000  2.333333  2.666667  \\\n",
      "P(X_=x_)  0.015625  0.046875   0.09375   0.15625    0.1875    0.1875   \n",
      "\n",
      "X_        3.000000  3.333333  3.666667  4.000000  \n",
      "P(X_=x_)   0.15625   0.09375  0.046875  0.015625  \n",
      "**경우의 수 : 256개\n",
      "**모든 경우 : [(1, 1, 1, 1), (1, 1, 1, 2), (1, 1, 1, 3), (1, 1, 1, 4), (1, 1, 2, 1), (1, 1, 2, 2), (1, 1, 2, 3), (1, 1, 2, 4), (1, 1, 3, 1), (1, 1, 3, 2), (1, 1, 3, 3), (1, 1, 3, 4), (1, 1, 4, 1), (1, 1, 4, 2), (1, 1, 4, 3), (1, 1, 4, 4), (1, 2, 1, 1), (1, 2, 1, 2), (1, 2, 1, 3), (1, 2, 1, 4), (1, 2, 2, 1), (1, 2, 2, 2), (1, 2, 2, 3), (1, 2, 2, 4), (1, 2, 3, 1), (1, 2, 3, 2), (1, 2, 3, 3), (1, 2, 3, 4), (1, 2, 4, 1), (1, 2, 4, 2), (1, 2, 4, 3), (1, 2, 4, 4), (1, 3, 1, 1), (1, 3, 1, 2), (1, 3, 1, 3), (1, 3, 1, 4), (1, 3, 2, 1), (1, 3, 2, 2), (1, 3, 2, 3), (1, 3, 2, 4), (1, 3, 3, 1), (1, 3, 3, 2), (1, 3, 3, 3), (1, 3, 3, 4), (1, 3, 4, 1), (1, 3, 4, 2), (1, 3, 4, 3), (1, 3, 4, 4), (1, 4, 1, 1), (1, 4, 1, 2), (1, 4, 1, 3), (1, 4, 1, 4), (1, 4, 2, 1), (1, 4, 2, 2), (1, 4, 2, 3), (1, 4, 2, 4), (1, 4, 3, 1), (1, 4, 3, 2), (1, 4, 3, 3), (1, 4, 3, 4), (1, 4, 4, 1), (1, 4, 4, 2), (1, 4, 4, 3), (1, 4, 4, 4), (2, 1, 1, 1), (2, 1, 1, 2), (2, 1, 1, 3), (2, 1, 1, 4), (2, 1, 2, 1), (2, 1, 2, 2), (2, 1, 2, 3), (2, 1, 2, 4), (2, 1, 3, 1), (2, 1, 3, 2), (2, 1, 3, 3), (2, 1, 3, 4), (2, 1, 4, 1), (2, 1, 4, 2), (2, 1, 4, 3), (2, 1, 4, 4), (2, 2, 1, 1), (2, 2, 1, 2), (2, 2, 1, 3), (2, 2, 1, 4), (2, 2, 2, 1), (2, 2, 2, 2), (2, 2, 2, 3), (2, 2, 2, 4), (2, 2, 3, 1), (2, 2, 3, 2), (2, 2, 3, 3), (2, 2, 3, 4), (2, 2, 4, 1), (2, 2, 4, 2), (2, 2, 4, 3), (2, 2, 4, 4), (2, 3, 1, 1), (2, 3, 1, 2), (2, 3, 1, 3), (2, 3, 1, 4), (2, 3, 2, 1), (2, 3, 2, 2), (2, 3, 2, 3), (2, 3, 2, 4), (2, 3, 3, 1), (2, 3, 3, 2), (2, 3, 3, 3), (2, 3, 3, 4), (2, 3, 4, 1), (2, 3, 4, 2), (2, 3, 4, 3), (2, 3, 4, 4), (2, 4, 1, 1), (2, 4, 1, 2), (2, 4, 1, 3), (2, 4, 1, 4), (2, 4, 2, 1), (2, 4, 2, 2), (2, 4, 2, 3), (2, 4, 2, 4), (2, 4, 3, 1), (2, 4, 3, 2), (2, 4, 3, 3), (2, 4, 3, 4), (2, 4, 4, 1), (2, 4, 4, 2), (2, 4, 4, 3), (2, 4, 4, 4), (3, 1, 1, 1), (3, 1, 1, 2), (3, 1, 1, 3), (3, 1, 1, 4), (3, 1, 2, 1), (3, 1, 2, 2), (3, 1, 2, 3), (3, 1, 2, 4), (3, 1, 3, 1), (3, 1, 3, 2), (3, 1, 3, 3), (3, 1, 3, 4), (3, 1, 4, 1), (3, 1, 4, 2), (3, 1, 4, 3), (3, 1, 4, 4), (3, 2, 1, 1), (3, 2, 1, 2), (3, 2, 1, 3), (3, 2, 1, 4), (3, 2, 2, 1), (3, 2, 2, 2), (3, 2, 2, 3), (3, 2, 2, 4), (3, 2, 3, 1), (3, 2, 3, 2), (3, 2, 3, 3), (3, 2, 3, 4), (3, 2, 4, 1), (3, 2, 4, 2), (3, 2, 4, 3), (3, 2, 4, 4), (3, 3, 1, 1), (3, 3, 1, 2), (3, 3, 1, 3), (3, 3, 1, 4), (3, 3, 2, 1), (3, 3, 2, 2), (3, 3, 2, 3), (3, 3, 2, 4), (3, 3, 3, 1), (3, 3, 3, 2), (3, 3, 3, 3), (3, 3, 3, 4), (3, 3, 4, 1), (3, 3, 4, 2), (3, 3, 4, 3), (3, 3, 4, 4), (3, 4, 1, 1), (3, 4, 1, 2), (3, 4, 1, 3), (3, 4, 1, 4), (3, 4, 2, 1), (3, 4, 2, 2), (3, 4, 2, 3), (3, 4, 2, 4), (3, 4, 3, 1), (3, 4, 3, 2), (3, 4, 3, 3), (3, 4, 3, 4), (3, 4, 4, 1), (3, 4, 4, 2), (3, 4, 4, 3), (3, 4, 4, 4), (4, 1, 1, 1), (4, 1, 1, 2), (4, 1, 1, 3), (4, 1, 1, 4), (4, 1, 2, 1), (4, 1, 2, 2), (4, 1, 2, 3), (4, 1, 2, 4), (4, 1, 3, 1), (4, 1, 3, 2), (4, 1, 3, 3), (4, 1, 3, 4), (4, 1, 4, 1), (4, 1, 4, 2), (4, 1, 4, 3), (4, 1, 4, 4), (4, 2, 1, 1), (4, 2, 1, 2), (4, 2, 1, 3), (4, 2, 1, 4), (4, 2, 2, 1), (4, 2, 2, 2), (4, 2, 2, 3), (4, 2, 2, 4), (4, 2, 3, 1), (4, 2, 3, 2), (4, 2, 3, 3), (4, 2, 3, 4), (4, 2, 4, 1), (4, 2, 4, 2), (4, 2, 4, 3), (4, 2, 4, 4), (4, 3, 1, 1), (4, 3, 1, 2), (4, 3, 1, 3), (4, 3, 1, 4), (4, 3, 2, 1), (4, 3, 2, 2), (4, 3, 2, 3), (4, 3, 2, 4), (4, 3, 3, 1), (4, 3, 3, 2), (4, 3, 3, 3), (4, 3, 3, 4), (4, 3, 4, 1), (4, 3, 4, 2), (4, 3, 4, 3), (4, 3, 4, 4), (4, 4, 1, 1), (4, 4, 1, 2), (4, 4, 1, 3), (4, 4, 1, 4), (4, 4, 2, 1), (4, 4, 2, 2), (4, 4, 2, 3), (4, 4, 2, 4), (4, 4, 3, 1), (4, 4, 3, 2), (4, 4, 3, 3), (4, 4, 3, 4), (4, 4, 4, 1), (4, 4, 4, 2), (4, 4, 4, 3), (4, 4, 4, 4)]\n",
      "**모든 확률변수 : [1.0, 1.25, 1.5, 1.75, 2.0, 2.25, 2.5, 2.75, 3.0, 3.25, 3.5, 3.75, 4.0]\n",
      "**모든 확률   : [0.00390625, 0.015625, 0.0390625, 0.078125, 0.12109375, 0.15625, 0.171875, 0.15625, 0.12109375, 0.078125, 0.0390625, 0.015625, 0.00390625]\n",
      "**확률분포표:\n",
      "/X_            1.00      1.25      1.50      1.75      2.00     2.25      2.50  \\\n",
      "P(X_=x_)  0.003906  0.015625  0.039062  0.078125  0.121094  0.15625  0.171875   \n",
      "\n",
      "X_           2.75      3.00      3.25      3.50      3.75      4.00  \n",
      "P(X_=x_)  0.15625  0.121094  0.078125  0.039062  0.015625  0.003906  \n"
     ]
    },
    {
     "data": {
      "image/png": "[encoded data removed]",
      "text/plain": [
       "<Figure size 720x432 with 4 Axes>"
      ]
     },
     "metadata": {
      "needs_background": "light"
     },
     "output_type": "display_data"
    }
   ],
   "source": [
    "#---------------------\n",
    "# 그래프로 나타내기 \n",
    "#---------------------\n",
    "plt.figure(figsize=(10,6))\n",
    "\n",
    "X = [1,2,3,4]\n",
    "for idx, n in enumerate(X): \n",
    "    x_set, prob, df = get_sample_dist(X, n)   \n",
    "\n",
    "    plt.subplot(2, 2, idx+1) \n",
    "    plt.plot(x_set, prob, 'o-')\n",
    "    plt.title(f'n={n}')\n",
    "    \n",
    "plt.show() "
   ]
  },
  {
   "cell_type": "markdown",
   "metadata": {},
   "source": [
    "### [실습] 예제 8-4 : 표본평균의 분포 및 확률 구하기\n",
    "$N(178, 16)$인 모집단에서 크기 9인 표본 선정, 표본평균 $ \\bar{X}$\n",
    "- a. $\\bar{X}$ 분포\n",
    "- b. $P(\\bar{X} \\le 180)$ \n",
    "- c. $P(176 \\le \\bar{X} \\le 180)$\n"
   ]
  },
  {
   "cell_type": "code",
   "execution_count": 43,
   "metadata": {},
   "outputs": [
    {
     "name": "stdout",
     "output_type": "stream",
     "text": [
      "0.9332\n",
      "0.8664\n"
     ]
    }
   ],
   "source": [
    "import scipy.stats as sp\n",
    "n, std = 178, 4/3\n",
    "\n",
    "rv = sp.norm(n, std)\n",
    "print(round(rv.cdf(180), 4))\n",
    "print(round(rv.cdf(180)-rv.cdf(176), 4))"
   ]
  },
  {
   "cell_type": "markdown",
   "metadata": {},
   "source": [
    "#### [실습] $N(166, 9)$인 모집단에서 크기 16인 표본 선정, 표본평균 $ \\bar{X}$\n",
    "- a. $\\bar{X}$ 분포\n",
    "- b. $P(\\bar{X} \\le 164)$ \n",
    "- c. $P(164 \\le \\bar{X} \\le 168)$\n"
   ]
  },
  {
   "cell_type": "code",
   "execution_count": 47,
   "metadata": {
    "scrolled": true
   },
   "outputs": [
    {
     "name": "stdout",
     "output_type": "stream",
     "text": [
      "0.0038\n",
      "0.9923\n"
     ]
    }
   ],
   "source": [
    "mu, var, n = 166, 9, 16\n",
    "std = np.sqrt(var/n)\n",
    "rv = sp.norm(mu, std)\n",
    "\n",
    "print(round(rv.cdf(164), 4))\n",
    "print(round(rv.cdf(168) - rv.cdf(164), 4))\n",
    "\n",
    "\n"
   ]
  },
  {
   "cell_type": "markdown",
   "metadata": {},
   "source": [
    "### [실습] 예제 8-5 : 표본비율의 분포 및 확률 구하기\n",
    "$p=0.45$인 모집단에서 크기 100인 표본 선정, 표본비율 $ \\hat{p}$\n",
    "- a. $ \\hat{p}$ 분포\n",
    "- b. $P(\\hat{p} \\le 0.35)$ \n",
    "- c. $P(0.41 \\le \\hat{p} \\le 0.51)$"
   ]
  },
  {
   "cell_type": "code",
   "execution_count": 53,
   "metadata": {},
   "outputs": [
    {
     "name": "stdout",
     "output_type": "stream",
     "text": [
      "0.0228\n",
      "0.6731\n"
     ]
    }
   ],
   "source": [
    "n, p = 100, 0.45\n",
    "var = (p*(1-p)) / n\n",
    "std = round(np.sqrt(var), 2)\n",
    "rv = sp.norm(p, std)\n",
    "\n",
    "print(round(rv.cdf(0.35), 4))\n",
    "print(round(rv.cdf(0.51) - rv.cdf(0.41), 4))\n"
   ]
  },
  {
   "cell_type": "markdown",
   "metadata": {},
   "source": [
    "----------------------------------------------------------"
   ]
  },
  {
   "cell_type": "markdown",
   "metadata": {},
   "source": [
    "## 8-2. 모평균의 추정"
   ]
  },
  {
   "cell_type": "markdown",
   "metadata": {},
   "source": [
    "### 모평균의 점추정"
   ]
  },
  {
   "cell_type": "code",
   "execution_count": 55,
   "metadata": {},
   "outputs": [
    {
     "name": "stdout",
     "output_type": "stream",
     "text": [
      "a. 표본평균   :  17.55\n",
      "a. 표본분산   :  0.0828\n",
      "a. 표본표준편차: 0.2877\n"
     ]
    }
   ],
   "source": [
    "import numpy as np\n",
    "\n",
    "data = [17.4, 17.2, 18.1, 17.5, 17.7,\n",
    "       17.6, 17.5, 17.1, 17.8, 17.6]\n",
    "N = np.array(data)\n",
    "\n",
    "print(f'a. 표본평균   :  {round(N.mean() , 4)}')\n",
    "print(f'a. 표본분산   :  {round(N.var(ddof=1) , 4)}')\n",
    "print(f'a. 표본표준편차: {round(N.std(ddof=1) , 4)}')"
   ]
  },
  {
   "cell_type": "markdown",
   "metadata": {},
   "source": [
    "### 모평균의 신뢰구간"
   ]
  },
  {
   "cell_type": "markdown",
   "metadata": {},
   "source": [
    "#### 모분산이 알려진 정규모집단의 모평균에 대한 신뢰구간"
   ]
  },
  {
   "cell_type": "markdown",
   "metadata": {},
   "source": [
    "### [실습] 예제 8-7 : 모분산이 알려진 정규모집단의 신뢰구간"
   ]
  },
  {
   "cell_type": "code",
   "execution_count": 79,
   "metadata": {
    "scrolled": true
   },
   "outputs": [],
   "source": [
    "Z = {'99%':2.58, '95%': 1.96, '90%': 1.645 }"
   ]
  },
  {
   "cell_type": "code",
   "execution_count": 62,
   "metadata": {},
   "outputs": [
    {
     "name": "stdout",
     "output_type": "stream",
     "text": [
      "n, x_, var : (25, 30, 9)\n",
      "모평균의 신뢰구간 : 28.824 <= mu <= 31.176\n"
     ]
    }
   ],
   "source": [
    "n, x_, var = 25, 30, 9\n",
    "print(f'n, x_, var : {n, x_, var}')\n",
    "\n",
    "a = x_ - Z['95%']*(np.sqrt(var/n))\n",
    "b =  x_ + Z['95%']*(np.sqrt(var/n))\n",
    "print(f'모평균의 신뢰구간 : {a} <= mu <= {b}')"
   ]
  },
  {
   "cell_type": "markdown",
   "metadata": {},
   "source": [
    "#### 모분산이 알려지지 않은 정규모집단의 신뢰구간(근사확률분포)"
   ]
  },
  {
   "cell_type": "markdown",
   "metadata": {},
   "source": [
    "### [실습] 예제 8-8 : 모분산이 알려지지 않은 정규모집단의 신뢰구간"
   ]
  },
  {
   "cell_type": "code",
   "execution_count": 68,
   "metadata": {
    "scrolled": true
   },
   "outputs": [
    {
     "name": "stdout",
     "output_type": "stream",
     "text": [
      "모평균의 신뢰구간 : 73.42 <= mu <= 76.58\n"
     ]
    }
   ],
   "source": [
    "n , x_, s = 125, 75, 9\n",
    "\n",
    "a = x_ - Z['95%']*(s/np.sqrt(n))\n",
    "b = x_ + Z['95%']*(s/np.sqrt(n))\n",
    "print(f\"모평균의 신뢰구간 : {round(a, 2)} <= mu <= {round(b, 2)}\")\n",
    "    \n",
    "    "
   ]
  },
  {
   "cell_type": "markdown",
   "metadata": {},
   "source": [
    "### [실습] 예제 8-9 : 두 모평균 차의 신뢰구간"
   ]
  },
  {
   "cell_type": "code",
   "execution_count": 75,
   "metadata": {},
   "outputs": [
    {
     "name": "stdout",
     "output_type": "stream",
     "text": [
      "n, x_, sigma1 : (56, 261.6, 21.5)\n",
      "m, y_, sigma2 : (44, 254.4, 14.3)\n",
      "두 모평균 차의 신뢰구간 : 0.16 <= x_ - y_ <= 14.24\n"
     ]
    }
   ],
   "source": [
    "n, x_, sigma1 = 56, 261.6, 21.5 \n",
    "m, y_, sigma2 = 44, 254.4, 14.3\n",
    "print(f'n, x_, sigma1 : {n, x_, sigma1}')\n",
    "print(f'm, y_, sigma2 : {m, y_, sigma2}')\n",
    "\n",
    "a =  (x_-y_) - Z[\"95%\"]*np.sqrt(((sigma1**2)/n + (sigma2**2)/m))\n",
    "b =  (x_-y_) + Z[\"95%\"]*np.sqrt(((sigma1**2)/n + (sigma2**2)/m))\n",
    "print(f'두 모평균 차의 신뢰구간 : {round(a,2)} <= x_ - y_ <= {round(b,2)}')"
   ]
  },
  {
   "cell_type": "markdown",
   "metadata": {},
   "source": [
    "----------------------------------------------------------"
   ]
  },
  {
   "cell_type": "markdown",
   "metadata": {},
   "source": [
    "## 8-3. 모비율의 추정"
   ]
  },
  {
   "cell_type": "markdown",
   "metadata": {},
   "source": [
    "### 모비율의 신뢰구간"
   ]
  },
  {
   "cell_type": "markdown",
   "metadata": {},
   "source": [
    "### [실습] 예제 8-10 : 모비율의 신뢰구간"
   ]
  },
  {
   "cell_type": "code",
   "execution_count": 84,
   "metadata": {},
   "outputs": [
    {
     "name": "stdout",
     "output_type": "stream",
     "text": [
      "n, p, q : (1200, 0.48, 0.52)\n",
      "모비율의 신뢰구간 : 0.46 <= p^ <= 0.51\n"
     ]
    }
   ],
   "source": [
    "Z = {90:1.645, 95:1.96, 99:2.58}\n",
    "\n",
    "n, p, q =  1200, 580/1200, 1-(580/1200)\n",
    "print(f'n, p, q : {n, round(p,2), round(q,2)}')\n",
    "\n",
    "a = p - Z[95]*np.sqrt((p*q)/n)  \n",
    "b =  p + Z[95]*np.sqrt((p*q)/n)\n",
    "print(f'모비율의 신뢰구간 : {round(a, 2)} <= p^ <= {round(b, 2)}')"
   ]
  },
  {
   "cell_type": "markdown",
   "metadata": {},
   "source": [
    "### [실습] 예제 8-11 : 두 모비율 차의 신뢰구간"
   ]
  },
  {
   "cell_type": "code",
   "execution_count": 85,
   "metadata": {},
   "outputs": [
    {
     "name": "stdout",
     "output_type": "stream",
     "text": [
      "n, p1, q1 : (450, 0.04, 0.96)\n",
      "m, p2, q2 : (450, 0.035, 0.965)\n",
      "두 모비율 차의 신뢰구간 : -0.0205 <= p1-p2 <= 0.0305\n"
     ]
    }
   ],
   "source": [
    "n, m  = 450, 400 \n",
    "p1,p2 = 0.04, 0.035\n",
    "q1,q2 = 0.96, 0.965 \n",
    "print(f'n, p1, q1 : {n, p1, q1}')\n",
    "print(f'm, p2, q2 : {n, p2, q2}')\n",
    "\n",
    "a = (p1 - p2) - Z[95]*np.sqrt((p1*q1)/n + (p2*q2)/m)\n",
    "b =  (p1 - p2) + Z[95]*np.sqrt((p1*q1)/n + (p2*q2)/m)\n",
    "print(f'두 모비율 차의 신뢰구간 : {round(a,4)} <= p1-p2 <= {round(b,4)}')"
   ]
  },
  {
   "cell_type": "markdown",
   "metadata": {},
   "source": [
    "----------------------------------------------------------"
   ]
  },
  {
   "cell_type": "markdown",
   "metadata": {},
   "source": [
    "끝"
   ]
  }
 ],
 "metadata": {
  "interpreter": {
   "hash": "31f2aee4e71d21fbe5cf8b01ff0e069b9275f58929596ceb00d14d90e3e16cd6"
  },
  "kernelspec": {
   "display_name": "Python 3.8.9 64-bit",
   "language": "python",
   "name": "python3"
  },
  "language_info": {
   "codemirror_mode": {
    "name": "ipython",
    "version": 3
   },
   "file_extension": ".py",
   "mimetype": "text/x-python",
   "name": "python",
   "nbconvert_exporter": "python",
   "pygments_lexer": "ipython3",
   "version": "3.8.9"
  }
 },
 "nbformat": 4,
 "nbformat_minor": 4
}
