{
 "cells": [
  {
   "cell_type": "markdown",
   "id": "60839aad",
   "metadata": {},
   "source": [
    "# Chapter 6 확률변수"
   ]
  },
  {
   "cell_type": "code",
   "execution_count": 32,
   "id": "4b919cae",
   "metadata": {},
   "outputs": [
    {
     "data": {
      "text/plain": [
       "'%.3f'"
      ]
     },
     "execution_count": 32,
     "metadata": {},
     "output_type": "execute_result"
    }
   ],
   "source": [
    "%precision 3"
   ]
  },
  {
   "cell_type": "markdown",
   "id": "58e27be5",
   "metadata": {},
   "source": [
    "## 6-1. 이산확률변수"
   ]
  },
  {
   "cell_type": "markdown",
   "id": "7c9ca506",
   "metadata": {},
   "source": [
    "### [실습] 예제 6-1: 확률변수 X의 상태공간(Sx) 구하기\n",
    "주사위 두 번 던지기. 확률변수 X = |i - j|, Sx = ?"
   ]
  },
  {
   "cell_type": "code",
   "execution_count": 2,
   "id": "6268fad8",
   "metadata": {},
   "outputs": [
    {
     "name": "stdout",
     "output_type": "stream",
     "text": [
      "확률변수 X의 상태공간(Sx) = {0, 1, 2, 3, 4, 5}\n"
     ]
    }
   ],
   "source": [
    "X = list()\n",
    "for i in range(1,7):\n",
    "    for j in range(1, 7):\n",
    "        X.append( abs(i-j)  )\n",
    "Sx = set(X)\n",
    "print(f'확률변수 X의 상태공간(Sx) = {Sx}')"
   ]
  },
  {
   "cell_type": "code",
   "execution_count": 20,
   "id": "4e5a269f",
   "metadata": {},
   "outputs": [
    {
     "name": "stdout",
     "output_type": "stream",
     "text": [
      "확률변수 X의 상태공간(Sx) = {0, 1, 2, 3, 4, 5}\n"
     ]
    }
   ],
   "source": [
    "import random\n",
    "\n",
    "N = 100\n",
    "X = list()\n",
    "for k in range(N):\n",
    "    i = random.randint(1, 6)\n",
    "    j = random.randint(1, 6)\n",
    "    X.append( abs(i-j) )\n",
    "#     print(f'시행횟수({k+1:>3}) - D1:{i}, D2:{j}, [i-j]:{abs(i-j)} ')\n",
    "# print(X)\n",
    "Sx = set(X)\n",
    "print(f'확률변수 X의 상태공간(Sx) = {Sx}')"
   ]
  },
  {
   "cell_type": "markdown",
   "id": "6fb7a1ee",
   "metadata": {},
   "source": [
    "### [확률변수 예] 붓꽃데이터 가져오기\n",
    "-꽃잎(sepal), 꽃받침(petal)의 length, width, 붓꽃의 종류(species)가 모두 확률변수로 사용될 수 있다."
   ]
  },
  {
   "cell_type": "code",
   "execution_count": 23,
   "id": "4f294d73",
   "metadata": {
    "collapsed": true
   },
   "outputs": [
    {
     "name": "stdout",
     "output_type": "stream",
     "text": [
      "Requirement already satisfied: seaborn in c:\\python\\python38\\lib\\site-packages (0.11.2)\n",
      "Requirement already satisfied: matplotlib>=2.2 in c:\\python\\python38\\lib\\site-packages (from seaborn) (3.4.2)\n",
      "Requirement already satisfied: scipy>=1.0 in c:\\python\\python38\\lib\\site-packages (from seaborn) (1.4.1)\n",
      "Requirement already satisfied: pandas>=0.23 in c:\\python\\python38\\lib\\site-packages (from seaborn) (1.3.0)\n",
      "Requirement already satisfied: numpy>=1.15 in c:\\python\\python38\\lib\\site-packages (from seaborn) (1.18.5)\n",
      "Requirement already satisfied: python-dateutil>=2.7 in c:\\python\\python38\\lib\\site-packages (from matplotlib>=2.2->seaborn) (2.8.1)\n",
      "Requirement already satisfied: cycler>=0.10 in c:\\python\\python38\\lib\\site-packages (from matplotlib>=2.2->seaborn) (0.10.0)\n",
      "Requirement already satisfied: pyparsing>=2.2.1 in c:\\python\\python38\\lib\\site-packages (from matplotlib>=2.2->seaborn) (2.4.7)\n",
      "Requirement already satisfied: pillow>=6.2.0 in c:\\python\\python38\\lib\\site-packages (from matplotlib>=2.2->seaborn) (8.3.1)\n",
      "Requirement already satisfied: kiwisolver>=1.0.1 in c:\\python\\python38\\lib\\site-packages (from matplotlib>=2.2->seaborn) (1.3.1)\n",
      "Requirement already satisfied: pytz>=2017.3 in c:\\python\\python38\\lib\\site-packages (from pandas>=0.23->seaborn) (2021.1)\n",
      "Requirement already satisfied: six in c:\\python\\python38\\lib\\site-packages (from cycler>=0.10->matplotlib>=2.2->seaborn) (1.15.0)\n"
     ]
    }
   ],
   "source": [
    "# 통계 시각화 라이브러리\n",
    "!pip install seaborn"
   ]
  },
  {
   "cell_type": "code",
   "execution_count": 26,
   "id": "66c2cbf7",
   "metadata": {},
   "outputs": [
    {
     "name": "stdout",
     "output_type": "stream",
     "text": [
      "<class 'pandas.core.frame.DataFrame'>\n"
     ]
    },
    {
     "data": {
      "text/html": [
       "<div>\n",
       "<style scoped>\n",
       "    .dataframe tbody tr th:only-of-type {\n",
       "        vertical-align: middle;\n",
       "    }\n",
       "\n",
       "    .dataframe tbody tr th {\n",
       "        vertical-align: top;\n",
       "    }\n",
       "\n",
       "    .dataframe thead th {\n",
       "        text-align: right;\n",
       "    }\n",
       "</style>\n",
       "<table border=\"1\" class=\"dataframe\">\n",
       "  <thead>\n",
       "    <tr style=\"text-align: right;\">\n",
       "      <th></th>\n",
       "      <th>sepal_length</th>\n",
       "      <th>sepal_width</th>\n",
       "      <th>petal_length</th>\n",
       "      <th>petal_width</th>\n",
       "      <th>species</th>\n",
       "    </tr>\n",
       "  </thead>\n",
       "  <tbody>\n",
       "    <tr>\n",
       "      <th>0</th>\n",
       "      <td>5.1</td>\n",
       "      <td>3.5</td>\n",
       "      <td>1.4</td>\n",
       "      <td>0.2</td>\n",
       "      <td>setosa</td>\n",
       "    </tr>\n",
       "    <tr>\n",
       "      <th>1</th>\n",
       "      <td>4.9</td>\n",
       "      <td>3.0</td>\n",
       "      <td>1.4</td>\n",
       "      <td>0.2</td>\n",
       "      <td>setosa</td>\n",
       "    </tr>\n",
       "    <tr>\n",
       "      <th>2</th>\n",
       "      <td>4.7</td>\n",
       "      <td>3.2</td>\n",
       "      <td>1.3</td>\n",
       "      <td>0.2</td>\n",
       "      <td>setosa</td>\n",
       "    </tr>\n",
       "  </tbody>\n",
       "</table>\n",
       "</div>"
      ],
      "text/plain": [
       "   sepal_length  sepal_width  petal_length  petal_width species\n",
       "0           5.1          3.5           1.4          0.2  setosa\n",
       "1           4.9          3.0           1.4          0.2  setosa\n",
       "2           4.7          3.2           1.3          0.2  setosa"
      ]
     },
     "execution_count": 26,
     "metadata": {},
     "output_type": "execute_result"
    }
   ],
   "source": [
    "import seaborn as sns\n",
    "\n",
    "iris = sns.load_dataset('iris')\n",
    "print( type(iris) )\n",
    "iris.head(3)"
   ]
  },
  {
   "cell_type": "markdown",
   "id": "cf7d0597",
   "metadata": {},
   "source": [
    "### [실습] 예제6-3 확률질량함수로 확률구하기\n",
    "주사위 두 번 던지기. 확률변수 X = |i - j|, Sx 원소에 대한 확률함수\n"
   ]
  },
  {
   "cell_type": "markdown",
   "id": "aae6f045",
   "metadata": {},
   "source": [
    "##### 확률질량함수(PMF: probability mass function) \n",
    "이산확률변수의 확률분포를 나타내는 함수 <br><br>"
   ]
  },
  {
   "cell_type": "markdown",
   "id": "4513af31",
   "metadata": {},
   "source": [
    "- 1. 확률변수 X에 대한 상태공간 구하기"
   ]
  },
  {
   "cell_type": "code",
   "execution_count": 28,
   "id": "9de5bdc6",
   "metadata": {},
   "outputs": [
    {
     "name": "stdout",
     "output_type": "stream",
     "text": [
      "확률변수 X의 상태공간(Sx) = {0, 1, 2, 3, 4, 5}\n"
     ]
    }
   ],
   "source": [
    "# 1. 확률변수 X에 대한 상태공간 구하기\n",
    "X = list()   # 확률변수\n",
    "D1 = [1,2,3,4,5,6]\n",
    "D2 = [1,2,3,4,5,6]\n",
    "for i in D1:\n",
    "    for j in D2:\n",
    "        X.append( abs(i-j)  )\n",
    "Sx = set(X)\n",
    "print(f'확률변수 X의 상태공간(Sx) = {Sx}')"
   ]
  },
  {
   "cell_type": "markdown",
   "id": "ba69ee2a",
   "metadata": {},
   "source": [
    "- 2. 확률변수에 대한 확률질량함수(fx) 만들기"
   ]
  },
  {
   "cell_type": "code",
   "execution_count": null,
   "id": "7759a9ec",
   "metadata": {},
   "outputs": [],
   "source": [
    "# 소수점 자리수 표현\n",
    "%precision 3"
   ]
  },
  {
   "cell_type": "code",
   "execution_count": 52,
   "id": "8e430c97",
   "metadata": {},
   "outputs": [
    {
     "data": {
      "text/plain": [
       "[0.167, 0.278, 0.222, 0.167, 0.111, 0.056]"
      ]
     },
     "execution_count": 52,
     "metadata": {},
     "output_type": "execute_result"
    }
   ],
   "source": [
    "# 2. 확률변수에 대한 확률질량함수(fx) 만들기\n",
    "def f(x):\n",
    "    cnt = 0\n",
    "    for i in D1:\n",
    "        for j in D2:\n",
    "            if abs(i-j) == x:\n",
    "                cnt += 1\n",
    "            \n",
    "    return cnt / (len(D1)*len(D2))\n",
    "\n",
    "probs = [ f(x) for x in Sx ]\n",
    "probs"
   ]
  },
  {
   "cell_type": "markdown",
   "id": "91ad2855",
   "metadata": {},
   "source": [
    "- **확률 전체의 합은 1**"
   ]
  },
  {
   "cell_type": "code",
   "execution_count": 53,
   "id": "e490c375",
   "metadata": {},
   "outputs": [
    {
     "data": {
      "text/plain": [
       "1.000"
      ]
     },
     "execution_count": 53,
     "metadata": {},
     "output_type": "execute_result"
    }
   ],
   "source": [
    "sum(probs)"
   ]
  },
  {
   "cell_type": "markdown",
   "id": "d2ee8b13",
   "metadata": {},
   "source": [
    "- 확률변수 X의 상태 값과 확률 함께 표시"
   ]
  },
  {
   "cell_type": "code",
   "execution_count": 54,
   "id": "eff5a808",
   "metadata": {
    "scrolled": true
   },
   "outputs": [
    {
     "data": {
      "text/plain": [
       "{0: 0.167, 1: 0.278, 2: 0.222, 3: 0.167, 4: 0.111, 5: 0.056}"
      ]
     },
     "execution_count": 54,
     "metadata": {},
     "output_type": "execute_result"
    }
   ],
   "source": [
    "dict(zip(Sx, probs))"
   ]
  },
  {
   "cell_type": "markdown",
   "id": "42523dba",
   "metadata": {},
   "source": [
    "- 3.확률변수 X와 확률의 관계를 그래프로 나타내기"
   ]
  },
  {
   "cell_type": "code",
   "execution_count": 56,
   "id": "ea4af31d",
   "metadata": {},
   "outputs": [
    {
     "name": "stdout",
     "output_type": "stream",
     "text": [
      "[0, 1, 2, 3, 4, 5] [0.16666666666666666, 0.2777777777777778, 0.2222222222222222, 0.16666666666666666, 0.1111111111111111, 0.05555555555555555]\n"
     ]
    },
    {
     "data": {
      "image/png": "[encoded data removed]",
      "text/plain": [
       "<Figure size 432x288 with 1 Axes>"
      ]
     },
     "metadata": {
      "needs_background": "light"
     },
     "output_type": "display_data"
    }
   ],
   "source": [
    "import matplotlib.pyplot as plt\n",
    "\n",
    "plt.rcParams['font.family'] = 'Malgun Gothic'\n",
    "\n",
    "X = list(Sx)\n",
    "Y = probs\n",
    "print(f'확률변수(X) : {X}')\n",
    "print(f'확률(Y) : {Y}')\n",
    "\n",
    "plt.bar(X, Y, zorder=1)\n",
    "plt.scatter(X, Y, c='r', zorder=2)\n",
    "for x, y in zip(X, Y):\n",
    "    plt.text(x, y, (x, round(y,2)), fontsize=10)\n",
    "\n",
    "plt.grid()\n",
    "plt.title('확률변수X와 확률P')\n",
    "plt.xlabel('확률변수X')\n",
    "plt.ylabel('확률P(X)')\n",
    "plt.show()"
   ]
  },
  {
   "cell_type": "markdown",
   "id": "07dc15de",
   "metadata": {},
   "source": [
    "### [실습] 확률질량함수와 확률 구하기\n",
    "동전 네 번 던지기, 앞면이 나온 횟수 X "
   ]
  },
  {
   "cell_type": "code",
   "execution_count": 16,
   "id": "194c8a69",
   "metadata": {},
   "outputs": [
    {
     "name": "stdout",
     "output_type": "stream",
     "text": [
      "동전 4번 던지는 상태공간(Sx):\n",
      "['HHHH', 'HHHT', 'HHTH', 'HHTT', 'HTHH', 'HTHT', 'HTTH', 'HTTT', 'THHH', 'THHT', 'THTH', 'THTT', 'TTHH', 'TTHT', 'TTTH', 'TTTT']\n",
      "확률변수(X) : [0, 1, 2, 3, 4]\n",
      "확률변수X의 확률: {0: 0.0625, 1: 0.25, 2: 0.375, 3: 0.25, 4: 0.0625}\n",
      "(b) 2일 확률: 0.375\n",
      "(c) 2이상일 확률: 0.6875\n",
      "(c) 3이하일 확률: 0.9375\n"
     ]
    }
   ],
   "source": [
    "import itertools\n",
    "\n",
    "# 1.상태공간Sx\n",
    "coin = {'H', 'T'}  # 'HT'\n",
    "r = 4\n",
    "Sx = list(itertools.product(coin, repeat=r))\n",
    "Sx = [ ''.join(x) for x in Sx]\n",
    "print(f'동전 {r}번 던지는 상태공간(Sx):\\n{Sx}')\n",
    "\n",
    "# 2.확률변수X\n",
    "S = [x.count('H') for x in Sx]\n",
    "X = list(set(S))\n",
    "print(f'확률변수(X) : {X}')\n",
    "\n",
    "# 3.확률질량함수(fx)\n",
    "def f(x):\n",
    "    return S.count(x)/len(Sx)\n",
    "\n",
    "# 4.확률\n",
    "prob =[ f(x) for x in X] \n",
    "print(f'확률변수X의 확률: { dict(zip(X, prob)) }') \n",
    "\n",
    "# 5.확률 구하기\n",
    "print(f'(b) 2일 확률: {f(2)}')\n",
    "print(f'(c) 2이상일 확률: {sum([f(x) for x in X if x>=2])}')\n",
    "print(f'(c) 3이하일 확률: {sum([f(x) for x in X if x<=3])}')"
   ]
  },
  {
   "cell_type": "markdown",
   "id": "17e936fb",
   "metadata": {},
   "source": [
    "### [실습] 예제 6-4"
   ]
  },
  {
   "cell_type": "code",
   "execution_count": 22,
   "id": "f1f245f2",
   "metadata": {},
   "outputs": [
    {
     "data": {
      "text/plain": [
       "'%.2f'"
      ]
     },
     "execution_count": 22,
     "metadata": {},
     "output_type": "execute_result"
    }
   ],
   "source": [
    "%precision 2"
   ]
  },
  {
   "cell_type": "code",
   "execution_count": 25,
   "id": "f99bbb38",
   "metadata": {
    "collapsed": true
   },
   "outputs": [
    {
     "name": "stdout",
     "output_type": "stream",
     "text": [
      "상태공간(Sx) = [0, 1, 2, 3, 4, 5, 1, 0, 1, 2, 3, 4, 2, 1, 0, 1, 2, 3, 3, 2, 1, 0, 1, 2, 4, 3, 2, 1, 0, 1, 5, 4, 3, 2, 1, 0]\n",
      "확률변수 X = [0, 1, 2, 3, 4, 5]\n",
      "확률변수X 의 확률질량함수: {0: 0.16666666666666666, 1: 0.2777777777777778, 2: 0.2222222222222222, 3: 0.16666666666666666, 4: 0.1111111111111111, 5: 0.05555555555555555} \n",
      "확률변수X 의 확률분포함수: {0: 0.16666666666666666, 1: 0.4444444444444444, 2: 0.6666666666666666, 3: 0.8333333333333333, 4: 0.9444444444444444, 5: 1.0} \n"
     ]
    },
    {
     "data": {
      "image/png": "[encoded data removed]",
      "text/plain": [
       "<Figure size 432x288 with 1 Axes>"
      ]
     },
     "metadata": {
      "needs_background": "light"
     },
     "output_type": "display_data"
    }
   ],
   "source": [
    "# 1. 확률변수 X에 대한 상태공간 구하기\n",
    "Sx = list()   # 확률변수\n",
    "D1 = [1,2,3,4,5,6]\n",
    "D2 = [1,2,3,4,5,6]\n",
    "for i in D1:\n",
    "    for j in D2:\n",
    "        Sx.append( abs(i-j)  )\n",
    "print(f'상태공간(Sx) = {Sx}')\n",
    "\n",
    "# 2.확률변수\n",
    "X = list(set(Sx))\n",
    "print(f'확률변수 X = {X}')\n",
    "\n",
    "\n",
    "# 3. 확률변수에 대한 확률질량함수(fx) 만들기\n",
    "def f(x):\n",
    "    cnt = 0\n",
    "    for i in D1:\n",
    "        for j in D2:\n",
    "            if abs(i-j) == x:\n",
    "                cnt += 1\n",
    "            \n",
    "    return cnt / (len(D1)*len(D2))\n",
    "\n",
    "prob = [ f(x) for x in X ]\n",
    "\n",
    "\n",
    "# 4. 확률분포함수\n",
    "def F(x):\n",
    "    return sum( [f(u) for u in X if u<=x] )\n",
    "\n",
    "s_prob = [ F(x) for x in X ]\n",
    "\n",
    "print(f'확률변수X 의 확률질량함수: {dict(zip(X, prob))} ')\n",
    "print(f'확률변수X 의 확률분포함수: {dict(zip(X, s_prob))} ')\n",
    "\n",
    "\n",
    "# 그래프로 나타내기\n",
    "import matplotlib.pyplot as plt\n",
    "# plt.bar(X, prob, zorder=2)    # 확률질량함수\n",
    "# plt.bar(X, s_prob, zorder=1)  # 확률분포함수\n",
    "plt.stem(X, prob)                  # 확률질량함수\n",
    "plt.stem(X, s_prob, linefmt='--')  # 확률분포함수\n",
    "plt.show()"
   ]
  },
  {
   "cell_type": "code",
   "execution_count": 26,
   "id": "cfcde43d",
   "metadata": {
    "scrolled": true
   },
   "outputs": [
    {
     "name": "stdout",
     "output_type": "stream",
     "text": [
      "P(X=3)     : 0.16666666666666663\n",
      "P(2<=X<=4) : 0.5\n",
      "P(X>=4)    : 0.16666666666666674\n"
     ]
    }
   ],
   "source": [
    "# 확률구하기\n",
    "print(f'P(X=3)     : {F(3) - F(2)}')\n",
    "print(f'P(2<=X<=4) : {F(4) - F(2) + prob[2]}')\n",
    "print(f'P(X>=4)    : {1 - F(3)}')"
   ]
  },
  {
   "cell_type": "markdown",
   "id": "20a3d63d",
   "metadata": {},
   "source": [
    "---------------------------------------"
   ]
  },
  {
   "cell_type": "markdown",
   "id": "6ba842d9",
   "metadata": {},
   "source": [
    "## 6-2 연속확률변수(Continuous Random Variable)"
   ]
  },
  {
   "cell_type": "code",
   "execution_count": 48,
   "id": "3e047152",
   "metadata": {},
   "outputs": [
    {
     "data": {
      "image/png": "[encoded data removed]",
      "text/plain": [
       "<Figure size 432x288 with 1 Axes>"
      ]
     },
     "metadata": {
      "needs_background": "light"
     },
     "output_type": "display_data"
    }
   ],
   "source": [
    "import pandas as pd\n",
    "\n",
    "df = pd.read_csv('data/data_10.csv', encoding='utf-8')\n",
    "\n",
    "plt.hist(df.키, bins=100, edgecolor='w')  # df.키 == df['키']\n",
    "plt.show()"
   ]
  },
  {
   "cell_type": "markdown",
   "id": "8e1ac346",
   "metadata": {},
   "source": [
    "### 20세 이상 남성 키 데이터"
   ]
  },
  {
   "cell_type": "code",
   "execution_count": 38,
   "id": "eb51533c",
   "metadata": {},
   "outputs": [
    {
     "name": "stdout",
     "output_type": "stream",
     "text": [
      "(869, 3)\n"
     ]
    },
    {
     "data": {
      "text/html": [
       "<div>\n",
       "<style scoped>\n",
       "    .dataframe tbody tr th:only-of-type {\n",
       "        vertical-align: middle;\n",
       "    }\n",
       "\n",
       "    .dataframe tbody tr th {\n",
       "        vertical-align: top;\n",
       "    }\n",
       "\n",
       "    .dataframe thead th {\n",
       "        text-align: right;\n",
       "    }\n",
       "</style>\n",
       "<table border=\"1\" class=\"dataframe\">\n",
       "  <thead>\n",
       "    <tr style=\"text-align: right;\">\n",
       "      <th></th>\n",
       "      <th>성별</th>\n",
       "      <th>나이</th>\n",
       "      <th>키</th>\n",
       "    </tr>\n",
       "  </thead>\n",
       "  <tbody>\n",
       "    <tr>\n",
       "      <th>0</th>\n",
       "      <td>남</td>\n",
       "      <td>25</td>\n",
       "      <td>173.0</td>\n",
       "    </tr>\n",
       "    <tr>\n",
       "      <th>1</th>\n",
       "      <td>남</td>\n",
       "      <td>28</td>\n",
       "      <td>183.0</td>\n",
       "    </tr>\n",
       "    <tr>\n",
       "      <th>3</th>\n",
       "      <td>남</td>\n",
       "      <td>20</td>\n",
       "      <td>175.0</td>\n",
       "    </tr>\n",
       "    <tr>\n",
       "      <th>4</th>\n",
       "      <td>남</td>\n",
       "      <td>22</td>\n",
       "      <td>185.0</td>\n",
       "    </tr>\n",
       "    <tr>\n",
       "      <th>5</th>\n",
       "      <td>남</td>\n",
       "      <td>23</td>\n",
       "      <td>178.0</td>\n",
       "    </tr>\n",
       "    <tr>\n",
       "      <th>...</th>\n",
       "      <td>...</td>\n",
       "      <td>...</td>\n",
       "      <td>...</td>\n",
       "    </tr>\n",
       "    <tr>\n",
       "      <th>4853</th>\n",
       "      <td>남</td>\n",
       "      <td>25</td>\n",
       "      <td>168.0</td>\n",
       "    </tr>\n",
       "    <tr>\n",
       "      <th>4856</th>\n",
       "      <td>남</td>\n",
       "      <td>29</td>\n",
       "      <td>174.0</td>\n",
       "    </tr>\n",
       "    <tr>\n",
       "      <th>4857</th>\n",
       "      <td>남</td>\n",
       "      <td>25</td>\n",
       "      <td>173.0</td>\n",
       "    </tr>\n",
       "    <tr>\n",
       "      <th>4867</th>\n",
       "      <td>남</td>\n",
       "      <td>24</td>\n",
       "      <td>168.0</td>\n",
       "    </tr>\n",
       "    <tr>\n",
       "      <th>4899</th>\n",
       "      <td>남</td>\n",
       "      <td>20</td>\n",
       "      <td>177.0</td>\n",
       "    </tr>\n",
       "  </tbody>\n",
       "</table>\n",
       "<p>869 rows × 3 columns</p>\n",
       "</div>"
      ],
      "text/plain": [
       "     성별  나이      키\n",
       "0     남  25  173.0\n",
       "1     남  28  183.0\n",
       "3     남  20  175.0\n",
       "4     남  22  185.0\n",
       "5     남  23  178.0\n",
       "...  ..  ..    ...\n",
       "4853  남  25  168.0\n",
       "4856  남  29  174.0\n",
       "4857  남  25  173.0\n",
       "4867  남  24  168.0\n",
       "4899  남  20  177.0\n",
       "\n",
       "[869 rows x 3 columns]"
      ]
     },
     "execution_count": 38,
     "metadata": {},
     "output_type": "execute_result"
    }
   ],
   "source": [
    "#\n",
    "df = pd.read_csv('data/data_10.csv', encoding='utf-8')\n",
    "df = df.query(\"성별 =='남' and (나이>=20 and 나이<30) \")\n",
    "df['키'] = df['키']//10  # mm --> cm로 단위 변환\n",
    "print(df.shape)\n",
    "df\n"
   ]
  },
  {
   "cell_type": "code",
   "execution_count": 35,
   "id": "f8e62c62",
   "metadata": {},
   "outputs": [
    {
     "data": {
      "image/png": "[encoded data removed]",
      "text/plain": [
       "<Figure size 432x288 with 1 Axes>"
      ]
     },
     "metadata": {
      "needs_background": "light"
     },
     "output_type": "display_data"
    }
   ],
   "source": [
    "import matplotlib.pyplot as plt\n",
    "\n",
    "plt.hist(df.키, edgecolor='w')  # df.키 == df['키']\n",
    "plt.show()"
   ]
  },
  {
   "cell_type": "code",
   "execution_count": 45,
   "id": "3ea78f1e",
   "metadata": {},
   "outputs": [
    {
     "data": {
      "image/png": "[encoded data removed]",
      "text/plain": [
       "<Figure size 720x432 with 4 Axes>"
      ]
     },
     "metadata": {
      "needs_background": "light"
     },
     "output_type": "display_data"
    }
   ],
   "source": [
    "data1 = df.head(100)\n",
    "data2 = df.head(300)\n",
    "data3 = df.head(600)\n",
    "data4 = df\n",
    "\n",
    "plt.figure(figsize=(10,6))\n",
    "plt.subplot(2,2,1)\n",
    "plt.hist(data1.키, bins=10, edgecolor='w')\n",
    "plt.subplot(2,2,2)\n",
    "plt.hist(data2.키, bins=20, edgecolor='w')\n",
    "plt.subplot(2,2,3)\n",
    "plt.hist(data3.키, bins=30, edgecolor='w')\n",
    "plt.subplot(2,2,4)\n",
    "plt.hist(data4.키, bins=40, edgecolor='w')\n",
    "plt.show()"
   ]
  },
  {
   "cell_type": "markdown",
   "id": "25b339d8",
   "metadata": {},
   "source": [
    "### [실습] 예제 6-7 : 연속확률변수의 확률밀도함수 구하기"
   ]
  },
  {
   "cell_type": "code",
   "execution_count": 63,
   "id": "0343f833",
   "metadata": {},
   "outputs": [
    {
     "data": {
      "image/png": "[encoded data removed]",
      "text/plain": [
       "<Figure size 432x288 with 1 Axes>"
      ]
     },
     "metadata": {
      "needs_background": "light"
     },
     "output_type": "display_data"
    },
    {
     "data": {
      "text/plain": [
       "(0.31, 0.00)"
      ]
     },
     "execution_count": 63,
     "metadata": {},
     "output_type": "execute_result"
    }
   ],
   "source": [
    "import numpy as np\n",
    "\n",
    "# 1.연속확률변수 구간\n",
    "X_range = [0, 4]\n",
    "\n",
    "# 2.확률밀도함수(fx)\n",
    "def f(x):\n",
    "    if X_range[0] <= x <= X_range[1]:\n",
    "        return (1/8*x)\n",
    "    else:\n",
    "        return 0\n",
    "    \n",
    "# 그래프로 그리기\n",
    "X = np.linspace(X_range[0], X_range[1], 100) # 0~4를 100개 균등 구간으로 나누기\n",
    "Y = [ f(x) for x in X]\n",
    "# print(f'X : {X}')\n",
    "# print(f'Y : {Y}')\n",
    "\n",
    "plt.plot(X, Y, label='f(x)')\n",
    "plt.fill_between(X, Y, where=(X>2)&(X<=3), color='orange', label='probability')\n",
    "plt.legend()\n",
    "\n",
    "plt.hlines(0, -0.1, 4, alpha=0.3)\n",
    "plt.vlines(0, -0.1, 0.6, alpha=0.3)\n",
    "plt.vlines(X.max(), 0, 0.6, alpha=0.3)\n",
    "\n",
    "plt.show()\n",
    "\n",
    "\n",
    "from scipy import integrate\n",
    "integrate.quad(f, 2, 3)"
   ]
  },
  {
   "cell_type": "markdown",
   "id": "fb7e58c6",
   "metadata": {},
   "source": [
    "### [실습] 초등학생의 키"
   ]
  },
  {
   "cell_type": "code",
   "execution_count": 86,
   "id": "1ebc9b4c",
   "metadata": {},
   "outputs": [
    {
     "name": "stdout",
     "output_type": "stream",
     "text": [
      "데이터타입: <class 'numpy.ndarray'> \n",
      "평균     : 140.00071584187305\n",
      "표준편차  : 5.006967166246549\n",
      "확률변수X 145이상~150미만에 속할 확률: 0.13589\n"
     ]
    },
    {
     "data": {
      "image/png": "[encoded data removed]",
      "text/plain": [
       "<Figure size 432x288 with 1 Axes>"
      ]
     },
     "metadata": {
      "needs_background": "light"
     },
     "output_type": "display_data"
    }
   ],
   "source": [
    "S, MEAN, STD = 100000, 140, 5\n",
    "data = MEAN + np.random.randn(S) * STD\n",
    "\n",
    "print(f'데이터타입: { type(data) } ')\n",
    "print(f'평균     : {data.mean() }')\n",
    "print(f'표준편차  : {data.std() }')\n",
    "\n",
    "# 145~150에 속할 확률\n",
    "\n",
    "prob = len([x for x in data if 145<=x<150])  / S\n",
    "print(f'확률변수X 145이상~150미만에 속할 확률: {prob}')\n",
    "\n",
    "plt.hist(data, bins=100)\n",
    "plt.show()"
   ]
  },
  {
   "cell_type": "code",
   "execution_count": 78,
   "id": "5b2f5e01",
   "metadata": {},
   "outputs": [
    {
     "data": {
      "text/plain": [
       "0.14"
      ]
     },
     "execution_count": 78,
     "metadata": {},
     "output_type": "execute_result"
    }
   ],
   "source": []
  },
  {
   "cell_type": "code",
   "execution_count": null,
   "id": "1d44264d",
   "metadata": {},
   "outputs": [],
   "source": []
  },
  {
   "cell_type": "code",
   "execution_count": null,
   "id": "c615feef",
   "metadata": {},
   "outputs": [],
   "source": []
  }
 ],
 "metadata": {
  "kernelspec": {
   "display_name": "Python 3 (ipykernel)",
   "language": "python",
   "name": "python3"
  },
  "language_info": {
   "codemirror_mode": {
    "name": "ipython",
    "version": 3
   },
   "file_extension": ".py",
   "mimetype": "text/x-python",
   "name": "python",
   "nbconvert_exporter": "python",
   "pygments_lexer": "ipython3",
   "version": "3.8.10"
  }
 },
 "nbformat": 4,
 "nbformat_minor": 5
}
