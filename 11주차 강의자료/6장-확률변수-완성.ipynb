{
 "cells": [
  {
   "cell_type": "markdown",
   "id": "218b7526",
   "metadata": {},
   "source": [
    "# Chapter 06 확률변수(Random Variable)"
   ]
  },
  {
   "cell_type": "code",
   "execution_count": 8,
   "id": "5471f03e",
   "metadata": {},
   "outputs": [
    {
     "data": {
      "text/plain": [
       "'%.2f'"
      ]
     },
     "execution_count": 8,
     "metadata": {},
     "output_type": "execute_result"
    }
   ],
   "source": [
    "%precision 2"
   ]
  },
  {
   "cell_type": "markdown",
   "id": "5b5b05c6",
   "metadata": {},
   "source": [
    "## 6-1 이산확률변수 (Discrete Random Variable)"
   ]
  },
  {
   "cell_type": "markdown",
   "id": "8ef80630",
   "metadata": {},
   "source": [
    "### #이산확률변수"
   ]
  },
  {
   "cell_type": "markdown",
   "id": "66bc617c",
   "metadata": {},
   "source": [
    "### [실습]  예제 6-1: 확률변수X의 상태공간(Sx) 구하기\n",
    "주사위를 두 번 반복하여 던지는 시행에서 두 분의 차의 절대값을  확률변수 X라고 할 때,  X의 상태공간은?"
   ]
  },
  {
   "cell_type": "markdown",
   "id": "95b8247d",
   "metadata": {},
   "source": [
    "#### 확률변수X의 상태공간(Sx) 구하기"
   ]
  },
  {
   "cell_type": "code",
   "execution_count": 2,
   "id": "f3bea483",
   "metadata": {},
   "outputs": [
    {
     "data": {
      "text/plain": [
       "{0, 1, 2, 3, 4, 5}"
      ]
     },
     "execution_count": 2,
     "metadata": {},
     "output_type": "execute_result"
    }
   ],
   "source": [
    "X = list()\n",
    "for i in range(1, 7):\n",
    "    for j in range(1, 7):\n",
    "        X.append(abs(i-j))\n",
    "Sx = set(X)\n",
    "Sx"
   ]
  },
  {
   "cell_type": "code",
   "execution_count": 11,
   "id": "73881c26",
   "metadata": {
    "collapsed": true
   },
   "outputs": [
    {
     "name": "stdout",
     "output_type": "stream",
     "text": [
      "시행횟수(  1)- D1:3, D2:6, [i-j]=3 \n",
      "시행횟수(  2)- D1:5, D2:1, [i-j]=4 \n",
      "시행횟수(  3)- D1:2, D2:5, [i-j]=3 \n",
      "시행횟수(  4)- D1:3, D2:4, [i-j]=1 \n",
      "시행횟수(  5)- D1:4, D2:5, [i-j]=1 \n",
      "시행횟수(  6)- D1:6, D2:5, [i-j]=1 \n",
      "시행횟수(  7)- D1:5, D2:6, [i-j]=1 \n",
      "시행횟수(  8)- D1:5, D2:4, [i-j]=1 \n",
      "시행횟수(  9)- D1:4, D2:2, [i-j]=2 \n",
      "시행횟수( 10)- D1:4, D2:4, [i-j]=0 \n",
      "시행횟수( 11)- D1:3, D2:4, [i-j]=1 \n",
      "시행횟수( 12)- D1:2, D2:4, [i-j]=2 \n",
      "시행횟수( 13)- D1:6, D2:5, [i-j]=1 \n",
      "시행횟수( 14)- D1:2, D2:1, [i-j]=1 \n",
      "시행횟수( 15)- D1:4, D2:2, [i-j]=2 \n",
      "시행횟수( 16)- D1:5, D2:6, [i-j]=1 \n",
      "시행횟수( 17)- D1:1, D2:5, [i-j]=4 \n",
      "시행횟수( 18)- D1:5, D2:4, [i-j]=1 \n",
      "시행횟수( 19)- D1:4, D2:4, [i-j]=0 \n",
      "시행횟수( 20)- D1:5, D2:4, [i-j]=1 \n"
     ]
    },
    {
     "data": {
      "text/plain": [
       "{0, 1, 2, 3, 4}"
      ]
     },
     "execution_count": 11,
     "metadata": {},
     "output_type": "execute_result"
    }
   ],
   "source": [
    "import random\n",
    "\n",
    "X, X1 = list(), list()\n",
    "for k in range(20):  # 숫자를 20 --> 100으로 늘려서 시행하기\n",
    "    i = random.randint(1, 6)\n",
    "    j = random.randint(1, 6)\n",
    "    X1.append([i, j, abs(i-j)])\n",
    "    print(f'시행횟수({k+1:>3})- D1:{i}, D2:{j}, [i-j]={abs(i-j)} ')\n",
    "\n",
    "X = [ X1[i][2] for i in range(len(X1)) ]\n",
    "Sx = set(X)\n",
    "Sx"
   ]
  },
  {
   "cell_type": "markdown",
   "id": "c719c5aa",
   "metadata": {},
   "source": [
    "### [실습] 붓꽃데이터에서 확률변수로 사용할 수 있는 것은\n",
    "-꽃잎(sepal), 꽃받침(petal)의 length, width, 붓꽃의 종류(species)가 모두 확률변수로 사용될 수 있다.(5개)"
   ]
  },
  {
   "cell_type": "code",
   "execution_count": null,
   "id": "75b5dd42",
   "metadata": {},
   "outputs": [],
   "source": [
    "# 사이킷런 빌트인 데이터셋(sklearn.datasets): 붓꽃\n",
    "from sklearn.datasets import load_iris\n",
    "iris = load_iris()\n",
    "iris"
   ]
  },
  {
   "cell_type": "code",
   "execution_count": 21,
   "id": "eafbf8bf",
   "metadata": {},
   "outputs": [
    {
     "name": "stdout",
     "output_type": "stream",
     "text": [
      "이산확률변수(species) : ['setosa' 'versicolor' 'virginica']\n",
      "연속확률변수(sepal_length, sepal_width, petal_length, petal_width)\n",
      ": sepal_length(4.3~7.9)\n"
     ]
    }
   ],
   "source": [
    "# seaborn 빌트인 데이터셋 \n",
    "import seaborn as sns\n",
    "df = sns.load_dataset('iris')\n",
    "df\n",
    "print(f'이산확률변수(species) : {df.species.unique()}')\n",
    "print(f'''연속확률변수(sepal_length, sepal_width, petal_length, petal_width)\n",
    ": sepal_length({df.sepal_length.min()}~{df.sepal_length.max()})''')"
   ]
  },
  {
   "cell_type": "markdown",
   "id": "f2efb956",
   "metadata": {},
   "source": [
    "### #확률질량함수 (Probability Mass Function: PMF) \n",
    "이산확률변수의 분포를 나타내는 함수"
   ]
  },
  {
   "cell_type": "markdown",
   "id": "7bef7dd3",
   "metadata": {},
   "source": [
    "### [실습] 예제 6-3:주사위를 두 번 반복 시행해서 두 눈의 차의 절대값: 확률변수 X "
   ]
  },
  {
   "cell_type": "markdown",
   "id": "7e2b3dd7",
   "metadata": {},
   "source": [
    "1. 상태공간(Sx)과 확률변수(X) 구하기"
   ]
  },
  {
   "cell_type": "code",
   "execution_count": 89,
   "id": "32932d76",
   "metadata": {},
   "outputs": [
    {
     "name": "stdout",
     "output_type": "stream",
     "text": [
      "상태공간(Sx) : {0, 1, 2, 3, 4, 5}\n",
      "확률변수(X) : {0, 1, 2, 3, 4, 5}\n"
     ]
    }
   ],
   "source": [
    "d1 = [1,2,3,4,5,6]\n",
    "d2 = [1,2,3,4,5,6]\n",
    "Sx = list()\n",
    "for i in d1:\n",
    "    for j in d2:        \n",
    "        Sx.append(abs(i-j))\n",
    "Sx.sort()\n",
    "Sx = set(Sx)\n",
    "print(f'상태공간(Sx) : {Sx}')\n",
    "X = list(set(Sx))\n",
    "print(f'확률변수(X) : {set(X)}')"
   ]
  },
  {
   "cell_type": "markdown",
   "id": "5444a415",
   "metadata": {},
   "source": [
    "2. 확률변수X의 확률질량함수(fx) 만들기"
   ]
  },
  {
   "cell_type": "code",
   "execution_count": 24,
   "id": "7b8bb5fa",
   "metadata": {},
   "outputs": [],
   "source": [
    "# 확률변수 X(함수)\n",
    "def f(x) :\n",
    "    cnt = 0\n",
    "    for i in d1:\n",
    "        for j in d2:        \n",
    "            if abs(i-j) == x: \n",
    "                cnt += 1\n",
    "    return cnt / (len(d1)*len(d2))"
   ]
  },
  {
   "cell_type": "markdown",
   "id": "f34d35e8",
   "metadata": {},
   "source": [
    "3. 확률변수 X의 확률 구하기"
   ]
  },
  {
   "cell_type": "code",
   "execution_count": 30,
   "id": "3fbc2a2b",
   "metadata": {},
   "outputs": [
    {
     "data": {
      "text/plain": [
       "[0.16666666666666666,\n",
       " 0.2777777777777778,\n",
       " 0.2222222222222222,\n",
       " 0.16666666666666666,\n",
       " 0.1111111111111111,\n",
       " 0.05555555555555555]"
      ]
     },
     "execution_count": 30,
     "metadata": {},
     "output_type": "execute_result"
    }
   ],
   "source": [
    "# 확률변수 X의 확률\n",
    "prob = [f(X) for X in Sx]\n",
    "prob"
   ]
  },
  {
   "cell_type": "markdown",
   "id": "8b8f66a8",
   "metadata": {},
   "source": [
    "- **확률의 합**"
   ]
  },
  {
   "cell_type": "code",
   "execution_count": 31,
   "id": "45e1fc47",
   "metadata": {},
   "outputs": [
    {
     "data": {
      "text/plain": [
       "1.0"
      ]
     },
     "execution_count": 31,
     "metadata": {},
     "output_type": "execute_result"
    }
   ],
   "source": [
    "sum(prob)"
   ]
  },
  {
   "cell_type": "markdown",
   "id": "6db383d2",
   "metadata": {},
   "source": [
    "- **확률변수의 상태 값과 확률**"
   ]
  },
  {
   "cell_type": "code",
   "execution_count": 33,
   "id": "ab532d0c",
   "metadata": {},
   "outputs": [
    {
     "data": {
      "text/plain": [
       "{0: 0.16666666666666666,\n",
       " 1: 0.2777777777777778,\n",
       " 2: 0.2222222222222222,\n",
       " 3: 0.16666666666666666,\n",
       " 4: 0.1111111111111111,\n",
       " 5: 0.05555555555555555}"
      ]
     },
     "execution_count": 33,
     "metadata": {},
     "output_type": "execute_result"
    }
   ],
   "source": [
    "dict(zip(Sx, prob))"
   ]
  },
  {
   "cell_type": "markdown",
   "id": "e81a4e6d",
   "metadata": {},
   "source": [
    "- **확률변수가 취할 수 있는 값과 확률의 대응 그래프**"
   ]
  },
  {
   "cell_type": "code",
   "execution_count": 37,
   "id": "29528fdf",
   "metadata": {
    "scrolled": false
   },
   "outputs": [
    {
     "data": {
      "image/png": "[encoded data removed]",
      "text/plain": [
       "<Figure size 432x288 with 1 Axes>"
      ]
     },
     "metadata": {
      "needs_background": "light"
     },
     "output_type": "display_data"
    }
   ],
   "source": [
    "import matplotlib.pyplot as plt\n",
    "\n",
    "plt.rcParams['font.family'] = 'Malgun Gothic' #폰트: 맑은 고딕으로 설정 \n",
    "plt.rcParams['axes.unicode_minus'] = False    #그래프축 값 마이너스 표시\n",
    "\n",
    "X = list(Sx)\n",
    "Y = prob\n",
    "\n",
    "plt.bar(X, Y, zorder=1)\n",
    "plt.scatter(X, Y, c='r', zorder=2)\n",
    "for x, y in  zip(X, Y):\n",
    "    plt.text(x, y, (x,round(y,2)))\n",
    "    \n",
    "plt.title(\"주사위 두 번 시행의 확률질량함수\")\n",
    "plt.xlabel(\"확률변수X\")\n",
    "plt.ylabel(\"확률\")\n",
    "plt.grid()\n",
    "\n",
    "plt.show()"
   ]
  },
  {
   "cell_type": "markdown",
   "id": "ea68d0b1",
   "metadata": {},
   "source": [
    "---------"
   ]
  },
  {
   "cell_type": "markdown",
   "id": "b88ef616",
   "metadata": {},
   "source": [
    "## 5/13일 수업"
   ]
  },
  {
   "cell_type": "markdown",
   "id": "2628b7dd",
   "metadata": {},
   "source": [
    "### [실습] 확률질량함수와 확률 구하기"
   ]
  },
  {
   "cell_type": "markdown",
   "id": "2fea1aee",
   "metadata": {},
   "source": [
    "- 1. X가 취할 수 있는 상태공간(Sx)과 확률변수(X), 확률(prob) 구하기"
   ]
  },
  {
   "cell_type": "code",
   "execution_count": 60,
   "id": "35d87e3f",
   "metadata": {
    "scrolled": true
   },
   "outputs": [
    {
     "name": "stdout",
     "output_type": "stream",
     "text": [
      "동전 4번 던지는 상태공간(Sx): ['HHHH', 'HHHT', 'HHTH', 'HHTT', 'HTHH', 'HTHT', 'HTTH', 'HTTT', 'THHH', 'THHT', 'THTH', 'THTT', 'TTHH', 'TTHT', 'TTTH', 'TTTT']\n",
      "확률변수(X=0)의 사건: ['TTTT']\n",
      "확률변수(X=1)의 사건: ['HTTT', 'THTT', 'TTHT', 'TTTH']\n",
      "확률변수(X=2)의 사건: ['HHTT', 'HTHT', 'HTTH', 'THHT', 'THTH', 'TTHH']\n",
      "확률변수(X=3)의 사건: ['HHHT', 'HHTH', 'HTHH', 'THHH']\n",
      "확률변수(X=4)의 사건: ['HHHH']\n",
      "#확률변수와 확률: {0: 0.0625, 1: 0.25, 2: 0.375, 3: 0.25, 4: 0.0625}\n"
     ]
    },
    {
     "data": {
      "image/png": "[encoded data removed]",
      "text/plain": [
       "<Figure size 432x288 with 1 Axes>"
      ]
     },
     "metadata": {
      "needs_background": "light"
     },
     "output_type": "display_data"
    }
   ],
   "source": [
    "import itertools\n",
    "\n",
    "# 1.동전 던지기 상태공간(Sx)\n",
    "t = {'H', 'T'} # coin\n",
    "r = 4          # repeat\n",
    "Sx = list(itertools.product(t, repeat=r))\n",
    "Sx = [''.join(x) for x in Sx]\n",
    "print(f'동전 {r}번 던지는 상태공간(Sx): {Sx}')\n",
    "\n",
    "\n",
    "# 2.확률변수(X)\n",
    "S = [s.count('H') for s in Sx]   # 앞면(H)의 수 세기\n",
    "X = list(set(S))\n",
    "for x in X:\n",
    "    print(f'확률변수(X={x})의 사건: { [Sx[idx] for idx, v in enumerate(S) if x==v]  }')\n",
    "\n",
    "\n",
    "# 3.확률질량함수(fx)\n",
    "def f(x):\n",
    "    return S.count(x) / len(Sx)\n",
    "\n",
    "\n",
    "# 4.확률변수X의 확률\n",
    "prob = [f(x) for x in X]\n",
    "print(f'#확률변수와 확률: {dict(zip(X, prob))}')\n",
    "\n",
    "\n",
    "\n",
    "# 확률변수와 확률 그래프로 나타내기\n",
    "import matplotlib.pyplot as plt\n",
    "\n",
    "plt.bar(X, prob)\n",
    "plt.show()"
   ]
  },
  {
   "cell_type": "code",
   "execution_count": 61,
   "id": "1317b5dd",
   "metadata": {
    "scrolled": false
   },
   "outputs": [
    {
     "name": "stdout",
     "output_type": "stream",
     "text": [
      "(b) 2일 확률: 0.375\n",
      "(c) 2이상일 확률: 0.6875\n",
      "(d) 3이하일 확률: 0.9375\n"
     ]
    }
   ],
   "source": [
    "# 확률 구하기\n",
    "print(f'(b) 2일 확률: {f(2)}')\n",
    "print(f'(c) 2이상일 확률: { sum([f(x) for x in X if x>=2]) }')\n",
    "print(f'(d) 3이하일 확률: { sum([f(x) for x in X if x<=3]) }')"
   ]
  },
  {
   "cell_type": "markdown",
   "id": "fd130602",
   "metadata": {},
   "source": [
    "### 이산확률변수 분포함수"
   ]
  },
  {
   "cell_type": "markdown",
   "id": "d2f7e3af",
   "metadata": {},
   "source": [
    "동전 두 번 던지기에서 앞면이 나온 횟수를 확률변수 X라 할 때"
   ]
  },
  {
   "cell_type": "code",
   "execution_count": 65,
   "id": "2c1529d3",
   "metadata": {},
   "outputs": [
    {
     "name": "stdout",
     "output_type": "stream",
     "text": [
      "동전 2번 던지는 상태공간(Sx): ['HH', 'HT', 'TH', 'TT']\n",
      "동전 2번 던지는 상태공간(S): [2, 1, 1, 0]\n",
      "확률변수(X=0)의 사건: ['TT']\n",
      "확률변수(X=1)의 사건: ['HT', 'TH']\n",
      "확률변수(X=2)의 사건: ['HH']\n",
      "#확률변수X의 확률질량함수: {0: 0.25, 1: 0.5, 2: 0.25}\n",
      "#확률변수X의 확률분포함수: {0: 0.25, 1: 0.75, 2: 1.0}\n"
     ]
    }
   ],
   "source": [
    "import itertools\n",
    "\n",
    "# 1.동전 던지기 상태공간(Sx)\n",
    "t = {'H', 'T'} # coin\n",
    "r = 2          # repeat\n",
    "Sx = list(itertools.product(t, repeat=r))\n",
    "Sx = [''.join(x) for x in Sx]\n",
    "print(f'동전 {r}번 던지는 상태공간(Sx): {Sx}')\n",
    "\n",
    "\n",
    "# 2.확률변수(X)\n",
    "S = [s.count('H') for s in Sx]   # 앞면(H)의 수 세기\n",
    "print(f'동전 {r}번 던지는 상태공간(S): {S}')\n",
    "X = list(set(S))\n",
    "for x in X:\n",
    "    print(f'확률변수(X={x})의 사건: { [Sx[idx] for idx, v in enumerate(S) if x==v]  }')\n",
    "\n",
    "\n",
    "# 3.확률질량함수(fx)\n",
    "def f(x):\n",
    "    return S.count(x) / len(Sx)\n",
    "\n",
    "\n",
    "# 4.확률분포함수(F(x))\n",
    "def F(x):\n",
    "    return sum([f(u) for u in X if u <= x])\n",
    "\n",
    "# 5.확률분포함수 누적확률\n",
    "probs = [f(x) for x in X]\n",
    "s_probs = [F(x) for x in X]\n",
    "print(f'#확률변수X의 확률질량함수: {dict(zip(X, probs))}')\n",
    "print(f'#확률변수X의 확률분포함수: {dict(zip(X, s_probs))}')"
   ]
  },
  {
   "cell_type": "code",
   "execution_count": 78,
   "id": "527c53c4",
   "metadata": {},
   "outputs": [
    {
     "data": {
      "image/png": "[encoded data removed]",
      "text/plain": [
       "<Figure size 432x288 with 1 Axes>"
      ]
     },
     "metadata": {
      "needs_background": "light"
     },
     "output_type": "display_data"
    }
   ],
   "source": [
    "# 동전 두 번  던지기에서 앞면이 나올 이산확률 분포\n",
    "import matplotlib.pyplot as plt\n",
    "\n",
    "# 한글출력 설정\n",
    "plt.rcParams['font.family'] = 'Malgun Gothic' #폰트: 맑은 고딕으로 설정 \n",
    "\n",
    "plt.stem(X, probs)\n",
    "plt.stem(X, s_probs, linefmt='--')\n",
    "plt.title(\"동전 두 번 던지기에서 \\n앞면이 나올 확률질량함수(fx), 확률분포함수(Fx)\")\n",
    "plt.xlabel(\"확률변수\")\n",
    "plt.ylabel(\"확률\")\n",
    "plt.grid()\n",
    "plt.show()"
   ]
  },
  {
   "cell_type": "markdown",
   "id": "166c752f",
   "metadata": {},
   "source": [
    "### [실습] 예제 6-4 : 분포함수 \n",
    "주사위 두 번 던지기, 확률변수X: 두 눈의 차의 절대값 "
   ]
  },
  {
   "cell_type": "code",
   "execution_count": 102,
   "id": "8afea668",
   "metadata": {},
   "outputs": [
    {
     "name": "stdout",
     "output_type": "stream",
     "text": [
      "상태공간(Sx) : {0, 1, 2, 3, 4, 5}\n",
      "확률변수(X) : [0, 1, 2, 3, 4, 5]\n",
      "#확률변수X의 확률질량함수: {0: 0.16666666666666666, 1: 0.2777777777777778, 2: 0.2222222222222222, 3: 0.16666666666666666, 4: 0.1111111111111111, 5: 0.05555555555555555}\n",
      "#확률변수X의 확률분포함수: {0: 0.16666666666666666, 1: 0.4444444444444444, 2: 0.6666666666666666, 3: 0.8333333333333333, 4: 0.9444444444444444, 5: 1.0}\n"
     ]
    },
    {
     "data": {
      "image/png": "[encoded data removed]",
      "text/plain": [
       "<Figure size 432x288 with 1 Axes>"
      ]
     },
     "metadata": {
      "needs_background": "light"
     },
     "output_type": "display_data"
    }
   ],
   "source": [
    "# 1.상태공간(Sx)\n",
    "D = [1,2,3,4,5,6]\n",
    "Sx = list()\n",
    "for i in D:\n",
    "    for j in D:        \n",
    "        Sx.append(abs(i-j))\n",
    "Sx.sort()\n",
    "Sx = set(Sx)\n",
    "print(f'상태공간(Sx) : {Sx}')\n",
    "\n",
    "# 2.확률변수\n",
    "X = list(set(Sx))\n",
    "print(f'확률변수(X) : {X}')\n",
    "\n",
    "\n",
    "# 3.확률질량함수(fx)\n",
    "def f(x) :\n",
    "    cnt = 0\n",
    "    for i in D:\n",
    "        for j in D:         \n",
    "            if abs(i-j) == x: \n",
    "                cnt += 1\n",
    "    return cnt / (len(d1)*len(d2))\n",
    "\n",
    "\n",
    "# 4.확률분포함수(F(x))\n",
    "def F(x):\n",
    "    return sum([f(u) for u in X if u <= x])\n",
    "\n",
    "\n",
    "# 5.확률분포함수 확률\n",
    "probs = [f(x) for x in X]\n",
    "s_probs = [F(x) for x in X]\n",
    "print(f'#확률변수X의 확률질량함수: {dict(zip(X, probs))}')\n",
    "print(f'#확률변수X의 확률분포함수: {dict(zip(X, s_probs))}')\n",
    "\n",
    "\n",
    "# 그래프로 그리기\n",
    "import matplotlib.pyplot as plt\n",
    "\n",
    "plt.bar(X, probs, zorder=2)\n",
    "plt.bar(X, s_probs, zorder=1)\n",
    "for x, y in  zip(X, s_probs):\n",
    "    plt.text(x, y, (x,round(y,2)) )\n",
    "plt.grid()\n",
    "plt.show()"
   ]
  },
  {
   "cell_type": "markdown",
   "id": "af5cd5a4",
   "metadata": {},
   "source": [
    "##### 확률 구하기"
   ]
  },
  {
   "cell_type": "code",
   "execution_count": 101,
   "id": "7ba9ada1",
   "metadata": {},
   "outputs": [
    {
     "name": "stdout",
     "output_type": "stream",
     "text": [
      "P(X=3)     : 0.16666666666666663 \n",
      "P(2<=X<=4) : 0.5 \n",
      "P(X>=4)    : 0.16666666666666674 \n"
     ]
    }
   ],
   "source": [
    "#(b) P(X=3)절대값이 3 이하가 되는 확률\n",
    "print(f'P(X=3)     : { F(3) - F(2) } ')\n",
    "\n",
    "#(c) P(2<=X<=4)\n",
    "print(f'P(2<=X<=4) : { F(4) - F(2) + probs[2] } ')\n",
    "\n",
    "#(d) P(X>=4) = 1 - P(X<=3)\n",
    "print(f'P(X>=4)    : { 1-F(3) } ')"
   ]
  },
  {
   "cell_type": "markdown",
   "id": "62aca7ae",
   "metadata": {},
   "source": [
    "-------"
   ]
  },
  {
   "cell_type": "markdown",
   "id": "03e16d70",
   "metadata": {},
   "source": [
    "## 6-2 연속확률변수 (Continuous Random Variable)"
   ]
  },
  {
   "cell_type": "markdown",
   "id": "8253459d",
   "metadata": {},
   "source": [
    "### 20세 이상 남성 키 데이터\n",
    "https://sizekorea.kr/page/report/1"
   ]
  },
  {
   "cell_type": "code",
   "execution_count": 103,
   "id": "372a0a12",
   "metadata": {},
   "outputs": [
    {
     "data": {
      "text/html": [
       "<div>\n",
       "<style scoped>\n",
       "    .dataframe tbody tr th:only-of-type {\n",
       "        vertical-align: middle;\n",
       "    }\n",
       "\n",
       "    .dataframe tbody tr th {\n",
       "        vertical-align: top;\n",
       "    }\n",
       "\n",
       "    .dataframe thead th {\n",
       "        text-align: right;\n",
       "    }\n",
       "</style>\n",
       "<table border=\"1\" class=\"dataframe\">\n",
       "  <thead>\n",
       "    <tr style=\"text-align: right;\">\n",
       "      <th></th>\n",
       "      <th>성별</th>\n",
       "      <th>나이</th>\n",
       "      <th>키</th>\n",
       "    </tr>\n",
       "  </thead>\n",
       "  <tbody>\n",
       "    <tr>\n",
       "      <th>0</th>\n",
       "      <td>남</td>\n",
       "      <td>25</td>\n",
       "      <td>173.0</td>\n",
       "    </tr>\n",
       "    <tr>\n",
       "      <th>1</th>\n",
       "      <td>남</td>\n",
       "      <td>28</td>\n",
       "      <td>183.0</td>\n",
       "    </tr>\n",
       "    <tr>\n",
       "      <th>3</th>\n",
       "      <td>남</td>\n",
       "      <td>20</td>\n",
       "      <td>175.0</td>\n",
       "    </tr>\n",
       "    <tr>\n",
       "      <th>4</th>\n",
       "      <td>남</td>\n",
       "      <td>22</td>\n",
       "      <td>185.0</td>\n",
       "    </tr>\n",
       "    <tr>\n",
       "      <th>5</th>\n",
       "      <td>남</td>\n",
       "      <td>23</td>\n",
       "      <td>178.0</td>\n",
       "    </tr>\n",
       "    <tr>\n",
       "      <th>...</th>\n",
       "      <td>...</td>\n",
       "      <td>...</td>\n",
       "      <td>...</td>\n",
       "    </tr>\n",
       "    <tr>\n",
       "      <th>4853</th>\n",
       "      <td>남</td>\n",
       "      <td>25</td>\n",
       "      <td>168.0</td>\n",
       "    </tr>\n",
       "    <tr>\n",
       "      <th>4856</th>\n",
       "      <td>남</td>\n",
       "      <td>29</td>\n",
       "      <td>174.0</td>\n",
       "    </tr>\n",
       "    <tr>\n",
       "      <th>4857</th>\n",
       "      <td>남</td>\n",
       "      <td>25</td>\n",
       "      <td>173.0</td>\n",
       "    </tr>\n",
       "    <tr>\n",
       "      <th>4867</th>\n",
       "      <td>남</td>\n",
       "      <td>24</td>\n",
       "      <td>168.0</td>\n",
       "    </tr>\n",
       "    <tr>\n",
       "      <th>4899</th>\n",
       "      <td>남</td>\n",
       "      <td>20</td>\n",
       "      <td>177.0</td>\n",
       "    </tr>\n",
       "  </tbody>\n",
       "</table>\n",
       "<p>869 rows × 3 columns</p>\n",
       "</div>"
      ],
      "text/plain": [
       "     성별  나이      키\n",
       "0     남  25  173.0\n",
       "1     남  28  183.0\n",
       "3     남  20  175.0\n",
       "4     남  22  185.0\n",
       "5     남  23  178.0\n",
       "...  ..  ..    ...\n",
       "4853  남  25  168.0\n",
       "4856  남  29  174.0\n",
       "4857  남  25  173.0\n",
       "4867  남  24  168.0\n",
       "4899  남  20  177.0\n",
       "\n",
       "[869 rows x 3 columns]"
      ]
     },
     "execution_count": 103,
     "metadata": {},
     "output_type": "execute_result"
    }
   ],
   "source": [
    "import pandas as pd\n",
    "\n",
    "# 한글사용할 때 engine='python'\n",
    "df = pd.read_csv('data/data_10.csv', encoding='utf-8')\n",
    "df\n",
    "df = df.query(\"성별=='남' and 나이>=20 and 나이<30\")\n",
    "df['키'] = df['키']//10\n",
    "df"
   ]
  },
  {
   "cell_type": "markdown",
   "id": "cc0fbc0c",
   "metadata": {},
   "source": [
    "#### 히스토그램 구간: '키' 로 지정"
   ]
  },
  {
   "cell_type": "code",
   "execution_count": 104,
   "id": "7b48774e",
   "metadata": {},
   "outputs": [
    {
     "data": {
      "image/png": "[encoded data removed]",
      "text/plain": [
       "<Figure size 432x288 with 1 Axes>"
      ]
     },
     "metadata": {
      "needs_background": "light"
     },
     "output_type": "display_data"
    }
   ],
   "source": [
    "# 히스토그램 구간 만들기\n",
    "plt.hist(df['키'])\n",
    "plt.title(\"히스토그램으로 나타낸 키 데이터 분포\")\n",
    "plt.xlabel(\"키구간\")\n",
    "plt.ylabel(\"도수\")\n",
    "plt.show()"
   ]
  },
  {
   "cell_type": "markdown",
   "id": "91a6986f",
   "metadata": {},
   "source": [
    "### 그래프 여러 개 하나로 나타내기"
   ]
  },
  {
   "cell_type": "code",
   "execution_count": 110,
   "id": "7bd73109",
   "metadata": {},
   "outputs": [
    {
     "data": {
      "image/png": "[encoded data removed]",
      "text/plain": [
       "<Figure size 720x432 with 4 Axes>"
      ]
     },
     "metadata": {
      "needs_background": "light"
     },
     "output_type": "display_data"
    }
   ],
   "source": [
    "w = 10\n",
    "h = 6\n",
    "fig = plt.figure(figsize=(w, h))\n",
    "ax1 = fig.add_subplot(2, 2, 1)\n",
    "ax2 = fig.add_subplot(2, 2, 2)\n",
    "ax3 = fig.add_subplot(2, 2, 3)\n",
    "ax4 = fig.add_subplot(2, 2, 4)\n",
    "\n",
    "ax1.hist(df['키'], bins=10, edgecolor='w') \n",
    "ax2.hist(df['키'], bins=20, edgecolor='w')\n",
    "ax3.hist(df['키'], bins=30, edgecolor='w') \n",
    "ax4.hist(df['키'], bins=40, edgecolor='w')\n",
    "plt.show()"
   ]
  },
  {
   "cell_type": "markdown",
   "id": "49f22577",
   "metadata": {},
   "source": [
    "### 확률밀도함수\n"
   ]
  },
  {
   "cell_type": "markdown",
   "id": "a6eb712b",
   "metadata": {},
   "source": [
    "#### 그래프에 수평선/수직선 그리기\n",
    "- Axes.hlines(self, y, xmin, xmax, colors=None, linestyles='solid', label='', *, data=None, **kwargs)\n",
    "- Axes.vlines(self, x, ymin, ymax, colors=None, linestyles='solid', label='', *, data=None, **kwargs)\n",
    "- Axes.fill_between(self, x, y1, y2=0, where=None, interpolate=False, step=None, **kwargs)"
   ]
  },
  {
   "cell_type": "markdown",
   "id": "fbf53957",
   "metadata": {},
   "source": [
    "### [실습] 예제 6-7: 연속확률변수의 확률밀도함수 구하기"
   ]
  },
  {
   "cell_type": "code",
   "execution_count": 142,
   "id": "41cb9b7c",
   "metadata": {},
   "outputs": [
    {
     "data": {
      "image/png": "[encoded data removed]",
      "text/plain": [
       "<Figure size 720x360 with 1 Axes>"
      ]
     },
     "metadata": {
      "needs_background": "light"
     },
     "output_type": "display_data"
    },
    {
     "name": "stdout",
     "output_type": "stream",
     "text": [
      "면적--> P(2<X<=3) : (0.3125, 3.469446951953614e-15) \n"
     ]
    }
   ],
   "source": [
    "import numpy as np\n",
    "import matplotlib.pyplot as plt\n",
    "\n",
    "plt.figure(figsize=(10,5))\n",
    "\n",
    "\n",
    "# 1.연속확률변수X\n",
    "X_range = np.array([0, 4]) # 실수로 나타내기 위해서\n",
    "\n",
    "\n",
    "# 2.확률밀도함수(fx)\n",
    "def f(x):\n",
    "    if X_range[0] <= x <= X_range[1]:\n",
    "        return (1/8*x)\n",
    "    else:\n",
    "        return 0\n",
    "\n",
    "    \n",
    "# 3.그래프로 구간 나타내기  \n",
    "X = np.linspace(X_range[0], X_range[1], 100) #0~4를 100개의 구간으로 나누기\n",
    "Y = [f(x) for x in X]\n",
    "# print(f'X : {X}')\n",
    "# print(f'Y : {Y}')\n",
    "\n",
    "plt.plot(X, Y, label='f(x)')\n",
    "plt.hlines(0, -0.1, 4.2, alpha=0.3)\n",
    "plt.vlines(0, -0.1, 0.6, alpha=0.3)\n",
    "plt.vlines(X.max(), 0, 0.6, linestyles=':', color='gray')\n",
    "# 구간 색칠하기\n",
    "plt.fill_between(X, Y, where=(X>2) & (X<=3), label='probs', color='orange')\n",
    "plt.legend()\n",
    "plt.title('$\\int_{0}^{4}x/8dx$ --> $P(2<X<=3)$')\n",
    "plt.show()\n",
    "\n",
    "\n",
    "# **확률(면적) 구하기**\n",
    "from scipy import integrate\n",
    "\n",
    "print(f'면적--> P(2<X<=3) : {integrate.quad(f,2,3)} ')  #f:피적분함수, 2,3: 적분범위   (-np.inf, np.inp: 무한대)\n",
    "#결과값: (0.3125, 3.469446951953614e-15)=(적분값, 추정오차)"
   ]
  },
  {
   "cell_type": "markdown",
   "id": "25e903c7",
   "metadata": {},
   "source": [
    "#### 누적분포함수"
   ]
  },
  {
   "cell_type": "code",
   "execution_count": 155,
   "id": "36b1a447",
   "metadata": {},
   "outputs": [
    {
     "data": {
      "text/plain": [
       "0.3124999999999945"
      ]
     },
     "execution_count": 155,
     "metadata": {},
     "output_type": "execute_result"
    }
   ],
   "source": [
    "def F(x):\n",
    "    return integrate.quad(f, -np.inf, x)[0]    #(-np.inf, np.inp: 무한대)\n",
    "\n",
    "F(3) - F(2)"
   ]
  },
  {
   "cell_type": "markdown",
   "id": "d52fa3f0",
   "metadata": {},
   "source": [
    "#### 누적분포함수 그리기"
   ]
  },
  {
   "cell_type": "code",
   "execution_count": 153,
   "id": "6ca7522a",
   "metadata": {
    "scrolled": true
   },
   "outputs": [
    {
     "data": {
      "image/png": "[encoded data removed]",
      "text/plain": [
       "<Figure size 720x360 with 1 Axes>"
      ]
     },
     "metadata": {
      "needs_background": "light"
     },
     "output_type": "display_data"
    }
   ],
   "source": [
    "X = np.linspace(X_range[0], X_range[1], 100) #0~4를 100개의 구간으로 나누기\n",
    "Y = [F(x) for x in X]\n",
    "\n",
    "plt.figure(figsize=(10,5))\n",
    "plt.plot(X, Y, label='F(x)')\n",
    "plt.hlines(0, -0.1, 4, alpha=0.3)\n",
    "plt.vlines(0, -0.1, 1.1, alpha=0.3)\n",
    "plt.vlines(X.max(), 0, 1, linestyles=':',color='gray')\n",
    "\n",
    "plt.xticks(np.arange(-0.1, 5, 1))\n",
    "plt.xlim(-0.2, 5)\n",
    "plt.ylim(-0.2, 1.1)\n",
    "plt.legend()\n",
    "\n",
    "plt.show()\n"
   ]
  },
  {
   "cell_type": "markdown",
   "id": "77dd2a1a",
   "metadata": {},
   "source": [
    "### [실습] 예제 6-8 : (구간 색칠하기 오류발생함)"
   ]
  },
  {
   "cell_type": "code",
   "execution_count": 189,
   "id": "f7b2730c",
   "metadata": {},
   "outputs": [
    {
     "data": {
      "image/png": "[encoded data removed]",
      "text/plain": [
       "<Figure size 720x360 with 1 Axes>"
      ]
     },
     "metadata": {
      "needs_background": "light"
     },
     "output_type": "display_data"
    },
    {
     "name": "stdout",
     "output_type": "stream",
     "text": [
      "면적--> P(X>2)    : (0.018315638888710205, 9.175589109027242e-09) \n",
      "면적--> P(1<X<=2) : (0.1170196443478785, 1.2991790348846178e-15) \n"
     ]
    }
   ],
   "source": [
    "# F(x) = 1 -e^-2x 미분하기\n",
    "import numpy as np\n",
    "import matplotlib.pyplot as plt\n",
    "import sympy\n",
    "import math\n",
    "\n",
    "plt.figure(figsize=(10,5))\n",
    "\n",
    "\n",
    "# 1.연속확률변수X\n",
    "X_range = np.array([0, 4]) # 실수로 나타내기 위해서\n",
    "\n",
    "\n",
    "# 2.확률밀도함수(fx)\n",
    "def f(x):\n",
    "    return 2*sympy.exp(-2*x)\n",
    "    #return 2*math.exp(-2*x)\n",
    "    \n",
    "# 3.그래프로 구간 나타내기  \n",
    "X = np.linspace(X_range[0], X_range[1], 100) #0~4를 100개의 구간으로 나누기\n",
    "Y = [f(x) for x in X]\n",
    "# print(f'X : {X}')\n",
    "# print(f'Y : {Y}')\n",
    "\n",
    "plt.plot(X, Y, label='f(x)')\n",
    "plt.hlines(0, -0.1, 4.2, alpha=0.3)\n",
    "plt.vlines(0, -0.1, 0.6, alpha=0.3)\n",
    "plt.vlines(X.max(), 0, 0.6, linestyles=':', color='gray')\n",
    "# 구간 색칠하기 (구간 색칠하기 오류발생함)\n",
    "#plt.fill_between(X, Y, where=(X>1) & (X<=2), label='probs', color='orange')\n",
    "plt.legend()\n",
    "plt.show()\n",
    "\n",
    "\n",
    "# **확률(면적) 구하기**\n",
    "from scipy import integrate \n",
    "print(f'면적--> P(X>2)    : {integrate.quad(f, 2, np.inf)} ') \n",
    "print(f'면적--> P(1<X<=2) : {integrate.quad(f, 1, 2)} ')\n"
   ]
  },
  {
   "cell_type": "markdown",
   "id": "a98735b3",
   "metadata": {},
   "source": [
    "### [실습] 예제: 확률구하고 그래프로 나타내기 \n",
    " - 전체 초등학생의 수는 10만명\n",
    " - 평균 키는 140, 표준편차는 5\n",
    "일 때\n",
    " - 무작위로 한 명을 추출할 때, 145<=키<150일 확률은?\n"
   ]
  },
  {
   "cell_type": "markdown",
   "id": "d2f26fb9",
   "metadata": {},
   "source": [
    "#### 참고 모듈\n",
    " - numpy.random.randint(n): 균일분포의 0~n-1사이의 정수 난수 1개 생성\n",
    " - numpy.random.rand(m,n) : 0 ~ 1 사이의 균일분포(표준정규분포) 난수를 matrix array(m,n) 생성\n",
    " - numpy.random.randn(m,n): 평균 0, 표준편차 1의 가우시안(표준정규분포) 난수를 matrix array(m,n) 생성 "
   ]
  },
  {
   "cell_type": "markdown",
   "id": "40b4311d",
   "metadata": {},
   "source": [
    " ##### 1. 평균 140, 표준편차 5인 결과로 10만명의 초등학생 키 데이터 만들기"
   ]
  },
  {
   "cell_type": "code",
   "execution_count": 210,
   "id": "152fc390",
   "metadata": {},
   "outputs": [
    {
     "data": {
      "text/plain": [
       "array([145.0879051 , 134.4394165 , 144.0981198 , ..., 147.7243652 ,\n",
       "       147.70029978, 134.31935896])"
      ]
     },
     "execution_count": 210,
     "metadata": {},
     "output_type": "execute_result"
    }
   ],
   "source": [
    "S, MEAN, STD = 100000, 140, 5\n",
    "data =  MEAN + np.random.randn(S) * STD\n",
    "data"
   ]
  },
  {
   "cell_type": "code",
   "execution_count": 195,
   "id": "7d26a3d5",
   "metadata": {},
   "outputs": [
    {
     "data": {
      "text/plain": [
       "140.01901902593897"
      ]
     },
     "execution_count": 195,
     "metadata": {},
     "output_type": "execute_result"
    }
   ],
   "source": [
    "data.mean()"
   ]
  },
  {
   "cell_type": "code",
   "execution_count": 196,
   "id": "4e491785",
   "metadata": {},
   "outputs": [
    {
     "data": {
      "text/plain": [
       "5.015863428914521"
      ]
     },
     "execution_count": 196,
     "metadata": {},
     "output_type": "execute_result"
    }
   ],
   "source": [
    "data.std()"
   ]
  },
  {
   "cell_type": "markdown",
   "id": "350cd960",
   "metadata": {},
   "source": [
    "##### 2. 145~150에 속할 확률 구하기"
   ]
  },
  {
   "cell_type": "code",
   "execution_count": 208,
   "id": "f28c7abe",
   "metadata": {},
   "outputs": [
    {
     "data": {
      "text/plain": [
       "0.13809"
      ]
     },
     "execution_count": 208,
     "metadata": {},
     "output_type": "execute_result"
    }
   ],
   "source": [
    "prob = len([ i for i in data if i >=145 and i<150]) / S\n",
    "prob"
   ]
  },
  {
   "cell_type": "markdown",
   "id": "495a87d7",
   "metadata": {},
   "source": [
    "##### 3. 그래프로 나타내기"
   ]
  },
  {
   "cell_type": "markdown",
   "id": "a7179efc",
   "metadata": {},
   "source": [
    "- 히스토그램으로 나타내보기"
   ]
  },
  {
   "cell_type": "code",
   "execution_count": 206,
   "id": "024fd3ed",
   "metadata": {
    "scrolled": true
   },
   "outputs": [
    {
     "data": {
      "image/png": "[encoded data removed]",
      "text/plain": [
       "<Figure size 432x288 with 1 Axes>"
      ]
     },
     "metadata": {
      "needs_background": "light"
     },
     "output_type": "display_data"
    }
   ],
   "source": [
    "# 히스토그램으로 나타내보기\n",
    "import matplotlib.pyplot as plt\n",
    "plt.hist(data,bins=100) # bins의 개수를 10~100개로 변경해 보기\n",
    "plt.show()"
   ]
  },
  {
   "cell_type": "markdown",
   "id": "48a34e5c",
   "metadata": {},
   "source": [
    "- 확률밀도함수(pdf) 그래프 그리기"
   ]
  },
  {
   "cell_type": "code",
   "execution_count": 214,
   "id": "15c8b191",
   "metadata": {
    "scrolled": true
   },
   "outputs": [
    {
     "data": {
      "image/png": "[encoded data removed]",
      "text/plain": [
       "<Figure size 432x288 with 1 Axes>"
      ]
     },
     "metadata": {
      "needs_background": "light"
     },
     "output_type": "display_data"
    }
   ],
   "source": [
    "from scipy.stats import norm    # 정규분포관련\n",
    "\n",
    "data.sort()\n",
    "X = data\n",
    "Y = norm.pdf(X, MEAN, STD)   #확률밀도함수(pdf)에 대한 표준정규분포(norm)\n",
    "\n",
    "plt.plot(X, Y)\n",
    "plt.hlines(0, min(X), max(X), alpha=0.3)\n",
    "plt.fill_between(X, Y, where=(X>=145) & (X<150), color='red', alpha=0.5)\n",
    "plt.show()"
   ]
  },
  {
   "cell_type": "markdown",
   "id": "778c6d10",
   "metadata": {},
   "source": [
    "-----"
   ]
  },
  {
   "cell_type": "markdown",
   "id": "51fce0c8",
   "metadata": {},
   "source": [
    "---------"
   ]
  },
  {
   "cell_type": "markdown",
   "id": "1f7b652e",
   "metadata": {},
   "source": [
    "## 6-3 확률변수의 평균과 분산"
   ]
  },
  {
   "cell_type": "markdown",
   "id": "35975225",
   "metadata": {},
   "source": [
    "### 예제: 상품권과 복권 수, 평균 상금"
   ]
  },
  {
   "cell_type": "markdown",
   "id": "772d4ea8",
   "metadata": {},
   "source": [
    "1. 표로 나타내기"
   ]
  },
  {
   "cell_type": "code",
   "execution_count": 232,
   "id": "781a2e19",
   "metadata": {
    "scrolled": true
   },
   "outputs": [
    {
     "data": {
      "text/html": [
       "<div>\n",
       "<style scoped>\n",
       "    .dataframe tbody tr th:only-of-type {\n",
       "        vertical-align: middle;\n",
       "    }\n",
       "\n",
       "    .dataframe tbody tr th {\n",
       "        vertical-align: top;\n",
       "    }\n",
       "\n",
       "    .dataframe thead th {\n",
       "        text-align: right;\n",
       "    }\n",
       "</style>\n",
       "<table border=\"1\" class=\"dataframe\">\n",
       "  <thead>\n",
       "    <tr style=\"text-align: right;\">\n",
       "      <th>복권</th>\n",
       "      <th>상품권</th>\n",
       "      <th>복권수</th>\n",
       "    </tr>\n",
       "  </thead>\n",
       "  <tbody>\n",
       "    <tr>\n",
       "      <th>0</th>\n",
       "      <td>100</td>\n",
       "      <td>2</td>\n",
       "    </tr>\n",
       "    <tr>\n",
       "      <th>1</th>\n",
       "      <td>50</td>\n",
       "      <td>8</td>\n",
       "    </tr>\n",
       "    <tr>\n",
       "      <th>2</th>\n",
       "      <td>10</td>\n",
       "      <td>10</td>\n",
       "    </tr>\n",
       "    <tr>\n",
       "      <th>3</th>\n",
       "      <td>0</td>\n",
       "      <td>30</td>\n",
       "    </tr>\n",
       "  </tbody>\n",
       "</table>\n",
       "</div>"
      ],
      "text/plain": [
       "복권  상품권  복권수\n",
       "0   100    2\n",
       "1    50    8\n",
       "2    10   10\n",
       "3     0   30"
      ]
     },
     "execution_count": 232,
     "metadata": {},
     "output_type": "execute_result"
    }
   ],
   "source": [
    "data = {'상품권': [100,50,10,0],\n",
    "        '복권수': [2,8,10,30]}\n",
    "df = pd.DataFrame(data)\n",
    "df.columns.name='복권'\n",
    "df"
   ]
  },
  {
   "cell_type": "markdown",
   "id": "3668c2b9",
   "metadata": {},
   "source": [
    "2. 당첨 확률 표시하기 (상대도수)"
   ]
  },
  {
   "cell_type": "code",
   "execution_count": 233,
   "id": "f63423f9",
   "metadata": {},
   "outputs": [
    {
     "data": {
      "text/html": [
       "<div>\n",
       "<style scoped>\n",
       "    .dataframe tbody tr th:only-of-type {\n",
       "        vertical-align: middle;\n",
       "    }\n",
       "\n",
       "    .dataframe tbody tr th {\n",
       "        vertical-align: top;\n",
       "    }\n",
       "\n",
       "    .dataframe thead th {\n",
       "        text-align: right;\n",
       "    }\n",
       "</style>\n",
       "<table border=\"1\" class=\"dataframe\">\n",
       "  <thead>\n",
       "    <tr style=\"text-align: right;\">\n",
       "      <th>복권</th>\n",
       "      <th>상품권</th>\n",
       "      <th>복권수</th>\n",
       "      <th>당첨확률</th>\n",
       "    </tr>\n",
       "  </thead>\n",
       "  <tbody>\n",
       "    <tr>\n",
       "      <th>0</th>\n",
       "      <td>100</td>\n",
       "      <td>2</td>\n",
       "      <td>0.04</td>\n",
       "    </tr>\n",
       "    <tr>\n",
       "      <th>1</th>\n",
       "      <td>50</td>\n",
       "      <td>8</td>\n",
       "      <td>0.16</td>\n",
       "    </tr>\n",
       "    <tr>\n",
       "      <th>2</th>\n",
       "      <td>10</td>\n",
       "      <td>10</td>\n",
       "      <td>0.20</td>\n",
       "    </tr>\n",
       "    <tr>\n",
       "      <th>3</th>\n",
       "      <td>0</td>\n",
       "      <td>30</td>\n",
       "      <td>0.60</td>\n",
       "    </tr>\n",
       "  </tbody>\n",
       "</table>\n",
       "</div>"
      ],
      "text/plain": [
       "복권  상품권  복권수  당첨확률\n",
       "0   100    2  0.04\n",
       "1    50    8  0.16\n",
       "2    10   10  0.20\n",
       "3     0   30  0.60"
      ]
     },
     "execution_count": 233,
     "metadata": {},
     "output_type": "execute_result"
    }
   ],
   "source": [
    "total = df['복권수'].sum()\n",
    "df['당첨확률'] = [ cnt/total for cnt in df['복권수'] ]\n",
    "df               "
   ]
  },
  {
   "cell_type": "markdown",
   "id": "4ce77b39",
   "metadata": {},
   "source": [
    "3. 평균 상금"
   ]
  },
  {
   "cell_type": "code",
   "execution_count": 63,
   "id": "15b43451",
   "metadata": {},
   "outputs": [
    {
     "data": {
      "text/plain": [
       "14.0"
      ]
     },
     "execution_count": 63,
     "metadata": {},
     "output_type": "execute_result"
    }
   ],
   "source": [
    "sum([ val*df['당첨확률'][idx] for idx, val in enumerate(df['상품권']) ])"
   ]
  },
  {
   "cell_type": "code",
   "execution_count": 235,
   "id": "79741bda",
   "metadata": {},
   "outputs": [
    {
     "data": {
      "text/plain": [
       "14.0"
      ]
     },
     "execution_count": 235,
     "metadata": {},
     "output_type": "execute_result"
    }
   ],
   "source": [
    "sum(df.상품권 * df.당첨확률)"
   ]
  },
  {
   "cell_type": "markdown",
   "id": "cecc1264",
   "metadata": {},
   "source": [
    "### 기대값: 확률변수의 평균\n",
    "- 확률변수를 몇 번이나(무제한) 시행하여 얻어진 실현값의 평균\n",
    "- 무제한 시행할 수 없으므로 확률변수가 취할 수 있는 값과 확률의 곱의 총합"
   ]
  },
  {
   "cell_type": "markdown",
   "id": "489aaaf5",
   "metadata": {},
   "source": [
    "### [실습] 예제:6-9 (이산확률변수의 평균- 기대값(Ex)\n",
    "이산확률변수의 기댓값은 표본공간의 원소 xi의 가중평균"
   ]
  },
  {
   "cell_type": "code",
   "execution_count": 271,
   "id": "28e08f16",
   "metadata": {
    "scrolled": true
   },
   "outputs": [
    {
     "name": "stdout",
     "output_type": "stream",
     "text": [
      "상태공간(Sx) : {0, 1, 2, 3, 4, 5}\n",
      "확률변수(X) : [0, 1, 2, 3, 4, 5]\n",
      "기대값 E(X): 1.9444444444444446\n"
     ]
    }
   ],
   "source": [
    "# 1.상태공간(Sx)\n",
    "D = [1,2,3,4,5,6]\n",
    "Sx = list()\n",
    "for i in D:\n",
    "    for j in D:        \n",
    "        Sx.append(abs(i-j))\n",
    "Sx.sort()\n",
    "Sx = set(Sx)\n",
    "print(f'상태공간(Sx) : {Sx}')\n",
    "\n",
    "# 2.확률변수\n",
    "X = list(set(Sx))\n",
    "print(f'확률변수(X) : {X}')\n",
    "\n",
    "\n",
    "# 3.확률질량함수(fx)\n",
    "def f(x) :\n",
    "    cnt = 0\n",
    "    for i in D:\n",
    "        for j in D:         \n",
    "            if abs(i-j) == x: \n",
    "                cnt += 1\n",
    "    return cnt / (len(d1)*len(d2))\n",
    "\n",
    "# 4.확률변수의 확률\n",
    "probs = [f(x) for x in X]\n",
    "\n",
    "\n",
    "# 5. 기대값 E(x)\n",
    "\n",
    "# def E(X):\n",
    "#     return np.sum([x * f(x) for x in X])\n",
    "\n",
    "def E(X, g=lambda x:x):\n",
    "    return np.sum([g(x) * f(x) for x in X])\n",
    "\n",
    "\n",
    "print(f'기대값 E(X): {E(X)}')\n"
   ]
  },
  {
   "cell_type": "code",
   "execution_count": 241,
   "id": "e1fe3178",
   "metadata": {},
   "outputs": [
    {
     "data": {
      "text/plain": [
       "4.888888888888888"
      ]
     },
     "execution_count": 241,
     "metadata": {},
     "output_type": "execute_result"
    }
   ],
   "source": [
    "E(X, g=lambda x:2*x+1)"
   ]
  },
  {
   "cell_type": "markdown",
   "id": "43255019",
   "metadata": {},
   "source": [
    "#### 이산확률변수에 대해 DataFrame을 이용하여 기대값 E(x) 구하기"
   ]
  },
  {
   "cell_type": "code",
   "execution_count": 229,
   "id": "9ce94152",
   "metadata": {
    "scrolled": true
   },
   "outputs": [
    {
     "data": {
      "text/plain": [
       "1.9444444444444446"
      ]
     },
     "execution_count": 229,
     "metadata": {},
     "output_type": "execute_result"
    }
   ],
   "source": [
    "# 표로 만들어 보기\n",
    "data = list(zip(X, probs))\n",
    "df = pd.DataFrame(data, columns=['확률변수','확률'])\n",
    "df"
   ]
  },
  {
   "cell_type": "code",
   "execution_count": 238,
   "id": "5d081733",
   "metadata": {},
   "outputs": [
    {
     "data": {
      "text/plain": [
       "1.9444444444444446"
      ]
     },
     "execution_count": 238,
     "metadata": {},
     "output_type": "execute_result"
    }
   ],
   "source": [
    "# 기대값 E(x)\n",
    "sum(df.확률변수 * df.확률)"
   ]
  },
  {
   "cell_type": "code",
   "execution_count": 231,
   "id": "f1bbd9f2",
   "metadata": {},
   "outputs": [
    {
     "data": {
      "text/plain": [
       "5.833333333333334"
      ]
     },
     "execution_count": 231,
     "metadata": {},
     "output_type": "execute_result"
    }
   ],
   "source": [
    "E(X, g=lambda x:x**2)"
   ]
  },
  {
   "attachments": {},
   "cell_type": "markdown",
   "id": "b0d254d2",
   "metadata": {},
   "source": [
    "### 분산"
   ]
  },
  {
   "cell_type": "code",
   "execution_count": 272,
   "id": "6dab225c",
   "metadata": {},
   "outputs": [
    {
     "data": {
      "text/plain": [
       "2.052469135802469"
      ]
     },
     "execution_count": 272,
     "metadata": {},
     "output_type": "execute_result"
    }
   ],
   "source": [
    "mean = E(X)\n",
    "np.sum([(x - mean)**2 * f(x) for x in X])"
   ]
  },
  {
   "cell_type": "code",
   "execution_count": 273,
   "id": "1e421fcf",
   "metadata": {},
   "outputs": [
    {
     "data": {
      "text/plain": [
       "2.052469135802469"
      ]
     },
     "execution_count": 273,
     "metadata": {},
     "output_type": "execute_result"
    }
   ],
   "source": [
    "def V(X, g=lambda x:x):\n",
    "    mean = E(X, g)\n",
    "    return np.sum([(g(x) - mean)**2 * f(x) for x in X])\n",
    "\n",
    "V(X)"
   ]
  },
  {
   "cell_type": "code",
   "execution_count": 274,
   "id": "f85b059b",
   "metadata": {
    "scrolled": true
   },
   "outputs": [
    {
     "data": {
      "text/plain": [
       "8.209876543209877"
      ]
     },
     "execution_count": 274,
     "metadata": {},
     "output_type": "execute_result"
    }
   ],
   "source": [
    "V(X, g=lambda x:2*x+3)"
   ]
  },
  {
   "cell_type": "markdown",
   "id": "9f702a9f",
   "metadata": {},
   "source": [
    "### 표준편차"
   ]
  },
  {
   "cell_type": "code",
   "execution_count": 275,
   "id": "976c72e3",
   "metadata": {},
   "outputs": [
    {
     "data": {
      "text/plain": [
       "1.4326441064697364"
      ]
     },
     "execution_count": 275,
     "metadata": {},
     "output_type": "execute_result"
    }
   ],
   "source": [
    "V(X)**(1/2)"
   ]
  },
  {
   "cell_type": "markdown",
   "id": "335bdd16",
   "metadata": {},
   "source": [
    "-------"
   ]
  },
  {
   "cell_type": "markdown",
   "id": "5f0e5375",
   "metadata": {},
   "source": [
    "끝"
   ]
  },
  {
   "cell_type": "code",
   "execution_count": null,
   "id": "a05f5a73",
   "metadata": {},
   "outputs": [],
   "source": []
  }
 ],
 "metadata": {
  "kernelspec": {
   "display_name": "Python 3 (ipykernel)",
   "language": "python",
   "name": "python3"
  },
  "language_info": {
   "codemirror_mode": {
    "name": "ipython",
    "version": 3
   },
   "file_extension": ".py",
   "mimetype": "text/x-python",
   "name": "python",
   "nbconvert_exporter": "python",
   "pygments_lexer": "ipython3",
   "version": "3.8.10"
  }
 },
 "nbformat": 4,
 "nbformat_minor": 5
}
