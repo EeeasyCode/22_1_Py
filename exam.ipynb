{
 "cells": [
  {
   "cell_type": "markdown",
   "metadata": {},
   "source": [
    "pandas로 데이터 분석하기 "
   ]
  },
  {
   "cell_type": "code",
   "execution_count": 49,
   "metadata": {},
   "outputs": [
    {
     "data": {
      "text/html": [
       "<div>\n",
       "<style scoped>\n",
       "    .dataframe tbody tr th:only-of-type {\n",
       "        vertical-align: middle;\n",
       "    }\n",
       "\n",
       "    .dataframe tbody tr th {\n",
       "        vertical-align: top;\n",
       "    }\n",
       "\n",
       "    .dataframe thead th {\n",
       "        text-align: right;\n",
       "    }\n",
       "</style>\n",
       "<table border=\"1\" class=\"dataframe\">\n",
       "  <thead>\n",
       "    <tr style=\"text-align: right;\">\n",
       "      <th></th>\n",
       "      <th>행정구역별</th>\n",
       "      <th>2018</th>\n",
       "      <th>2019</th>\n",
       "      <th>2020</th>\n",
       "    </tr>\n",
       "  </thead>\n",
       "  <tbody>\n",
       "    <tr>\n",
       "      <th>0</th>\n",
       "      <td>전국</td>\n",
       "      <td>514.4</td>\n",
       "      <td>515.7</td>\n",
       "      <td>516.2</td>\n",
       "    </tr>\n",
       "    <tr>\n",
       "      <th>1</th>\n",
       "      <td>서울특별시</td>\n",
       "      <td>15983.7</td>\n",
       "      <td>15926.9</td>\n",
       "      <td>15839.0</td>\n",
       "    </tr>\n",
       "    <tr>\n",
       "      <th>2</th>\n",
       "      <td>부산광역시</td>\n",
       "      <td>4409.8</td>\n",
       "      <td>4379.7</td>\n",
       "      <td>4348.9</td>\n",
       "    </tr>\n",
       "    <tr>\n",
       "      <th>3</th>\n",
       "      <td>대구광역시</td>\n",
       "      <td>2766.7</td>\n",
       "      <td>2750.3</td>\n",
       "      <td>2728.6</td>\n",
       "    </tr>\n",
       "    <tr>\n",
       "      <th>4</th>\n",
       "      <td>인천광역시</td>\n",
       "      <td>2761.4</td>\n",
       "      <td>2776.6</td>\n",
       "      <td>2765.1</td>\n",
       "    </tr>\n",
       "    <tr>\n",
       "      <th>5</th>\n",
       "      <td>광주광역시</td>\n",
       "      <td>2973.2</td>\n",
       "      <td>2972.7</td>\n",
       "      <td>2948.5</td>\n",
       "    </tr>\n",
       "    <tr>\n",
       "      <th>6</th>\n",
       "      <td>대전광역시</td>\n",
       "      <td>2801.0</td>\n",
       "      <td>2777.5</td>\n",
       "      <td>2758.1</td>\n",
       "    </tr>\n",
       "    <tr>\n",
       "      <th>7</th>\n",
       "      <td>울산광역시</td>\n",
       "      <td>1083.4</td>\n",
       "      <td>1076.9</td>\n",
       "      <td>1069.0</td>\n",
       "    </tr>\n",
       "    <tr>\n",
       "      <th>8</th>\n",
       "      <td>세종특별자치시</td>\n",
       "      <td>671.9</td>\n",
       "      <td>727.3</td>\n",
       "      <td>761.3</td>\n",
       "    </tr>\n",
       "    <tr>\n",
       "      <th>9</th>\n",
       "      <td>경기도</td>\n",
       "      <td>1286.2</td>\n",
       "      <td>1305.0</td>\n",
       "      <td>1325.3</td>\n",
       "    </tr>\n",
       "    <tr>\n",
       "      <th>10</th>\n",
       "      <td>강원도</td>\n",
       "      <td>90.3</td>\n",
       "      <td>90.3</td>\n",
       "      <td>90.4</td>\n",
       "    </tr>\n",
       "    <tr>\n",
       "      <th>11</th>\n",
       "      <td>충청북도</td>\n",
       "      <td>218.8</td>\n",
       "      <td>220.0</td>\n",
       "      <td>220.3</td>\n",
       "    </tr>\n",
       "    <tr>\n",
       "      <th>12</th>\n",
       "      <td>충청남도</td>\n",
       "      <td>265.1</td>\n",
       "      <td>265.4</td>\n",
       "      <td>264.0</td>\n",
       "    </tr>\n",
       "    <tr>\n",
       "      <th>13</th>\n",
       "      <td>전라북도</td>\n",
       "      <td>225.3</td>\n",
       "      <td>224.0</td>\n",
       "      <td>223.4</td>\n",
       "    </tr>\n",
       "    <tr>\n",
       "      <th>14</th>\n",
       "      <td>전라남도</td>\n",
       "      <td>145.0</td>\n",
       "      <td>144.8</td>\n",
       "      <td>144.9</td>\n",
       "    </tr>\n",
       "    <tr>\n",
       "      <th>15</th>\n",
       "      <td>경상북도</td>\n",
       "      <td>140.4</td>\n",
       "      <td>140.2</td>\n",
       "      <td>138.9</td>\n",
       "    </tr>\n",
       "    <tr>\n",
       "      <th>16</th>\n",
       "      <td>경상남도</td>\n",
       "      <td>317.9</td>\n",
       "      <td>317.6</td>\n",
       "      <td>316.2</td>\n",
       "    </tr>\n",
       "    <tr>\n",
       "      <th>17</th>\n",
       "      <td>제주도</td>\n",
       "      <td>355.8</td>\n",
       "      <td>359.4</td>\n",
       "      <td>362.6</td>\n",
       "    </tr>\n",
       "  </tbody>\n",
       "</table>\n",
       "</div>"
      ],
      "text/plain": [
       "      행정구역별     2018     2019     2020\n",
       "0        전국    514.4    515.7    516.2\n",
       "1     서울특별시  15983.7  15926.9  15839.0\n",
       "2     부산광역시   4409.8   4379.7   4348.9\n",
       "3     대구광역시   2766.7   2750.3   2728.6\n",
       "4     인천광역시   2761.4   2776.6   2765.1\n",
       "5     광주광역시   2973.2   2972.7   2948.5\n",
       "6     대전광역시   2801.0   2777.5   2758.1\n",
       "7     울산광역시   1083.4   1076.9   1069.0\n",
       "8   세종특별자치시    671.9    727.3    761.3\n",
       "9       경기도   1286.2   1305.0   1325.3\n",
       "10      강원도     90.3     90.3     90.4\n",
       "11     충청북도    218.8    220.0    220.3\n",
       "12     충청남도    265.1    265.4    264.0\n",
       "13     전라북도    225.3    224.0    223.4\n",
       "14     전라남도    145.0    144.8    144.9\n",
       "15     경상북도    140.4    140.2    138.9\n",
       "16     경상남도    317.9    317.6    316.2\n",
       "17      제주도    355.8    359.4    362.6"
      ]
     },
     "execution_count": 49,
     "metadata": {},
     "output_type": "execute_result"
    }
   ],
   "source": [
    "import pandas as pd\n",
    "pd.read_csv('4주차-강의자료/data/인구밀도_인구주택총조사기준__20220324184910.csv', encoding='cp949')"
   ]
  },
  {
   "cell_type": "code",
   "execution_count": 50,
   "metadata": {},
   "outputs": [
    {
     "data": {
      "text/html": [
       "<div>\n",
       "<style scoped>\n",
       "    .dataframe tbody tr th:only-of-type {\n",
       "        vertical-align: middle;\n",
       "    }\n",
       "\n",
       "    .dataframe tbody tr th {\n",
       "        vertical-align: top;\n",
       "    }\n",
       "\n",
       "    .dataframe thead th {\n",
       "        text-align: right;\n",
       "    }\n",
       "</style>\n",
       "<table border=\"1\" class=\"dataframe\">\n",
       "  <thead>\n",
       "    <tr style=\"text-align: right;\">\n",
       "      <th></th>\n",
       "      <th>행정구역별</th>\n",
       "      <th>2018</th>\n",
       "      <th>2019</th>\n",
       "      <th>2020</th>\n",
       "    </tr>\n",
       "  </thead>\n",
       "  <tbody>\n",
       "    <tr>\n",
       "      <th>0</th>\n",
       "      <td>전국</td>\n",
       "      <td>514.4</td>\n",
       "      <td>515.7</td>\n",
       "      <td>516.2</td>\n",
       "    </tr>\n",
       "    <tr>\n",
       "      <th>1</th>\n",
       "      <td>서울특별시</td>\n",
       "      <td>15983.7</td>\n",
       "      <td>15926.9</td>\n",
       "      <td>15839.0</td>\n",
       "    </tr>\n",
       "    <tr>\n",
       "      <th>2</th>\n",
       "      <td>부산광역시</td>\n",
       "      <td>4409.8</td>\n",
       "      <td>4379.7</td>\n",
       "      <td>4348.9</td>\n",
       "    </tr>\n",
       "    <tr>\n",
       "      <th>3</th>\n",
       "      <td>대구광역시</td>\n",
       "      <td>2766.7</td>\n",
       "      <td>2750.3</td>\n",
       "      <td>2728.6</td>\n",
       "    </tr>\n",
       "    <tr>\n",
       "      <th>4</th>\n",
       "      <td>인천광역시</td>\n",
       "      <td>2761.4</td>\n",
       "      <td>2776.6</td>\n",
       "      <td>2765.1</td>\n",
       "    </tr>\n",
       "  </tbody>\n",
       "</table>\n",
       "</div>"
      ],
      "text/plain": [
       "   행정구역별     2018     2019     2020\n",
       "0     전국    514.4    515.7    516.2\n",
       "1  서울특별시  15983.7  15926.9  15839.0\n",
       "2  부산광역시   4409.8   4379.7   4348.9\n",
       "3  대구광역시   2766.7   2750.3   2728.6\n",
       "4  인천광역시   2761.4   2776.6   2765.1"
      ]
     },
     "execution_count": 50,
     "metadata": {},
     "output_type": "execute_result"
    }
   ],
   "source": [
    "data = pd.read_csv('4주차-강의자료/data/인구밀도_인구주택총조사기준__20220324184910.csv', encoding='cp949')\n",
    "# read_csv를 하게 되면 바로 dataframe 형식으로 불러와줌\n",
    "data.head()\n"
   ]
  },
  {
   "cell_type": "markdown",
   "metadata": {},
   "source": [
    "Dataframe으로 데이터 접근하기"
   ]
  },
  {
   "cell_type": "code",
   "execution_count": 51,
   "metadata": {},
   "outputs": [
    {
     "data": {
      "text/html": [
       "<div>\n",
       "<style scoped>\n",
       "    .dataframe tbody tr th:only-of-type {\n",
       "        vertical-align: middle;\n",
       "    }\n",
       "\n",
       "    .dataframe tbody tr th {\n",
       "        vertical-align: top;\n",
       "    }\n",
       "\n",
       "    .dataframe thead th {\n",
       "        text-align: right;\n",
       "    }\n",
       "</style>\n",
       "<table border=\"1\" class=\"dataframe\">\n",
       "  <thead>\n",
       "    <tr style=\"text-align: right;\">\n",
       "      <th></th>\n",
       "      <th>행정구역별</th>\n",
       "      <th>2018</th>\n",
       "      <th>2019</th>\n",
       "      <th>2020</th>\n",
       "    </tr>\n",
       "  </thead>\n",
       "  <tbody>\n",
       "    <tr>\n",
       "      <th>0</th>\n",
       "      <td>전국</td>\n",
       "      <td>514.4</td>\n",
       "      <td>515.7</td>\n",
       "      <td>516.2</td>\n",
       "    </tr>\n",
       "    <tr>\n",
       "      <th>1</th>\n",
       "      <td>서울특별시</td>\n",
       "      <td>15983.7</td>\n",
       "      <td>15926.9</td>\n",
       "      <td>15839.0</td>\n",
       "    </tr>\n",
       "    <tr>\n",
       "      <th>2</th>\n",
       "      <td>부산광역시</td>\n",
       "      <td>4409.8</td>\n",
       "      <td>4379.7</td>\n",
       "      <td>4348.9</td>\n",
       "    </tr>\n",
       "    <tr>\n",
       "      <th>3</th>\n",
       "      <td>대구광역시</td>\n",
       "      <td>2766.7</td>\n",
       "      <td>2750.3</td>\n",
       "      <td>2728.6</td>\n",
       "    </tr>\n",
       "    <tr>\n",
       "      <th>4</th>\n",
       "      <td>인천광역시</td>\n",
       "      <td>2761.4</td>\n",
       "      <td>2776.6</td>\n",
       "      <td>2765.1</td>\n",
       "    </tr>\n",
       "    <tr>\n",
       "      <th>5</th>\n",
       "      <td>광주광역시</td>\n",
       "      <td>2973.2</td>\n",
       "      <td>2972.7</td>\n",
       "      <td>2948.5</td>\n",
       "    </tr>\n",
       "    <tr>\n",
       "      <th>6</th>\n",
       "      <td>대전광역시</td>\n",
       "      <td>2801.0</td>\n",
       "      <td>2777.5</td>\n",
       "      <td>2758.1</td>\n",
       "    </tr>\n",
       "    <tr>\n",
       "      <th>7</th>\n",
       "      <td>울산광역시</td>\n",
       "      <td>1083.4</td>\n",
       "      <td>1076.9</td>\n",
       "      <td>1069.0</td>\n",
       "    </tr>\n",
       "    <tr>\n",
       "      <th>8</th>\n",
       "      <td>세종특별자치시</td>\n",
       "      <td>671.9</td>\n",
       "      <td>727.3</td>\n",
       "      <td>761.3</td>\n",
       "    </tr>\n",
       "    <tr>\n",
       "      <th>9</th>\n",
       "      <td>경기도</td>\n",
       "      <td>1286.2</td>\n",
       "      <td>1305.0</td>\n",
       "      <td>1325.3</td>\n",
       "    </tr>\n",
       "  </tbody>\n",
       "</table>\n",
       "</div>"
      ],
      "text/plain": [
       "     행정구역별     2018     2019     2020\n",
       "0       전국    514.4    515.7    516.2\n",
       "1    서울특별시  15983.7  15926.9  15839.0\n",
       "2    부산광역시   4409.8   4379.7   4348.9\n",
       "3    대구광역시   2766.7   2750.3   2728.6\n",
       "4    인천광역시   2761.4   2776.6   2765.1\n",
       "5    광주광역시   2973.2   2972.7   2948.5\n",
       "6    대전광역시   2801.0   2777.5   2758.1\n",
       "7    울산광역시   1083.4   1076.9   1069.0\n",
       "8  세종특별자치시    671.9    727.3    761.3\n",
       "9      경기도   1286.2   1305.0   1325.3"
      ]
     },
     "execution_count": 51,
     "metadata": {},
     "output_type": "execute_result"
    }
   ],
   "source": [
    "data[0:10]"
   ]
  },
  {
   "cell_type": "code",
   "execution_count": 56,
   "metadata": {},
   "outputs": [
    {
     "data": {
      "text/html": [
       "<div>\n",
       "<style scoped>\n",
       "    .dataframe tbody tr th:only-of-type {\n",
       "        vertical-align: middle;\n",
       "    }\n",
       "\n",
       "    .dataframe tbody tr th {\n",
       "        vertical-align: top;\n",
       "    }\n",
       "\n",
       "    .dataframe thead th {\n",
       "        text-align: right;\n",
       "    }\n",
       "</style>\n",
       "<table border=\"1\" class=\"dataframe\">\n",
       "  <thead>\n",
       "    <tr style=\"text-align: right;\">\n",
       "      <th></th>\n",
       "      <th>행정구역별</th>\n",
       "      <th>2018</th>\n",
       "      <th>2019</th>\n",
       "      <th>2020</th>\n",
       "    </tr>\n",
       "  </thead>\n",
       "  <tbody>\n",
       "    <tr>\n",
       "      <th>13</th>\n",
       "      <td>전라북도</td>\n",
       "      <td>225.3</td>\n",
       "      <td>224.0</td>\n",
       "      <td>223.4</td>\n",
       "    </tr>\n",
       "    <tr>\n",
       "      <th>14</th>\n",
       "      <td>전라남도</td>\n",
       "      <td>145.0</td>\n",
       "      <td>144.8</td>\n",
       "      <td>144.9</td>\n",
       "    </tr>\n",
       "    <tr>\n",
       "      <th>15</th>\n",
       "      <td>경상북도</td>\n",
       "      <td>140.4</td>\n",
       "      <td>140.2</td>\n",
       "      <td>138.9</td>\n",
       "    </tr>\n",
       "    <tr>\n",
       "      <th>16</th>\n",
       "      <td>경상남도</td>\n",
       "      <td>317.9</td>\n",
       "      <td>317.6</td>\n",
       "      <td>316.2</td>\n",
       "    </tr>\n",
       "    <tr>\n",
       "      <th>17</th>\n",
       "      <td>제주도</td>\n",
       "      <td>355.8</td>\n",
       "      <td>359.4</td>\n",
       "      <td>362.6</td>\n",
       "    </tr>\n",
       "  </tbody>\n",
       "</table>\n",
       "</div>"
      ],
      "text/plain": [
       "   행정구역별   2018   2019   2020\n",
       "13  전라북도  225.3  224.0  223.4\n",
       "14  전라남도  145.0  144.8  144.9\n",
       "15  경상북도  140.4  140.2  138.9\n",
       "16  경상남도  317.9  317.6  316.2\n",
       "17   제주도  355.8  359.4  362.6"
      ]
     },
     "execution_count": 56,
     "metadata": {},
     "output_type": "execute_result"
    }
   ],
   "source": [
    "data.tail()"
   ]
  },
  {
   "cell_type": "code",
   "execution_count": 52,
   "metadata": {},
   "outputs": [
    {
     "data": {
      "text/html": [
       "<div>\n",
       "<style scoped>\n",
       "    .dataframe tbody tr th:only-of-type {\n",
       "        vertical-align: middle;\n",
       "    }\n",
       "\n",
       "    .dataframe tbody tr th {\n",
       "        vertical-align: top;\n",
       "    }\n",
       "\n",
       "    .dataframe thead th {\n",
       "        text-align: right;\n",
       "    }\n",
       "</style>\n",
       "<table border=\"1\" class=\"dataframe\">\n",
       "  <thead>\n",
       "    <tr style=\"text-align: right;\">\n",
       "      <th></th>\n",
       "      <th>행정구역별</th>\n",
       "      <th>2020</th>\n",
       "    </tr>\n",
       "  </thead>\n",
       "  <tbody>\n",
       "    <tr>\n",
       "      <th>0</th>\n",
       "      <td>전국</td>\n",
       "      <td>516.2</td>\n",
       "    </tr>\n",
       "    <tr>\n",
       "      <th>1</th>\n",
       "      <td>서울특별시</td>\n",
       "      <td>15839.0</td>\n",
       "    </tr>\n",
       "    <tr>\n",
       "      <th>2</th>\n",
       "      <td>부산광역시</td>\n",
       "      <td>4348.9</td>\n",
       "    </tr>\n",
       "    <tr>\n",
       "      <th>3</th>\n",
       "      <td>대구광역시</td>\n",
       "      <td>2728.6</td>\n",
       "    </tr>\n",
       "    <tr>\n",
       "      <th>4</th>\n",
       "      <td>인천광역시</td>\n",
       "      <td>2765.1</td>\n",
       "    </tr>\n",
       "    <tr>\n",
       "      <th>5</th>\n",
       "      <td>광주광역시</td>\n",
       "      <td>2948.5</td>\n",
       "    </tr>\n",
       "    <tr>\n",
       "      <th>6</th>\n",
       "      <td>대전광역시</td>\n",
       "      <td>2758.1</td>\n",
       "    </tr>\n",
       "    <tr>\n",
       "      <th>7</th>\n",
       "      <td>울산광역시</td>\n",
       "      <td>1069.0</td>\n",
       "    </tr>\n",
       "    <tr>\n",
       "      <th>8</th>\n",
       "      <td>세종특별자치시</td>\n",
       "      <td>761.3</td>\n",
       "    </tr>\n",
       "    <tr>\n",
       "      <th>9</th>\n",
       "      <td>경기도</td>\n",
       "      <td>1325.3</td>\n",
       "    </tr>\n",
       "    <tr>\n",
       "      <th>10</th>\n",
       "      <td>강원도</td>\n",
       "      <td>90.4</td>\n",
       "    </tr>\n",
       "    <tr>\n",
       "      <th>11</th>\n",
       "      <td>충청북도</td>\n",
       "      <td>220.3</td>\n",
       "    </tr>\n",
       "    <tr>\n",
       "      <th>12</th>\n",
       "      <td>충청남도</td>\n",
       "      <td>264.0</td>\n",
       "    </tr>\n",
       "    <tr>\n",
       "      <th>13</th>\n",
       "      <td>전라북도</td>\n",
       "      <td>223.4</td>\n",
       "    </tr>\n",
       "    <tr>\n",
       "      <th>14</th>\n",
       "      <td>전라남도</td>\n",
       "      <td>144.9</td>\n",
       "    </tr>\n",
       "    <tr>\n",
       "      <th>15</th>\n",
       "      <td>경상북도</td>\n",
       "      <td>138.9</td>\n",
       "    </tr>\n",
       "    <tr>\n",
       "      <th>16</th>\n",
       "      <td>경상남도</td>\n",
       "      <td>316.2</td>\n",
       "    </tr>\n",
       "    <tr>\n",
       "      <th>17</th>\n",
       "      <td>제주도</td>\n",
       "      <td>362.6</td>\n",
       "    </tr>\n",
       "  </tbody>\n",
       "</table>\n",
       "</div>"
      ],
      "text/plain": [
       "      행정구역별     2020\n",
       "0        전국    516.2\n",
       "1     서울특별시  15839.0\n",
       "2     부산광역시   4348.9\n",
       "3     대구광역시   2728.6\n",
       "4     인천광역시   2765.1\n",
       "5     광주광역시   2948.5\n",
       "6     대전광역시   2758.1\n",
       "7     울산광역시   1069.0\n",
       "8   세종특별자치시    761.3\n",
       "9       경기도   1325.3\n",
       "10      강원도     90.4\n",
       "11     충청북도    220.3\n",
       "12     충청남도    264.0\n",
       "13     전라북도    223.4\n",
       "14     전라남도    144.9\n",
       "15     경상북도    138.9\n",
       "16     경상남도    316.2\n",
       "17      제주도    362.6"
      ]
     },
     "execution_count": 52,
     "metadata": {},
     "output_type": "execute_result"
    }
   ],
   "source": [
    "data[['행정구역별','2020']]\n"
   ]
  },
  {
   "cell_type": "code",
   "execution_count": 53,
   "metadata": {},
   "outputs": [
    {
     "data": {
      "text/html": [
       "<div>\n",
       "<style scoped>\n",
       "    .dataframe tbody tr th:only-of-type {\n",
       "        vertical-align: middle;\n",
       "    }\n",
       "\n",
       "    .dataframe tbody tr th {\n",
       "        vertical-align: top;\n",
       "    }\n",
       "\n",
       "    .dataframe thead th {\n",
       "        text-align: right;\n",
       "    }\n",
       "</style>\n",
       "<table border=\"1\" class=\"dataframe\">\n",
       "  <thead>\n",
       "    <tr style=\"text-align: right;\">\n",
       "      <th></th>\n",
       "      <th>행정구역별</th>\n",
       "    </tr>\n",
       "  </thead>\n",
       "  <tbody>\n",
       "    <tr>\n",
       "      <th>0</th>\n",
       "      <td>전국</td>\n",
       "    </tr>\n",
       "    <tr>\n",
       "      <th>1</th>\n",
       "      <td>서울특별시</td>\n",
       "    </tr>\n",
       "    <tr>\n",
       "      <th>2</th>\n",
       "      <td>부산광역시</td>\n",
       "    </tr>\n",
       "  </tbody>\n",
       "</table>\n",
       "</div>"
      ],
      "text/plain": [
       "   행정구역별\n",
       "0     전국\n",
       "1  서울특별시\n",
       "2  부산광역시"
      ]
     },
     "execution_count": 53,
     "metadata": {},
     "output_type": "execute_result"
    }
   ],
   "source": [
    "data[0:3][['행정구역별']]"
   ]
  },
  {
   "cell_type": "code",
   "execution_count": 54,
   "metadata": {},
   "outputs": [
    {
     "data": {
      "text/html": [
       "<div>\n",
       "<style scoped>\n",
       "    .dataframe tbody tr th:only-of-type {\n",
       "        vertical-align: middle;\n",
       "    }\n",
       "\n",
       "    .dataframe tbody tr th {\n",
       "        vertical-align: top;\n",
       "    }\n",
       "\n",
       "    .dataframe thead th {\n",
       "        text-align: right;\n",
       "    }\n",
       "</style>\n",
       "<table border=\"1\" class=\"dataframe\">\n",
       "  <thead>\n",
       "    <tr style=\"text-align: right;\">\n",
       "      <th></th>\n",
       "      <th>행정구역별</th>\n",
       "      <th>2018</th>\n",
       "    </tr>\n",
       "  </thead>\n",
       "  <tbody>\n",
       "    <tr>\n",
       "      <th>1</th>\n",
       "      <td>서울특별시</td>\n",
       "      <td>15983.7</td>\n",
       "    </tr>\n",
       "    <tr>\n",
       "      <th>2</th>\n",
       "      <td>부산광역시</td>\n",
       "      <td>4409.8</td>\n",
       "    </tr>\n",
       "    <tr>\n",
       "      <th>3</th>\n",
       "      <td>대구광역시</td>\n",
       "      <td>2766.7</td>\n",
       "    </tr>\n",
       "    <tr>\n",
       "      <th>4</th>\n",
       "      <td>인천광역시</td>\n",
       "      <td>2761.4</td>\n",
       "    </tr>\n",
       "    <tr>\n",
       "      <th>5</th>\n",
       "      <td>광주광역시</td>\n",
       "      <td>2973.2</td>\n",
       "    </tr>\n",
       "  </tbody>\n",
       "</table>\n",
       "</div>"
      ],
      "text/plain": [
       "   행정구역별     2018\n",
       "1  서울특별시  15983.7\n",
       "2  부산광역시   4409.8\n",
       "3  대구광역시   2766.7\n",
       "4  인천광역시   2761.4\n",
       "5  광주광역시   2973.2"
      ]
     },
     "execution_count": 54,
     "metadata": {},
     "output_type": "execute_result"
    }
   ],
   "source": [
    "#iloc => 행과 열을 모두 숫자로 접근하는 방법\n",
    "data.iloc[1:6, 0:2]\n",
    "#data.iloc[:, 컬럼 인덱스 1: 컬럼 인덱스 2]\n"
   ]
  },
  {
   "cell_type": "code",
   "execution_count": 55,
   "metadata": {},
   "outputs": [
    {
     "data": {
      "text/html": [
       "<div>\n",
       "<style scoped>\n",
       "    .dataframe tbody tr th:only-of-type {\n",
       "        vertical-align: middle;\n",
       "    }\n",
       "\n",
       "    .dataframe tbody tr th {\n",
       "        vertical-align: top;\n",
       "    }\n",
       "\n",
       "    .dataframe thead th {\n",
       "        text-align: right;\n",
       "    }\n",
       "</style>\n",
       "<table border=\"1\" class=\"dataframe\">\n",
       "  <thead>\n",
       "    <tr style=\"text-align: right;\">\n",
       "      <th></th>\n",
       "      <th>행정구역별</th>\n",
       "      <th>2018</th>\n",
       "      <th>2019</th>\n",
       "      <th>2020</th>\n",
       "    </tr>\n",
       "  </thead>\n",
       "  <tbody>\n",
       "    <tr>\n",
       "      <th>0</th>\n",
       "      <td>전국</td>\n",
       "      <td>514.4</td>\n",
       "      <td>515.7</td>\n",
       "      <td>516.2</td>\n",
       "    </tr>\n",
       "    <tr>\n",
       "      <th>1</th>\n",
       "      <td>서울특별시</td>\n",
       "      <td>15983.7</td>\n",
       "      <td>15926.9</td>\n",
       "      <td>15839.0</td>\n",
       "    </tr>\n",
       "    <tr>\n",
       "      <th>2</th>\n",
       "      <td>부산광역시</td>\n",
       "      <td>4409.8</td>\n",
       "      <td>4379.7</td>\n",
       "      <td>4348.9</td>\n",
       "    </tr>\n",
       "    <tr>\n",
       "      <th>3</th>\n",
       "      <td>대구광역시</td>\n",
       "      <td>2766.7</td>\n",
       "      <td>2750.3</td>\n",
       "      <td>2728.6</td>\n",
       "    </tr>\n",
       "    <tr>\n",
       "      <th>4</th>\n",
       "      <td>인천광역시</td>\n",
       "      <td>2761.4</td>\n",
       "      <td>2776.6</td>\n",
       "      <td>2765.1</td>\n",
       "    </tr>\n",
       "    <tr>\n",
       "      <th>5</th>\n",
       "      <td>광주광역시</td>\n",
       "      <td>2973.2</td>\n",
       "      <td>2972.7</td>\n",
       "      <td>2948.5</td>\n",
       "    </tr>\n",
       "    <tr>\n",
       "      <th>6</th>\n",
       "      <td>대전광역시</td>\n",
       "      <td>2801.0</td>\n",
       "      <td>2777.5</td>\n",
       "      <td>2758.1</td>\n",
       "    </tr>\n",
       "    <tr>\n",
       "      <th>7</th>\n",
       "      <td>울산광역시</td>\n",
       "      <td>1083.4</td>\n",
       "      <td>1076.9</td>\n",
       "      <td>1069.0</td>\n",
       "    </tr>\n",
       "    <tr>\n",
       "      <th>8</th>\n",
       "      <td>세종특별자치시</td>\n",
       "      <td>671.9</td>\n",
       "      <td>727.3</td>\n",
       "      <td>761.3</td>\n",
       "    </tr>\n",
       "    <tr>\n",
       "      <th>9</th>\n",
       "      <td>경기도</td>\n",
       "      <td>1286.2</td>\n",
       "      <td>1305.0</td>\n",
       "      <td>1325.3</td>\n",
       "    </tr>\n",
       "    <tr>\n",
       "      <th>10</th>\n",
       "      <td>강원도</td>\n",
       "      <td>90.3</td>\n",
       "      <td>90.3</td>\n",
       "      <td>90.4</td>\n",
       "    </tr>\n",
       "    <tr>\n",
       "      <th>11</th>\n",
       "      <td>충청북도</td>\n",
       "      <td>218.8</td>\n",
       "      <td>220.0</td>\n",
       "      <td>220.3</td>\n",
       "    </tr>\n",
       "    <tr>\n",
       "      <th>12</th>\n",
       "      <td>충청남도</td>\n",
       "      <td>265.1</td>\n",
       "      <td>265.4</td>\n",
       "      <td>264.0</td>\n",
       "    </tr>\n",
       "    <tr>\n",
       "      <th>13</th>\n",
       "      <td>전라북도</td>\n",
       "      <td>225.3</td>\n",
       "      <td>224.0</td>\n",
       "      <td>223.4</td>\n",
       "    </tr>\n",
       "    <tr>\n",
       "      <th>14</th>\n",
       "      <td>전라남도</td>\n",
       "      <td>145.0</td>\n",
       "      <td>144.8</td>\n",
       "      <td>144.9</td>\n",
       "    </tr>\n",
       "    <tr>\n",
       "      <th>15</th>\n",
       "      <td>경상북도</td>\n",
       "      <td>140.4</td>\n",
       "      <td>140.2</td>\n",
       "      <td>138.9</td>\n",
       "    </tr>\n",
       "    <tr>\n",
       "      <th>16</th>\n",
       "      <td>경상남도</td>\n",
       "      <td>317.9</td>\n",
       "      <td>317.6</td>\n",
       "      <td>316.2</td>\n",
       "    </tr>\n",
       "    <tr>\n",
       "      <th>17</th>\n",
       "      <td>제주도</td>\n",
       "      <td>355.8</td>\n",
       "      <td>359.4</td>\n",
       "      <td>362.6</td>\n",
       "    </tr>\n",
       "  </tbody>\n",
       "</table>\n",
       "</div>"
      ],
      "text/plain": [
       "      행정구역별     2018     2019     2020\n",
       "0        전국    514.4    515.7    516.2\n",
       "1     서울특별시  15983.7  15926.9  15839.0\n",
       "2     부산광역시   4409.8   4379.7   4348.9\n",
       "3     대구광역시   2766.7   2750.3   2728.6\n",
       "4     인천광역시   2761.4   2776.6   2765.1\n",
       "5     광주광역시   2973.2   2972.7   2948.5\n",
       "6     대전광역시   2801.0   2777.5   2758.1\n",
       "7     울산광역시   1083.4   1076.9   1069.0\n",
       "8   세종특별자치시    671.9    727.3    761.3\n",
       "9       경기도   1286.2   1305.0   1325.3\n",
       "10      강원도     90.3     90.3     90.4\n",
       "11     충청북도    218.8    220.0    220.3\n",
       "12     충청남도    265.1    265.4    264.0\n",
       "13     전라북도    225.3    224.0    223.4\n",
       "14     전라남도    145.0    144.8    144.9\n",
       "15     경상북도    140.4    140.2    138.9\n",
       "16     경상남도    317.9    317.6    316.2\n",
       "17      제주도    355.8    359.4    362.6"
      ]
     },
     "execution_count": 55,
     "metadata": {},
     "output_type": "execute_result"
    }
   ],
   "source": [
    "#loc => 이름으로 행과 열에 접근\n",
    "# data.loc[행 인덱싱, 열 인덱싱] 행 이름과 열 이름을 문자열로\n",
    "data.loc[ : , '행정구역별':'2020']"
   ]
  },
  {
   "cell_type": "code",
   "execution_count": 58,
   "metadata": {},
   "outputs": [
    {
     "data": {
      "text/plain": [
       "(18, 4)"
      ]
     },
     "execution_count": 58,
     "metadata": {},
     "output_type": "execute_result"
    }
   ],
   "source": [
    "data.shape\n",
    "#행과 열의 갯수"
   ]
  },
  {
   "cell_type": "code",
   "execution_count": 59,
   "metadata": {},
   "outputs": [
    {
     "data": {
      "text/html": [
       "<div>\n",
       "<style scoped>\n",
       "    .dataframe tbody tr th:only-of-type {\n",
       "        vertical-align: middle;\n",
       "    }\n",
       "\n",
       "    .dataframe tbody tr th {\n",
       "        vertical-align: top;\n",
       "    }\n",
       "\n",
       "    .dataframe thead th {\n",
       "        text-align: right;\n",
       "    }\n",
       "</style>\n",
       "<table border=\"1\" class=\"dataframe\">\n",
       "  <thead>\n",
       "    <tr style=\"text-align: right;\">\n",
       "      <th></th>\n",
       "      <th>2018</th>\n",
       "      <th>2019</th>\n",
       "      <th>2020</th>\n",
       "    </tr>\n",
       "  </thead>\n",
       "  <tbody>\n",
       "    <tr>\n",
       "      <th>count</th>\n",
       "      <td>18.000000</td>\n",
       "      <td>18.000000</td>\n",
       "      <td>18.000000</td>\n",
       "    </tr>\n",
       "    <tr>\n",
       "      <th>mean</th>\n",
       "      <td>2056.127778</td>\n",
       "      <td>2053.905556</td>\n",
       "      <td>2045.594444</td>\n",
       "    </tr>\n",
       "    <tr>\n",
       "      <th>std</th>\n",
       "      <td>3716.277025</td>\n",
       "      <td>3700.914030</td>\n",
       "      <td>3678.648378</td>\n",
       "    </tr>\n",
       "    <tr>\n",
       "      <th>min</th>\n",
       "      <td>90.300000</td>\n",
       "      <td>90.300000</td>\n",
       "      <td>90.400000</td>\n",
       "    </tr>\n",
       "    <tr>\n",
       "      <th>25%</th>\n",
       "      <td>235.250000</td>\n",
       "      <td>234.350000</td>\n",
       "      <td>233.550000</td>\n",
       "    </tr>\n",
       "    <tr>\n",
       "      <th>50%</th>\n",
       "      <td>593.150000</td>\n",
       "      <td>621.500000</td>\n",
       "      <td>638.750000</td>\n",
       "    </tr>\n",
       "    <tr>\n",
       "      <th>75%</th>\n",
       "      <td>2765.375000</td>\n",
       "      <td>2770.025000</td>\n",
       "      <td>2750.725000</td>\n",
       "    </tr>\n",
       "    <tr>\n",
       "      <th>max</th>\n",
       "      <td>15983.700000</td>\n",
       "      <td>15926.900000</td>\n",
       "      <td>15839.000000</td>\n",
       "    </tr>\n",
       "  </tbody>\n",
       "</table>\n",
       "</div>"
      ],
      "text/plain": [
       "               2018          2019          2020\n",
       "count     18.000000     18.000000     18.000000\n",
       "mean    2056.127778   2053.905556   2045.594444\n",
       "std     3716.277025   3700.914030   3678.648378\n",
       "min       90.300000     90.300000     90.400000\n",
       "25%      235.250000    234.350000    233.550000\n",
       "50%      593.150000    621.500000    638.750000\n",
       "75%     2765.375000   2770.025000   2750.725000\n",
       "max    15983.700000  15926.900000  15839.000000"
      ]
     },
     "execution_count": 59,
     "metadata": {},
     "output_type": "execute_result"
    }
   ],
   "source": [
    "data.describe()"
   ]
  },
  {
   "cell_type": "code",
   "execution_count": 60,
   "metadata": {},
   "outputs": [
    {
     "name": "stdout",
     "output_type": "stream",
     "text": [
      "<class 'pandas.core.frame.DataFrame'>\n",
      "RangeIndex: 18 entries, 0 to 17\n",
      "Data columns (total 4 columns):\n",
      " #   Column  Non-Null Count  Dtype  \n",
      "---  ------  --------------  -----  \n",
      " 0   행정구역별   18 non-null     object \n",
      " 1   2018    18 non-null     float64\n",
      " 2   2019    18 non-null     float64\n",
      " 3   2020    18 non-null     float64\n",
      "dtypes: float64(3), object(1)\n",
      "memory usage: 704.0+ bytes\n"
     ]
    }
   ],
   "source": [
    "data.info()"
   ]
  },
  {
   "cell_type": "code",
   "execution_count": 61,
   "metadata": {},
   "outputs": [
    {
     "data": {
      "text/plain": [
       "행정구역별    0\n",
       "2018     0\n",
       "2019     0\n",
       "2020     0\n",
       "dtype: int64"
      ]
     },
     "execution_count": 61,
     "metadata": {},
     "output_type": "execute_result"
    }
   ],
   "source": [
    "data.isna().sum()\n",
    "#data에서 null인 값을 더해서 보여주겠다 (컬럼별 null 갯수)"
   ]
  },
  {
   "cell_type": "code",
   "execution_count": 62,
   "metadata": {},
   "outputs": [
    {
     "data": {
      "text/plain": [
       "RangeIndex(start=0, stop=18, step=1)"
      ]
     },
     "execution_count": 62,
     "metadata": {},
     "output_type": "execute_result"
    }
   ],
   "source": [
    "data.index"
   ]
  },
  {
   "cell_type": "code",
   "execution_count": 63,
   "metadata": {},
   "outputs": [
    {
     "data": {
      "text/plain": [
       "Index(['행정구역별', '2018', '2019', '2020'], dtype='object')"
      ]
     },
     "execution_count": 63,
     "metadata": {},
     "output_type": "execute_result"
    }
   ],
   "source": [
    "data.columns"
   ]
  },
  {
   "cell_type": "code",
   "execution_count": null,
   "metadata": {},
   "outputs": [],
   "source": [
    "# data.drop(columns=[''], inplace=True) -> 컬럼을 삭제하는 구문 \n",
    "# data.rename(columns=[현재 컬럼명 : 바꾸고 싶은 컬럼명], inplace=True)"
   ]
  },
  {
   "cell_type": "code",
   "execution_count": 26,
   "metadata": {},
   "outputs": [
    {
     "data": {
      "text/plain": [
       "Text(0, 0.5, '헌혈자의 수')"
      ]
     },
     "execution_count": 26,
     "metadata": {},
     "output_type": "execute_result"
    },
    {
     "data": {
      "image/png": "[encoded data removed]",
      "text/plain": [
       "<Figure size 864x720 with 1 Axes>"
      ]
     },
     "metadata": {
      "needs_background": "light"
     },
     "output_type": "display_data"
    }
   ],
   "source": [
    "import pandas as pd\n",
    "import matplotlib.pyplot as plt\n",
    "index = ['A','B','AB','O']\n",
    "columns = ['도수', '상대도수', '백분율(%)']\n",
    "\n",
    "\n",
    "plt.rcParams['font.family'] = 'AppleGothic'\n",
    "plt.rcParams['figure.figsize'] = (12, 10)  \n",
    "\n",
    "df = pd.DataFrame(columns=columns, index=index)\n",
    "df.columns.name = '혈액형'\n",
    "df['도수'] = [8, 11, 6, 15]\n",
    "sumData = sum(df['도수'])\n",
    "df['상대도수'] = [i/sumData for i in df['도수']]\n",
    "df['백분율(%)'] = [i*100 for i in df['상대도수']]\n",
    "\n",
    "plt.bar(index, df['도수'])\n",
    "plt.xlabel('혈액형')\n",
    "plt.ylabel('헌혈자의 수')\n"
   ]
  },
  {
   "cell_type": "code",
   "execution_count": 35,
   "metadata": {},
   "outputs": [
    {
     "data": {
      "text/plain": [
       "(array([ 3.,  3.,  2., 12.,  3., 10., 15.,  1.,  0.,  1.]),\n",
       " array([12. , 16.6, 21.2, 25.8, 30.4, 35. , 39.6, 44.2, 48.8, 53.4, 58. ]),\n",
       " <BarContainer object of 10 artists>)"
      ]
     },
     "execution_count": 35,
     "metadata": {},
     "output_type": "execute_result"
    },
    {
     "data": {
      "image/png": "[encoded data removed]",
      "text/plain": [
       "<Figure size 864x720 with 1 Axes>"
      ]
     },
     "metadata": {
      "needs_background": "light"
     },
     "output_type": "display_data"
    }
   ],
   "source": [
    "import math\n",
    "import numpy as np\n",
    "data = [26, 31, 28, 38, 41, 26, 18, 16, 25, 29,\n",
    "        39, 38, 38, 40, 43, 38, 39, 41, 41, 40,\n",
    "        26, 19, 39, 28, 43, 34, 21, 41, 29, 30,\n",
    "        12, 22, 45, 34, 29, 26, 29, 58, 42, 16,\n",
    "        41, 42, 38, 42, 28, 42, 39, 41, 39, 43]\n",
    "\n",
    "k = 5\n",
    "r = max(data) - min(data)\n",
    "w = math.ceil(r/k)\n",
    "s = min(data) - 0.5\n",
    "\n",
    "bins = np.arange(s, max(data) + w, step=w)\n",
    "index = [f'{bins[i]} ~ {bins[i+1]}' for i in range(len(bins)) if i<(len(bins)-1) ]\n",
    "\n",
    "#도수(hist)\n",
    "hist, bins = np.histogram(data, bins)\n",
    "\n",
    "df = pd.DataFrame(hist, index=index, columns=['도수'])\n",
    "\n",
    "plt.hist(data)"
   ]
  },
  {
   "cell_type": "code",
   "execution_count": 53,
   "metadata": {},
   "outputs": [
    {
     "name": "stdout",
     "output_type": "stream",
     "text": [
      "[3, 4, 6, 7, 7, 9]의 평균편차: 1.67\n",
      "[3, 4, 6, 7, 7, 9]의 모분산: 4.0\n",
      "[3, 4, 6, 7, 7, 9]의 표본분산: 4.8\n",
      "[3, 4, 6, 7, 7, 9]의 표준편차: 2.19\n",
      "[3, 4, 6, 7, 7, 9]의 변동계수: 36.5\n"
     ]
    }
   ],
   "source": [
    "data = [3, 4, 6, 7, 7, 9]\n",
    "\n",
    "avg = np.mean(data)\n",
    "ab = [abs(i-avg) for i in data]\n",
    "real = sum(ab) / len(data)\n",
    "print(f'{data}의 평균편차: {real:1.3}')\n",
    "\n",
    "a = np.var(data, ddof=0)\n",
    "b = np.var(data, ddof=1)\n",
    "\n",
    "print(f'{data}의 모분산: {a:1.3}')\n",
    "print(f'{data}의 표본분산: {b:1.3}')\n",
    "\n",
    "c = b ** 0.5\n",
    "\n",
    "print(f'{data}의 표준편차: {c:1.3}')\n",
    "\n",
    "d = (c / avg) * 100\n",
    "print(f'{data}의 변동계수: {d:1.3}')\n",
    "\n"
   ]
  },
  {
   "cell_type": "code",
   "execution_count": 106,
   "metadata": {},
   "outputs": [
    {
     "data": {
      "image/png": "[encoded data removed]",
      "text/plain": [
       "<Figure size 864x720 with 1 Axes>"
      ]
     },
     "metadata": {
      "needs_background": "light"
     },
     "output_type": "display_data"
    },
    {
     "data": {
      "text/html": [
       "<div>\n",
       "<style scoped>\n",
       "    .dataframe tbody tr th:only-of-type {\n",
       "        vertical-align: middle;\n",
       "    }\n",
       "\n",
       "    .dataframe tbody tr th {\n",
       "        vertical-align: top;\n",
       "    }\n",
       "\n",
       "    .dataframe thead th {\n",
       "        text-align: right;\n",
       "    }\n",
       "</style>\n",
       "<table border=\"1\" class=\"dataframe\">\n",
       "  <thead>\n",
       "    <tr style=\"text-align: right;\">\n",
       "      <th>학년</th>\n",
       "      <th>1</th>\n",
       "      <th>2</th>\n",
       "      <th>3</th>\n",
       "      <th>4</th>\n",
       "    </tr>\n",
       "  </thead>\n",
       "  <tbody>\n",
       "    <tr>\n",
       "      <th>인원</th>\n",
       "      <td>16</td>\n",
       "      <td>12</td>\n",
       "      <td>7</td>\n",
       "      <td>5</td>\n",
       "    </tr>\n",
       "  </tbody>\n",
       "</table>\n",
       "</div>"
      ],
      "text/plain": [
       "학년   1   2  3  4\n",
       "인원  16  12  7  5"
      ]
     },
     "execution_count": 106,
     "metadata": {},
     "output_type": "execute_result"
    }
   ],
   "source": [
    "import pandas as pd\n",
    "import numpy as np\n",
    "import matplotlib.pyplot as plt\n",
    "from importlib import reload\n",
    "reload(plt)\n",
    "\n",
    "\n",
    "plt.rcParams['font.family'] = 'AppleGothic'\n",
    "plt.rcParams['figure.figsize'] = (12, 10)  \n",
    "\n",
    "data = [[16, 12, 7, 5]]\n",
    "columns = ['1', '2', '3', '4']\n",
    "\n",
    "df = pd.DataFrame(data, index=['인원'], columns=columns)\n",
    "df.columns.name = '학년'\n",
    "\n",
    "val = np.array([16, 12, 7, 5])\n",
    "\n",
    "y=np.arange(1, val.max() + 1)\n",
    "x=np.arange(len(columns)) + 1\n",
    "X, Y = np.meshgrid(x,y)\n",
    "\n",
    "plt.scatter(X, Y, c=Y<=val,cmap='Greys')\n",
    "plt.xlabel('학년')\n",
    "plt.xticks(ticks=x, labels=columns)\n",
    "plt.show()\n",
    "df"
   ]
  },
  {
   "cell_type": "code",
   "execution_count": 136,
   "metadata": {},
   "outputs": [
    {
     "data": {
      "image/png": "[encoded data removed]",
      "text/plain": [
       "<Figure size 864x720 with 1 Axes>"
      ]
     },
     "metadata": {
      "needs_background": "light"
     },
     "output_type": "display_data"
    }
   ],
   "source": [
    "import pandas as pd\n",
    "import numpy as np\n",
    "import matplotlib.pyplot as plt\n",
    "from importlib import reload\n",
    "reload(plt)\n",
    "\n",
    "plt.rcParams['font.family'] = 'AppleGothic'\n",
    "plt.rcParams['figure.figsize'] = (12, 10)  \n",
    "\n",
    "#점표도 좌표 설정\n",
    "col = ['매우만족', '만족', '보통', '불만족', '매우불만족']\n",
    "val = np.array([5,11,21,9,4])\n",
    "\n",
    "y = np.arange(1, val.max()+1)\n",
    "x = np.arange(len(col)) + 1\n",
    "X, Y = np.meshgrid(x,y)\n",
    "\n",
    "plt.scatter(X,Y,c=Y<val, cmap=\"Greys\")\n",
    "plt.xlabel('만족도')\n",
    "plt.xticks(ticks=x, labels=col)\n",
    "plt.show()\n",
    "\n"
   ]
  },
  {
   "cell_type": "code",
   "execution_count": 141,
   "metadata": {},
   "outputs": [
    {
     "data": {
      "image/png": "[encoded data removed]",
      "text/plain": [
       "<Figure size 864x720 with 1 Axes>"
      ]
     },
     "metadata": {
      "needs_background": "light"
     },
     "output_type": "display_data"
    },
    {
     "data": {
      "text/html": [
       "<div>\n",
       "<style scoped>\n",
       "    .dataframe tbody tr th:only-of-type {\n",
       "        vertical-align: middle;\n",
       "    }\n",
       "\n",
       "    .dataframe tbody tr th {\n",
       "        vertical-align: top;\n",
       "    }\n",
       "\n",
       "    .dataframe thead th {\n",
       "        text-align: right;\n",
       "    }\n",
       "</style>\n",
       "<table border=\"1\" class=\"dataframe\">\n",
       "  <thead>\n",
       "    <tr style=\"text-align: right;\">\n",
       "      <th>구분</th>\n",
       "      <th>도수</th>\n",
       "      <th>상대도수</th>\n",
       "      <th>백분율(%)</th>\n",
       "    </tr>\n",
       "  </thead>\n",
       "  <tbody>\n",
       "    <tr>\n",
       "      <th>1학년</th>\n",
       "      <td>16</td>\n",
       "      <td>0.400</td>\n",
       "      <td>40.0</td>\n",
       "    </tr>\n",
       "    <tr>\n",
       "      <th>2학년</th>\n",
       "      <td>12</td>\n",
       "      <td>0.300</td>\n",
       "      <td>30.0</td>\n",
       "    </tr>\n",
       "    <tr>\n",
       "      <th>3학년</th>\n",
       "      <td>7</td>\n",
       "      <td>0.175</td>\n",
       "      <td>17.5</td>\n",
       "    </tr>\n",
       "    <tr>\n",
       "      <th>4학년</th>\n",
       "      <td>5</td>\n",
       "      <td>0.125</td>\n",
       "      <td>12.5</td>\n",
       "    </tr>\n",
       "  </tbody>\n",
       "</table>\n",
       "</div>"
      ],
      "text/plain": [
       "구분   도수   상대도수  백분율(%)\n",
       "1학년  16  0.400    40.0\n",
       "2학년  12  0.300    30.0\n",
       "3학년   7  0.175    17.5\n",
       "4학년   5  0.125    12.5"
      ]
     },
     "execution_count": 141,
     "metadata": {},
     "output_type": "execute_result"
    }
   ],
   "source": [
    "data = [16, 12, 7, 5]\n",
    "index = ['1학년', '2학년', '3학년', '4학년']\n",
    "\n",
    "df = pd.DataFrame(data, index, columns=['도수'])\n",
    "df.columns.name = '구분'\n",
    "\n",
    "rel = [i/sum(df['도수']) for i in df['도수']]\n",
    "df['상대도수'] = rel\n",
    "\n",
    "per = [i*100 for i in df['상대도수']]\n",
    "df['백분율(%)'] = per\n",
    "\n",
    "plt.bar(index, df['상대도수'], label=df['상대도수'])\n",
    "plt.xlabel('학년')\n",
    "plt.ylabel('상대도수')\n",
    "plt.title('학년별 동아리 회원 수')\n",
    "\n",
    "for i, x in enumerate(index):\n",
    "    plt.text(x, df['상대도수'][i], df['상대도수'][i],\n",
    "             fontsize=10,\n",
    "             color=\"blue\",\n",
    "             horizontalalignment='center',\n",
    "             verticalalignment='bottom')\n",
    "             \n",
    "plt.show()\n",
    "\n",
    "df"
   ]
  },
  {
   "cell_type": "code",
   "execution_count": 155,
   "metadata": {},
   "outputs": [
    {
     "data": {
      "image/png": "[encoded data removed]",
      "text/plain": [
       "<Figure size 864x720 with 1 Axes>"
      ]
     },
     "metadata": {
      "needs_background": "light"
     },
     "output_type": "display_data"
    },
    {
     "ename": "KeyError",
     "evalue": "'남자'",
     "output_type": "error",
     "traceback": [
      "\u001b[0;31m---------------------------------------------------------------------------\u001b[0m",
      "\u001b[0;31mKeyError\u001b[0m                                  Traceback (most recent call last)",
      "File \u001b[0;32m~/Library/Python/3.8/lib/python/site-packages/pandas/core/indexes/base.py:3621\u001b[0m, in \u001b[0;36mIndex.get_loc\u001b[0;34m(self, key, method, tolerance)\u001b[0m\n\u001b[1;32m   <a href='file:///Users/aebdeung-ichangmin-ing/Library/Python/3.8/lib/python/site-packages/pandas/core/indexes/base.py?line=3619'>3620</a>\u001b[0m \u001b[39mtry\u001b[39;00m:\n\u001b[0;32m-> <a href='file:///Users/aebdeung-ichangmin-ing/Library/Python/3.8/lib/python/site-packages/pandas/core/indexes/base.py?line=3620'>3621</a>\u001b[0m     \u001b[39mreturn\u001b[39;00m \u001b[39mself\u001b[39;49m\u001b[39m.\u001b[39;49m_engine\u001b[39m.\u001b[39;49mget_loc(casted_key)\n\u001b[1;32m   <a href='file:///Users/aebdeung-ichangmin-ing/Library/Python/3.8/lib/python/site-packages/pandas/core/indexes/base.py?line=3621'>3622</a>\u001b[0m \u001b[39mexcept\u001b[39;00m \u001b[39mKeyError\u001b[39;00m \u001b[39mas\u001b[39;00m err:\n",
      "File \u001b[0;32m~/Library/Python/3.8/lib/python/site-packages/pandas/_libs/index.pyx:136\u001b[0m, in \u001b[0;36mpandas._libs.index.IndexEngine.get_loc\u001b[0;34m()\u001b[0m\n",
      "File \u001b[0;32m~/Library/Python/3.8/lib/python/site-packages/pandas/_libs/index.pyx:163\u001b[0m, in \u001b[0;36mpandas._libs.index.IndexEngine.get_loc\u001b[0;34m()\u001b[0m\n",
      "File \u001b[0;32mpandas/_libs/hashtable_class_helper.pxi:5198\u001b[0m, in \u001b[0;36mpandas._libs.hashtable.PyObjectHashTable.get_item\u001b[0;34m()\u001b[0m\n",
      "File \u001b[0;32mpandas/_libs/hashtable_class_helper.pxi:5206\u001b[0m, in \u001b[0;36mpandas._libs.hashtable.PyObjectHashTable.get_item\u001b[0;34m()\u001b[0m\n",
      "\u001b[0;31mKeyError\u001b[0m: '남자'",
      "\nThe above exception was the direct cause of the following exception:\n",
      "\u001b[0;31mKeyError\u001b[0m                                  Traceback (most recent call last)",
      "\u001b[1;32m/Users/aebdeung-ichangmin-ing/Desktop/22-1 수업/파이썬/exam.ipynb Cell 24'\u001b[0m in \u001b[0;36m<cell line: 18>\u001b[0;34m()\u001b[0m\n\u001b[1;32m     <a href='vscode-notebook-cell:/Users/aebdeung-ichangmin-ing/Desktop/22-1%20%EC%88%98%EC%97%85/%ED%8C%8C%EC%9D%B4%EC%8D%AC/exam.ipynb#ch0000023?line=14'>15</a>\u001b[0m plt\u001b[39m.\u001b[39mlegend()\n\u001b[1;32m     <a href='vscode-notebook-cell:/Users/aebdeung-ichangmin-ing/Desktop/22-1%20%EC%88%98%EC%97%85/%ED%8C%8C%EC%9D%B4%EC%8D%AC/exam.ipynb#ch0000023?line=15'>16</a>\u001b[0m plt\u001b[39m.\u001b[39mshow()\n\u001b[0;32m---> <a href='vscode-notebook-cell:/Users/aebdeung-ichangmin-ing/Desktop/22-1%20%EC%88%98%EC%97%85/%ED%8C%8C%EC%9D%B4%EC%8D%AC/exam.ipynb#ch0000023?line=17'>18</a>\u001b[0m plt\u001b[39m.\u001b[39mplot(columns, df[\u001b[39m'\u001b[39;49m\u001b[39m남자\u001b[39;49m\u001b[39m'\u001b[39;49m], label\u001b[39m=\u001b[39m\u001b[39m'\u001b[39m\u001b[39m남자\u001b[39m\u001b[39m'\u001b[39m)\n\u001b[1;32m     <a href='vscode-notebook-cell:/Users/aebdeung-ichangmin-ing/Desktop/22-1%20%EC%88%98%EC%97%85/%ED%8C%8C%EC%9D%B4%EC%8D%AC/exam.ipynb#ch0000023?line=18'>19</a>\u001b[0m plt\u001b[39m.\u001b[39mplot(columns, df[\u001b[39m'\u001b[39m\u001b[39m여자\u001b[39m\u001b[39m'\u001b[39m], label\u001b[39m=\u001b[39m\u001b[39m'\u001b[39m\u001b[39m여자\u001b[39m\u001b[39m'\u001b[39m)\n\u001b[1;32m     <a href='vscode-notebook-cell:/Users/aebdeung-ichangmin-ing/Desktop/22-1%20%EC%88%98%EC%97%85/%ED%8C%8C%EC%9D%B4%EC%8D%AC/exam.ipynb#ch0000023?line=19'>20</a>\u001b[0m plt\u001b[39m.\u001b[39mlegend()\n",
      "File \u001b[0;32m~/Library/Python/3.8/lib/python/site-packages/pandas/core/frame.py:3505\u001b[0m, in \u001b[0;36mDataFrame.__getitem__\u001b[0;34m(self, key)\u001b[0m\n\u001b[1;32m   <a href='file:///Users/aebdeung-ichangmin-ing/Library/Python/3.8/lib/python/site-packages/pandas/core/frame.py?line=3502'>3503</a>\u001b[0m \u001b[39mif\u001b[39;00m \u001b[39mself\u001b[39m\u001b[39m.\u001b[39mcolumns\u001b[39m.\u001b[39mnlevels \u001b[39m>\u001b[39m \u001b[39m1\u001b[39m:\n\u001b[1;32m   <a href='file:///Users/aebdeung-ichangmin-ing/Library/Python/3.8/lib/python/site-packages/pandas/core/frame.py?line=3503'>3504</a>\u001b[0m     \u001b[39mreturn\u001b[39;00m \u001b[39mself\u001b[39m\u001b[39m.\u001b[39m_getitem_multilevel(key)\n\u001b[0;32m-> <a href='file:///Users/aebdeung-ichangmin-ing/Library/Python/3.8/lib/python/site-packages/pandas/core/frame.py?line=3504'>3505</a>\u001b[0m indexer \u001b[39m=\u001b[39m \u001b[39mself\u001b[39;49m\u001b[39m.\u001b[39;49mcolumns\u001b[39m.\u001b[39;49mget_loc(key)\n\u001b[1;32m   <a href='file:///Users/aebdeung-ichangmin-ing/Library/Python/3.8/lib/python/site-packages/pandas/core/frame.py?line=3505'>3506</a>\u001b[0m \u001b[39mif\u001b[39;00m is_integer(indexer):\n\u001b[1;32m   <a href='file:///Users/aebdeung-ichangmin-ing/Library/Python/3.8/lib/python/site-packages/pandas/core/frame.py?line=3506'>3507</a>\u001b[0m     indexer \u001b[39m=\u001b[39m [indexer]\n",
      "File \u001b[0;32m~/Library/Python/3.8/lib/python/site-packages/pandas/core/indexes/base.py:3623\u001b[0m, in \u001b[0;36mIndex.get_loc\u001b[0;34m(self, key, method, tolerance)\u001b[0m\n\u001b[1;32m   <a href='file:///Users/aebdeung-ichangmin-ing/Library/Python/3.8/lib/python/site-packages/pandas/core/indexes/base.py?line=3620'>3621</a>\u001b[0m     \u001b[39mreturn\u001b[39;00m \u001b[39mself\u001b[39m\u001b[39m.\u001b[39m_engine\u001b[39m.\u001b[39mget_loc(casted_key)\n\u001b[1;32m   <a href='file:///Users/aebdeung-ichangmin-ing/Library/Python/3.8/lib/python/site-packages/pandas/core/indexes/base.py?line=3621'>3622</a>\u001b[0m \u001b[39mexcept\u001b[39;00m \u001b[39mKeyError\u001b[39;00m \u001b[39mas\u001b[39;00m err:\n\u001b[0;32m-> <a href='file:///Users/aebdeung-ichangmin-ing/Library/Python/3.8/lib/python/site-packages/pandas/core/indexes/base.py?line=3622'>3623</a>\u001b[0m     \u001b[39mraise\u001b[39;00m \u001b[39mKeyError\u001b[39;00m(key) \u001b[39mfrom\u001b[39;00m \u001b[39merr\u001b[39;00m\n\u001b[1;32m   <a href='file:///Users/aebdeung-ichangmin-ing/Library/Python/3.8/lib/python/site-packages/pandas/core/indexes/base.py?line=3623'>3624</a>\u001b[0m \u001b[39mexcept\u001b[39;00m \u001b[39mTypeError\u001b[39;00m:\n\u001b[1;32m   <a href='file:///Users/aebdeung-ichangmin-ing/Library/Python/3.8/lib/python/site-packages/pandas/core/indexes/base.py?line=3624'>3625</a>\u001b[0m     \u001b[39m# If we have a listlike key, _check_indexing_error will raise\u001b[39;00m\n\u001b[1;32m   <a href='file:///Users/aebdeung-ichangmin-ing/Library/Python/3.8/lib/python/site-packages/pandas/core/indexes/base.py?line=3625'>3626</a>\u001b[0m     \u001b[39m#  InvalidIndexError. Otherwise we fall through and re-raise\u001b[39;00m\n\u001b[1;32m   <a href='file:///Users/aebdeung-ichangmin-ing/Library/Python/3.8/lib/python/site-packages/pandas/core/indexes/base.py?line=3626'>3627</a>\u001b[0m     \u001b[39m#  the TypeError.\u001b[39;00m\n\u001b[1;32m   <a href='file:///Users/aebdeung-ichangmin-ing/Library/Python/3.8/lib/python/site-packages/pandas/core/indexes/base.py?line=3627'>3628</a>\u001b[0m     \u001b[39mself\u001b[39m\u001b[39m.\u001b[39m_check_indexing_error(key)\n",
      "\u001b[0;31mKeyError\u001b[0m: '남자'"
     ]
    }
   ],
   "source": [
    "data = [[3, 7, 10, 4, 2], [2, 4, 11, 5, 2]]\n",
    "index = ['남자', '여자']\n",
    "columns = ['매우만족', '만족', '보통', '불만족', '매우불만족']\n",
    "width = 0.3\n",
    "x = np.arange(len(df.columns))\n",
    "\n",
    "df = pd.DataFrame(data, index, columns)\n",
    "\n",
    "plt.bar(x - width/2, df.loc['남자'], width,label='남자')\n",
    "plt.bar(x + width/2, df.loc['여자'], width,label='여자')\n",
    "plt.xticks(x, columns)\n",
    "plt.ylabel('명')\n",
    "plt.xlabel('만족도')\n",
    "plt.grid()\n",
    "plt.legend()\n",
    "plt.show()\n",
    "\n",
    "\n",
    "df"
   ]
  },
  {
   "cell_type": "code",
   "execution_count": 159,
   "metadata": {},
   "outputs": [
    {
     "data": {
      "image/png": "[encoded data removed]",
      "text/plain": [
       "<Figure size 864x720 with 1 Axes>"
      ]
     },
     "metadata": {
      "needs_background": "light"
     },
     "output_type": "display_data"
    }
   ],
   "source": [
    "plt.plot(columns, df.loc['남자'], 'o', linestyle='solid', label='남자')\n",
    "plt.plot(columns, df.loc['여자'], 'v', linestyle='solid', label='여자')\n",
    "plt.grid()\n",
    "plt.legend()\n",
    "plt.show()"
   ]
  },
  {
   "cell_type": "code",
   "execution_count": 173,
   "metadata": {},
   "outputs": [
    {
     "data": {
      "image/png": "[encoded data removed]",
      "text/plain": [
       "<Figure size 432x144 with 1 Axes>"
      ]
     },
     "metadata": {
      "needs_background": "light"
     },
     "output_type": "display_data"
    }
   ],
   "source": [
    "data = [4.1, 4.2, 3.8, 4.2, 3.9, 4.2, 3.9, 4.1, 3.9, 4.3,\n",
    "        3.9, 3.8, 3.8, 4.0, 4.3, 3.8, 3.9, 4.1, 4.1, 4.0]\n",
    "index = list(set(data))\n",
    "index.sort()\n",
    "data = [data.count(i) for i in index]\n",
    "\n",
    "\n",
    "X = np.arange(len(index)) + 1\n",
    "Y = np.arange(1, max(data) + 1)\n",
    "x,y =np.meshgrid(X, Y)\n",
    "\n",
    "plt.figure(figsize=(6, 2)) # 그래프 사이즈\n",
    "plt.scatter(x, y, c = y<= data, cmap=\"Greys\")\n",
    "plt.xticks(ticks=X, labels=index)\n",
    "plt.show()"
   ]
  },
  {
   "cell_type": "code",
   "execution_count": 3,
   "metadata": {},
   "outputs": [
    {
     "name": "stdout",
     "output_type": "stream",
     "text": [
      "A B 의 교집합: {3, 5}\n",
      "A B 의 합집합: {1, 3, 4, 5, 6, 7}\n",
      "A B의 차집합: {1, 7}\n",
      "A Bc의 교집합: {1, 7}\n"
     ]
    }
   ],
   "source": [
    "U = set([i for i in range(1, 11)])\n",
    "A = {1, 3, 5, 7}\n",
    "B = {3, 4, 5, 6}\n",
    "\n",
    "print(f'A B 의 교집합: {A&B}')\n",
    "print(f'A B 의 합집합: {A|B}')\n",
    "print(f'A B의 차집합: {A-B}')\n",
    "print(f'A Bc의 교집합: {A&(U-B)}')\n",
    "\n",
    "\n"
   ]
  }
 ],
 "metadata": {
  "interpreter": {
   "hash": "31f2aee4e71d21fbe5cf8b01ff0e069b9275f58929596ceb00d14d90e3e16cd6"
  },
  "kernelspec": {
   "display_name": "Python 3.8.9 64-bit",
   "language": "python",
   "name": "python3"
  },
  "language_info": {
   "codemirror_mode": {
    "name": "ipython",
    "version": 3
   },
   "file_extension": ".py",
   "mimetype": "text/x-python",
   "name": "python",
   "nbconvert_exporter": "python",
   "pygments_lexer": "ipython3",
   "version": "3.8.9"
  },
  "orig_nbformat": 4
 },
 "nbformat": 4,
 "nbformat_minor": 2
}
