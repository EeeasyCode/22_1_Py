{
 "cells": [
  {
   "cell_type": "markdown",
   "metadata": {},
   "source": [
    "평균 => np.maen()\n",
    "표준편차 => np.std()\n",
    "변동계수 => (표준편차/평균) * 100\n",
    "\n",
    "7주차 확률\n",
    "순서                순서 고려                순서 고려하지 않음\n",
    "반복 허용         중복순열(product)      중복조합(combinations_with_replacemnet)\n",
    "반복 허용 안함     순열(permutations)    조합(combinations)"
   ]
  },
  {
   "cell_type": "code",
   "execution_count": 1,
   "metadata": {},
   "outputs": [
    {
     "data": {
      "image/png": "[encoded data removed]",
      "text/plain": [
       "<Figure size 432x288 with 1 Axes>"
      ]
     },
     "metadata": {
      "needs_background": "light"
     },
     "output_type": "display_data"
    }
   ],
   "source": [
    "import numpy as np\n",
    "import matplotlib.pyplot as plt\n",
    "\n",
    "data = [31, 40, 38, 31, 33, 21, 35, 25, 35, 43,\n",
    "        39, 29, 35, 23, 33, 33, 23, 39, 33, 40,\n",
    "        25, 21, 35, 33, 29, 25, 43, 29, 35, 38,\n",
    "        31, 31, 27, 29, 35, 23, 27, 27, 25, 23,\n",
    "        35, 33, 49, 33, 39, 38, 23, 33, 58, 38]\n",
    "\n",
    "#점도표\n",
    "idx = np.unique(data)\n",
    "value = [data.count(i) for i in idx]\n",
    "\n",
    "x = np.arange(len(idx)) + 1\n",
    "y = np.arange(1, max(value) + 1)\n",
    "X, Y = np.meshgrid(x, y)\n",
    "\n",
    "plt.scatter(X, Y, c = Y<=value, cmap='Greys')\n",
    "plt.xticks(ticks=x, labels=idx)\n",
    "plt.show()"
   ]
  },
  {
   "cell_type": "code",
   "execution_count": 2,
   "metadata": {},
   "outputs": [
    {
     "data": {
      "text/html": [
       "<div>\n",
       "<style scoped>\n",
       "    .dataframe tbody tr th:only-of-type {\n",
       "        vertical-align: middle;\n",
       "    }\n",
       "\n",
       "    .dataframe tbody tr th {\n",
       "        vertical-align: top;\n",
       "    }\n",
       "\n",
       "    .dataframe thead th {\n",
       "        text-align: right;\n",
       "    }\n",
       "</style>\n",
       "<table border=\"1\" class=\"dataframe\">\n",
       "  <thead>\n",
       "    <tr style=\"text-align: right;\">\n",
       "      <th></th>\n",
       "      <th>도수</th>\n",
       "      <th>상대도수</th>\n",
       "      <th>누적도수</th>\n",
       "      <th>누적상대도수</th>\n",
       "      <th>계긊값</th>\n",
       "    </tr>\n",
       "    <tr>\n",
       "      <th>계급간격</th>\n",
       "      <th></th>\n",
       "      <th></th>\n",
       "      <th></th>\n",
       "      <th></th>\n",
       "      <th></th>\n",
       "    </tr>\n",
       "  </thead>\n",
       "  <tbody>\n",
       "    <tr>\n",
       "      <th>20.5 ~ 28.5</th>\n",
       "      <td>14</td>\n",
       "      <td>0.28</td>\n",
       "      <td>14</td>\n",
       "      <td>0.28</td>\n",
       "      <td>24.5</td>\n",
       "    </tr>\n",
       "    <tr>\n",
       "      <th>28.5 ~ 36.5</th>\n",
       "      <td>23</td>\n",
       "      <td>0.46</td>\n",
       "      <td>37</td>\n",
       "      <td>0.74</td>\n",
       "      <td>32.5</td>\n",
       "    </tr>\n",
       "    <tr>\n",
       "      <th>36.5 ~ 44.5</th>\n",
       "      <td>11</td>\n",
       "      <td>0.22</td>\n",
       "      <td>48</td>\n",
       "      <td>0.96</td>\n",
       "      <td>40.5</td>\n",
       "    </tr>\n",
       "    <tr>\n",
       "      <th>44.5 ~ 52.5</th>\n",
       "      <td>1</td>\n",
       "      <td>0.02</td>\n",
       "      <td>49</td>\n",
       "      <td>0.98</td>\n",
       "      <td>48.5</td>\n",
       "    </tr>\n",
       "    <tr>\n",
       "      <th>52.5 ~ 60.5</th>\n",
       "      <td>1</td>\n",
       "      <td>0.02</td>\n",
       "      <td>50</td>\n",
       "      <td>1.0</td>\n",
       "      <td>56.5</td>\n",
       "    </tr>\n",
       "    <tr>\n",
       "      <th>합계</th>\n",
       "      <td>50</td>\n",
       "      <td>1.00</td>\n",
       "      <td></td>\n",
       "      <td></td>\n",
       "      <td></td>\n",
       "    </tr>\n",
       "  </tbody>\n",
       "</table>\n",
       "</div>"
      ],
      "text/plain": [
       "             도수  상대도수 누적도수 누적상대도수   계긊값\n",
       "계급간격                                   \n",
       "20.5 ~ 28.5  14  0.28   14   0.28  24.5\n",
       "28.5 ~ 36.5  23  0.46   37   0.74  32.5\n",
       "36.5 ~ 44.5  11  0.22   48   0.96  40.5\n",
       "44.5 ~ 52.5   1  0.02   49   0.98  48.5\n",
       "52.5 ~ 60.5   1  0.02   50    1.0  56.5\n",
       "합계           50  1.00                  "
      ]
     },
     "execution_count": 2,
     "metadata": {},
     "output_type": "execute_result"
    }
   ],
   "source": [
    "import math\n",
    "import pandas as pd\n",
    "k = 5 #계급의 수\n",
    "R = max(data) - min(data) \n",
    "w = math.ceil(R/k) #간격\n",
    "s = min(data) - 0.5 #시작값\n",
    "\n",
    "bins = [s + w*i for i in range(k+1)]\n",
    "index = [f'{bins[i]} ~ {bins[i+1]}' for i in range(k)]\n",
    "\n",
    "hist, bins = np.histogram(data, bins)\n",
    "\n",
    "df = pd.DataFrame(hist, index, columns=['도수'])\n",
    "df.index.name = '계급간격'\n",
    "\n",
    "df['상대도수'] = [hist[i]/sum(hist) for i in range(k)]\n",
    "df['누적도수'] = [sum(hist[:i+1]) if i>0 else hist[i] for i in range(k)]\n",
    "tmp = df['상대도수']\n",
    "df['누적상대도수'] = [sum(tmp[:i+1]) if i>0 else tmp[i] for i in range(k)]\n",
    "\n",
    "tmp = [(bins[i] + bins[i+1]) for i in range(k)]\n",
    "df['계긊값'] = [i/2 for i in tmp]\n",
    "df.loc['합계'] = [sum(df['도수']), sum(df['상대도수']), '', '', '']\n",
    "df\n",
    " "
   ]
  },
  {
   "cell_type": "code",
   "execution_count": 61,
   "metadata": {},
   "outputs": [
    {
     "name": "stdout",
     "output_type": "stream",
     "text": [
      "[274.]\n"
     ]
    },
    {
     "name": "stderr",
     "output_type": "stream",
     "text": [
      "/var/folders/ds/3pccrhwd1hb9q3h_5q7b1cp80000gn/T/ipykernel_95335/1457711157.py:6: DeprecationWarning: the `interpolation=` argument to percentile was renamed to `method=`, which has additional options.\n",
      "Users of the modes 'nearest', 'lower', 'higher', or 'midpoint' are encouraged to review the method they. (Deprecated NumPy 1.22)\n",
      "  q3 = np.percentile(val, [75], interpolation='linear')\n"
     ]
    }
   ],
   "source": [
    "data = [281, 238, 16, 11, 41, 80, 89, 52, 572, 257, 209, 25, 150, 529, 202, 267, 153, 29, 80, 21, 133, 46, 397, 148, 698, 422, 415]\n",
    "AVG = np.mean(data)\n",
    "STD = np.std(data, ddof=0)\n",
    "val = sorted(data)\n",
    "M = np.median(val)\n",
    "q3 = np.percentile(val, [75], interpolation='linear')\n",
    "print(q3)\n"
   ]
  },
  {
   "cell_type": "code",
   "execution_count": null,
   "metadata": {},
   "outputs": [],
   "source": []
  }
 ],
 "metadata": {
  "interpreter": {
   "hash": "31f2aee4e71d21fbe5cf8b01ff0e069b9275f58929596ceb00d14d90e3e16cd6"
  },
  "kernelspec": {
   "display_name": "Python 3.8.9 64-bit",
   "language": "python",
   "name": "python3"
  },
  "language_info": {
   "codemirror_mode": {
    "name": "ipython",
    "version": 3
   },
   "file_extension": ".py",
   "mimetype": "text/x-python",
   "name": "python",
   "nbconvert_exporter": "python",
   "pygments_lexer": "ipython3",
   "version": "3.8.9"
  },
  "orig_nbformat": 4
 },
 "nbformat": 4,
 "nbformat_minor": 2
}
