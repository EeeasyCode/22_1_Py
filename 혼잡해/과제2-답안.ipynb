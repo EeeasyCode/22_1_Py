{
 "cells": [
  {
   "cell_type": "markdown",
   "metadata": {},
   "source": [
    "# 과제2-답안"
   ]
  },
  {
   "cell_type": "markdown",
   "metadata": {},
   "source": [
    "## Chapter 3 자료의 정리 심화문제\n",
    "\n",
    "### 27. 통계청 년도별 출생아 수 자료 정리하기"
   ]
  },
  {
   "cell_type": "markdown",
   "metadata": {},
   "source": [
    "### Q. 2004년~2012년(9년) 동안의 출생아 수와 여자아이 100명당 남자아이의 비율 표로 나타내기"
   ]
  },
  {
   "cell_type": "code",
   "execution_count": 8,
   "metadata": {
    "scrolled": true
   },
   "outputs": [
    {
     "name": "stdout",
     "output_type": "stream",
     "text": [
      "2004    472761.0\n",
      "2005    435031.0\n",
      "2006    448153.0\n",
      "2007    493183.0\n",
      "2008    465891.0\n",
      "2009    444849.0\n",
      "2010    470171.0\n",
      "2011    471265.0\n",
      "2012    484550.0\n",
      "Name: 출생아수, dtype: float64\n"
     ]
    },
    {
     "data": {
      "text/html": [
       "<div>\n",
       "<style scoped>\n",
       "    .dataframe tbody tr th:only-of-type {\n",
       "        vertical-align: middle;\n",
       "    }\n",
       "\n",
       "    .dataframe tbody tr th {\n",
       "        vertical-align: top;\n",
       "    }\n",
       "\n",
       "    .dataframe thead th {\n",
       "        text-align: right;\n",
       "    }\n",
       "</style>\n",
       "<table border=\"1\" class=\"dataframe\">\n",
       "  <thead>\n",
       "    <tr style=\"text-align: right;\">\n",
       "      <th></th>\n",
       "      <th>2004</th>\n",
       "      <th>2005</th>\n",
       "      <th>2006</th>\n",
       "      <th>2007</th>\n",
       "      <th>2008</th>\n",
       "      <th>2009</th>\n",
       "      <th>2010</th>\n",
       "      <th>2011</th>\n",
       "      <th>2012</th>\n",
       "    </tr>\n",
       "  </thead>\n",
       "  <tbody>\n",
       "    <tr>\n",
       "      <th>출생아수</th>\n",
       "      <td>472761.0</td>\n",
       "      <td>435031.0</td>\n",
       "      <td>448153.0</td>\n",
       "      <td>493183.0</td>\n",
       "      <td>465891.0</td>\n",
       "      <td>444849.0</td>\n",
       "      <td>470171.0</td>\n",
       "      <td>471265.0</td>\n",
       "      <td>484550.0</td>\n",
       "    </tr>\n",
       "    <tr>\n",
       "      <th>출생성비</th>\n",
       "      <td>108.2</td>\n",
       "      <td>107.8</td>\n",
       "      <td>107.5</td>\n",
       "      <td>106.2</td>\n",
       "      <td>106.4</td>\n",
       "      <td>106.4</td>\n",
       "      <td>106.9</td>\n",
       "      <td>105.7</td>\n",
       "      <td>105.7</td>\n",
       "    </tr>\n",
       "  </tbody>\n",
       "</table>\n",
       "</div>"
      ],
      "text/plain": [
       "          2004      2005      2006      2007      2008      2009      2010  \\\n",
       "출생아수  472761.0  435031.0  448153.0  493183.0  465891.0  444849.0  470171.0   \n",
       "출생성비     108.2     107.8     107.5     106.2     106.4     106.4     106.9   \n",
       "\n",
       "          2011      2012  \n",
       "출생아수  471265.0  484550.0  \n",
       "출생성비     105.7     105.7  "
      ]
     },
     "execution_count": 8,
     "metadata": {},
     "output_type": "execute_result"
    }
   ],
   "source": [
    "import numpy as np\n",
    "import pandas as pd\n",
    "import matplotlib.pyplot as plt\n",
    "\n",
    "#한글 설정\n",
    "# plt.rcParams['font.family'] = 'Malgun Gothic'# '맑은 고딕'으로 설정\n",
    "plt.rcParams['font.family'] = \"AppleGothic\"  # 맥 사용자\n",
    "\n",
    "datas = {2004:[472761,108.2], 2005:[435031,107.8], 2006:[448153,107.5], \n",
    "         2007:[493183,106.2], 2008:[465891,106.4], 2009:[444849,106.4],\n",
    "         2010:[470171,106.9], 2011:[471265,105.7], 2012:[484550,105.7]}\n",
    "\n",
    "df = pd.DataFrame(datas, index=['출생아수', '출생성비'])\n",
    "\n",
    "print(df.iloc[0].apply(pd.to_numeric))\n",
    "\n",
    "df"
   ]
  },
  {
   "cell_type": "markdown",
   "metadata": {},
   "source": [
    "### (a) 년도별 출생아 수 막대그래프 "
   ]
  },
  {
   "cell_type": "code",
   "execution_count": 9,
   "metadata": {},
   "outputs": [
    {
     "data": {
      "image/png": "[encoded data removed]",
      "text/plain": [
       "<Figure size 432x288 with 1 Axes>"
      ]
     },
     "metadata": {
      "needs_background": "light"
     },
     "output_type": "display_data"
    }
   ],
   "source": [
    "x = df.columns   # 출생년도\n",
    "y = df.loc['출생아수',:].values  # 출생아수 행 전체 = df.iloc[0]\n",
    "\n",
    "colors = ['r','g','b','c','m','y','k']\n",
    "\n",
    "plt.bar(x, y, color=colors)\n",
    "plt.title('연도별 출생아 수')\n",
    "plt.xlabel('연도')\n",
    "plt.ylabel('출생아 수')\n",
    "plt.xticks(x)  #x축 레이블 출력\n",
    "#plt.ylim(400000, 500000)  # y축 범위 지정\n",
    "plt.show()"
   ]
  },
  {
   "cell_type": "markdown",
   "metadata": {},
   "source": [
    "### (b) 여아, 남아 출생아수 구분하여 꺾은선 그래프 나타내기"
   ]
  },
  {
   "cell_type": "code",
   "execution_count": 7,
   "metadata": {},
   "outputs": [
    {
     "data": {
      "text/html": [
       "<div>\n",
       "<style scoped>\n",
       "    .dataframe tbody tr th:only-of-type {\n",
       "        vertical-align: middle;\n",
       "    }\n",
       "\n",
       "    .dataframe tbody tr th {\n",
       "        vertical-align: top;\n",
       "    }\n",
       "\n",
       "    .dataframe thead th {\n",
       "        text-align: right;\n",
       "    }\n",
       "</style>\n",
       "<table border=\"1\" class=\"dataframe\">\n",
       "  <thead>\n",
       "    <tr style=\"text-align: right;\">\n",
       "      <th></th>\n",
       "      <th>2004</th>\n",
       "      <th>2005</th>\n",
       "      <th>2006</th>\n",
       "      <th>2007</th>\n",
       "      <th>2008</th>\n",
       "      <th>2009</th>\n",
       "      <th>2010</th>\n",
       "      <th>2011</th>\n",
       "      <th>2012</th>\n",
       "    </tr>\n",
       "  </thead>\n",
       "  <tbody>\n",
       "    <tr>\n",
       "      <th>출생아수</th>\n",
       "      <td>472761.0</td>\n",
       "      <td>435031.0</td>\n",
       "      <td>448153.0</td>\n",
       "      <td>493183.0</td>\n",
       "      <td>465891.0</td>\n",
       "      <td>444849.0</td>\n",
       "      <td>470171.0</td>\n",
       "      <td>471265.0</td>\n",
       "      <td>484550.0</td>\n",
       "    </tr>\n",
       "    <tr>\n",
       "      <th>출생성비</th>\n",
       "      <td>108.2</td>\n",
       "      <td>107.8</td>\n",
       "      <td>107.5</td>\n",
       "      <td>106.2</td>\n",
       "      <td>106.4</td>\n",
       "      <td>106.4</td>\n",
       "      <td>106.9</td>\n",
       "      <td>105.7</td>\n",
       "      <td>105.7</td>\n",
       "    </tr>\n",
       "    <tr>\n",
       "      <th>여아</th>\n",
       "      <td>227071.0</td>\n",
       "      <td>209351.0</td>\n",
       "      <td>215977.0</td>\n",
       "      <td>239177.0</td>\n",
       "      <td>225722.0</td>\n",
       "      <td>215528.0</td>\n",
       "      <td>227246.0</td>\n",
       "      <td>229103.0</td>\n",
       "      <td>235561.0</td>\n",
       "    </tr>\n",
       "    <tr>\n",
       "      <th>남아</th>\n",
       "      <td>245690.0</td>\n",
       "      <td>225680.0</td>\n",
       "      <td>232176.0</td>\n",
       "      <td>254006.0</td>\n",
       "      <td>240169.0</td>\n",
       "      <td>229321.0</td>\n",
       "      <td>242925.0</td>\n",
       "      <td>242162.0</td>\n",
       "      <td>248989.0</td>\n",
       "    </tr>\n",
       "  </tbody>\n",
       "</table>\n",
       "</div>"
      ],
      "text/plain": [
       "          2004      2005      2006      2007      2008      2009      2010  \\\n",
       "출생아수  472761.0  435031.0  448153.0  493183.0  465891.0  444849.0  470171.0   \n",
       "출생성비     108.2     107.8     107.5     106.2     106.4     106.4     106.9   \n",
       "여아    227071.0  209351.0  215977.0  239177.0  225722.0  215528.0  227246.0   \n",
       "남아    245690.0  225680.0  232176.0  254006.0  240169.0  229321.0  242925.0   \n",
       "\n",
       "          2011      2012  \n",
       "출생아수  471265.0  484550.0  \n",
       "출생성비     105.7     105.7  \n",
       "여아    229103.0  235561.0  \n",
       "남아    242162.0  248989.0  "
      ]
     },
     "execution_count": 7,
     "metadata": {},
     "output_type": "execute_result"
    }
   ],
   "source": [
    "#출생아수(total), 출생성비(rate), 여아(f), 남아(m)\n",
    "# f + m = total, f : m = 100 : rate \n",
    "# f = 100 * total / (100 + rate) \n",
    "# m = total - f\n",
    "\n",
    "\n",
    "total = df.loc['출생아수',:].values  # 출생아수 행 전체 = df.iloc[0]\n",
    "rate  = df.loc['출생성비',:].values  # 출생성비 행 전체 = df.iloc[1]\n",
    "f = [round(100*total[idx]/(100+rate[idx])) for idx, i in enumerate(total)]\n",
    "m = [i - f[idx] for idx, i in enumerate(total)]\n",
    "\n",
    "df.loc['여아'] = f\n",
    "df.loc['남아'] = m\n",
    "df\n",
    "\n",
    "\n",
    "# df.loc['여아',:] = df.loc['여아',:].astype(int)\n",
    "# df.loc['남아',:] = df.loc['남아',:].astype(int)\n",
    "\n",
    "df"
   ]
  },
  {
   "cell_type": "markdown",
   "metadata": {},
   "source": [
    "#### 여아, 남아 출생아수 꺽은선 그래프"
   ]
  },
  {
   "cell_type": "code",
   "execution_count": 10,
   "metadata": {
    "scrolled": true
   },
   "outputs": [
    {
     "data": {
      "image/png": "[encoded data removed]",
      "text/plain": [
       "<Figure size 432x288 with 1 Axes>"
      ]
     },
     "metadata": {
      "needs_background": "light"
     },
     "output_type": "display_data"
    }
   ],
   "source": [
    "plt.plot(x, f, 'o', linestyle='-', color='r', label='여아')\n",
    "plt.plot(x, m, 'o', linestyle='-', color='b', label='남아')\n",
    "plt.title('연도별 여아수와 남아수의 비교')\n",
    "plt.xlabel('연도')\n",
    "plt.ylabel('출생아수')\n",
    "plt.xticks(x)  #x축 레이블 출력     \n",
    "plt.legend()\n",
    "plt.show()"
   ]
  },
  {
   "cell_type": "markdown",
   "metadata": {},
   "source": [
    "---"
   ]
  },
  {
   "cell_type": "markdown",
   "metadata": {},
   "source": [
    "## 28. 500개 측정값 조사 결과 자료 정리하기"
   ]
  },
  {
   "cell_type": "markdown",
   "metadata": {},
   "source": [
    "### (a). 도수분포표 완성"
   ]
  },
  {
   "cell_type": "code",
   "execution_count": 2,
   "metadata": {},
   "outputs": [
    {
     "data": {
      "text/html": [
       "<div>\n",
       "<style scoped>\n",
       "    .dataframe tbody tr th:only-of-type {\n",
       "        vertical-align: middle;\n",
       "    }\n",
       "\n",
       "    .dataframe tbody tr th {\n",
       "        vertical-align: top;\n",
       "    }\n",
       "\n",
       "    .dataframe thead th {\n",
       "        text-align: right;\n",
       "    }\n",
       "</style>\n",
       "<table border=\"1\" class=\"dataframe\">\n",
       "  <thead>\n",
       "    <tr style=\"text-align: right;\">\n",
       "      <th></th>\n",
       "      <th>도수</th>\n",
       "      <th>상대도수</th>\n",
       "      <th>누적도수</th>\n",
       "      <th>누적상대도수</th>\n",
       "      <th>계급값</th>\n",
       "    </tr>\n",
       "    <tr>\n",
       "      <th>계급간격</th>\n",
       "      <th></th>\n",
       "      <th></th>\n",
       "      <th></th>\n",
       "      <th></th>\n",
       "      <th></th>\n",
       "    </tr>\n",
       "  </thead>\n",
       "  <tbody>\n",
       "    <tr>\n",
       "      <th>0.5 ~ 4.5</th>\n",
       "      <td>25</td>\n",
       "      <td>0.05</td>\n",
       "      <td>25</td>\n",
       "      <td>0.05</td>\n",
       "      <td>2.5</td>\n",
       "    </tr>\n",
       "    <tr>\n",
       "      <th>4.5 ~ 8.5</th>\n",
       "      <td>55</td>\n",
       "      <td>0.11</td>\n",
       "      <td>80</td>\n",
       "      <td>0.16</td>\n",
       "      <td>6.5</td>\n",
       "    </tr>\n",
       "    <tr>\n",
       "      <th>8.5 ~ 12.5</th>\n",
       "      <td>60</td>\n",
       "      <td>0.12</td>\n",
       "      <td>140</td>\n",
       "      <td>0.28</td>\n",
       "      <td>10.5</td>\n",
       "    </tr>\n",
       "    <tr>\n",
       "      <th>12.5 ~ 16.5</th>\n",
       "      <td>90</td>\n",
       "      <td>0.18</td>\n",
       "      <td>230</td>\n",
       "      <td>0.46</td>\n",
       "      <td>14.5</td>\n",
       "    </tr>\n",
       "    <tr>\n",
       "      <th>16.5 ~ 20.5</th>\n",
       "      <td>115</td>\n",
       "      <td>0.23</td>\n",
       "      <td>345</td>\n",
       "      <td>0.69</td>\n",
       "      <td>18.5</td>\n",
       "    </tr>\n",
       "    <tr>\n",
       "      <th>20.5 ~ 24.5</th>\n",
       "      <td>85</td>\n",
       "      <td>0.17</td>\n",
       "      <td>430</td>\n",
       "      <td>0.86</td>\n",
       "      <td>22.5</td>\n",
       "    </tr>\n",
       "    <tr>\n",
       "      <th>24.5 ~ 28.5</th>\n",
       "      <td>50</td>\n",
       "      <td>0.10</td>\n",
       "      <td>480</td>\n",
       "      <td>0.96</td>\n",
       "      <td>26.5</td>\n",
       "    </tr>\n",
       "    <tr>\n",
       "      <th>28.5 ~ 32.5</th>\n",
       "      <td>20</td>\n",
       "      <td>0.04</td>\n",
       "      <td>500</td>\n",
       "      <td>1.0</td>\n",
       "      <td>30.5</td>\n",
       "    </tr>\n",
       "    <tr>\n",
       "      <th>합계</th>\n",
       "      <td>500</td>\n",
       "      <td>1.00</td>\n",
       "      <td></td>\n",
       "      <td></td>\n",
       "      <td></td>\n",
       "    </tr>\n",
       "  </tbody>\n",
       "</table>\n",
       "</div>"
      ],
      "text/plain": [
       "              도수  상대도수 누적도수 누적상대도수   계급값\n",
       "계급간격                                    \n",
       "0.5 ~ 4.5     25  0.05   25   0.05   2.5\n",
       "4.5 ~ 8.5     55  0.11   80   0.16   6.5\n",
       "8.5 ~ 12.5    60  0.12  140   0.28  10.5\n",
       "12.5 ~ 16.5   90  0.18  230   0.46  14.5\n",
       "16.5 ~ 20.5  115  0.23  345   0.69  18.5\n",
       "20.5 ~ 24.5   85  0.17  430   0.86  22.5\n",
       "24.5 ~ 28.5   50  0.10  480   0.96  26.5\n",
       "28.5 ~ 32.5   20  0.04  500    1.0  30.5\n",
       "합계           500  1.00                  "
      ]
     },
     "execution_count": 2,
     "metadata": {},
     "output_type": "execute_result"
    }
   ],
   "source": [
    "import math\n",
    "import pandas as pd\n",
    "#도수\n",
    "data = [25,55,60,90,115,85,50,20]\n",
    "\n",
    "# 계급 수\n",
    "k = 8\n",
    "# 계급 간격\n",
    "w = 4 \n",
    "# 시작 계급값\n",
    "s = 0.5\n",
    "\n",
    "# 전체 계급\n",
    "bins = [ s + i*w for i in range(k+1)]  #계급\n",
    "\n",
    "#계급구간\n",
    "index = [ f'{bins[i]} ~ {bins[i]+w}' for i in range(k) ]\n",
    "\n",
    "# 도수분포표 만들기\n",
    "df = pd.DataFrame(data, index=index, columns=['도수'])\n",
    "df.index.name = '계급간격'\n",
    "\n",
    "df['상대도수'] = [x/sum(data) for x in data]\n",
    "\n",
    "df['누적도수'] = [sum(data[:i+1]) if i>0 else data[i] for i in range(k)]\n",
    "\n",
    "tmp = df['상대도수'].values\n",
    "df['누적상대도수'] = [sum(tmp[:i+1]) if i>0 else tmp[i] for i in range(k)]\n",
    "\n",
    "df['계급값'] = [ (bins[x]+bins[x+1])/2 for x in range(k)]\n",
    "\n",
    "df.loc['합계'] = [ sum(data), sum(tmp),'','','' ]\n",
    "\n",
    "df"
   ]
  },
  {
   "cell_type": "markdown",
   "metadata": {},
   "source": [
    "### (b). 도수히스토그램과 누적상대도수히스토그램 그리기"
   ]
  },
  {
   "cell_type": "code",
   "execution_count": 51,
   "metadata": {},
   "outputs": [
    {
     "data": {
      "image/png": "[encoded data removed]",
      "text/plain": [
       "<Figure size 432x288 with 1 Axes>"
      ]
     },
     "metadata": {
      "needs_background": "light"
     },
     "output_type": "display_data"
    }
   ],
   "source": [
    "# 도수히스토그램\n",
    "x = df['계급값'].values[:k]\n",
    "y = df['도수'].values[:k]\n",
    "\n",
    "plt.bar(x, y, width=4, edgecolor='w')\n",
    "plt.title('도수 히스토그램')\n",
    "plt.ylabel('도수')\n",
    "plt.xticks(ticks=x, labels=x)\n",
    "plt.grid()\n",
    "plt.show()"
   ]
  },
  {
   "cell_type": "code",
   "execution_count": 52,
   "metadata": {},
   "outputs": [
    {
     "data": {
      "image/png": "[encoded data removed]",
      "text/plain": [
       "<Figure size 432x288 with 1 Axes>"
      ]
     },
     "metadata": {
      "needs_background": "light"
     },
     "output_type": "display_data"
    }
   ],
   "source": [
    "# 누적상대도수히스토그램\n",
    "x = df['계급값'].values[:k]\n",
    "y = df['누적상대도수'].values[:k]\n",
    "\n",
    "plt.bar(x, y, width=4, edgecolor='w')\n",
    "plt.title('누적상대도수 히스토그램')\n",
    "plt.ylabel('누적상대도수')\n",
    "plt.xticks(ticks=x, labels=x)\n",
    "plt.grid()\n",
    "plt.show()"
   ]
  },
  {
   "cell_type": "markdown",
   "metadata": {},
   "source": [
    "### (c) 누적상대도수다각형 그리기"
   ]
  },
  {
   "cell_type": "code",
   "execution_count": 53,
   "metadata": {},
   "outputs": [
    {
     "data": {
      "image/png": "[encoded data removed]",
      "text/plain": [
       "<Figure size 432x288 with 1 Axes>"
      ]
     },
     "metadata": {
      "needs_background": "light"
     },
     "output_type": "display_data"
    }
   ],
   "source": [
    "# 도수히스토그램\n",
    "x = df['계급값'].values[:k]\n",
    "y = df['누적상대도수'].values[:k]\n",
    "\n",
    "plt.bar(x, y, width=4, edgecolor='w')\n",
    "plt.plot(x,y, 'o', linestyle='-', color='r')\n",
    "plt.title('누적상대도수 다각형')\n",
    "plt.ylabel('누적상대도수')\n",
    "plt.xticks(ticks=x, labels=x)\n",
    "plt.grid()\n",
    "plt.show()"
   ]
  },
  {
   "cell_type": "markdown",
   "metadata": {},
   "source": [
    "---"
   ]
  },
  {
   "cell_type": "markdown",
   "metadata": {},
   "source": [
    "## 29. 통계청 연도별 우리나라 남자와 여자의 기대수명 예측"
   ]
  },
  {
   "cell_type": "markdown",
   "metadata": {},
   "source": [
    "### Q. 우리나라 남자와 여자의 기대수명 그래프와 기대수명 예측하기"
   ]
  },
  {
   "cell_type": "code",
   "execution_count": 55,
   "metadata": {},
   "outputs": [
    {
     "data": {
      "text/html": [
       "<div>\n",
       "<style scoped>\n",
       "    .dataframe tbody tr th:only-of-type {\n",
       "        vertical-align: middle;\n",
       "    }\n",
       "\n",
       "    .dataframe tbody tr th {\n",
       "        vertical-align: top;\n",
       "    }\n",
       "\n",
       "    .dataframe thead th {\n",
       "        text-align: right;\n",
       "    }\n",
       "</style>\n",
       "<table border=\"1\" class=\"dataframe\">\n",
       "  <thead>\n",
       "    <tr style=\"text-align: right;\">\n",
       "      <th></th>\n",
       "      <th>2003</th>\n",
       "      <th>2004</th>\n",
       "      <th>2005</th>\n",
       "      <th>2006</th>\n",
       "      <th>2007</th>\n",
       "      <th>2008</th>\n",
       "      <th>2009</th>\n",
       "      <th>2010</th>\n",
       "      <th>2011</th>\n",
       "      <th>2012</th>\n",
       "    </tr>\n",
       "  </thead>\n",
       "  <tbody>\n",
       "    <tr>\n",
       "      <th>기대수명</th>\n",
       "      <td>77.4</td>\n",
       "      <td>78.0</td>\n",
       "      <td>78.6</td>\n",
       "      <td>79.2</td>\n",
       "      <td>79.6</td>\n",
       "      <td>80.1</td>\n",
       "      <td>80.6</td>\n",
       "      <td>80.8</td>\n",
       "      <td>81.2</td>\n",
       "      <td>81.4</td>\n",
       "    </tr>\n",
       "    <tr>\n",
       "      <th>남자</th>\n",
       "      <td>73.9</td>\n",
       "      <td>74.5</td>\n",
       "      <td>75.1</td>\n",
       "      <td>75.7</td>\n",
       "      <td>76.1</td>\n",
       "      <td>76.5</td>\n",
       "      <td>11.0</td>\n",
       "      <td>77.2</td>\n",
       "      <td>77.7</td>\n",
       "      <td>78.0</td>\n",
       "    </tr>\n",
       "    <tr>\n",
       "      <th>여자</th>\n",
       "      <td>80.8</td>\n",
       "      <td>81.4</td>\n",
       "      <td>81.9</td>\n",
       "      <td>82.4</td>\n",
       "      <td>82.7</td>\n",
       "      <td>83.3</td>\n",
       "      <td>83.8</td>\n",
       "      <td>84.1</td>\n",
       "      <td>84.5</td>\n",
       "      <td>84.6</td>\n",
       "    </tr>\n",
       "  </tbody>\n",
       "</table>\n",
       "</div>"
      ],
      "text/plain": [
       "      2003  2004  2005  2006  2007  2008  2009  2010  2011  2012\n",
       "기대수명  77.4  78.0  78.6  79.2  79.6  80.1  80.6  80.8  81.2  81.4\n",
       "남자    73.9  74.5  75.1  75.7  76.1  76.5  11.0  77.2  77.7  78.0\n",
       "여자    80.8  81.4  81.9  82.4  82.7  83.3  83.8  84.1  84.5  84.6"
      ]
     },
     "execution_count": 55,
     "metadata": {},
     "output_type": "execute_result"
    }
   ],
   "source": [
    "import pandas as pd\n",
    "import matplotlib.pyplot as plt\n",
    "\n",
    "# 딕셔너리로 DataFrame으로 나타내기\n",
    "datas ={2003:[77.4,73.9,80.8], 2004:[78.0,74.5,81.4],\n",
    "        2005:[78.6,75.1,81.9], 2006:[79.2,75.7,82.4],\n",
    "        2007:[79.6,76.1,82.7], 2008:[80.1,76.5,83.3],\n",
    "        2009:[80.6,11.0,83.8], 2010:[80.8,77.2,84.1],\n",
    "        2011:[81.2,77.7,84.5], 2012:[81.4,78.0,84.6]}\n",
    "\n",
    "df = pd.DataFrame(datas, index=['기대수명','남자','여자'])\n",
    "\n",
    "df"
   ]
  },
  {
   "cell_type": "code",
   "execution_count": 69,
   "metadata": {},
   "outputs": [
    {
     "data": {
      "text/html": [
       "<div>\n",
       "<style scoped>\n",
       "    .dataframe tbody tr th:only-of-type {\n",
       "        vertical-align: middle;\n",
       "    }\n",
       "\n",
       "    .dataframe tbody tr th {\n",
       "        vertical-align: top;\n",
       "    }\n",
       "\n",
       "    .dataframe thead th {\n",
       "        text-align: right;\n",
       "    }\n",
       "</style>\n",
       "<table border=\"1\" class=\"dataframe\">\n",
       "  <thead>\n",
       "    <tr style=\"text-align: right;\">\n",
       "      <th>연도</th>\n",
       "      <th>2003</th>\n",
       "      <th>2004</th>\n",
       "      <th>2005</th>\n",
       "      <th>2006</th>\n",
       "      <th>2007</th>\n",
       "      <th>2008</th>\n",
       "      <th>2009</th>\n",
       "      <th>2010</th>\n",
       "      <th>2011</th>\n",
       "      <th>2012</th>\n",
       "    </tr>\n",
       "  </thead>\n",
       "  <tbody>\n",
       "    <tr>\n",
       "      <th>기대수명</th>\n",
       "      <td>77.4</td>\n",
       "      <td>78.0</td>\n",
       "      <td>78.6</td>\n",
       "      <td>79.2</td>\n",
       "      <td>79.6</td>\n",
       "      <td>80.1</td>\n",
       "      <td>80.6</td>\n",
       "      <td>80.8</td>\n",
       "      <td>81.2</td>\n",
       "      <td>81.4</td>\n",
       "    </tr>\n",
       "    <tr>\n",
       "      <th>남자</th>\n",
       "      <td>73.9</td>\n",
       "      <td>74.5</td>\n",
       "      <td>75.1</td>\n",
       "      <td>75.7</td>\n",
       "      <td>76.1</td>\n",
       "      <td>76.5</td>\n",
       "      <td>77.0</td>\n",
       "      <td>77.2</td>\n",
       "      <td>77.7</td>\n",
       "      <td>78.0</td>\n",
       "    </tr>\n",
       "    <tr>\n",
       "      <th>여자</th>\n",
       "      <td>80.8</td>\n",
       "      <td>81.4</td>\n",
       "      <td>81.9</td>\n",
       "      <td>82.4</td>\n",
       "      <td>82.7</td>\n",
       "      <td>83.3</td>\n",
       "      <td>83.8</td>\n",
       "      <td>84.1</td>\n",
       "      <td>84.5</td>\n",
       "      <td>84.6</td>\n",
       "    </tr>\n",
       "  </tbody>\n",
       "</table>\n",
       "</div>"
      ],
      "text/plain": [
       "연도    2003  2004  2005  2006  2007  2008  2009  2010  2011  2012\n",
       "기대수명  77.4  78.0  78.6  79.2  79.6  80.1  80.6  80.8  81.2  81.4\n",
       "남자    73.9  74.5  75.1  75.7  76.1  76.5  77.0  77.2  77.7  78.0\n",
       "여자    80.8  81.4  81.9  82.4  82.7  83.3  83.8  84.1  84.5  84.6"
      ]
     },
     "execution_count": 69,
     "metadata": {},
     "output_type": "execute_result"
    }
   ],
   "source": [
    "# 파일 읽어와서 DataFrame으로 나타내기\n",
    "df = pd.read_csv('data/data_29.csv', engine='python')\n",
    "\n",
    "df.index = ['기대수명','남자','여자']\n",
    "df.columns.name = '연도'\n",
    "\n",
    "df"
   ]
  },
  {
   "cell_type": "markdown",
   "metadata": {},
   "source": [
    "### (a). 남자와 여자의 기대수명 꺽은선 그래프"
   ]
  },
  {
   "cell_type": "code",
   "execution_count": 102,
   "metadata": {},
   "outputs": [
    {
     "data": {
      "image/png": "[encoded data removed]",
      "text/plain": [
       "<Figure size 432x288 with 1 Axes>"
      ]
     },
     "metadata": {
      "needs_background": "light"
     },
     "output_type": "display_data"
    },
    {
     "name": "stdout",
     "output_type": "stream",
     "text": [
      "#수명 분석결과: \n",
      "여자의 기대수명이 남자의 기대수명보다 높다\n",
      "수명이 거의 직선으로 증가한다\n"
     ]
    }
   ],
   "source": [
    "x = df.columns\n",
    "t = df.iloc[0]  # df.loc['기대수명', :].values\n",
    "m = df.iloc[1]  # df.loc['남자', :].values \n",
    "f = df.iloc[2]  # df.loc['여자', :].values \n",
    "\n",
    "plt.plot(x, t, 'v', linestyle='-', color='g', label=t)\n",
    "plt.plot(x, f, 'o', linestyle='-', color='r')\n",
    "plt.plot(x, m, 'o', linestyle='-', color='b')\n",
    "\n",
    "plt.title('연도별 남자와 여자 평균수명')\n",
    "plt.xlabel('연도')\n",
    "plt.ylabel('수명')\n",
    "plt.xticks(x)  #x축 레이블 출력     \n",
    "plt.legend(['기대수명','여자','남자'])\n",
    "plt.show()\n",
    "\n",
    "print('''#수명 분석결과: \n",
    "여자의 기대수명이 남자의 기대수명보다 높다\n",
    "수명이 거의 직선으로 증가한다''')"
   ]
  },
  {
   "cell_type": "markdown",
   "metadata": {},
   "source": [
    "### (b). 2020년도 남자와 여자 기대수명 예측"
   ]
  },
  {
   "cell_type": "code",
   "execution_count": 87,
   "metadata": {
    "scrolled": true
   },
   "outputs": [
    {
     "name": "stdout",
     "output_type": "stream",
     "text": [
      "2003년 기대수명: 77.4, 2012년 기대수명: 81.4 \n"
     ]
    },
    {
     "data": {
      "image/png": "[encoded data removed]",
      "text/plain": [
       "<Figure size 432x288 with 1 Axes>"
      ]
     },
     "metadata": {
      "needs_background": "light"
     },
     "output_type": "display_data"
    }
   ],
   "source": [
    "print(f\"2003년 기대수명: {df['2003'][0]}, 2012년 기대수명: {df['2012'][0]} \")\n",
    "\n",
    "x = [2003, 2012]\n",
    "y = [df['2003'][0],df['2012'][0]]\n",
    "\n",
    "# 직선 그리기 \n",
    "plt.plot(x, y, 'o', linestyle='-', color='g', label='기대수명')\n",
    "plt.show()"
   ]
  },
  {
   "cell_type": "code",
   "execution_count": 113,
   "metadata": {},
   "outputs": [
    {
     "name": "stdout",
     "output_type": "stream",
     "text": [
      "년도: [2003, 2012], 기대수명: [73.9, 78.0]\n",
      "y = 0.45555555555555494x + -838.5777777777765\n",
      "y = 0.45555555555555494x + -838.5777777777765\n",
      "y = 0.45555555555554833x + -838.5777777777633\n",
      "2020년 예측수명: 82.55555555555543\n"
     ]
    }
   ],
   "source": [
    "x = [2003, 2012]\n",
    "y = [df['2003'][1],df['2012'][1] ] # 남자\n",
    "#y = [df['2003'][2],df['2012'][2] ] # 여자\n",
    "print(f'년도: {x}, 기대수명: {y}')\n",
    "\n",
    "# y = ax +  b (기울기:)\n",
    "# 방법1: \n",
    "a = (y[1]-y[0])/(x[1]-x[0])  #기울기: y증가분/x증가분\n",
    "b = y[0] - a * x[0] \n",
    "print(f'y = {a}x + {b}')\n",
    "\n",
    "\n",
    "# 방법2: scipy.stats를 이용한 기울기\n",
    "from scipy.stats import linregress\n",
    "slope, intercept, r_value, p_value, std_err = linregress(x, y)\n",
    "print(f'y = {slope}x + {intercept}')\n",
    "    \n",
    "    \n",
    "# 방법3: numpy.polyfit\n",
    "import numpy as np\n",
    "slope, intercept = np.polyfit(x, y, 1)  # 기울기, 절편\n",
    "print(f'y = {slope}x + {intercept}')\n",
    "\n",
    "\n",
    "x = 2022\n",
    "print(f'2020년 예측수명: {slope*x + intercept}')\n"
   ]
  },
  {
   "cell_type": "code",
   "execution_count": 101,
   "metadata": {
    "scrolled": true
   },
   "outputs": [
    {
     "data": {
      "image/png": "[encoded data removed]",
      "text/plain": [
       "<Figure size 432x288 with 1 Axes>"
      ]
     },
     "metadata": {
      "needs_background": "light"
     },
     "output_type": "display_data"
    },
    {
     "name": "stdout",
     "output_type": "stream",
     "text": [
      "기대수명 예측: \n",
      " 2003년부터 2012년까지 8년간 평균기대수명은 4년 늘어났으므로 \n",
      " 향후 2013년부터 2020년까지도 대략 4년의 기대수명이 연장될 것으로 전망됨\n"
     ]
    }
   ],
   "source": [
    "\n",
    "x = [2003,2012,2020]\n",
    "y1= [73.9,78.0,81.28]\n",
    "y2= [80.8,84.6,87.64]\n",
    "\n",
    "\n",
    "plt.plot(x, y1, 'o', linestyle='-', color='r', label='여자')\n",
    "plt.plot(x, y2, 'o', linestyle='-', color='b', label='남자')\n",
    "plt.legend()\n",
    "plt.xlabel('년도')\n",
    "plt.ylabel('기대수명')\n",
    "plt.title('2020년 남자와 여자의 기대수명 예측')\n",
    "plt.show()\n",
    "\n",
    "print('''#기대수명 예측: \n",
    " 2003년부터 2012년까지 8년간 평균기대수명은 4년 늘어났으므로 \n",
    " 향후 2013년부터 2020년까지도 대략 4년의 기대수명이 연장될 것으로 전망됨''')"
   ]
  },
  {
   "cell_type": "markdown",
   "metadata": {},
   "source": [
    "-------"
   ]
  },
  {
   "cell_type": "markdown",
   "metadata": {},
   "source": [
    "## Chapter 4 자료의 수치적 특성\n",
    "\n",
    "### 29. 하천의 수질농도 분석하기"
   ]
  },
  {
   "cell_type": "code",
   "execution_count": 2,
   "metadata": {},
   "outputs": [
    {
     "data": {
      "text/html": [
       "<div>\n",
       "<style scoped>\n",
       "    .dataframe tbody tr th:only-of-type {\n",
       "        vertical-align: middle;\n",
       "    }\n",
       "\n",
       "    .dataframe tbody tr th {\n",
       "        vertical-align: top;\n",
       "    }\n",
       "\n",
       "    .dataframe thead th {\n",
       "        text-align: right;\n",
       "    }\n",
       "</style>\n",
       "<table border=\"1\" class=\"dataframe\">\n",
       "  <thead>\n",
       "    <tr style=\"text-align: right;\">\n",
       "      <th>시각</th>\n",
       "      <th>0</th>\n",
       "      <th>4</th>\n",
       "      <th>8</th>\n",
       "      <th>12</th>\n",
       "      <th>16</th>\n",
       "      <th>20</th>\n",
       "    </tr>\n",
       "  </thead>\n",
       "  <tbody>\n",
       "    <tr>\n",
       "      <th>BOD</th>\n",
       "      <td>38</td>\n",
       "      <td>36</td>\n",
       "      <td>42</td>\n",
       "      <td>39</td>\n",
       "      <td>37</td>\n",
       "      <td>45</td>\n",
       "    </tr>\n",
       "    <tr>\n",
       "      <th>COD</th>\n",
       "      <td>22</td>\n",
       "      <td>20</td>\n",
       "      <td>23</td>\n",
       "      <td>22</td>\n",
       "      <td>22</td>\n",
       "      <td>25</td>\n",
       "    </tr>\n",
       "  </tbody>\n",
       "</table>\n",
       "</div>"
      ],
      "text/plain": [
       "시각   0   4   8   12  16  20\n",
       "BOD  38  36  42  39  37  45\n",
       "COD  22  20  23  22  22  25"
      ]
     },
     "execution_count": 2,
     "metadata": {},
     "output_type": "execute_result"
    }
   ],
   "source": [
    "import pandas as pd\n",
    "import numpy as np\n",
    "\n",
    "# 딕셔너리로 DataFrame으로 나타내기\n",
    "datas ={ 0:[38,22], 4:[36,20], 8:[42,23],\n",
    "        12:[39,22],16:[37,22],20:[45,25] }\n",
    "\n",
    "df = pd.DataFrame(datas, index=['BOD','COD'])\n",
    "df.columns.name = '시각'\n",
    "df"
   ]
  },
  {
   "cell_type": "code",
   "execution_count": 138,
   "metadata": {},
   "outputs": [
    {
     "name": "stdout",
     "output_type": "stream",
     "text": [
      "BOD 평균: 4451.8\n",
      "COD 평균: 5223.4\n",
      "\n",
      "BOD 표준편차: 359.5148953798716\n",
      "COD 표준편차: 290.14727294944544\n",
      "\n",
      "BOD 변동계수: 8.075719829728909\n",
      "COD 변동계수: 5.554758834273566\n",
      "\n"
     ]
    }
   ],
   "source": [
    "# (a). BOD, COD 평균\n",
    "print(f'BOD 평균: { np.mean(df.iloc[0]) }')\n",
    "print(f'COD 평균: { np.mean(df.iloc[1]) }\\n')\n",
    "\n",
    "# (b). BOD, COD 표준편차\n",
    "print(f'BOD 표준편차: { np.std(df.iloc[0]) }')\n",
    "print(f'COD 표준편차: { np.std(df.iloc[1]) }\\n')\n",
    "\n",
    "# (c). BOD, COD 변동계수\n",
    "print(f'BOD 변동계수: { np.std(df.iloc[0])/np.mean(df.iloc[0])*100 }')\n",
    "print(f'COD 변동계수: { np.std(df.iloc[1])/np.mean(df.iloc[1])*100 }\\n')"
   ]
  },
  {
   "cell_type": "markdown",
   "metadata": {},
   "source": [
    "### 30. 어느 광역시의 인구 증가요인 분석 결과"
   ]
  },
  {
   "cell_type": "code",
   "execution_count": 126,
   "metadata": {},
   "outputs": [
    {
     "data": {
      "text/html": [
       "<div>\n",
       "<style scoped>\n",
       "    .dataframe tbody tr th:only-of-type {\n",
       "        vertical-align: middle;\n",
       "    }\n",
       "\n",
       "    .dataframe tbody tr th {\n",
       "        vertical-align: top;\n",
       "    }\n",
       "\n",
       "    .dataframe thead th {\n",
       "        text-align: right;\n",
       "    }\n",
       "</style>\n",
       "<table border=\"1\" class=\"dataframe\">\n",
       "  <thead>\n",
       "    <tr style=\"text-align: right;\">\n",
       "      <th>연도</th>\n",
       "      <th>2012</th>\n",
       "      <th>2013</th>\n",
       "      <th>2014</th>\n",
       "      <th>2015</th>\n",
       "      <th>2016</th>\n",
       "    </tr>\n",
       "  </thead>\n",
       "  <tbody>\n",
       "    <tr>\n",
       "      <th>전입</th>\n",
       "      <td>3971</td>\n",
       "      <td>4236</td>\n",
       "      <td>4933</td>\n",
       "      <td>4798</td>\n",
       "      <td>4321</td>\n",
       "    </tr>\n",
       "    <tr>\n",
       "      <th>전출</th>\n",
       "      <td>5102</td>\n",
       "      <td>5046</td>\n",
       "      <td>5361</td>\n",
       "      <td>5718</td>\n",
       "      <td>4890</td>\n",
       "    </tr>\n",
       "  </tbody>\n",
       "</table>\n",
       "</div>"
      ],
      "text/plain": [
       "연도  2012  2013  2014  2015  2016\n",
       "전입  3971  4236  4933  4798  4321\n",
       "전출  5102  5046  5361  5718  4890"
      ]
     },
     "execution_count": 126,
     "metadata": {},
     "output_type": "execute_result"
    }
   ],
   "source": [
    "import pandas as pd\n",
    "import numpy as np\n",
    "\n",
    "# 딕셔너리로 DataFrame으로 나타내기\n",
    "datas ={ 2012:[3971,5102], 2013:[4236,5046], 2014:[4933,5361],\n",
    "         2015:[4798,5718], 2016:[4321,4890] }\n",
    "\n",
    "df = pd.DataFrame(datas, index=['전입','전출'])\n",
    "df.columns.name = '연도'\n",
    "df"
   ]
  },
  {
   "cell_type": "code",
   "execution_count": 11,
   "metadata": {},
   "outputs": [
    {
     "name": "stdout",
     "output_type": "stream",
     "text": [
      "전입 평균: 465094.8888888889\n",
      "전출 평균: 106.75555555555556\n",
      "\n"
     ]
    },
    {
     "data": {
      "image/png": "[encoded data removed]",
      "text/plain": [
       "<Figure size 432x288 with 1 Axes>"
      ]
     },
     "metadata": {
      "needs_background": "light"
     },
     "output_type": "display_data"
    },
    {
     "name": "stdout",
     "output_type": "stream",
     "text": [
      "순이동 평균: 464988.1333333333\n",
      "순이동 평균이 음수인 것으로 보아 외지로 전출한 인원이 더 많음\n",
      "\n",
      "전입 표준편차: 17924.051479286114\n",
      "전출 표준편차: 0.8525922708111489\n",
      "\n",
      "전입 변동계수: 3.8538483022478816\n",
      "전출 변동계수: 0.798639720784798\n"
     ]
    }
   ],
   "source": [
    "# (a). 전입, 전출 평균\n",
    "print(f'전입 평균: { np.mean(df.iloc[0]) }')\n",
    "print(f'전출 평균: { np.mean(df.iloc[1]) }\\n')\n",
    "\n",
    "\n",
    "# (b). 순이동: 전입 - 전출 의 평균\n",
    "import matplotlib.pyplot as plt\n",
    "plt.rcParams['axes.unicode_minus'] = False\n",
    "plt.bar(df.columns, df.iloc[0]-df.iloc[1] )\n",
    "plt.xlabel('연도')\n",
    "plt.ylabel('순이동')\n",
    "plt.title('순이동(전입-전출) 그래프')\n",
    "plt.show()\n",
    "\n",
    "print(f'순이동 평균: { np.mean(df.iloc[0]-df.iloc[1]) }')\n",
    "print('순이동 평균이 음수인 것으로 보아 외지로 전출한 인원이 더 많음\\n')\n",
    "\n",
    "\n",
    "# (c). 전입, 전출 표준편차\n",
    "print(f'전입 표준편차: { np.std(df.iloc[0]) }')\n",
    "print(f'전출 표준편차: { np.std(df.iloc[1]) }\\n')\n",
    "\n",
    "\n",
    "# (d). 전입, 전출 변동계수\n",
    "print(f'전입 변동계수: { np.std(df.iloc[0])/np.mean(df.iloc[0])*100 }')\n",
    "print(f'전출 변동계수: { np.std(df.iloc[1])/np.mean(df.iloc[1])*100 }')"
   ]
  },
  {
   "cell_type": "code",
   "execution_count": null,
   "metadata": {},
   "outputs": [],
   "source": []
  }
 ],
 "metadata": {
  "interpreter": {
   "hash": "31f2aee4e71d21fbe5cf8b01ff0e069b9275f58929596ceb00d14d90e3e16cd6"
  },
  "kernelspec": {
   "display_name": "Python 3.8.9 64-bit",
   "language": "python",
   "name": "python3"
  },
  "language_info": {
   "codemirror_mode": {
    "name": "ipython",
    "version": 3
   },
   "file_extension": ".py",
   "mimetype": "text/x-python",
   "name": "python",
   "nbconvert_exporter": "python",
   "pygments_lexer": "ipython3",
   "version": "3.8.9"
  }
 },
 "nbformat": 4,
 "nbformat_minor": 4
}
