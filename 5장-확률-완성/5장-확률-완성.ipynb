{
 "cells": [
  {
   "cell_type": "markdown",
   "metadata": {},
   "source": [
    "# Chapter 05 확률"
   ]
  },
  {
   "cell_type": "markdown",
   "metadata": {},
   "source": [
    "## 5-1 시행과 사건"
   ]
  },
  {
   "cell_type": "markdown",
   "metadata": {},
   "source": [
    "### 시행 (trial)"
   ]
  },
  {
   "cell_type": "markdown",
   "metadata": {},
   "source": [
    "동일한 조건 아래서 반복할 수 있으며, 그 결과가 우연에 의해 달라질 수 있는 실험 또는 관찰"
   ]
  },
  {
   "cell_type": "markdown",
   "metadata": {},
   "source": [
    "### [실습] 예제 5-1: 주사위를 두 번 반복하여 던지는 시행\n",
    "주사위를 두 번 반복하여 던지는 시행에서 나타날 수 있는 모든 경우 나타내기"
   ]
  },
  {
   "cell_type": "code",
   "execution_count": 4,
   "metadata": {},
   "outputs": [
    {
     "name": "stdout",
     "output_type": "stream",
     "text": [
      "(1,1) (1,2) (1,3) (1,4) (1,5) (1,6) \n",
      "(2,1) (2,2) (2,3) (2,4) (2,5) (2,6) \n",
      "(3,1) (3,2) (3,3) (3,4) (3,5) (3,6) \n",
      "(4,1) (4,2) (4,3) (4,4) (4,5) (4,6) \n",
      "(5,1) (5,2) (5,3) (5,4) (5,5) (5,6) \n",
      "(6,1) (6,2) (6,3) (6,4) (6,5) (6,6) \n"
     ]
    }
   ],
   "source": [
    "d1 = list(range(1, 7))\n",
    "d2 = list(range(1, 7))\n",
    "\n",
    "for i in d1:\n",
    "    for j in d2:\n",
    "        print(f'({i},{j})', end=' ')\n",
    "    print()"
   ]
  },
  {
   "cell_type": "code",
   "execution_count": 1,
   "metadata": {
    "scrolled": false
   },
   "outputs": [
    {
     "name": "stdout",
     "output_type": "stream",
     "text": [
      "첫번째 주사위 경우 수: [1, 2, 3, 4, 5, 6]\n",
      "첫번째 주사위 경우 수: [1, 2, 3, 4, 5, 6]\n",
      "--------------------------------------------------\n",
      "(1,1) (1,2) (1,3) (1,4) (1,5) (1,6) \n",
      "(2,1) (2,2) (2,3) (2,4) (2,5) (2,6) \n",
      "(3,1) (3,2) (3,3) (3,4) (3,5) (3,6) \n",
      "(4,1) (4,2) (4,3) (4,4) (4,5) (4,6) \n",
      "(5,1) (5,2) (5,3) (5,4) (5,5) (5,6) \n",
      "(6,1) (6,2) (6,3) (6,4) (6,5) (6,6) \n"
     ]
    }
   ],
   "source": [
    "# 주사위에서 나올 수 있는 경우의 수\n",
    "# 방법1\n",
    "D1 = list(range(1,7))\n",
    "D2 = list(range(1,7))\n",
    "print(f'첫번째 주사위 경우 수: {D1}')\n",
    "print(f'첫번째 주사위 경우 수: {D2}')\n",
    "print('-'*50)\n",
    "\n",
    "for i in D1 :\n",
    "    for j in D2:   \n",
    "        print(f'({i},{j})', end=' ')\n",
    "    print()\n"
   ]
  },
  {
   "cell_type": "markdown",
   "metadata": {},
   "source": [
    "https://docs.python.org/ko/3/library/itertools.html\n"
   ]
  },
  {
   "cell_type": "code",
   "execution_count": 24,
   "metadata": {
    "scrolled": true
   },
   "outputs": [
    {
     "name": "stdout",
     "output_type": "stream",
     "text": [
      "\n",
      "(1, 1) (1, 2) (1, 3) (1, 4) (1, 5) (1, 6) \n",
      "(2, 1) (2, 2) (2, 3) (2, 4) (2, 5) (2, 6) \n",
      "(3, 1) (3, 2) (3, 3) (3, 4) (3, 5) (3, 6) \n",
      "(4, 1) (4, 2) (4, 3) (4, 4) (4, 5) (4, 6) \n",
      "(5, 1) (5, 2) (5, 3) (5, 4) (5, 5) (5, 6) \n",
      "(6, 1) (6, 2) (6, 3) (6, 4) (6, 5) (6, 6) "
     ]
    }
   ],
   "source": [
    "# 방법2\n",
    "import itertools\n",
    "\n",
    "D1 = list(range(1,7))\n",
    "D2 = list(range(1,7))\n",
    "outcomes = list(itertools.product(D1, D2)) # itertools.product(D1, repeate=2)\n",
    "for idx, d in enumerate(outcomes):\n",
    "    if idx%6==0: print()\n",
    "    print(d, end = ' ')"
   ]
  },
  {
   "cell_type": "markdown",
   "metadata": {},
   "source": [
    "--------"
   ]
  },
  {
   "cell_type": "markdown",
   "metadata": {},
   "source": [
    "### 사건 (event)"
   ]
  },
  {
   "cell_type": "markdown",
   "metadata": {},
   "source": [
    "- 사건: 표본공간의 부분집합\n",
    "- 표본공간(Sample space) : 어떤 시행 결과로 기록되거나 관찰될 수 있는 모든 결과들의 집합\n",
    "- 원소(element) or 표본점(sample point) : 시행에서 나타날 수 있는 개개의 결과 \n"
   ]
  },
  {
   "cell_type": "markdown",
   "metadata": {},
   "source": [
    "#### 동전 반복해서 두 번 던지는 모든 사건 "
   ]
  },
  {
   "cell_type": "code",
   "execution_count": 6,
   "metadata": {},
   "outputs": [
    {
     "name": "stdout",
     "output_type": "stream",
     "text": [
      "동전 2번 던지는 표본공간(S): {'HT', 'HH', 'TT', 'TH'}\n"
     ]
    },
    {
     "data": {
      "text/plain": [
       "{frozenset(),\n",
       " frozenset({'TH'}),\n",
       " frozenset({'TH', 'TT'}),\n",
       " frozenset({'HT'}),\n",
       " frozenset({'HH', 'HT', 'TT'}),\n",
       " frozenset({'HH', 'TH'}),\n",
       " frozenset({'TT'}),\n",
       " frozenset({'HT', 'TH'}),\n",
       " frozenset({'HT', 'TH', 'TT'}),\n",
       " frozenset({'HH'}),\n",
       " frozenset({'HH', 'TT'}),\n",
       " frozenset({'HT', 'TT'}),\n",
       " frozenset({'HH', 'HT'}),\n",
       " frozenset({'HH', 'HT', 'TH'}),\n",
       " frozenset({'HH', 'TH', 'TT'}),\n",
       " frozenset({'HH', 'HT', 'TH', 'TT'})}"
      ]
     },
     "execution_count": 6,
     "metadata": {},
     "output_type": "execute_result"
    }
   ],
   "source": [
    "from itertools import product, chain, combinations\n",
    "\n",
    "# 표본공간 \n",
    "def get_subsets(t, r):    \n",
    "    S = list(product(t, repeat=r))  # itertools.product(a,a,a) 순열 계산\n",
    "    S = [''.join(s) for s in S]   #  ('H,'H')-->'HH'로 표현\n",
    "    return S\n",
    "\n",
    "# 모든 사건\n",
    "def get_set_of_subsets(S):    \n",
    "    return set( [frozenset(s) for s in chain.from_iterable(combinations(S, r)\n",
    "                                                          for r in range(len(S)+1))] )\n",
    "\n",
    "    \n",
    "# 동전 던지기\n",
    "t = {'H', 'T'} # coin\n",
    "r = 2          # repeat\n",
    "S = get_subsets(t, r)\n",
    "print(f'동전 {r}번 던지는 표본공간(S): {set(S)}')\n",
    "\n",
    "events = get_set_of_subsets(S)\n",
    "events\n"
   ]
  },
  {
   "cell_type": "markdown",
   "metadata": {},
   "source": [
    "### [실습] 예제 5-3: 동전 세 번 던지는 사건\n",
    "- 표본공간(Ω, S) : 전체 사건 \n",
    "- 사건(A): 적어도 앞면이 2번 이상 나오는 사건 "
   ]
  },
  {
   "cell_type": "code",
   "execution_count": 10,
   "metadata": {},
   "outputs": [
    {
     "name": "stdout",
     "output_type": "stream",
     "text": [
      "동전 세번 던지는 표본공간(S): {'TTT', 'HTT', 'HHT', 'TTH', 'THT', 'THH', 'HHH', 'HTH'}\n",
      "적어도 두번 앞면이 나오는 사건(A): {'HHH', 'HTH', 'HHT', 'THH'}\n"
     ]
    }
   ],
   "source": [
    "import itertools\n",
    "\n",
    "t = 'HT'  # ['H', 'T']\n",
    "r = 3\n",
    "p = 2\n",
    "\n",
    "S = list(itertools.product(t, repeat=r))  # itertools.product(a,a,a) 중복순열\n",
    "A = [a.count('H') for a in S ]\n",
    "\n",
    "S = [''.join(s) for s in S]   #  ('H,'H','H')-->'HHH'로 표현\n",
    "print(f'동전 세번 던지는 표본공간(S): {set(S)}')\n",
    "\n",
    "A = [ S[idx] for idx, a in enumerate(A) if a >= p ] #enumerate는 인덱스와 원소를 동시에 접근함\n",
    "print(f'적어도 두번 앞면이 나오는 사건(A): {set(A)}')\n"
   ]
  },
  {
   "cell_type": "code",
   "execution_count": 23,
   "metadata": {},
   "outputs": [
    {
     "name": "stdout",
     "output_type": "stream",
     "text": [
      "동전을 세 번 반복하여 던지는 게임에서의 표본공간(S): ['HHH', 'HHT', 'HTH', 'HTT', 'THH', 'THT', 'TTH', 'TTT']\n",
      "['HHH', 'HHT', 'HTH', 'THH']\n"
     ]
    }
   ],
   "source": [
    "t = 'HT'\n",
    "r = 3\n",
    "p = 2 #사건\n",
    "\n",
    "S = list(itertools.product(t, repeat=r))\n",
    "S = [''.join(s) for s in S]\n",
    "print(f'동전을 세 번 반복하여 던지는 게임에서의 표본공간(S): {S}')\n",
    "\n",
    "A = [a.count('H') for a in S]\n",
    "A = [S[idx] for idx, a in enumerate(A) if a >= p]\n",
    "\n",
    "\n",
    "\n"
   ]
  },
  {
   "cell_type": "markdown",
   "metadata": {},
   "source": [
    "### [실습] 예제 5-4: 주사위를 던지는 실험에서의 사건\n",
    "1. $A ∩ B$\n",
    "2. $A ∪ B$\n",
    "3. $𝐴^𝑐$  \n",
    "4. $B - C$\n",
    "5. 배반인 두 사건   "
   ]
  },
  {
   "cell_type": "code",
   "execution_count": 11,
   "metadata": {},
   "outputs": [],
   "source": [
    "#주사위를 던지는 실험\n",
    "S = {1,2,3,4,5,6}  #표본공간=전체집합\n",
    "A = {1,2,3,4}\n",
    "B = {4,5}\n",
    "C = {5,6}"
   ]
  },
  {
   "cell_type": "markdown",
   "metadata": {},
   "source": [
    "#### A ∩ B: (곱사건 : 교집합)"
   ]
  },
  {
   "cell_type": "code",
   "execution_count": 12,
   "metadata": {},
   "outputs": [
    {
     "name": "stdout",
     "output_type": "stream",
     "text": [
      "{4}\n",
      "{4}\n"
     ]
    }
   ],
   "source": [
    "#  A ∩ B: (곱사건 : 교집합)\n",
    "print(A & B)\n",
    "print(A.intersection(B))"
   ]
  },
  {
   "cell_type": "markdown",
   "metadata": {},
   "source": [
    "#### A ∪ B (합사건 : 합집합)"
   ]
  },
  {
   "cell_type": "code",
   "execution_count": 13,
   "metadata": {},
   "outputs": [
    {
     "name": "stdout",
     "output_type": "stream",
     "text": [
      "{1, 2, 3, 4, 5}\n",
      "{1, 2, 3, 4, 5}\n"
     ]
    }
   ],
   "source": [
    "# A ∪ B (합사건 : 합집합)\n",
    "print(A | B)\n",
    "print(A.union(B))"
   ]
  },
  {
   "cell_type": "markdown",
   "metadata": {},
   "source": [
    "#### $𝐴^𝑐$ (여사건 : 여집합)"
   ]
  },
  {
   "cell_type": "code",
   "execution_count": 14,
   "metadata": {},
   "outputs": [
    {
     "name": "stdout",
     "output_type": "stream",
     "text": [
      "{5, 6}\n",
      "{5, 6}\n"
     ]
    }
   ],
   "source": [
    "# A^𝑐 (여사건 : 여집합)\n",
    "print(S - A)\n",
    "print(S.difference(A))"
   ]
  },
  {
   "cell_type": "markdown",
   "metadata": {},
   "source": [
    "#### B - C (차사건 : 차집합)"
   ]
  },
  {
   "cell_type": "code",
   "execution_count": 15,
   "metadata": {},
   "outputs": [
    {
     "name": "stdout",
     "output_type": "stream",
     "text": [
      "{4}\n",
      "{4}\n"
     ]
    }
   ],
   "source": [
    "# B - C (차사건 : 차집합)\n",
    "print(B - C)\n",
    "print(B.difference(C))"
   ]
  },
  {
   "cell_type": "markdown",
   "metadata": {},
   "source": [
    "#### A ∩ C  = ∅ (배반인 두 사건 : 공집합)"
   ]
  },
  {
   "cell_type": "code",
   "execution_count": 16,
   "metadata": {
    "scrolled": true
   },
   "outputs": [
    {
     "name": "stdout",
     "output_type": "stream",
     "text": [
      "set() --> 공집합\n",
      "{1, 2, 3, 4, 5, 6} --> 표본공간\n",
      "A와 C는 S의 분할(partition)\n"
     ]
    }
   ],
   "source": [
    "# A ∩ C = ∅ (배반인 두 사건 : 공집합)\n",
    "print(A & C, '--> 공집합' )\n",
    "print(A | C, '--> 표본공간')\n",
    "print('A와 C는 S의 분할(partition)')"
   ]
  },
  {
   "cell_type": "markdown",
   "metadata": {},
   "source": [
    "### 사건의 연산 "
   ]
  },
  {
   "cell_type": "markdown",
   "metadata": {},
   "source": [
    " - 합사건의 성질\n",
    " - 곱사건의 성질\n",
    " - 분배법칙\n",
    " - 드모르간의 법칙"
   ]
  },
  {
   "cell_type": "markdown",
   "metadata": {},
   "source": [
    "### [실습] 분배법칙이 성립하는지 파이썬 코드로 증명하여라\n",
    "다음 세 집합 A, B, C에 대해서 분배법칙이 성립하는지 파이썬 코드로 증명하기\n",
    "- $A∪(B∩C)$ \n",
    "- $A∩(B∪C)$"
   ]
  },
  {
   "cell_type": "code",
   "execution_count": 11,
   "metadata": {},
   "outputs": [
    {
     "name": "stdout",
     "output_type": "stream",
     "text": [
      "True\n",
      "True\n"
     ]
    }
   ],
   "source": [
    "A = {1,3,5}\n",
    "B = {1,2,3}\n",
    "C = {2,4,6}\n",
    "\n",
    "one = (A|B)&C == (A&C)|(B&C)\n",
    "two = (A&B)|C == (A|C)&(B|C)\n",
    "\n",
    "print(one)\n",
    "print(two)"
   ]
  },
  {
   "cell_type": "markdown",
   "metadata": {},
   "source": [
    "### [실습] 예제 5-5:  사건의 연산\n",
    "- a. $A ∩ B ∩ C$ \n",
    "- b. $(A∪B)∩ C$\n",
    "- c. $(A ∩ C)^𝑐$\n",
    "- d. $(A∪B)^𝑐$"
   ]
  },
  {
   "cell_type": "code",
   "execution_count": null,
   "metadata": {},
   "outputs": [],
   "source": [
    "#주사위를 던지는 실험\n",
    "S = {1,2,3,4,5,6}  #표본공간=전체집합\n",
    "A = {1,3,4}\n",
    "B = {4,5}\n",
    "C = {3,4,6}"
   ]
  },
  {
   "cell_type": "code",
   "execution_count": 17,
   "metadata": {},
   "outputs": [
    {
     "name": "stdout",
     "output_type": "stream",
     "text": [
      "a. A ∩ B ∩ C: set()\n",
      "b. (A∪B)∩ C:  {5}\n",
      "c. (A ∩ C)^𝑐: {1, 2, 3, 4, 5, 6}\n",
      "c. (A ∩ C)^𝑐: {1, 2, 3, 4, 5, 6}\n",
      "d. (A∪B)^𝑐: {6}\n",
      "d. (A∪B)^𝑐: {6}\n"
     ]
    }
   ],
   "source": [
    "#(a). A ∩ B ∩ C\n",
    "print(f'a. A ∩ B ∩ C: {A & B & C}')\n",
    "\n",
    "#(b). (A∪B)∩ C\n",
    "print(f'b. (A∪B)∩ C:  {(A|B) & C}')\n",
    "\n",
    "#(c). (A ∩ C)^𝑐\n",
    "print(f'c. (A ∩ C)^𝑐: {S - (A&C)}')\n",
    "print(f'c. (A ∩ C)^𝑐: {(S-A) | (S-C)}')\n",
    "\n",
    "#(d). (A∪B)^𝑐\n",
    "print(f'd. (A∪B)^𝑐: {S - (A|B)}')\n",
    "print(f'd. (A∪B)^𝑐: {(S-A) & (S-B)}')"
   ]
  },
  {
   "cell_type": "markdown",
   "metadata": {},
   "source": [
    "--------"
   ]
  },
  {
   "cell_type": "markdown",
   "metadata": {},
   "source": [
    "## 5-2 확률\n",
    "- **확률(Probability)이란 사건(부분집합)을 입력하면 숫자(확률값)가 출력되는 함수**이다.\n",
    "- 즉, 모든 각각의 사건(부분집합)에 어떤 숫자를 할당하는 함수가 확률이다."
   ]
  },
  {
   "cell_type": "markdown",
   "metadata": {},
   "source": [
    "### 확률의 의미 - 수학적 확률\n"
   ]
  },
  {
   "cell_type": "markdown",
   "metadata": {},
   "source": [
    "### [실습] 예제 5-6: 주사위 던지는 사건\n",
    "- 주사위를 반복해서 세 번 던져서 적어도 두번 앞면에 나오는 확률"
   ]
  },
  {
   "cell_type": "code",
   "execution_count": 28,
   "metadata": {
    "scrolled": true
   },
   "outputs": [
    {
     "name": "stdout",
     "output_type": "stream",
     "text": [
      "동전 3번 던지는 전체 사건 S: 8\n",
      "적어도 2번 앞면이 나오는 사건 A: 4\n",
      "적어도 2번 앞면이 나오는 확률: 0.5\n"
     ]
    },
    {
     "data": {
      "text/plain": [
       "0.5"
      ]
     },
     "execution_count": 28,
     "metadata": {},
     "output_type": "execute_result"
    }
   ],
   "source": [
    "import itertools\n",
    "\n",
    "def P(t, r, p):  #샘플, 시행횟수, 사건횟수 \n",
    "    S = list(itertools.product(t, repeat=r))  # 표본공간\n",
    "    A = [a.count('H') for a in S ]            # 사건\n",
    "\n",
    "    # 표본공간 출력\n",
    "    S = [''.join(s) for s in S]   #  ('H,'H','H')-->'HHH'로 표현\n",
    "    print(f'동전 {r}번 던지는 전체 사건 S: {len(S)}')\n",
    "\n",
    "    # 사건 출력\n",
    "    A = [ S[idx] for idx, a in enumerate(A) if a >= p]\n",
    "    print(f'적어도 {p}번 앞면이 나오는 사건 A: {len(A)}')\n",
    "\n",
    "    # 사건 확률\n",
    "    print(f'적어도 {p}번 앞면이 나오는 확률: {len(A)/len(S)}')\n",
    "    \n",
    "    return len(A)/len(S)\n",
    "\n",
    "# t = 'HT'  # ['H', 'T']\n",
    "# r = 3     # 동전 몇 번 던지는가\n",
    "# p = 2     # 앞면이 몇번 나오는가\n",
    "P(['H', 'T'], 3, 2)\n"
   ]
  },
  {
   "cell_type": "code",
   "execution_count": 29,
   "metadata": {},
   "outputs": [
    {
     "name": "stdout",
     "output_type": "stream",
     "text": [
      "0.5\n"
     ]
    }
   ],
   "source": [
    "t = 'HT'\n",
    "r = 3\n",
    "p = 2\n",
    "\n",
    "S = list(itertools.product(t,repeat=r))\n",
    "S = [''.join(s) for s in S]\n",
    "\n",
    "A = [a.count('T') for a in S]\n",
    "A = [S[idx] for idx, a in enumerate(A) if a >= p]\n",
    "print(len(A)/len(S))\n"
   ]
  },
  {
   "cell_type": "markdown",
   "metadata": {},
   "source": [
    "### 확률의 의미 - 통계적 확률"
   ]
  },
  {
   "cell_type": "markdown",
   "metadata": {},
   "source": [
    "### 시행회수 중가에 따른 확률의 변화 \n",
    "- 주사위 던지는 시행 횟수가 많아질수로 앞면에 나오는 확률은 0.5에 가까워진다."
   ]
  },
  {
   "cell_type": "code",
   "execution_count": 47,
   "metadata": {},
   "outputs": [
    {
     "data": {
      "text/html": [
       "<div>\n",
       "<style scoped>\n",
       "    .dataframe tbody tr th:only-of-type {\n",
       "        vertical-align: middle;\n",
       "    }\n",
       "\n",
       "    .dataframe tbody tr th {\n",
       "        vertical-align: top;\n",
       "    }\n",
       "\n",
       "    .dataframe thead th {\n",
       "        text-align: right;\n",
       "    }\n",
       "</style>\n",
       "<table border=\"1\" class=\"dataframe\">\n",
       "  <thead>\n",
       "    <tr style=\"text-align: right;\">\n",
       "      <th></th>\n",
       "      <th>50</th>\n",
       "      <th>100</th>\n",
       "      <th>500</th>\n",
       "      <th>1000</th>\n",
       "      <th>2000</th>\n",
       "      <th>2500</th>\n",
       "      <th>5000</th>\n",
       "      <th>10000</th>\n",
       "    </tr>\n",
       "  </thead>\n",
       "  <tbody>\n",
       "    <tr>\n",
       "      <th>앞면의수</th>\n",
       "      <td>24.00</td>\n",
       "      <td>51.00</td>\n",
       "      <td>243.000</td>\n",
       "      <td>503.000</td>\n",
       "      <td>975.000</td>\n",
       "      <td>1233.000</td>\n",
       "      <td>2495.000</td>\n",
       "      <td>4991.000</td>\n",
       "    </tr>\n",
       "    <tr>\n",
       "      <th>앞면의상대도수</th>\n",
       "      <td>0.48</td>\n",
       "      <td>0.51</td>\n",
       "      <td>0.486</td>\n",
       "      <td>0.503</td>\n",
       "      <td>0.487</td>\n",
       "      <td>0.493</td>\n",
       "      <td>0.499</td>\n",
       "      <td>0.499</td>\n",
       "    </tr>\n",
       "  </tbody>\n",
       "</table>\n",
       "</div>"
      ],
      "text/plain": [
       "         50     100      500      1000     2000      2500      5000      10000\n",
       "앞면의수     24.00  51.00  243.000  503.000  975.000  1233.000  2495.000  4991.000\n",
       "앞면의상대도수   0.48   0.51    0.486    0.503    0.487     0.493     0.499     0.499"
      ]
     },
     "execution_count": 47,
     "metadata": {},
     "output_type": "execute_result"
    }
   ],
   "source": [
    "import random\n",
    "import math\n",
    "\n",
    "ns = [50,100,500,1000,2000,2500,5000,10000] # 시행횟수\n",
    "rs = []   # 앞면의 수\n",
    "ps = []   # 앞면의 상대도수\n",
    "\n",
    "for n in ns:\n",
    "    tmp= []\n",
    "    for i in range(n):\n",
    "        tmp.append( random.choice(['H','T']) )\n",
    "    r = tmp.count('H')\n",
    "    rs.append(round(r))\n",
    "    ps.append(round(r/n,3))\n",
    "\n",
    "\n",
    "# pandas 테이블 형태로 보여주기    \n",
    "import pandas as pd\n",
    "dics = dict()\n",
    "for idx, n in enumerate(ns):\n",
    "    key = ns[idx]\n",
    "    values = [rs[idx], ps[idx]]\n",
    "    dics[key] = values\n",
    "\n",
    "df = pd.DataFrame(dics, columns=ns, index=['앞면의수','앞면의상대도수'])\n",
    "df"
   ]
  },
  {
   "cell_type": "code",
   "execution_count": 50,
   "metadata": {},
   "outputs": [
    {
     "data": {
      "image/png": "[encoded data removed]",
      "text/plain": [
       "<Figure size 432x288 with 1 Axes>"
      ]
     },
     "metadata": {
      "needs_background": "light"
     },
     "output_type": "display_data"
    }
   ],
   "source": [
    "import matplotlib.pyplot as plt\n",
    "    \n",
    "x = ns\n",
    "y = ps\n",
    "\n",
    "plt.plot(x, y, 'o', linestyle='solid' )\n",
    "plt.axhline(0.5, c='r', ls='--')\n",
    "plt.grid()\n",
    "plt.show()"
   ]
  },
  {
   "cell_type": "markdown",
   "metadata": {},
   "source": [
    "### 확률의 성질"
   ]
  },
  {
   "cell_type": "markdown",
   "metadata": {},
   "source": [
    "#### 임의의 세 사건 A, B, C에 다음이 성립한다."
   ]
  },
  {
   "cell_type": "code",
   "execution_count": 30,
   "metadata": {},
   "outputs": [
    {
     "name": "stdout",
     "output_type": "stream",
     "text": [
      "{1, 2, 3, 4, 5}\n"
     ]
    }
   ],
   "source": [
    "A = {1,2,3}\n",
    "B = {2,3,4}\n",
    "C = {3,4,5}\n",
    "\n",
    "S = A | B | C\n",
    "print(S)"
   ]
  },
  {
   "cell_type": "code",
   "execution_count": null,
   "metadata": {},
   "outputs": [],
   "source": []
  }
 ],
 "metadata": {
  "kernelspec": {
   "display_name": "Python 3 (ipykernel)",
   "language": "python",
   "name": "python3"
  },
  "language_info": {
   "codemirror_mode": {
    "name": "ipython",
    "version": 3
   },
   "file_extension": ".py",
   "mimetype": "text/x-python",
   "name": "python",
   "nbconvert_exporter": "python",
   "pygments_lexer": "ipython3",
   "version": "3.8.9"
  }
 },
 "nbformat": 4,
 "nbformat_minor": 4
}
