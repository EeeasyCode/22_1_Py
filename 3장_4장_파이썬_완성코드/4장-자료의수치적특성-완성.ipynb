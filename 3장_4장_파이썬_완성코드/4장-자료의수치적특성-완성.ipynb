{
 "cells": [
  {
   "cell_type": "markdown",
   "metadata": {},
   "source": [
    "# Chapter04 자료의 수치적 특성"
   ]
  },
  {
   "cell_type": "markdown",
   "metadata": {},
   "source": [
    "## 1. 중심위치의 척도 - 대푯값"
   ]
  },
  {
   "cell_type": "markdown",
   "metadata": {},
   "source": [
    "### 평균"
   ]
  },
  {
   "cell_type": "code",
   "execution_count": 2,
   "metadata": {},
   "outputs": [],
   "source": [
    "data = [26,31,28,38,41,26,18,16,25,29,\n",
    "       39,38,38,40,43,38,39,41,41,40,\n",
    "       26,19,39,28,43,34,21,41,29,30,\n",
    "       12,22,45,34,29,26,29,58,42,16,\n",
    "       41,42,38,42,28,42,39,41,39,43]"
   ]
  },
  {
   "cell_type": "markdown",
   "metadata": {},
   "source": [
    "#### 방법1.기본 리스트 함수 이용"
   ]
  },
  {
   "cell_type": "code",
   "execution_count": 3,
   "metadata": {},
   "outputs": [
    {
     "name": "stdout",
     "output_type": "stream",
     "text": [
      "\n",
      "sum:1693\n",
      "len:50\n",
      "AVG:33.86\n"
     ]
    }
   ],
   "source": [
    "AVG = sum(data) / len(data)\n",
    "print(f'''\n",
    "sum:{sum(data)}\n",
    "len:{len(data)}\n",
    "AVG:{AVG}''')"
   ]
  },
  {
   "cell_type": "markdown",
   "metadata": {},
   "source": [
    "#### 방법2. numpy 모듈 이용"
   ]
  },
  {
   "cell_type": "code",
   "execution_count": 3,
   "metadata": {},
   "outputs": [],
   "source": [
    "import numpy as np\n",
    "\n",
    "# AVG = np.mean(data)\n",
    "# AVG"
   ]
  },
  {
   "cell_type": "markdown",
   "metadata": {},
   "source": [
    "#### 방법3. scipy 모듈 이용"
   ]
  },
  {
   "cell_type": "code",
   "execution_count": 5,
   "metadata": {},
   "outputs": [
    {
     "name": "stderr",
     "output_type": "stream",
     "text": [
      "C:\\Users\\Public\\Documents\\ESTsoft\\CreatorTemp/ipykernel_6724/2545527756.py:3: DeprecationWarning: scipy.mean is deprecated and will be removed in SciPy 2.0.0, use numpy.mean instead\n",
      "  AVG = sp.mean(data)\n"
     ]
    },
    {
     "data": {
      "text/plain": [
       "33.86"
      ]
     },
     "execution_count": 5,
     "metadata": {},
     "output_type": "execute_result"
    }
   ],
   "source": [
    "import scipy as sp\n",
    "\n",
    "AVG = sp.mean(data)\n",
    "AVG"
   ]
  },
  {
   "cell_type": "markdown",
   "metadata": {},
   "source": [
    "### [실습] 예제 4-1: 조선조 왕의 수명 평균 - 딕셔너리로 표현"
   ]
  },
  {
   "cell_type": "code",
   "execution_count": 11,
   "metadata": {
    "scrolled": true
   },
   "outputs": [
    {
     "name": "stdout",
     "output_type": "stream",
     "text": [
      "조선조 왕의 평균나이: 46\n"
     ]
    }
   ],
   "source": [
    "import numpy as np\n",
    "import math\n",
    "\n",
    "# 키가 중복되면 안됨, 정조가 2개임 주의!!! \n",
    "data = {'태조':73, '정조1':62, '태종':45, '세종':53, '문종':38, \n",
    "        '단종':16, '세조':51, '예종':28, '성종':37, '연산군':30,\n",
    "        '중종':56, '인종':30, '명종':33, '선조':56, '광해군':66,\n",
    "        '인조':54, '효종':40, '현종':33, '숙종':59, '경종': 36,\n",
    "        '영조':82, '정조2':48, '순조':44, '헌종':22, '철종':32,\n",
    "        '고종':67, '순종':52}\n",
    "\n",
    "values = list(data.values())\n",
    "keys= list(data.keys())\n",
    "\n",
    "AVG = np.mean(values)\n",
    "print(f'조선조 왕의 평균나이: {math.floor(AVG)}')"
   ]
  },
  {
   "cell_type": "markdown",
   "metadata": {},
   "source": [
    "#### @ 수명이 max, min 왕은?"
   ]
  },
  {
   "cell_type": "code",
   "execution_count": 19,
   "metadata": {},
   "outputs": [
    {
     "name": "stdout",
     "output_type": "stream",
     "text": [
      "수명 min 왕: 단종, 16세\n",
      "수명 max 왕: 영조, 82세\n"
     ]
    }
   ],
   "source": [
    "idx = values.index( min(values) )\n",
    "print(f'수명 min 왕: {keys[idx]}, {values[idx]}세')\n",
    "\n",
    "idx = values.index( max(values) )\n",
    "print(f'수명 max 왕: {keys[idx]}, {values[idx]}세')"
   ]
  },
  {
   "cell_type": "markdown",
   "metadata": {},
   "source": [
    "### 중앙값"
   ]
  },
  {
   "cell_type": "markdown",
   "metadata": {},
   "source": [
    "#### 정렬하기"
   ]
  },
  {
   "cell_type": "code",
   "execution_count": 20,
   "metadata": {
    "collapsed": true
   },
   "outputs": [
    {
     "data": {
      "text/plain": [
       "[('단종', 16),\n",
       " ('헌종', 22),\n",
       " ('예종', 28),\n",
       " ('연산군', 30),\n",
       " ('인종', 30),\n",
       " ('철종', 32),\n",
       " ('명종', 33),\n",
       " ('현종', 33),\n",
       " ('경종', 36),\n",
       " ('성종', 37),\n",
       " ('문종', 38),\n",
       " ('효종', 40),\n",
       " ('순조', 44),\n",
       " ('태종', 45),\n",
       " ('정조2', 48),\n",
       " ('세조', 51),\n",
       " ('순종', 52),\n",
       " ('세종', 53),\n",
       " ('인조', 54),\n",
       " ('중종', 56),\n",
       " ('선조', 56),\n",
       " ('숙종', 59),\n",
       " ('정조1', 62),\n",
       " ('광해군', 66),\n",
       " ('고종', 67),\n",
       " ('태조', 73),\n",
       " ('영조', 82)]"
      ]
     },
     "execution_count": 20,
     "metadata": {},
     "output_type": "execute_result"
    }
   ],
   "source": [
    "# 딕셔너리 정렬하기\n",
    "import operator\n",
    "\n",
    "# value로 정렬 (key로 정렬은 itemgetter(0) )\n",
    "data = sorted(data.items(), key=operator.itemgetter(1))\n",
    "data"
   ]
  },
  {
   "cell_type": "markdown",
   "metadata": {},
   "source": [
    "### [실습] 예제 4-2: 중앙값 찾기"
   ]
  },
  {
   "cell_type": "markdown",
   "metadata": {},
   "source": [
    "#### 1.리스트에서 중앙값"
   ]
  },
  {
   "cell_type": "code",
   "execution_count": 24,
   "metadata": {},
   "outputs": [
    {
     "name": "stdout",
     "output_type": "stream",
     "text": [
      "27개, [16, 22, 28, 30, 30, 32, 33, 33, 36, 37, 38, 40, 44, 45, 48, 51, 52, 53, 54, 56, 56, 59, 62, 66, 67, 73, 82]\n",
      "중앙값-홀수: 45 \n"
     ]
    }
   ],
   "source": [
    "data = {'태조':73, '정조1':62, '태종':45, '세종':53, '문종':38, \n",
    "        '단종':16, '세조':51, '예종':28, '성종':37, '연산군':30,\n",
    "        '중종':56, '인종':30, '명종':33, '선조':56, '광해군':66,\n",
    "        '인조':54, '효종':40, '현종':33, '숙종':59, '경종': 36,\n",
    "        '영조':82, '정조2':48, '순조':44, '헌종':22, '철종':32,\n",
    "        '고종':67, '순종':52}  #\n",
    "\n",
    "values = sorted( list( data.values() ) )  # value만 추출하여 정렬하기\n",
    "print(f'{len(values)}개, {values}')\n",
    "\n",
    "# 전체 개수가 짝수 홀수에 따른 중앙값 찾기\n",
    "N = len(values)\n",
    "if N%2 == 0 : # 짝수    \n",
    "    M = (values[int(N/2)]+values[int(N/2+1)])/2   #인덱스를 위해 정수로 변환\n",
    "    print(f'중앙값-짝수: {M} ')\n",
    "else : # 홀수\n",
    "    idx = int((N+1)/2)\n",
    "    M = values[idx-1]\n",
    "    print(f'중앙값-홀수: {M} ')"
   ]
  },
  {
   "cell_type": "markdown",
   "metadata": {},
   "source": [
    "#### 2. numpy 중앙값"
   ]
  },
  {
   "cell_type": "code",
   "execution_count": 25,
   "metadata": {
    "scrolled": true
   },
   "outputs": [
    {
     "name": "stdout",
     "output_type": "stream",
     "text": [
      "중앙값 45\n"
     ]
    }
   ],
   "source": [
    "M = np.median(values)\n",
    "print('중앙값',int(M) )"
   ]
  },
  {
   "cell_type": "markdown",
   "metadata": {},
   "source": [
    "### 최빈값"
   ]
  },
  {
   "cell_type": "markdown",
   "metadata": {},
   "source": [
    "### [실습] 예제 4-3: 자료의 최빈값 찾기"
   ]
  },
  {
   "cell_type": "markdown",
   "metadata": {},
   "source": [
    "#### 1 .기본 문법 이용"
   ]
  },
  {
   "cell_type": "code",
   "execution_count": 32,
   "metadata": {
    "scrolled": true
   },
   "outputs": [
    {
     "name": "stdout",
     "output_type": "stream",
     "text": [
      "최다빈도수:2, 최다빈도: {56, 33, 30}\n"
     ]
    }
   ],
   "source": [
    "values = list(data.values()) \n",
    "\n",
    "# 값에 해당하는 빈도수\n",
    "counts = [values.count(i) for i in values]\n",
    "\n",
    "\n",
    "maxcnt = max(cnt) # 최다 빈도수\n",
    "maxval = []\n",
    "for idx, i in enumerate(counts):\n",
    "    if maxcnt == i:\n",
    "        maxval.append(values[idx])\n",
    "        \n",
    "print(f'최다빈도수:{maxcnt}, 최다빈도: {set(maxval)}') # 중복 제거를 위해 set()함수로 변환\n"
   ]
  },
  {
   "cell_type": "code",
   "execution_count": 33,
   "metadata": {
    "collapsed": true
   },
   "outputs": [
    {
     "data": {
      "text/plain": [
       "{73: 1,\n",
       " 62: 1,\n",
       " 45: 1,\n",
       " 53: 1,\n",
       " 38: 1,\n",
       " 16: 1,\n",
       " 51: 1,\n",
       " 28: 1,\n",
       " 37: 1,\n",
       " 30: 2,\n",
       " 56: 2,\n",
       " 33: 2,\n",
       " 66: 1,\n",
       " 54: 1,\n",
       " 40: 1,\n",
       " 59: 1,\n",
       " 36: 1,\n",
       " 82: 1,\n",
       " 48: 1,\n",
       " 44: 1,\n",
       " 22: 1,\n",
       " 32: 1,\n",
       " 67: 1,\n",
       " 52: 1}"
      ]
     },
     "execution_count": 33,
     "metadata": {},
     "output_type": "execute_result"
    }
   ],
   "source": [
    "# 값:빈도수 --> 두 개의 리스트를 딕셔너리로 만듦\n",
    "dic = {key:value for key, value in zip(values, counts)}\n",
    "dic"
   ]
  },
  {
   "cell_type": "markdown",
   "metadata": {},
   "source": [
    "#### 2. collections모듈의 counter 클래스 이용"
   ]
  },
  {
   "cell_type": "code",
   "execution_count": 35,
   "metadata": {},
   "outputs": [
    {
     "data": {
      "text/plain": [
       "[(30, 2), (56, 2), (33, 2)]"
      ]
     },
     "execution_count": 35,
     "metadata": {},
     "output_type": "execute_result"
    }
   ],
   "source": [
    "from collections import Counter \n",
    "\n",
    "counts = Counter(values)\n",
    "counts.most_common()\n",
    "\n",
    "# 최빈값 상위 3개 \n",
    "counts.most_common(3)"
   ]
  },
  {
   "cell_type": "markdown",
   "metadata": {},
   "source": [
    "#### 3.scipy.stats 서브패키지 이용"
   ]
  },
  {
   "cell_type": "code",
   "execution_count": 36,
   "metadata": {},
   "outputs": [
    {
     "data": {
      "text/plain": [
       "ModeResult(mode=array([30]), count=array([2]))"
      ]
     },
     "execution_count": 36,
     "metadata": {},
     "output_type": "execute_result"
    }
   ],
   "source": [
    "from scipy import stats\n",
    "\n",
    "stats.mode(values)"
   ]
  },
  {
   "cell_type": "code",
   "execution_count": 173,
   "metadata": {},
   "outputs": [
    {
     "data": {
      "text/plain": [
       "ModeResult(mode=array(['red'], dtype='<U6'), count=array([2]))"
      ]
     },
     "execution_count": 173,
     "metadata": {},
     "output_type": "execute_result"
    }
   ],
   "source": [
    "# 범주(nominal)적 (숫자가 아닌) 데이터에도 적용됨\n",
    "colors = ['red', 'yellow',' blue', 'red',]\n",
    "stats.mode(colors)"
   ]
  },
  {
   "cell_type": "markdown",
   "metadata": {},
   "source": [
    "---------"
   ]
  },
  {
   "cell_type": "markdown",
   "metadata": {},
   "source": [
    "## 2. 산포도"
   ]
  },
  {
   "cell_type": "markdown",
   "metadata": {},
   "source": [
    "### 산포도"
   ]
  },
  {
   "cell_type": "code",
   "execution_count": 1,
   "metadata": {},
   "outputs": [
    {
     "name": "stdout",
     "output_type": "stream",
     "text": [
      "[1 2 3 4 5 6 7 8 9]\n"
     ]
    },
    {
     "data": {
      "image/png": "[encoded data removed]",
      "text/plain": [
       "<Figure size 432x144 with 1 Axes>"
      ]
     },
     "metadata": {
      "needs_background": "light"
     },
     "output_type": "display_data"
    },
    {
     "name": "stdout",
     "output_type": "stream",
     "text": [
      "[4 5 6 7 8]\n"
     ]
    },
    {
     "data": {
      "image/png": "[encoded data removed]",
      "text/plain": [
       "<Figure size 432x144 with 1 Axes>"
      ]
     },
     "metadata": {
      "needs_background": "light"
     },
     "output_type": "display_data"
    }
   ],
   "source": [
    "import matplotlib.pyplot as plt\n",
    "import pandas as pd\n",
    "import numpy as np\n",
    "\n",
    "def make_dotGraph(data):\n",
    "    #1.고유한 측정값 찾기\n",
    "    idx = np.unique(data)\n",
    "    print(idx)\n",
    "    val = [data.count(i) for i in idx]\n",
    "\n",
    "    #2.계급구간 만들기\n",
    "    x = np.arange(len(idx)) + 1    #X축:데이터 속성\n",
    "    y = np.arange(1, max(val)+1)   #Y축:도수    \n",
    "    X, Y = np.meshgrid(x,y)        #x-y 평면 범위(격자형태)\n",
    "\n",
    "    #3.점도표 그리기\n",
    "    plt.figure(figsize=(6,2)) # 그래프 사이즈\n",
    "    plt.scatter(X, Y, c=Y<=val, cmap=\"Greys\")\n",
    "    plt.xticks(ticks=x, labels=idx)  #X축 레이블 지정함\n",
    "    plt.show()\n",
    "    \n",
    "A = [1,2,3,4,5,5,5,6,7,8,8,9,9,9,9]\n",
    "B = [4,5,5,5,6,6,6,6,6,6,6,7,7,7,8]\n",
    "\n",
    "make_dotGraph(A)\n",
    "make_dotGraph(B)\n"
   ]
  },
  {
   "cell_type": "code",
   "execution_count": 8,
   "metadata": {
    "scrolled": true
   },
   "outputs": [
    {
     "data": {
      "image/png": "[encoded data removed]",
      "text/plain": [
       "<Figure size 432x288 with 1 Axes>"
      ]
     },
     "metadata": {
      "needs_background": "light"
     },
     "output_type": "display_data"
    },
    {
     "data": {
      "image/png": "[encoded data removed]",
      "text/plain": [
       "<Figure size 432x288 with 1 Axes>"
      ]
     },
     "metadata": {
      "needs_background": "light"
     },
     "output_type": "display_data"
    }
   ],
   "source": [
    "import matplotlib.pyplot as plt\n",
    "\n",
    "def make_graph(data): \n",
    "    idx = np.unique(data)\n",
    "    val = [A.count(i) for i in idx]\n",
    "\n",
    "    plt.bar(idx, val)\n",
    "    plt.plot(idx, val, 'o', linestyle='dashdot', color='r', label=val)\n",
    "    plt.xticks(ticks=idx, labels=idx)  #X축 레이블 지정함\n",
    "    plt.yticks(ticks=val, labels=val)  #Y축 레이블 지정함\n",
    "    plt.grid()\n",
    "    plt.show()\n",
    "    \n",
    "A = [1,2,3,4,5,5,5,6,7,8,8,9,9,9,9]\n",
    "B = [4,5,5,5,6,6,6,6,6,6,6,7,7,7,8]\n",
    "    \n",
    "make_graph(A)\n",
    "make_graph(B)"
   ]
  },
  {
   "cell_type": "markdown",
   "metadata": {},
   "source": [
    "### 범위"
   ]
  },
  {
   "cell_type": "markdown",
   "metadata": {},
   "source": [
    "#### 표본의 범위"
   ]
  },
  {
   "cell_type": "code",
   "execution_count": 204,
   "metadata": {},
   "outputs": [
    {
     "data": {
      "text/plain": [
       "6"
      ]
     },
     "execution_count": 204,
     "metadata": {},
     "output_type": "execute_result"
    }
   ],
   "source": [
    "S = [3, 4, 6, 7, 7, 9]   # 표본\n",
    "\n",
    "R = max(S) -min(S)  # 범위 = 최대자료값 - 최소자료값\n",
    "R"
   ]
  },
  {
   "cell_type": "markdown",
   "metadata": {},
   "source": [
    "### 사분위수 범위"
   ]
  },
  {
   "cell_type": "code",
   "execution_count": 2,
   "metadata": {},
   "outputs": [
    {
     "name": "stdout",
     "output_type": "stream",
     "text": [
      "4.5 [7.] [2.5]\n"
     ]
    },
    {
     "name": "stderr",
     "output_type": "stream",
     "text": [
      "/var/folders/ds/3pccrhwd1hb9q3h_5q7b1cp80000gn/T/ipykernel_95979/3504154011.py:6: DeprecationWarning: the `interpolation=` argument to percentile was renamed to `method=`, which has additional options.\n",
      "Users of the modes 'nearest', 'lower', 'higher', or 'midpoint' are encouraged to review the method they. (Deprecated NumPy 1.22)\n",
      "  Q1 = np.percentile(S, [25], interpolation='nearest')\n",
      "/var/folders/ds/3pccrhwd1hb9q3h_5q7b1cp80000gn/T/ipykernel_95979/3504154011.py:7: DeprecationWarning: the `interpolation=` argument to percentile was renamed to `method=`, which has additional options.\n",
      "Users of the modes 'nearest', 'lower', 'higher', or 'midpoint' are encouraged to review the method they. (Deprecated NumPy 1.22)\n",
      "  Q1 = np.percentile(S, 25, interpolation='linear')\n",
      "/var/folders/ds/3pccrhwd1hb9q3h_5q7b1cp80000gn/T/ipykernel_95979/3504154011.py:8: DeprecationWarning: the `interpolation=` argument to percentile was renamed to `method=`, which has additional options.\n",
      "Users of the modes 'nearest', 'lower', 'higher', or 'midpoint' are encouraged to review the method they. (Deprecated NumPy 1.22)\n",
      "  Q3 = np.percentile(S, [75], interpolation='linear')\n"
     ]
    }
   ],
   "source": [
    "S = [3, 4, 6, 7, 7, 9]   # 표본\n",
    "\n",
    "# 사분위범위: [0, 25, 50, 75, 100]\n",
    "# Q1:25, Q2:50, Q3:75, Q4:100\n",
    "# interpolation={‘linear’, ‘lower’, ‘higher’, ‘midpoint’, ‘nearest’} 보간법\n",
    "Q1 = np.percentile(S, [25], interpolation='nearest')\n",
    "Q1 = np.percentile(S, 25, interpolation='linear') \n",
    "Q3 = np.percentile(S, [75], interpolation='linear') \n",
    "\n",
    "IQR= Q3 - Q1\n",
    "print(Q1, Q3, IQR)"
   ]
  },
  {
   "cell_type": "code",
   "execution_count": 38,
   "metadata": {},
   "outputs": [
    {
     "data": {
      "text/plain": [
       "2.5"
      ]
     },
     "execution_count": 38,
     "metadata": {},
     "output_type": "execute_result"
    }
   ],
   "source": [
    "import pandas as pd\n",
    "num = pd.Series(S)\n",
    "\n",
    "Q1 = num.quantile(.25)\n",
    "Q3 = num.quantile(.75)\n",
    "IQR = Q3 - Q1\n",
    "\n",
    "IQR"
   ]
  },
  {
   "cell_type": "markdown",
   "metadata": {},
   "source": [
    "### [실습] 예제: 사분위수 범위 구하기"
   ]
  },
  {
   "cell_type": "code",
   "execution_count": 39,
   "metadata": {},
   "outputs": [
    {
     "name": "stdout",
     "output_type": "stream",
     "text": [
      "[3.5] [5.5] [2.]\n"
     ]
    }
   ],
   "source": [
    "S = [5, 9, 1, 3, 4, 1, 5, 7, 6, 4, 5]\n",
    "\n",
    "Q1 = np.percentile(S, [25], interpolation='linear')  \n",
    "Q3 = np.percentile(S, [75], interpolation='linear')  \n",
    "\n",
    "IQR= Q3 - Q1\n",
    "print(Q1, Q3, IQR)"
   ]
  },
  {
   "cell_type": "markdown",
   "metadata": {},
   "source": [
    "--------"
   ]
  },
  {
   "cell_type": "markdown",
   "metadata": {},
   "source": [
    "### 평균편차\n",
    "각 자료의 측정값과 평균과의 편차에 대한 절대값들의 평균"
   ]
  },
  {
   "cell_type": "code",
   "execution_count": 4,
   "metadata": {},
   "outputs": [
    {
     "name": "stdout",
     "output_type": "stream",
     "text": [
      "평균편차: 1.67\n"
     ]
    }
   ],
   "source": [
    "S = [3, 4, 6, 7, 7, 9]\n",
    "\n",
    "M = sum(S) / len(S) #평균\n",
    "\n",
    "S1 = [abs(M - i) for i in S ]  #평균과 측정값의 편차에 대한 절대값\n",
    "\n",
    "MD = sum(S1) / len(S)  #평균편차    \n",
    "\n",
    "print('평균편차:', round(MD,2))"
   ]
  },
  {
   "cell_type": "markdown",
   "metadata": {},
   "source": [
    "### [실습] 예제 : 평균편차 구하기"
   ]
  },
  {
   "cell_type": "code",
   "execution_count": 2,
   "metadata": {},
   "outputs": [
    {
     "name": "stdout",
     "output_type": "stream",
     "text": [
      "평균편차: 1.67\n"
     ]
    }
   ],
   "source": [
    "import numpy as np\n",
    "\n",
    "S = [3, 4, 6, 7, 7, 9]\n",
    "\n",
    "M = np.mean(S) #평균 : sum(S) / len(S) #평균\n",
    "\n",
    "S1 = [abs(M - i) for i in S ]  #평균과 측정값의 편차에 대한 절대값\n",
    "\n",
    "MD = np.sum(S1) / len(S)  #평균편차    \n",
    "\n",
    "print('평균편차:', round(MD,2))"
   ]
  },
  {
   "cell_type": "markdown",
   "metadata": {},
   "source": [
    "----------"
   ]
  },
  {
   "cell_type": "markdown",
   "metadata": {},
   "source": [
    "### 분산\n",
    "평균을 중심으로 밀집되거나 퍼짐 정도를 나타내는 척도"
   ]
  },
  {
   "cell_type": "markdown",
   "metadata": {},
   "source": [
    "### [실습] 예제 : 분산 구하기"
   ]
  },
  {
   "cell_type": "code",
   "execution_count": 40,
   "metadata": {
    "scrolled": true
   },
   "outputs": [
    {
     "name": "stdout",
     "output_type": "stream",
     "text": [
      "모분산: 4.0\n",
      "표본분산: 4.8\n"
     ]
    }
   ],
   "source": [
    "S = [3, 4, 6, 7, 7, 9]\n",
    "\n",
    "#ddof -> 표본에 대한 것은 1로 한다는 것을 알고있어라. 시험에 나옴.\n",
    "#모분산\n",
    "# 1/n, np.var(S)  ddof: Delta Degrees of Freedom 자유도\n",
    "var = np.var(S, ddof=0)  \n",
    "print('모분산:', var)\n",
    "\n",
    "#표본분산\n",
    "# 1/n-1  ddof = 1은 표준편차를 계산할 때, n-1로 나누라는 의미\n",
    "var = np.var(S, ddof=1)  \n",
    "print('표본분산:',var)"
   ]
  },
  {
   "cell_type": "markdown",
   "metadata": {},
   "source": [
    "---------"
   ]
  },
  {
   "cell_type": "markdown",
   "metadata": {},
   "source": [
    "### 표준편차"
   ]
  },
  {
   "cell_type": "markdown",
   "metadata": {},
   "source": [
    "### [실습] 예제 : 표준편차 구하기"
   ]
  },
  {
   "cell_type": "code",
   "execution_count": 8,
   "metadata": {},
   "outputs": [
    {
     "name": "stdout",
     "output_type": "stream",
     "text": [
      "모표준편차: 2.00\n",
      "모표준편차: 2.0\n",
      "표본표준편차: 2.19\n"
     ]
    }
   ],
   "source": [
    "S = [3, 4, 6, 7, 7, 9]\n",
    "\n",
    "#모표준편차\n",
    "std = np.std(S, ddof=0)  # 1/N, np.std(S) \n",
    "print('모표준편차:', '%.2f'%std) # 소수점 2째 자리 출력\n",
    "print(f'모표준편차: {std:1.2}') # 소수점 2째 자리 출력\n",
    "\n",
    "#표본표준편차\n",
    "std = np.std(S, ddof=1)  # 1/N-1\n",
    "print('표본표준편차:', '%.2f'%std)"
   ]
  },
  {
   "cell_type": "markdown",
   "metadata": {},
   "source": [
    "----------"
   ]
  },
  {
   "cell_type": "markdown",
   "metadata": {},
   "source": [
    "### 변동계수\n",
    " - 측정단위가 동일한 두 자료집단: 평균이 큰 차이를 보이는 두 자료집단 \n",
    " - 측정단위가 서로 다른 두 자료집단: 산포의 척도를 비교할 때 많이 사용한다."
   ]
  },
  {
   "cell_type": "markdown",
   "metadata": {},
   "source": [
    "### [실습] 예제 : 변동계수 구하기"
   ]
  },
  {
   "cell_type": "code",
   "execution_count": 1,
   "metadata": {
    "scrolled": true
   },
   "outputs": [
    {
     "ename": "NameError",
     "evalue": "name 'np' is not defined",
     "output_type": "error",
     "traceback": [
      "\u001b[0;31m---------------------------------------------------------------------------\u001b[0m",
      "\u001b[0;31mNameError\u001b[0m                                 Traceback (most recent call last)",
      "\u001b[1;32m/Users/aebdeung-ichangmin-ing/Desktop/22-1 수업/파이썬/3장_4장_파이썬_완성코드/4장-자료의수치적특성-완성.ipynb Cell 62'\u001b[0m in \u001b[0;36m<cell line: 4>\u001b[0;34m()\u001b[0m\n\u001b[1;32m      <a href='vscode-notebook-cell:/Users/aebdeung-ichangmin-ing/Desktop/22-1%20%EC%88%98%EC%97%85/%ED%8C%8C%EC%9D%B4%EC%8D%AC/3%EC%9E%A5_4%EC%9E%A5_%ED%8C%8C%EC%9D%B4%EC%8D%AC_%EC%99%84%EC%84%B1%EC%BD%94%EB%93%9C/4%EC%9E%A5-%EC%9E%90%EB%A3%8C%EC%9D%98%EC%88%98%EC%B9%98%EC%A0%81%ED%8A%B9%EC%84%B1-%EC%99%84%EC%84%B1.ipynb#ch0000061?line=0'>1</a>\u001b[0m A \u001b[39m=\u001b[39m [\u001b[39m171\u001b[39m, \u001b[39m164\u001b[39m, \u001b[39m167\u001b[39m, \u001b[39m156\u001b[39m, \u001b[39m159\u001b[39m, \u001b[39m164\u001b[39m]\n\u001b[1;32m      <a href='vscode-notebook-cell:/Users/aebdeung-ichangmin-ing/Desktop/22-1%20%EC%88%98%EC%97%85/%ED%8C%8C%EC%9D%B4%EC%8D%AC/3%EC%9E%A5_4%EC%9E%A5_%ED%8C%8C%EC%9D%B4%EC%8D%AC_%EC%99%84%EC%84%B1%EC%BD%94%EB%93%9C/4%EC%9E%A5-%EC%9E%90%EB%A3%8C%EC%9D%98%EC%88%98%EC%B9%98%EC%A0%81%ED%8A%B9%EC%84%B1-%EC%99%84%EC%84%B1.ipynb#ch0000061?line=1'>2</a>\u001b[0m B \u001b[39m=\u001b[39m [\u001b[39m11.5\u001b[39m, \u001b[39m12.2\u001b[39m, \u001b[39m12.0\u001b[39m, \u001b[39m12.4\u001b[39m, \u001b[39m13.6\u001b[39m, \u001b[39m10.5\u001b[39m]\n\u001b[0;32m----> <a href='vscode-notebook-cell:/Users/aebdeung-ichangmin-ing/Desktop/22-1%20%EC%88%98%EC%97%85/%ED%8C%8C%EC%9D%B4%EC%8D%AC/3%EC%9E%A5_4%EC%9E%A5_%ED%8C%8C%EC%9D%B4%EC%8D%AC_%EC%99%84%EC%84%B1%EC%BD%94%EB%93%9C/4%EC%9E%A5-%EC%9E%90%EB%A3%8C%EC%9D%98%EC%88%98%EC%B9%98%EC%A0%81%ED%8A%B9%EC%84%B1-%EC%99%84%EC%84%B1.ipynb#ch0000061?line=3'>4</a>\u001b[0m A_M \u001b[39m=\u001b[39m np\u001b[39m.\u001b[39mmean(A)  \u001b[39m#표본평균\u001b[39;00m\n\u001b[1;32m      <a href='vscode-notebook-cell:/Users/aebdeung-ichangmin-ing/Desktop/22-1%20%EC%88%98%EC%97%85/%ED%8C%8C%EC%9D%B4%EC%8D%AC/3%EC%9E%A5_4%EC%9E%A5_%ED%8C%8C%EC%9D%B4%EC%8D%AC_%EC%99%84%EC%84%B1%EC%BD%94%EB%93%9C/4%EC%9E%A5-%EC%9E%90%EB%A3%8C%EC%9D%98%EC%88%98%EC%B9%98%EC%A0%81%ED%8A%B9%EC%84%B1-%EC%99%84%EC%84%B1.ipynb#ch0000061?line=4'>5</a>\u001b[0m B_M \u001b[39m=\u001b[39m np\u001b[39m.\u001b[39mmean(B)  \u001b[39m#표본평균\u001b[39;00m\n\u001b[1;32m      <a href='vscode-notebook-cell:/Users/aebdeung-ichangmin-ing/Desktop/22-1%20%EC%88%98%EC%97%85/%ED%8C%8C%EC%9D%B4%EC%8D%AC/3%EC%9E%A5_4%EC%9E%A5_%ED%8C%8C%EC%9D%B4%EC%8D%AC_%EC%99%84%EC%84%B1%EC%BD%94%EB%93%9C/4%EC%9E%A5-%EC%9E%90%EB%A3%8C%EC%9D%98%EC%88%98%EC%B9%98%EC%A0%81%ED%8A%B9%EC%84%B1-%EC%99%84%EC%84%B1.ipynb#ch0000061?line=6'>7</a>\u001b[0m A_std \u001b[39m=\u001b[39m np\u001b[39m.\u001b[39mstd(A, ddof\u001b[39m=\u001b[39m\u001b[39m1\u001b[39m)  \u001b[39m# 표본 표준편차\u001b[39;00m\n",
      "\u001b[0;31mNameError\u001b[0m: name 'np' is not defined"
     ]
    }
   ],
   "source": [
    "A = [171, 164, 167, 156, 159, 164]\n",
    "B = [11.5, 12.2, 12.0, 12.4, 13.6, 10.5]\n",
    "\n",
    "A_M = np.mean(A)  #표본평균\n",
    "B_M = np.mean(B)  #표본평균\n",
    "\n",
    "A_std = np.std(A, ddof=1)  # 표본 표준편차\n",
    "B_std = np.std(B, ddof=1)  # 표본 표준편차\n",
    "\n",
    "print('%.2f'%A_M, '%.2f'%A_std) #소수점 2자리로 표현\n",
    "print('%.2f'%B_M, '%.2f'%B_std)\n",
    "\n",
    "A_cov = A_std / A_M * 100  #변동계수\n",
    "B_cov = B_std / B_M * 100  #변동계수\n",
    "\n",
    "print('A변동계수: ', round(A_cov,2))\n",
    "print('B변동계수: ', round(B_cov,2) )"
   ]
  },
  {
   "cell_type": "markdown",
   "metadata": {},
   "source": [
    "--------"
   ]
  },
  {
   "cell_type": "markdown",
   "metadata": {},
   "source": [
    "## 3. 위치척도와 상자그림"
   ]
  },
  {
   "cell_type": "markdown",
   "metadata": {},
   "source": [
    "### Z-점수\n",
    "각 자료의 측정값을 그 측정값과 평균과의 편차를 표준편차로 나눈 수치(z-score)"
   ]
  },
  {
   "cell_type": "markdown",
   "metadata": {},
   "source": [
    "### [실습] 예제 : z-점수 구하기"
   ]
  },
  {
   "cell_type": "code",
   "execution_count": 40,
   "metadata": {
    "scrolled": false
   },
   "outputs": [
    {
     "name": "stdout",
     "output_type": "stream",
     "text": [
      "A자료값   171   164   167    156    159   164\n",
      "z-점수  1.39  0.09  0.65  -1.39  -0.83  0.09\n",
      "--------------------------------------------------\n",
      "B자료값   11.5  12.2  12.0  12.4  13.6   10.5\n",
      "z-점수  -0.49  0.20  0.00  0.39  1.56  -1.46\n"
     ]
    }
   ],
   "source": [
    "A = [171, 164, 167, 156, 159, 164]\n",
    "B = [11.5, 12.2, 12.0, 12.4, 13.6, 10.5]\n",
    "\n",
    "#표본평균, #표본표준편차 \n",
    "#--> 소수점 단위에 따라 값이 달라 질 수 있다.\n",
    "A_M = round(np.mean(A), 2)  #표본평균\n",
    "B_M = round(np.mean(B))   #표본평균\n",
    "\n",
    "A_std = round(np.std(A, ddof=1), 2)  #표본표준편차\n",
    "B_std = round(np.std(B, ddof=1), 3)  #표본표준편차\n",
    "\n",
    "#z-점수\n",
    "A_z = ['%.2f'%((i - A_M)/A_std) for i in A]\n",
    "B_z = ['%.2f'%((i - B_M)/B_std) for i in B]\n",
    "\n",
    "\n",
    "import pandas as pd \n",
    "\n",
    "val = [A_z]  #2차원 배열로 만듦\n",
    "df1 = pd.DataFrame(val, columns=A, index=['z-점수'])\n",
    "df1.columns.name = 'A자료값'\n",
    "\n",
    "val = [B_z]  #2차원 배열로 만듦\n",
    "df2 = pd.DataFrame(val, columns=B, index=['z-점수'])\n",
    "df2.columns.name = 'B자료값'\n",
    "\n",
    "print(df1)\n",
    "print('-'*50)\n",
    "print(df2)"
   ]
  },
  {
   "cell_type": "markdown",
   "metadata": {},
   "source": [
    "### 백분위수와 사분위수\n",
    " - 백분위수(percentile): 수집한 자료를 크기순으로 나열할 때, 1%씩 등간격으로 구분하는 척도\n",
    " - 사분위수(quartiles): 수집한 자룔를 크기순으로 나열하여 4등분하는 척도, Q1, Q2, Q3"
   ]
  },
  {
   "cell_type": "markdown",
   "metadata": {},
   "source": [
    "### [실습] 예제 : 사분위수 구하기"
   ]
  },
  {
   "cell_type": "code",
   "execution_count": 2,
   "metadata": {},
   "outputs": [
    {
     "name": "stdout",
     "output_type": "stream",
     "text": [
      "Q1: 27 Q2: 38 Q3: 41 Q4: 58\n"
     ]
    }
   ],
   "source": [
    "import numpy as np\n",
    "\n",
    "S = [26,31,27,38,42,26,18,17,25,29,\n",
    "        39,38,38,40,46,38,39,41,41,40,\n",
    "        26,19,39,28,45,34,21,41,30,30,\n",
    "        12,22,48,34,29,26,29,58,43,16,\n",
    "        42,44,38,44,28,43,39,42,39,46]\n",
    "\n",
    "Q1 = np.percentile(S, 25, interpolation='nearest') \n",
    "Q2 = np.percentile(S, 50, interpolation='nearest') \n",
    "Q3 = np.percentile(S, 75, interpolation='nearest')\n",
    "Q4 = np.percentile(S, 100, interpolation='nearest')\n",
    "\n",
    "print('Q1:',Q1, 'Q2:',Q2, 'Q3:',Q3, 'Q4:',Q4)"
   ]
  },
  {
   "cell_type": "markdown",
   "metadata": {},
   "source": [
    "---------"
   ]
  },
  {
   "cell_type": "markdown",
   "metadata": {},
   "source": [
    "### 상자그림\n",
    " - Box Plot: 사분위수를 이용하여 수집한 자료에 포함된 특이값을 알려주는 그림\n",
    " - 두 개 이상의 자료 집단을 비교할 때 매우 유용"
   ]
  },
  {
   "cell_type": "code",
   "execution_count": 6,
   "metadata": {
    "scrolled": true
   },
   "outputs": [
    {
     "data": {
      "image/png": "[encoded data removed]",
      "text/plain": [
       "<Figure size 432x288 with 1 Axes>"
      ]
     },
     "metadata": {
      "needs_background": "light"
     },
     "output_type": "display_data"
    }
   ],
   "source": [
    "import matplotlib.pyplot as plt\n",
    "\n",
    "plt.boxplot(S)\n",
    "plt.grid()\n",
    "plt.show()"
   ]
  },
  {
   "cell_type": "code",
   "execution_count": 7,
   "metadata": {
    "scrolled": false
   },
   "outputs": [
    {
     "data": {
      "image/png": "[encoded data removed]",
      "text/plain": [
       "<Figure size 432x288 with 1 Axes>"
      ]
     },
     "metadata": {
      "needs_background": "light"
     },
     "output_type": "display_data"
    }
   ],
   "source": [
    "# 가로로 그리기\n",
    "plt.boxplot(S, vert=False)\n",
    "plt.grid()\n",
    "plt.show()"
   ]
  },
  {
   "cell_type": "markdown",
   "metadata": {},
   "source": [
    "----------"
   ]
  },
  {
   "cell_type": "markdown",
   "metadata": {},
   "source": [
    "## 4. 도수분포표에서의 평균과 분산"
   ]
  },
  {
   "cell_type": "markdown",
   "metadata": {},
   "source": [
    "#### 도수분포표에서의 평균 & 분산 & 표준편차"
   ]
  },
  {
   "cell_type": "code",
   "execution_count": 4,
   "metadata": {
    "scrolled": true
   },
   "outputs": [
    {
     "name": "stdout",
     "output_type": "stream",
     "text": [
      "계급수:5, R:41, 계급간격:9, 계급시작값:9.5\n",
      "계급:[ 9.5 18.5 27.5 36.5 45.5 54.5]\n",
      "[10 29  8  2  1]\n",
      "x_:23.9\n"
     ]
    },
    {
     "data": {
      "text/html": [
       "<div>\n",
       "<style scoped>\n",
       "    .dataframe tbody tr th:only-of-type {\n",
       "        vertical-align: middle;\n",
       "    }\n",
       "\n",
       "    .dataframe tbody tr th {\n",
       "        vertical-align: top;\n",
       "    }\n",
       "\n",
       "    .dataframe thead th {\n",
       "        text-align: right;\n",
       "    }\n",
       "</style>\n",
       "<table border=\"1\" class=\"dataframe\">\n",
       "  <thead>\n",
       "    <tr style=\"text-align: right;\">\n",
       "      <th></th>\n",
       "      <th>도수</th>\n",
       "      <th>계급값</th>\n",
       "      <th>x-x_</th>\n",
       "      <th>(x-x_)^2</th>\n",
       "      <th>(x-x_)^2*fi</th>\n",
       "    </tr>\n",
       "    <tr>\n",
       "      <th>계급간격</th>\n",
       "      <th></th>\n",
       "      <th></th>\n",
       "      <th></th>\n",
       "      <th></th>\n",
       "      <th></th>\n",
       "    </tr>\n",
       "  </thead>\n",
       "  <tbody>\n",
       "    <tr>\n",
       "      <th>9.5 ~ 18.5</th>\n",
       "      <td>10</td>\n",
       "      <td>14</td>\n",
       "      <td>-9.9</td>\n",
       "      <td>98.01</td>\n",
       "      <td>980.10</td>\n",
       "    </tr>\n",
       "    <tr>\n",
       "      <th>18.5 ~ 27.5</th>\n",
       "      <td>29</td>\n",
       "      <td>23</td>\n",
       "      <td>-0.9</td>\n",
       "      <td>0.81</td>\n",
       "      <td>23.49</td>\n",
       "    </tr>\n",
       "    <tr>\n",
       "      <th>27.5 ~ 36.5</th>\n",
       "      <td>8</td>\n",
       "      <td>32</td>\n",
       "      <td>8.1</td>\n",
       "      <td>65.61</td>\n",
       "      <td>524.88</td>\n",
       "    </tr>\n",
       "    <tr>\n",
       "      <th>36.5 ~ 45.5</th>\n",
       "      <td>2</td>\n",
       "      <td>41</td>\n",
       "      <td>17.1</td>\n",
       "      <td>292.41</td>\n",
       "      <td>584.82</td>\n",
       "    </tr>\n",
       "    <tr>\n",
       "      <th>45.5 ~ 54.5</th>\n",
       "      <td>1</td>\n",
       "      <td>50</td>\n",
       "      <td>26.1</td>\n",
       "      <td>681.21</td>\n",
       "      <td>681.21</td>\n",
       "    </tr>\n",
       "    <tr>\n",
       "      <th>합계</th>\n",
       "      <td>50</td>\n",
       "      <td></td>\n",
       "      <td></td>\n",
       "      <td></td>\n",
       "      <td>2794.50</td>\n",
       "    </tr>\n",
       "  </tbody>\n",
       "</table>\n",
       "</div>"
      ],
      "text/plain": [
       "             도수 계급값  x-x_ (x-x_)^2  (x-x_)^2*fi\n",
       "계급간격                                           \n",
       "9.5 ~ 18.5   10  14  -9.9    98.01       980.10\n",
       "18.5 ~ 27.5  29  23  -0.9     0.81        23.49\n",
       "27.5 ~ 36.5   8  32   8.1    65.61       524.88\n",
       "36.5 ~ 45.5   2  41  17.1   292.41       584.82\n",
       "45.5 ~ 54.5   1  50  26.1   681.21       681.21\n",
       "합계           50                         2794.50"
      ]
     },
     "execution_count": 4,
     "metadata": {},
     "output_type": "execute_result"
    }
   ],
   "source": [
    "import math \n",
    "import numpy as np\n",
    "import pandas as pd\n",
    "\n",
    "data = [10,37,22,32,18,15,15,18,22,15,\n",
    "       20,25,38,28,25,30,20,22,18,22,\n",
    "       22,12,22,26,22,32,22,23,20,23,\n",
    "       23,20,25,51,20,25,26,22,26,28,\n",
    "       28,20,23,30,12,22,35,11,20,25]\n",
    "\n",
    "# 1.계급 수\n",
    "k = 5\n",
    "# 2.R : 최대측정값 - 최소측정값\n",
    "R = max(data) - min(data)\n",
    "# 3.계급 간격\n",
    "w = math.ceil(R/k) \n",
    "# 4.시작 계급값\n",
    "s = min(data) - 0.5\n",
    "\n",
    "# 전체 계급\n",
    "bins = np.arange(s, max(data)+w, step=w)  #계급\n",
    "\n",
    "print(f'계급수:{k}, R:{R}, 계급간격:{w}, 계급시작값:{s}')\n",
    "print(f'계급:{bins}')\n",
    "\n",
    "#계급구간\n",
    "index = [f'{bins[i]} ~ {bins[i+1]}' for i in range(len(bins)) if i<(len(bins)-1) ]\n",
    "\n",
    "#도수 데이터\n",
    "hist, bins = np.histogram(data, bins)\n",
    "print(hist)\n",
    "\n",
    "# 도수분포표 만들기\n",
    "df = pd.DataFrame(hist, index=index, columns=['도수'])\n",
    "df.index.name = '계급간격'\n",
    "\n",
    "# fi: 도수\n",
    "#print(f\"도수: {df['도수']} \")\n",
    "\n",
    "\n",
    "# xi: 계급값\n",
    "df['계급값'] = [ int((bins[x]+bins[x+1])/2) for x in range(k)]\n",
    "\n",
    "\n",
    "# x_: 도수분포표 평균\n",
    "x_ = sum([ df['도수'][idx] * i for idx, i in enumerate(df['계급값']) ]) / sum(df['도수'])\n",
    "print(f'x_:{x_}')\n",
    "\n",
    "\n",
    "# x-x_: 도수분포표 평균(x_) - 계급값\n",
    "df['x-x_'] = [ x - x_ for x in df['계급값'] ]\n",
    "\n",
    "\n",
    "# (x-x_)**2 \n",
    "df['(x-x_)^2'] = [ (x - x_)**2 for x in df['계급값'] ]\n",
    "\n",
    "\n",
    "# (x-x_)**2 * fi\n",
    "df['(x-x_)^2*fi'] = [ (x - x_)**2*i for i, x in zip(df['도수'],df['계급값']) ]\n",
    "\n",
    "# 합계\n",
    "df.loc['합계'] = [ sum(df['도수']), '','','',sum(df['(x-x_)^2*fi']) ]\n",
    "\n",
    "df"
   ]
  }
 ],
 "metadata": {
  "kernelspec": {
   "display_name": "Python 3 (ipykernel)",
   "language": "python",
   "name": "python3"
  },
  "language_info": {
   "codemirror_mode": {
    "name": "ipython",
    "version": 3
   },
   "file_extension": ".py",
   "mimetype": "text/x-python",
   "name": "python",
   "nbconvert_exporter": "python",
   "pygments_lexer": "ipython3",
   "version": "3.8.9"
  }
 },
 "nbformat": 4,
 "nbformat_minor": 4
}
