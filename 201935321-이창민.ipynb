{
 "cells": [
  {
   "cell_type": "markdown",
   "metadata": {},
   "source": [
    "# 2022년도 확률과통계 중간고사 \n",
    "# 201935321 이창민"
   ]
  },
  {
   "cell_type": "markdown",
   "metadata": {},
   "source": [
    "## 11. "
   ]
  },
  {
   "cell_type": "markdown",
   "metadata": {},
   "source": [
    "### (a)"
   ]
  },
  {
   "cell_type": "code",
   "execution_count": 40,
   "metadata": {},
   "outputs": [
    {
     "data": {
      "text/html": [
       "<div>\n",
       "<style scoped>\n",
       "    .dataframe tbody tr th:only-of-type {\n",
       "        vertical-align: middle;\n",
       "    }\n",
       "\n",
       "    .dataframe tbody tr th {\n",
       "        vertical-align: top;\n",
       "    }\n",
       "\n",
       "    .dataframe thead th {\n",
       "        text-align: right;\n",
       "    }\n",
       "</style>\n",
       "<table border=\"1\" class=\"dataframe\">\n",
       "  <thead>\n",
       "    <tr style=\"text-align: right;\">\n",
       "      <th>시각</th>\n",
       "      <th>00시</th>\n",
       "      <th>02시</th>\n",
       "      <th>04시</th>\n",
       "      <th>06시</th>\n",
       "      <th>08시</th>\n",
       "      <th>10시</th>\n",
       "      <th>12시</th>\n",
       "      <th>14시</th>\n",
       "      <th>16시</th>\n",
       "      <th>18시</th>\n",
       "      <th>20시</th>\n",
       "      <th>22시</th>\n",
       "    </tr>\n",
       "  </thead>\n",
       "  <tbody>\n",
       "    <tr>\n",
       "      <th>BOD</th>\n",
       "      <td>38</td>\n",
       "      <td>31</td>\n",
       "      <td>36</td>\n",
       "      <td>29</td>\n",
       "      <td>42</td>\n",
       "      <td>51</td>\n",
       "      <td>39</td>\n",
       "      <td>47</td>\n",
       "      <td>37</td>\n",
       "      <td>46</td>\n",
       "      <td>45</td>\n",
       "      <td>39</td>\n",
       "    </tr>\n",
       "    <tr>\n",
       "      <th>COD</th>\n",
       "      <td>22</td>\n",
       "      <td>14</td>\n",
       "      <td>20</td>\n",
       "      <td>14</td>\n",
       "      <td>23</td>\n",
       "      <td>40</td>\n",
       "      <td>22</td>\n",
       "      <td>31</td>\n",
       "      <td>22</td>\n",
       "      <td>37</td>\n",
       "      <td>25</td>\n",
       "      <td>24</td>\n",
       "    </tr>\n",
       "    <tr>\n",
       "      <th>SS</th>\n",
       "      <td>18</td>\n",
       "      <td>16</td>\n",
       "      <td>15</td>\n",
       "      <td>12</td>\n",
       "      <td>17</td>\n",
       "      <td>34</td>\n",
       "      <td>15</td>\n",
       "      <td>18</td>\n",
       "      <td>20</td>\n",
       "      <td>36</td>\n",
       "      <td>23</td>\n",
       "      <td>22</td>\n",
       "    </tr>\n",
       "  </tbody>\n",
       "</table>\n",
       "</div>"
      ],
      "text/plain": [
       "시각   00시  02시  04시  06시  08시  10시  12시  14시  16시  18시  20시  22시\n",
       "BOD   38   31   36   29   42   51   39   47   37   46   45   39\n",
       "COD   22   14   20   14   23   40   22   31   22   37   25   24\n",
       "SS    18   16   15   12   17   34   15   18   20   36   23   22"
      ]
     },
     "execution_count": 40,
     "metadata": {},
     "output_type": "execute_result"
    }
   ],
   "source": [
    "import pandas as pd\n",
    "import matplotlib.pyplot as plt\n",
    "\n",
    "data = {'00시': [38, 22, 18], '02시':[31, 14, 16], '04시':[36, 20, 15], '06시':[29, 14, 12],\n",
    "        '08시': [42, 23, 17], '10시': [51, 40, 34], '12시': [39, 22, 15], '14시': [47, 31, 18],\n",
    "        '16시': [37, 22, 20], '18시': [46, 37, 36], '20시': [45, 25, 23], '22시': [39, 24 ,22]}\\\n",
    "\n",
    "df = pd.DataFrame(data, index=['BOD', 'COD', 'SS'])\n",
    "df.columns.name = '시각'\n",
    "df"
   ]
  },
  {
   "cell_type": "markdown",
   "metadata": {},
   "source": [
    "### (b)"
   ]
  },
  {
   "cell_type": "code",
   "execution_count": 41,
   "metadata": {},
   "outputs": [
    {
     "data": {
      "image/png": "[encoded data removed]",
      "text/plain": [
       "<Figure size 432x288 with 1 Axes>"
      ]
     },
     "metadata": {
      "needs_background": "light"
     },
     "output_type": "display_data"
    }
   ],
   "source": [
    "import matplotlib.pyplot as plt\n",
    "plt.rcParams['font.family'] = \"AppleGothic\"  # 맥 사용자\n",
    "\n",
    "x = list(data.keys())\n",
    "bod = df.loc['BOD'].values\n",
    "cod = df.loc['COD'].values\n",
    "ss = df.loc['SS'].values\n",
    "plt.plot(x, bod, 'o', linestyle='-', color='r', label='BOD')\n",
    "plt.plot(x, cod, 's', linestyle='-.', color='b', label='COD')\n",
    "plt.plot(x, ss, 'x', linestyle='--', color='y', label='SS')\n",
    "plt.legend()\n",
    "plt.show()"
   ]
  },
  {
   "cell_type": "markdown",
   "metadata": {},
   "source": [
    "## 12."
   ]
  },
  {
   "cell_type": "markdown",
   "metadata": {},
   "source": [
    "### (a)"
   ]
  },
  {
   "cell_type": "code",
   "execution_count": 42,
   "metadata": {},
   "outputs": [
    {
     "data": {
      "text/html": [
       "<div>\n",
       "<style scoped>\n",
       "    .dataframe tbody tr th:only-of-type {\n",
       "        vertical-align: middle;\n",
       "    }\n",
       "\n",
       "    .dataframe tbody tr th {\n",
       "        vertical-align: top;\n",
       "    }\n",
       "\n",
       "    .dataframe thead th {\n",
       "        text-align: right;\n",
       "    }\n",
       "</style>\n",
       "<table border=\"1\" class=\"dataframe\">\n",
       "  <thead>\n",
       "    <tr style=\"text-align: right;\">\n",
       "      <th></th>\n",
       "      <th>도수</th>\n",
       "      <th>상대도수</th>\n",
       "      <th>계급값</th>\n",
       "      <th>fi*x</th>\n",
       "      <th>(x-x_)^2</th>\n",
       "      <th>(x-x_)^2*fi</th>\n",
       "    </tr>\n",
       "    <tr>\n",
       "      <th>계급간격</th>\n",
       "      <th></th>\n",
       "      <th></th>\n",
       "      <th></th>\n",
       "      <th></th>\n",
       "      <th></th>\n",
       "      <th></th>\n",
       "    </tr>\n",
       "  </thead>\n",
       "  <tbody>\n",
       "    <tr>\n",
       "      <th>9.5 ~ 19.5</th>\n",
       "      <td>9</td>\n",
       "      <td>0.225</td>\n",
       "      <td>14.5</td>\n",
       "      <td>130.5</td>\n",
       "      <td>306.25</td>\n",
       "      <td>2756.25</td>\n",
       "    </tr>\n",
       "    <tr>\n",
       "      <th>19.5 ~ 29.5</th>\n",
       "      <td>9</td>\n",
       "      <td>0.225</td>\n",
       "      <td>24.5</td>\n",
       "      <td>220.5</td>\n",
       "      <td>56.25</td>\n",
       "      <td>506.25</td>\n",
       "    </tr>\n",
       "    <tr>\n",
       "      <th>29.5 ~ 39.5</th>\n",
       "      <td>9</td>\n",
       "      <td>0.225</td>\n",
       "      <td>34.5</td>\n",
       "      <td>310.5</td>\n",
       "      <td>6.25</td>\n",
       "      <td>56.25</td>\n",
       "    </tr>\n",
       "    <tr>\n",
       "      <th>39.5 ~ 49.5</th>\n",
       "      <td>10</td>\n",
       "      <td>0.250</td>\n",
       "      <td>44.5</td>\n",
       "      <td>445.0</td>\n",
       "      <td>156.25</td>\n",
       "      <td>1562.50</td>\n",
       "    </tr>\n",
       "    <tr>\n",
       "      <th>49.5 ~ 59.5</th>\n",
       "      <td>2</td>\n",
       "      <td>0.050</td>\n",
       "      <td>54.5</td>\n",
       "      <td>109.0</td>\n",
       "      <td>506.25</td>\n",
       "      <td>1012.50</td>\n",
       "    </tr>\n",
       "    <tr>\n",
       "      <th>59.5 ~ 69.5</th>\n",
       "      <td>1</td>\n",
       "      <td>0.025</td>\n",
       "      <td>64.5</td>\n",
       "      <td>64.5</td>\n",
       "      <td>1056.25</td>\n",
       "      <td>1056.25</td>\n",
       "    </tr>\n",
       "  </tbody>\n",
       "</table>\n",
       "</div>"
      ],
      "text/plain": [
       "             도수   상대도수   계급값   fi*x  (x-x_)^2  (x-x_)^2*fi\n",
       "계급간격                                                      \n",
       "9.5 ~ 19.5    9  0.225  14.5  130.5    306.25      2756.25\n",
       "19.5 ~ 29.5   9  0.225  24.5  220.5     56.25       506.25\n",
       "29.5 ~ 39.5   9  0.225  34.5  310.5      6.25        56.25\n",
       "39.5 ~ 49.5  10  0.250  44.5  445.0    156.25      1562.50\n",
       "49.5 ~ 59.5   2  0.050  54.5  109.0    506.25      1012.50\n",
       "59.5 ~ 69.5   1  0.025  64.5   64.5   1056.25      1056.25"
      ]
     },
     "execution_count": 42,
     "metadata": {},
     "output_type": "execute_result"
    }
   ],
   "source": [
    "import pandas as pd\n",
    "\n",
    "data = [9, 9, 9, 10, 2, 1]\n",
    "k = 6\n",
    "w = 10\n",
    "s = 9.5\n",
    "\n",
    "bins = [s + i*w for i in range(k+1)]\n",
    "index = [ f'{bins[i]} ~ {bins[i]+w}' for i in range(k)]\n",
    "\n",
    "df = pd.DataFrame(data, index=index, columns=['도수'])\n",
    "df.index.name = '계급간격'\n",
    "df['상대도수'] = [x/sum(data) for x in data]\n",
    "\n",
    "df['계급값'] = [ (bins[x]+bins[x+1])/2 for x in range(k)]\n",
    "\n",
    "x_ = sum([ df['도수'][idx] * i for idx, i in enumerate(df['계급값']) ]) / sum(df['도수'])\n",
    "df['fi*x'] = [ i*x for i, x in zip(df['도수'], df['계급값'])]\n",
    "df['(x-x_)^2'] = [ (x - x_)**2 for x in df['계급값'] ]\n",
    "df['(x-x_)^2*fi'] = [ (x - x_)**2*i for i, x in zip(df['도수'],df['계급값']) ]\n",
    "\n",
    "\n",
    "df"
   ]
  },
  {
   "cell_type": "markdown",
   "metadata": {},
   "source": [
    "### (b)"
   ]
  },
  {
   "cell_type": "code",
   "execution_count": 43,
   "metadata": {},
   "outputs": [
    {
     "name": "stdout",
     "output_type": "stream",
     "text": [
      "자료의 표본표준편자를 구하시오: 13.143\n"
     ]
    }
   ],
   "source": [
    "import math\n",
    "ss = sum(df['(x-x_)^2*fi']) / sum(df['도수']) - 1 # 표본표준편차이므로 n-1을 하였음\n",
    "s = math.sqrt(ss)\n",
    "print(f'자료의 표본표준편자를 구하시오: {s:1.5}')"
   ]
  },
  {
   "cell_type": "markdown",
   "metadata": {},
   "source": [
    "## 13."
   ]
  },
  {
   "cell_type": "markdown",
   "metadata": {},
   "source": [
    "### (a)"
   ]
  },
  {
   "cell_type": "code",
   "execution_count": 44,
   "metadata": {},
   "outputs": [
    {
     "data": {
      "image/png": "[encoded data removed]",
      "text/plain": [
       "<Figure size 432x288 with 1 Axes>"
      ]
     },
     "metadata": {
      "needs_background": "light"
     },
     "output_type": "display_data"
    }
   ],
   "source": [
    "import math\n",
    "import numpy as np\n",
    "import matplotlib.pyplot as plt\n",
    "data = [12.6, 10.5, 25.2, 20.9, 29.5, 28.3, 12.9, 11.2, 26.1, 23.6,\n",
    "        18.2, 13.1, 14.8, 11.1, 10.2, 16.9, 26.7, 16.7, 23.6, 17.5]\n",
    "\n",
    "k = 5\n",
    "R = max(data) - min(data)\n",
    "w = math.ceil(R/k)\n",
    "s = min(data)-0.5\n",
    "bins = [s + i*w for i in range(k+1)]  #계급\n",
    "hist, bins = np.histogram(data, bins)\n",
    "index = [f'{bins[i]} ~ {bins[i+1]}' for i in range(len(bins)) if i<(len(bins)-1) ]\n",
    "df = pd.DataFrame(hist, index=index, columns=['도수'])\n",
    "df['계급값'] = [ int((bins[x]+bins[x+1])/2) for x in range(k)]\n",
    "\n",
    "x = df['계급값'].values[:k]\n",
    "y = df['도수'].values[:k]\n",
    "\n",
    "plt.bar(x, y, width=4, edgecolor='w')\n",
    "plt.plot(x,y, 'o', linestyle='-', color='r')\n",
    "plt.title('도수다각형')\n",
    "plt.ylabel('도수')\n",
    "plt.xticks(ticks=x, labels=x)\n",
    "plt.grid()\n",
    "plt.show()\n",
    "\n"
   ]
  },
  {
   "cell_type": "code",
   "execution_count": null,
   "metadata": {},
   "outputs": [],
   "source": []
  }
 ],
 "metadata": {
  "interpreter": {
   "hash": "31f2aee4e71d21fbe5cf8b01ff0e069b9275f58929596ceb00d14d90e3e16cd6"
  },
  "kernelspec": {
   "display_name": "Python 3.8.9 64-bit",
   "language": "python",
   "name": "python3"
  },
  "language_info": {
   "codemirror_mode": {
    "name": "ipython",
    "version": 3
   },
   "file_extension": ".py",
   "mimetype": "text/x-python",
   "name": "python",
   "nbconvert_exporter": "python",
   "pygments_lexer": "ipython3",
   "version": "3.8.9"
  },
  "orig_nbformat": 4
 },
 "nbformat": 4,
 "nbformat_minor": 2
}
